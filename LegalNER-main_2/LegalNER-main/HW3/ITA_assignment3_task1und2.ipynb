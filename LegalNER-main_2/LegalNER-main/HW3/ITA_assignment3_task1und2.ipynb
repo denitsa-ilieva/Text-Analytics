{
 "cells": [
  {
   "cell_type": "markdown",
   "metadata": {},
   "source": [
    "# Assignment 3 : \"Word Vectors and Classification\"\n",
    "Due: Monday 2pm, Feburary 1, 2021, via Moodle"
   ]
  },
  {
   "cell_type": "markdown",
   "metadata": {},
   "source": [
    "### Submission guidelines\n",
    "\n",
    "- Solutions need to be uploaded as a single Jupyter notebook. You will find many provided codes in the notebook, your task is to fill in the missing cells.\n",
    "- For the written solution, use LaTeX in markdown inside the same notebook. Do *not* hand in a separate file for it.\n",
    "- Download the .zip file containing the dataset but do *not* upload it with your solution.\n",
    "- It is sufficient if one person per group uploads the solution to Moodle, but make sure that the names of\n",
    "all team members are given in the notebook."
   ]
  },
  {
   "cell_type": "markdown",
   "metadata": {},
   "source": [
    "--------"
   ]
  },
  {
   "cell_type": "markdown",
   "metadata": {},
   "source": [
    "## Task 1: F.R.I.E.N.D.S and  Word2Vec ( 3+ 2+ 3 = 8 points) "
   ]
  },
  {
   "cell_type": "markdown",
   "metadata": {},
   "source": [
    "Friends is an American television sitcom, created by David Crane and Marta Kauffman. In this assignment we will use the transcripts from the show to train a Word2Vec model using the Gensim library."
   ]
  },
  {
   "cell_type": "markdown",
   "metadata": {},
   "source": [
    "### Subtask 1: Pre-processing \n",
    "We start by loading and cleaning the data. Download the dataset for this assignment and load the `friends_quotes.csv` using pandas. The dataset is from Kaggle (https://www.kaggle.com/ryanstonebraker/friends-transcript) and is created for building a classifier that could determine which friend from the Friend's TV Show would be most likely to say a quote. The column `quote` contains the line from the movie and `author` is the one who spoke it. Since these are the only two columns we need, we remove the rest and only keep these two. "
   ]
  },
  {
   "cell_type": "code",
   "execution_count": 34,
   "metadata": {},
   "outputs": [],
   "source": [
    "import re  \n",
    "import pandas as pd  \n",
    "from collections import defaultdict  \n",
    "import spacy \n",
    "import logging  # Setting up the loggings to monitor gensim\n",
    "logging.basicConfig(format=\"%(levelname)s - %(asctime)s: %(message)s\", datefmt= '%H:%M:%S', level=logging.INFO)"
   ]
  },
  {
   "cell_type": "code",
   "execution_count": 76,
   "metadata": {},
   "outputs": [
    {
     "data": {
      "text/html": [
       "<div>\n",
       "<style scoped>\n",
       "    .dataframe tbody tr th:only-of-type {\n",
       "        vertical-align: middle;\n",
       "    }\n",
       "\n",
       "    .dataframe tbody tr th {\n",
       "        vertical-align: top;\n",
       "    }\n",
       "\n",
       "    .dataframe thead th {\n",
       "        text-align: right;\n",
       "    }\n",
       "</style>\n",
       "<table border=\"1\" class=\"dataframe\">\n",
       "  <thead>\n",
       "    <tr style=\"text-align: right;\">\n",
       "      <th></th>\n",
       "      <th>author</th>\n",
       "      <th>quote</th>\n",
       "    </tr>\n",
       "  </thead>\n",
       "  <tbody>\n",
       "    <tr>\n",
       "      <th>0</th>\n",
       "      <td>Monica</td>\n",
       "      <td>There's nothing to tell! He's just some guy I ...</td>\n",
       "    </tr>\n",
       "    <tr>\n",
       "      <th>1</th>\n",
       "      <td>Joey</td>\n",
       "      <td>C'mon, you're going out with the guy! There's ...</td>\n",
       "    </tr>\n",
       "    <tr>\n",
       "      <th>2</th>\n",
       "      <td>Chandler</td>\n",
       "      <td>All right Joey, be nice. So does he have a hum...</td>\n",
       "    </tr>\n",
       "    <tr>\n",
       "      <th>3</th>\n",
       "      <td>Phoebe</td>\n",
       "      <td>Wait, does he eat chalk?</td>\n",
       "    </tr>\n",
       "    <tr>\n",
       "      <th>4</th>\n",
       "      <td>Phoebe</td>\n",
       "      <td>Just, 'cause, I don't want her to go through w...</td>\n",
       "    </tr>\n",
       "  </tbody>\n",
       "</table>\n",
       "</div>"
      ],
      "text/plain": [
       "     author                                              quote\n",
       "0    Monica  There's nothing to tell! He's just some guy I ...\n",
       "1      Joey  C'mon, you're going out with the guy! There's ...\n",
       "2  Chandler  All right Joey, be nice. So does he have a hum...\n",
       "3    Phoebe                           Wait, does he eat chalk?\n",
       "4    Phoebe  Just, 'cause, I don't want her to go through w..."
      ]
     },
     "execution_count": 76,
     "metadata": {},
     "output_type": "execute_result"
    }
   ],
   "source": [
    "df = pd.read_csv('C:/Users/Mazz Issa/Documents/Kurse/TA/Ex03/ITA_assignment3_data/friends_quotes.csv')### Load the data #### \n",
    "### filter out columns ### \n",
    "df= df[['author','quote']]\n",
    "df.head()"
   ]
  },
  {
   "cell_type": "markdown",
   "metadata": {},
   "source": [
    "Fortunately, there is no missing data, so we do not need to worry about that. "
   ]
  },
  {
   "cell_type": "code",
   "execution_count": 77,
   "metadata": {},
   "outputs": [
    {
     "data": {
      "text/plain": [
       "author    0\n",
       "quote     0\n",
       "dtype: int64"
      ]
     },
     "execution_count": 77,
     "metadata": {},
     "output_type": "execute_result"
    }
   ],
   "source": [
    "df.isnull().sum() # check for missing data"
   ]
  },
  {
   "cell_type": "markdown",
   "metadata": {},
   "source": [
    "use SpaCy similar to assignment 2 to pre-process the text, perform the following steps: \n",
    "- lowercase the words \n",
    "- remove the stopwords and single characters\n",
    "- use regex to remove non-alphabetic characters (anything that is not a number or alphabet including punctuations), in other words only keep \"a\" to \"z\" and digits. \n",
    "- remove lines that have less than 3 words, since they cannot contribute much to the training process.\n",
    "\n",
    "Please do not add additional steps on your own or additional cleaning, we want to create comparable results. "
   ]
  },
  {
   "cell_type": "code",
   "execution_count": 78,
   "metadata": {},
   "outputs": [],
   "source": [
    "nlp = spacy.load(\"en_core_web_sm\", disable=[\"tagger\", \"parser\",\"ner\"])\n",
    "stopwords = spacy.lang.en.stop_words.STOP_WORDS # only use these stop words, do not add your own! \n",
    "df[\"quote\"] = df[\"quote\"].str.lower().str.replace(r'[^\\w\\s]+',\"\").str.split()# lowercase and remove non-alphabetic characters\n",
    "quotes =df[\"quote\"].tolist() # to save all the lines \n",
    "\n",
    "### Your Code ### \n",
    "quotes = [[word for word in sen  if not word in stopwords]for sen in quotes] ## remove stop words\n",
    "quotes = [sen for sen in quotes if not len(sen) <= 3]  ## remove sentences shorter than 3 word"
   ]
  },
  {
   "cell_type": "markdown",
   "metadata": {},
   "source": [
    "The next step is to build the vocabulary of the words and word combinations we want to learn representations from. We choose a subset of the most frequent words and bigrams to represent our corpus.\n",
    "- use the Gensim Phrases package to automatically detect common phrases (bigrams) from a list of lines from the previous step (`min_count=10`). Now words like New_York will be considered as one entity and character names like joey_tribbiani will be recognized.\n",
    "- create a list of words/bigrams with their frequencies and choose the top 15.000 words for the vocabulary, to keep the computation time-limited and choose the most important words."
   ]
  },
  {
   "cell_type": "code",
   "execution_count": 79,
   "metadata": {},
   "outputs": [],
   "source": [
    "from collections import Counter"
   ]
  },
  {
   "cell_type": "code",
   "execution_count": 80,
   "metadata": {},
   "outputs": [
    {
     "name": "stderr",
     "output_type": "stream",
     "text": [
      "INFO - 20:10:46: collecting all words and their counts\n",
      "INFO - 20:10:46: PROGRESS: at sentence #0, processed 0 words and 0 word types\n",
      "INFO - 20:10:46: PROGRESS: at sentence #10000, processed 85787 words and 64581 word types\n",
      "INFO - 20:10:47: PROGRESS: at sentence #20000, processed 172037 words and 113909 word types\n",
      "INFO - 20:10:47: PROGRESS: at sentence #30000, processed 258076 words and 159674 word types\n",
      "INFO - 20:10:47: collected 166311 word types from a corpus of 271703 words (unigram + bigrams) and 31658 sentences\n",
      "INFO - 20:10:47: using 166311 counts as vocab in Phrases<0 vocab, min_count=10, threshold=10.0, max_vocab_size=40000000>\n"
     ]
    }
   ],
   "source": [
    "from gensim.models.phrases import Phrases, Phraser\n",
    "sent = [word for sen in quotes for word in sen]#list of all words# \n",
    "phrases = Phrases(quotes, min_count = 10)#define the phraser for bi-gram creation# \n",
    "\n",
    "#new_lines = phrases[sent] # 1D list von quotes und a  #transform the lines# \n",
    "\n",
    "new_lines = [phrases[sen] for sen in quotes]\n",
    "\n",
    "### find the top words for the vocabulary### \n",
    "vocab= [ word for word , word_count in Counter(sent).most_common(15000)] ###top words ### "
   ]
  },
  {
   "cell_type": "markdown",
   "metadata": {},
   "source": [
    "### Subtask 2: Training The Model\n"
   ]
  },
  {
   "cell_type": "markdown",
   "metadata": {},
   "source": [
    "Use Gensim the implementation of Word2Vec to train a model on the scripts. The training can be divided into 3 stages:\n",
    "\n",
    "\n",
    "1) Set up your model with parameters, define your parameters in such a way that the following conditions are satisfied:\n",
    " - ignores all words that have a total absolute frequency less than 2.\n",
    " - dimensions of the embeddings: 100 \n",
    " - initial learning rate of 0.03 \n",
    " - 20 negative samples \n",
    " - window size 3 \n",
    " - learning rate in the training will decrease as you apply more and more updates. Most of the time when starting with gradient descent the initial steps can be larger, and as we get close to the local minima it is best to use smaller steps to avoid jumping over the local minima. This adjustment is done internally using a learning rate scheduler. Make sure that the smallest learning rate does not go below 0.0001.\n",
    " - set the threshold for configuring which higher-frequency words are randomly down-sampled to 6e-5. This parameter forces the sampling to choose the very frequent words less often in the sampling.\n",
    " - set the hashfunction of the word2vec to the given function.\n",
    " - train on a single worker to make sure you get the same result as ours."
   ]
  },
  {
   "cell_type": "code",
   "execution_count": 81,
   "metadata": {},
   "outputs": [],
   "source": [
    "from gensim.models import Word2Vec  \n",
    "def hash(astring):\n",
    "    return ord(astring[0])"
   ]
  },
  {
   "cell_type": "code",
   "execution_count": 82,
   "metadata": {},
   "outputs": [],
   "source": [
    "w2v = Word2Vec(size =100, negative=20 ,alpha=0.03, window=3, min_count=2, min_alpha=0.0001, sample=6e-5  ,workers = 1) ### your code ### "
   ]
  },
  {
   "cell_type": "markdown",
   "metadata": {},
   "source": [
    "2) before training, Word2Vec requires us to build the vocabulary table by filtering out the unique words and doing some basic counts on them.\n",
    "If you look at the logs you can see the effect of `min_count` and `sample` on the word corpus. Use the `build_vocab` function to process the data."
   ]
  },
  {
   "cell_type": "code",
   "execution_count": 83,
   "metadata": {},
   "outputs": [
    {
     "name": "stderr",
     "output_type": "stream",
     "text": [
      "INFO - 20:10:57: collecting all words and their counts\n",
      "INFO - 20:10:57: PROGRESS: at sentence #0, processed 0 words, keeping 0 word types\n",
      "INFO - 20:10:57: PROGRESS: at sentence #10000, processed 82883 words, keeping 9938 word types\n",
      "INFO - 20:10:58: PROGRESS: at sentence #20000, processed 166277 words, keeping 13932 word types\n",
      "INFO - 20:10:58: PROGRESS: at sentence #30000, processed 249427 words, keeping 17512 word types\n",
      "INFO - 20:10:58: collected 17996 word types from a corpus of 262585 raw words and 31658 sentences\n",
      "INFO - 20:10:58: Loading a fresh vocabulary\n",
      "INFO - 20:10:58: effective_min_count=2 retains 9462 unique words (52% of original 17996, drops 8534)\n",
      "INFO - 20:10:58: effective_min_count=2 leaves 254051 word corpus (96% of original 262585, drops 8534)\n",
      "INFO - 20:10:58: deleting the raw counts dictionary of 17996 items\n",
      "INFO - 20:10:58: sample=6e-05 downsamples 962 most-common words\n",
      "INFO - 20:10:58: downsampling leaves estimated 119566 word corpus (47.1% of prior 254051)\n",
      "INFO - 20:10:58: estimated required memory for 9462 words and 100 dimensions: 12300600 bytes\n",
      "INFO - 20:10:58: resetting layer weights\n"
     ]
    }
   ],
   "source": [
    "w2v.build_vocab(new_lines)### your code ### "
   ]
  },
  {
   "cell_type": "markdown",
   "metadata": {},
   "source": [
    "3) Finally, we get to train the model. Train the model for 100 epochs. This will take a while. As we do not plan to train the model any further, we call `init_sims()`, which will make the model much more memory-efficient by precomputing L2-norms of word weight vectors for further analysis. "
   ]
  },
  {
   "cell_type": "code",
   "execution_count": 84,
   "metadata": {},
   "outputs": [
    {
     "name": "stderr",
     "output_type": "stream",
     "text": [
      "INFO - 20:11:08: training model with 1 workers on 9462 vocabulary and 100 features, using sg=0 hs=0 sample=6e-05 negative=20 window=3\n",
      "INFO - 20:11:09: EPOCH 1 - PROGRESS: at 30.55% examples, 34088 words/s, in_qsize 2, out_qsize 0\n",
      "INFO - 20:11:10: EPOCH 1 - PROGRESS: at 60.68% examples, 33285 words/s, in_qsize 2, out_qsize 0\n",
      "INFO - 20:11:11: EPOCH 1 - PROGRESS: at 98.84% examples, 36521 words/s, in_qsize 1, out_qsize 0\n",
      "INFO - 20:11:11: worker thread finished; awaiting finish of 0 more threads\n",
      "INFO - 20:11:11: EPOCH - 1 : training on 262585 raw words (119618 effective words) took 3.3s, 36603 effective words/s\n",
      "INFO - 20:11:12: EPOCH 2 - PROGRESS: at 53.06% examples, 62528 words/s, in_qsize 2, out_qsize 0\n",
      "INFO - 20:11:13: worker thread finished; awaiting finish of 0 more threads\n",
      "INFO - 20:11:13: EPOCH - 2 : training on 262585 raw words (119569 effective words) took 1.9s, 63036 effective words/s\n",
      "INFO - 20:11:14: EPOCH 3 - PROGRESS: at 64.54% examples, 75291 words/s, in_qsize 2, out_qsize 0\n",
      "INFO - 20:11:15: worker thread finished; awaiting finish of 0 more threads\n",
      "INFO - 20:11:15: EPOCH - 3 : training on 262585 raw words (119743 effective words) took 1.5s, 77775 effective words/s\n",
      "INFO - 20:11:16: EPOCH 4 - PROGRESS: at 53.06% examples, 61834 words/s, in_qsize 1, out_qsize 0\n",
      "INFO - 20:11:17: EPOCH 4 - PROGRESS: at 91.03% examples, 53329 words/s, in_qsize 2, out_qsize 0\n",
      "INFO - 20:11:17: worker thread finished; awaiting finish of 0 more threads\n",
      "INFO - 20:11:17: EPOCH - 4 : training on 262585 raw words (119480 effective words) took 2.3s, 52214 effective words/s\n",
      "INFO - 20:11:18: EPOCH 5 - PROGRESS: at 30.55% examples, 35786 words/s, in_qsize 2, out_qsize 0\n",
      "INFO - 20:11:19: EPOCH 5 - PROGRESS: at 72.03% examples, 40892 words/s, in_qsize 1, out_qsize 0\n",
      "INFO - 20:11:20: worker thread finished; awaiting finish of 0 more threads\n",
      "INFO - 20:11:20: EPOCH - 5 : training on 262585 raw words (119783 effective words) took 2.9s, 41315 effective words/s\n",
      "INFO - 20:11:21: EPOCH 6 - PROGRESS: at 30.55% examples, 33569 words/s, in_qsize 1, out_qsize 0\n",
      "INFO - 20:11:22: EPOCH 6 - PROGRESS: at 56.96% examples, 31745 words/s, in_qsize 1, out_qsize 0\n",
      "INFO - 20:11:23: EPOCH 6 - PROGRESS: at 91.03% examples, 34714 words/s, in_qsize 1, out_qsize 0\n",
      "INFO - 20:11:24: worker thread finished; awaiting finish of 0 more threads\n",
      "INFO - 20:11:24: EPOCH - 6 : training on 262585 raw words (119558 effective words) took 3.4s, 34830 effective words/s\n",
      "INFO - 20:11:25: EPOCH 7 - PROGRESS: at 49.45% examples, 56143 words/s, in_qsize 1, out_qsize 0\n",
      "INFO - 20:11:26: worker thread finished; awaiting finish of 0 more threads\n",
      "INFO - 20:11:26: EPOCH - 7 : training on 262585 raw words (119860 effective words) took 1.9s, 62273 effective words/s\n",
      "INFO - 20:11:27: EPOCH 8 - PROGRESS: at 56.96% examples, 62981 words/s, in_qsize 2, out_qsize 0\n",
      "INFO - 20:11:27: worker thread finished; awaiting finish of 0 more threads\n",
      "INFO - 20:11:27: EPOCH - 8 : training on 262585 raw words (119379 effective words) took 1.6s, 72833 effective words/s\n",
      "INFO - 20:11:28: EPOCH 9 - PROGRESS: at 60.68% examples, 65468 words/s, in_qsize 1, out_qsize 0\n",
      "INFO - 20:11:29: EPOCH 9 - PROGRESS: at 87.22% examples, 48263 words/s, in_qsize 1, out_qsize 0\n",
      "INFO - 20:11:30: worker thread finished; awaiting finish of 0 more threads\n",
      "INFO - 20:11:30: EPOCH - 9 : training on 262585 raw words (119545 effective words) took 2.6s, 45937 effective words/s\n",
      "INFO - 20:11:31: EPOCH 10 - PROGRESS: at 30.55% examples, 35040 words/s, in_qsize 1, out_qsize 0\n",
      "INFO - 20:11:32: EPOCH 10 - PROGRESS: at 72.03% examples, 40904 words/s, in_qsize 1, out_qsize 0\n",
      "INFO - 20:11:32: worker thread finished; awaiting finish of 0 more threads\n",
      "INFO - 20:11:32: EPOCH - 10 : training on 262585 raw words (119778 effective words) took 2.6s, 45367 effective words/s\n",
      "INFO - 20:11:33: EPOCH 11 - PROGRESS: at 53.06% examples, 63316 words/s, in_qsize 2, out_qsize 0\n",
      "INFO - 20:11:34: worker thread finished; awaiting finish of 0 more threads\n",
      "INFO - 20:11:34: EPOCH - 11 : training on 262585 raw words (119621 effective words) took 1.7s, 70501 effective words/s\n",
      "INFO - 20:11:35: EPOCH 12 - PROGRESS: at 56.96% examples, 63379 words/s, in_qsize 1, out_qsize 0\n",
      "INFO - 20:11:36: worker thread finished; awaiting finish of 0 more threads\n",
      "INFO - 20:11:36: EPOCH - 12 : training on 262585 raw words (119562 effective words) took 1.9s, 64244 effective words/s\n",
      "INFO - 20:11:37: EPOCH 13 - PROGRESS: at 83.44% examples, 95750 words/s, in_qsize 2, out_qsize 0\n",
      "INFO - 20:11:37: worker thread finished; awaiting finish of 0 more threads\n",
      "INFO - 20:11:37: EPOCH - 13 : training on 262585 raw words (119586 effective words) took 1.2s, 96983 effective words/s\n",
      "INFO - 20:11:38: EPOCH 14 - PROGRESS: at 79.58% examples, 94156 words/s, in_qsize 2, out_qsize 0\n",
      "INFO - 20:11:39: worker thread finished; awaiting finish of 0 more threads\n",
      "INFO - 20:11:39: EPOCH - 14 : training on 262585 raw words (119463 effective words) took 1.3s, 92064 effective words/s\n",
      "INFO - 20:11:40: EPOCH 15 - PROGRESS: at 75.95% examples, 90128 words/s, in_qsize 2, out_qsize 0\n",
      "INFO - 20:11:40: worker thread finished; awaiting finish of 0 more threads\n",
      "INFO - 20:11:40: EPOCH - 15 : training on 262585 raw words (119757 effective words) took 1.3s, 93762 effective words/s\n",
      "INFO - 20:11:41: EPOCH 16 - PROGRESS: at 87.22% examples, 104296 words/s, in_qsize 2, out_qsize 0\n",
      "INFO - 20:11:41: worker thread finished; awaiting finish of 0 more threads\n",
      "INFO - 20:11:41: EPOCH - 16 : training on 262585 raw words (119516 effective words) took 1.2s, 103095 effective words/s\n",
      "INFO - 20:11:42: EPOCH 17 - PROGRESS: at 87.22% examples, 94735 words/s, in_qsize 1, out_qsize 0\n",
      "INFO - 20:11:43: worker thread finished; awaiting finish of 0 more threads\n",
      "INFO - 20:11:43: EPOCH - 17 : training on 262585 raw words (119657 effective words) took 1.5s, 78909 effective words/s\n",
      "INFO - 20:11:44: EPOCH 18 - PROGRESS: at 30.55% examples, 35337 words/s, in_qsize 1, out_qsize 0\n",
      "INFO - 20:11:45: EPOCH 18 - PROGRESS: at 68.12% examples, 39331 words/s, in_qsize 1, out_qsize 0\n",
      "INFO - 20:11:46: worker thread finished; awaiting finish of 0 more threads\n",
      "INFO - 20:11:46: EPOCH - 18 : training on 262585 raw words (119708 effective words) took 2.9s, 40856 effective words/s\n",
      "INFO - 20:11:47: EPOCH 19 - PROGRESS: at 34.32% examples, 39797 words/s, in_qsize 1, out_qsize 0\n",
      "INFO - 20:11:48: EPOCH 19 - PROGRESS: at 68.12% examples, 39037 words/s, in_qsize 2, out_qsize 0\n",
      "INFO - 20:11:49: worker thread finished; awaiting finish of 0 more threads\n",
      "INFO - 20:11:49: EPOCH - 19 : training on 262585 raw words (119486 effective words) took 3.0s, 40039 effective words/s\n",
      "INFO - 20:11:50: EPOCH 20 - PROGRESS: at 45.63% examples, 51881 words/s, in_qsize 1, out_qsize 0\n",
      "INFO - 20:11:51: EPOCH 20 - PROGRESS: at 94.97% examples, 53917 words/s, in_qsize 1, out_qsize 0\n",
      "INFO - 20:11:51: worker thread finished; awaiting finish of 0 more threads\n",
      "INFO - 20:11:51: EPOCH - 20 : training on 262585 raw words (119531 effective words) took 2.2s, 54208 effective words/s\n",
      "INFO - 20:11:52: EPOCH 21 - PROGRESS: at 56.96% examples, 66335 words/s, in_qsize 2, out_qsize 0\n",
      "INFO - 20:11:53: worker thread finished; awaiting finish of 0 more threads\n",
      "INFO - 20:11:53: EPOCH - 21 : training on 262585 raw words (119481 effective words) took 2.0s, 59748 effective words/s\n",
      "INFO - 20:11:54: EPOCH 22 - PROGRESS: at 34.32% examples, 38679 words/s, in_qsize 1, out_qsize 0\n",
      "INFO - 20:11:55: EPOCH 22 - PROGRESS: at 72.03% examples, 40717 words/s, in_qsize 2, out_qsize 0\n",
      "INFO - 20:11:56: worker thread finished; awaiting finish of 0 more threads\n",
      "INFO - 20:11:56: EPOCH - 22 : training on 262585 raw words (119560 effective words) took 2.9s, 41275 effective words/s\n",
      "INFO - 20:11:57: EPOCH 23 - PROGRESS: at 34.32% examples, 40216 words/s, in_qsize 1, out_qsize 0\n",
      "INFO - 20:11:58: EPOCH 23 - PROGRESS: at 72.03% examples, 42406 words/s, in_qsize 1, out_qsize 0\n",
      "INFO - 20:11:58: worker thread finished; awaiting finish of 0 more threads\n",
      "INFO - 20:11:58: EPOCH - 23 : training on 262585 raw words (119758 effective words) took 2.8s, 42816 effective words/s\n",
      "INFO - 20:12:00: EPOCH 24 - PROGRESS: at 38.14% examples, 41579 words/s, in_qsize 1, out_qsize 0\n",
      "INFO - 20:12:01: EPOCH 24 - PROGRESS: at 83.44% examples, 47273 words/s, in_qsize 2, out_qsize 0\n"
     ]
    },
    {
     "name": "stderr",
     "output_type": "stream",
     "text": [
      "INFO - 20:12:01: worker thread finished; awaiting finish of 0 more threads\n",
      "INFO - 20:12:01: EPOCH - 24 : training on 262585 raw words (119565 effective words) took 2.4s, 48955 effective words/s\n",
      "INFO - 20:12:02: EPOCH 25 - PROGRESS: at 49.45% examples, 57746 words/s, in_qsize 1, out_qsize 0\n",
      "INFO - 20:12:03: EPOCH 25 - PROGRESS: at 94.97% examples, 54148 words/s, in_qsize 1, out_qsize 0\n",
      "INFO - 20:12:03: worker thread finished; awaiting finish of 0 more threads\n",
      "INFO - 20:12:03: EPOCH - 25 : training on 262585 raw words (119382 effective words) took 2.2s, 53610 effective words/s\n",
      "INFO - 20:12:04: EPOCH 26 - PROGRESS: at 49.45% examples, 54598 words/s, in_qsize 1, out_qsize 0\n",
      "INFO - 20:12:05: worker thread finished; awaiting finish of 0 more threads\n",
      "INFO - 20:12:05: EPOCH - 26 : training on 262585 raw words (119639 effective words) took 1.8s, 66666 effective words/s\n",
      "INFO - 20:12:06: EPOCH 27 - PROGRESS: at 72.03% examples, 86021 words/s, in_qsize 1, out_qsize 0\n",
      "INFO - 20:12:06: worker thread finished; awaiting finish of 0 more threads\n",
      "INFO - 20:12:06: EPOCH - 27 : training on 262585 raw words (119580 effective words) took 1.4s, 88472 effective words/s\n",
      "INFO - 20:12:07: EPOCH 28 - PROGRESS: at 64.54% examples, 74598 words/s, in_qsize 1, out_qsize 0\n",
      "INFO - 20:12:08: worker thread finished; awaiting finish of 0 more threads\n",
      "INFO - 20:12:08: EPOCH - 28 : training on 262585 raw words (119756 effective words) took 1.5s, 78406 effective words/s\n",
      "INFO - 20:12:09: EPOCH 29 - PROGRESS: at 79.58% examples, 93031 words/s, in_qsize 2, out_qsize 0\n",
      "INFO - 20:12:09: worker thread finished; awaiting finish of 0 more threads\n",
      "INFO - 20:12:09: EPOCH - 29 : training on 262585 raw words (119343 effective words) took 1.3s, 90107 effective words/s\n",
      "INFO - 20:12:10: EPOCH 30 - PROGRESS: at 60.68% examples, 67999 words/s, in_qsize 1, out_qsize 0\n",
      "INFO - 20:12:11: worker thread finished; awaiting finish of 0 more threads\n",
      "INFO - 20:12:11: EPOCH - 30 : training on 262585 raw words (119499 effective words) took 1.6s, 73738 effective words/s\n",
      "INFO - 20:12:12: EPOCH 31 - PROGRESS: at 91.03% examples, 97015 words/s, in_qsize 2, out_qsize 0\n",
      "INFO - 20:12:12: worker thread finished; awaiting finish of 0 more threads\n",
      "INFO - 20:12:12: EPOCH - 31 : training on 262585 raw words (119484 effective words) took 1.5s, 82330 effective words/s\n",
      "INFO - 20:12:13: EPOCH 32 - PROGRESS: at 30.55% examples, 34225 words/s, in_qsize 2, out_qsize 0\n",
      "INFO - 20:12:15: EPOCH 32 - PROGRESS: at 60.68% examples, 32849 words/s, in_qsize 2, out_qsize 0\n",
      "INFO - 20:12:16: EPOCH 32 - PROGRESS: at 94.97% examples, 34931 words/s, in_qsize 1, out_qsize 0\n",
      "INFO - 20:12:16: worker thread finished; awaiting finish of 0 more threads\n",
      "INFO - 20:12:16: EPOCH - 32 : training on 262585 raw words (119584 effective words) took 3.4s, 35517 effective words/s\n",
      "INFO - 20:12:17: EPOCH 33 - PROGRESS: at 45.63% examples, 52264 words/s, in_qsize 1, out_qsize 0\n",
      "INFO - 20:12:18: EPOCH 33 - PROGRESS: at 91.03% examples, 52492 words/s, in_qsize 1, out_qsize 0\n",
      "INFO - 20:12:18: worker thread finished; awaiting finish of 0 more threads\n",
      "INFO - 20:12:18: EPOCH - 33 : training on 262585 raw words (119619 effective words) took 2.3s, 52881 effective words/s\n",
      "INFO - 20:12:19: EPOCH 34 - PROGRESS: at 45.63% examples, 52544 words/s, in_qsize 2, out_qsize 0\n",
      "INFO - 20:12:20: worker thread finished; awaiting finish of 0 more threads\n",
      "INFO - 20:12:20: EPOCH - 34 : training on 262585 raw words (119672 effective words) took 2.0s, 59453 effective words/s\n",
      "INFO - 20:12:21: EPOCH 35 - PROGRESS: at 72.03% examples, 85081 words/s, in_qsize 2, out_qsize 0\n",
      "INFO - 20:12:21: worker thread finished; awaiting finish of 0 more threads\n",
      "INFO - 20:12:21: EPOCH - 35 : training on 262585 raw words (119770 effective words) took 1.4s, 87290 effective words/s\n",
      "INFO - 20:12:22: EPOCH 36 - PROGRESS: at 72.03% examples, 83768 words/s, in_qsize 1, out_qsize 0\n",
      "INFO - 20:12:23: worker thread finished; awaiting finish of 0 more threads\n",
      "INFO - 20:12:23: EPOCH - 36 : training on 262585 raw words (119672 effective words) took 1.4s, 85214 effective words/s\n",
      "INFO - 20:12:24: EPOCH 37 - PROGRESS: at 53.06% examples, 60123 words/s, in_qsize 1, out_qsize 0\n",
      "INFO - 20:12:25: worker thread finished; awaiting finish of 0 more threads\n",
      "INFO - 20:12:25: EPOCH - 37 : training on 262585 raw words (119774 effective words) took 1.8s, 66952 effective words/s\n",
      "INFO - 20:12:26: EPOCH 38 - PROGRESS: at 79.58% examples, 95571 words/s, in_qsize 1, out_qsize 0\n",
      "INFO - 20:12:26: worker thread finished; awaiting finish of 0 more threads\n",
      "INFO - 20:12:26: EPOCH - 38 : training on 262585 raw words (119750 effective words) took 1.3s, 91269 effective words/s\n",
      "INFO - 20:12:27: EPOCH 39 - PROGRESS: at 87.22% examples, 102870 words/s, in_qsize 1, out_qsize 0\n",
      "INFO - 20:12:27: worker thread finished; awaiting finish of 0 more threads\n",
      "INFO - 20:12:27: EPOCH - 39 : training on 262585 raw words (119736 effective words) took 1.2s, 102561 effective words/s\n",
      "INFO - 20:12:28: worker thread finished; awaiting finish of 0 more threads\n",
      "INFO - 20:12:28: EPOCH - 40 : training on 262585 raw words (119730 effective words) took 1.0s, 120745 effective words/s\n",
      "INFO - 20:12:29: EPOCH 41 - PROGRESS: at 56.96% examples, 63094 words/s, in_qsize 2, out_qsize 0\n",
      "INFO - 20:12:30: EPOCH 41 - PROGRESS: at 94.97% examples, 53402 words/s, in_qsize 1, out_qsize 0\n",
      "INFO - 20:12:30: worker thread finished; awaiting finish of 0 more threads\n",
      "INFO - 20:12:30: EPOCH - 41 : training on 262585 raw words (119644 effective words) took 2.3s, 52842 effective words/s\n",
      "INFO - 20:12:31: EPOCH 42 - PROGRESS: at 38.14% examples, 43144 words/s, in_qsize 2, out_qsize 0\n",
      "INFO - 20:12:33: EPOCH 42 - PROGRESS: at 79.58% examples, 44260 words/s, in_qsize 1, out_qsize 0\n",
      "INFO - 20:12:33: worker thread finished; awaiting finish of 0 more threads\n",
      "INFO - 20:12:33: EPOCH - 42 : training on 262585 raw words (119815 effective words) took 2.7s, 44447 effective words/s\n",
      "INFO - 20:12:34: EPOCH 43 - PROGRESS: at 34.32% examples, 40723 words/s, in_qsize 2, out_qsize 0\n",
      "INFO - 20:12:35: EPOCH 43 - PROGRESS: at 72.03% examples, 41992 words/s, in_qsize 1, out_qsize 0\n",
      "INFO - 20:12:36: worker thread finished; awaiting finish of 0 more threads\n",
      "INFO - 20:12:36: EPOCH - 43 : training on 262585 raw words (119381 effective words) took 2.8s, 42813 effective words/s\n",
      "INFO - 20:12:37: EPOCH 44 - PROGRESS: at 38.14% examples, 44516 words/s, in_qsize 2, out_qsize 0\n",
      "INFO - 20:12:38: EPOCH 44 - PROGRESS: at 75.95% examples, 42598 words/s, in_qsize 1, out_qsize 0\n",
      "INFO - 20:12:39: worker thread finished; awaiting finish of 0 more threads\n",
      "INFO - 20:12:39: EPOCH - 44 : training on 262585 raw words (119603 effective words) took 2.7s, 43517 effective words/s\n",
      "INFO - 20:12:40: EPOCH 45 - PROGRESS: at 41.94% examples, 49652 words/s, in_qsize 2, out_qsize 0\n",
      "INFO - 20:12:41: EPOCH 45 - PROGRESS: at 91.03% examples, 52597 words/s, in_qsize 1, out_qsize 0\n",
      "INFO - 20:12:41: worker thread finished; awaiting finish of 0 more threads\n",
      "INFO - 20:12:41: EPOCH - 45 : training on 262585 raw words (119392 effective words) took 2.2s, 53584 effective words/s\n",
      "INFO - 20:12:42: EPOCH 46 - PROGRESS: at 56.96% examples, 65039 words/s, in_qsize 1, out_qsize 0\n",
      "INFO - 20:12:43: worker thread finished; awaiting finish of 0 more threads\n",
      "INFO - 20:12:43: EPOCH - 46 : training on 262585 raw words (119639 effective words) took 1.8s, 66721 effective words/s\n",
      "INFO - 20:12:44: EPOCH 47 - PROGRESS: at 68.12% examples, 79325 words/s, in_qsize 1, out_qsize 0\n",
      "INFO - 20:12:44: worker thread finished; awaiting finish of 0 more threads\n",
      "INFO - 20:12:44: EPOCH - 47 : training on 262585 raw words (119255 effective words) took 1.5s, 81116 effective words/s\n",
      "INFO - 20:12:45: EPOCH 48 - PROGRESS: at 79.58% examples, 93341 words/s, in_qsize 1, out_qsize 0\n",
      "INFO - 20:12:45: worker thread finished; awaiting finish of 0 more threads\n",
      "INFO - 20:12:45: EPOCH - 48 : training on 262585 raw words (119484 effective words) took 1.3s, 94273 effective words/s\n",
      "INFO - 20:12:47: EPOCH 49 - PROGRESS: at 79.58% examples, 91182 words/s, in_qsize 2, out_qsize 0\n",
      "INFO - 20:12:47: worker thread finished; awaiting finish of 0 more threads\n",
      "INFO - 20:12:47: EPOCH - 49 : training on 262585 raw words (119835 effective words) took 1.6s, 75842 effective words/s\n"
     ]
    },
    {
     "name": "stderr",
     "output_type": "stream",
     "text": [
      "INFO - 20:12:48: EPOCH 50 - PROGRESS: at 38.14% examples, 44063 words/s, in_qsize 1, out_qsize 0\n",
      "INFO - 20:12:49: EPOCH 50 - PROGRESS: at 75.95% examples, 43937 words/s, in_qsize 2, out_qsize 0\n",
      "INFO - 20:12:50: worker thread finished; awaiting finish of 0 more threads\n",
      "INFO - 20:12:50: EPOCH - 50 : training on 262585 raw words (119485 effective words) took 2.7s, 44370 effective words/s\n",
      "INFO - 20:12:51: EPOCH 51 - PROGRESS: at 38.14% examples, 45324 words/s, in_qsize 2, out_qsize 0\n",
      "INFO - 20:12:52: EPOCH 51 - PROGRESS: at 79.58% examples, 46293 words/s, in_qsize 1, out_qsize 0\n",
      "INFO - 20:12:52: worker thread finished; awaiting finish of 0 more threads\n",
      "INFO - 20:12:52: EPOCH - 51 : training on 262585 raw words (119600 effective words) took 2.6s, 46191 effective words/s\n",
      "INFO - 20:12:53: EPOCH 52 - PROGRESS: at 38.14% examples, 44959 words/s, in_qsize 1, out_qsize 0\n",
      "INFO - 20:12:54: EPOCH 52 - PROGRESS: at 94.97% examples, 55938 words/s, in_qsize 1, out_qsize 0\n",
      "INFO - 20:12:54: worker thread finished; awaiting finish of 0 more threads\n",
      "INFO - 20:12:54: EPOCH - 52 : training on 262585 raw words (119637 effective words) took 2.1s, 56352 effective words/s\n",
      "INFO - 20:12:56: EPOCH 53 - PROGRESS: at 56.96% examples, 66035 words/s, in_qsize 2, out_qsize 0\n",
      "INFO - 20:12:57: EPOCH 53 - PROGRESS: at 94.97% examples, 56035 words/s, in_qsize 2, out_qsize 0\n",
      "INFO - 20:12:57: worker thread finished; awaiting finish of 0 more threads\n",
      "INFO - 20:12:57: EPOCH - 53 : training on 262585 raw words (119793 effective words) took 2.2s, 55589 effective words/s\n",
      "INFO - 20:12:58: EPOCH 54 - PROGRESS: at 41.94% examples, 48104 words/s, in_qsize 1, out_qsize 0\n",
      "INFO - 20:12:59: EPOCH 54 - PROGRESS: at 83.44% examples, 48266 words/s, in_qsize 1, out_qsize 0\n",
      "INFO - 20:12:59: worker thread finished; awaiting finish of 0 more threads\n",
      "INFO - 20:12:59: EPOCH - 54 : training on 262585 raw words (119393 effective words) took 2.5s, 48224 effective words/s\n",
      "INFO - 20:13:00: EPOCH 55 - PROGRESS: at 38.14% examples, 45051 words/s, in_qsize 1, out_qsize 0\n",
      "INFO - 20:13:01: EPOCH 55 - PROGRESS: at 79.58% examples, 46014 words/s, in_qsize 1, out_qsize 0\n",
      "INFO - 20:13:02: worker thread finished; awaiting finish of 0 more threads\n",
      "INFO - 20:13:02: EPOCH - 55 : training on 262585 raw words (119620 effective words) took 2.6s, 45902 effective words/s\n",
      "INFO - 20:13:03: EPOCH 56 - PROGRESS: at 41.94% examples, 48259 words/s, in_qsize 1, out_qsize 0\n",
      "INFO - 20:13:04: EPOCH 56 - PROGRESS: at 79.58% examples, 45961 words/s, in_qsize 1, out_qsize 0\n",
      "INFO - 20:13:04: worker thread finished; awaiting finish of 0 more threads\n",
      "INFO - 20:13:04: EPOCH - 56 : training on 262585 raw words (119574 effective words) took 2.6s, 46048 effective words/s\n",
      "INFO - 20:13:06: EPOCH 57 - PROGRESS: at 41.94% examples, 47044 words/s, in_qsize 1, out_qsize 0\n",
      "INFO - 20:13:07: EPOCH 57 - PROGRESS: at 83.44% examples, 46852 words/s, in_qsize 1, out_qsize 0\n",
      "INFO - 20:13:07: worker thread finished; awaiting finish of 0 more threads\n",
      "INFO - 20:13:07: EPOCH - 57 : training on 262585 raw words (119948 effective words) took 2.5s, 47257 effective words/s\n",
      "INFO - 20:13:08: EPOCH 58 - PROGRESS: at 38.14% examples, 44678 words/s, in_qsize 2, out_qsize 0\n",
      "INFO - 20:13:09: EPOCH 58 - PROGRESS: at 83.44% examples, 47834 words/s, in_qsize 2, out_qsize 0\n",
      "INFO - 20:13:09: worker thread finished; awaiting finish of 0 more threads\n",
      "INFO - 20:13:09: EPOCH - 58 : training on 262585 raw words (119386 effective words) took 2.4s, 49620 effective words/s\n",
      "INFO - 20:13:10: EPOCH 59 - PROGRESS: at 49.45% examples, 57044 words/s, in_qsize 1, out_qsize 0\n",
      "INFO - 20:13:11: worker thread finished; awaiting finish of 0 more threads\n",
      "INFO - 20:13:11: EPOCH - 59 : training on 262585 raw words (119273 effective words) took 1.9s, 61300 effective words/s\n",
      "INFO - 20:13:12: EPOCH 60 - PROGRESS: at 60.68% examples, 69295 words/s, in_qsize 1, out_qsize 0\n",
      "INFO - 20:13:13: worker thread finished; awaiting finish of 0 more threads\n",
      "INFO - 20:13:13: EPOCH - 60 : training on 262585 raw words (119727 effective words) took 1.7s, 69966 effective words/s\n",
      "INFO - 20:13:14: EPOCH 61 - PROGRESS: at 34.32% examples, 39426 words/s, in_qsize 1, out_qsize 0\n",
      "INFO - 20:13:15: EPOCH 61 - PROGRESS: at 72.03% examples, 42006 words/s, in_qsize 1, out_qsize 0\n",
      "INFO - 20:13:16: worker thread finished; awaiting finish of 0 more threads\n",
      "INFO - 20:13:16: EPOCH - 61 : training on 262585 raw words (119575 effective words) took 2.8s, 43050 effective words/s\n",
      "INFO - 20:13:17: EPOCH 62 - PROGRESS: at 41.94% examples, 46378 words/s, in_qsize 1, out_qsize 0\n",
      "INFO - 20:13:18: EPOCH 62 - PROGRESS: at 79.58% examples, 44660 words/s, in_qsize 1, out_qsize 0\n",
      "INFO - 20:13:19: worker thread finished; awaiting finish of 0 more threads\n",
      "INFO - 20:13:19: EPOCH - 62 : training on 262585 raw words (119937 effective words) took 2.8s, 43046 effective words/s\n",
      "INFO - 20:13:20: EPOCH 63 - PROGRESS: at 34.32% examples, 36830 words/s, in_qsize 2, out_qsize 0\n",
      "INFO - 20:13:21: EPOCH 63 - PROGRESS: at 79.58% examples, 44183 words/s, in_qsize 2, out_qsize 0\n",
      "INFO - 20:13:21: worker thread finished; awaiting finish of 0 more threads\n",
      "INFO - 20:13:21: EPOCH - 63 : training on 262585 raw words (119492 effective words) took 2.5s, 47526 effective words/s\n",
      "INFO - 20:13:22: EPOCH 64 - PROGRESS: at 60.68% examples, 68338 words/s, in_qsize 1, out_qsize 0\n",
      "INFO - 20:13:23: worker thread finished; awaiting finish of 0 more threads\n",
      "INFO - 20:13:23: EPOCH - 64 : training on 262585 raw words (119550 effective words) took 2.0s, 60439 effective words/s\n",
      "INFO - 20:13:24: EPOCH 65 - PROGRESS: at 34.32% examples, 40408 words/s, in_qsize 1, out_qsize 0\n",
      "INFO - 20:13:25: EPOCH 65 - PROGRESS: at 72.03% examples, 42315 words/s, in_qsize 2, out_qsize 0\n",
      "INFO - 20:13:26: worker thread finished; awaiting finish of 0 more threads\n",
      "INFO - 20:13:26: EPOCH - 65 : training on 262585 raw words (119250 effective words) took 2.8s, 43087 effective words/s\n",
      "INFO - 20:13:27: EPOCH 66 - PROGRESS: at 38.14% examples, 44252 words/s, in_qsize 1, out_qsize 0\n",
      "INFO - 20:13:28: EPOCH 66 - PROGRESS: at 79.58% examples, 45187 words/s, in_qsize 2, out_qsize 0\n",
      "INFO - 20:13:29: worker thread finished; awaiting finish of 0 more threads\n",
      "INFO - 20:13:29: EPOCH - 66 : training on 262585 raw words (119815 effective words) took 2.6s, 45432 effective words/s\n",
      "INFO - 20:13:30: EPOCH 67 - PROGRESS: at 38.14% examples, 42983 words/s, in_qsize 2, out_qsize 0\n",
      "INFO - 20:13:31: EPOCH 67 - PROGRESS: at 75.95% examples, 43619 words/s, in_qsize 1, out_qsize 0\n",
      "INFO - 20:13:31: worker thread finished; awaiting finish of 0 more threads\n",
      "INFO - 20:13:31: EPOCH - 67 : training on 262585 raw words (119880 effective words) took 2.8s, 43243 effective words/s\n",
      "INFO - 20:13:32: EPOCH 68 - PROGRESS: at 34.32% examples, 40404 words/s, in_qsize 2, out_qsize 0\n",
      "INFO - 20:13:34: EPOCH 68 - PROGRESS: at 72.03% examples, 40917 words/s, in_qsize 2, out_qsize 0\n",
      "INFO - 20:13:34: worker thread finished; awaiting finish of 0 more threads\n",
      "INFO - 20:13:34: EPOCH - 68 : training on 262585 raw words (119615 effective words) took 2.7s, 44105 effective words/s\n",
      "INFO - 20:13:35: EPOCH 69 - PROGRESS: at 45.63% examples, 53936 words/s, in_qsize 1, out_qsize 0\n",
      "INFO - 20:13:36: worker thread finished; awaiting finish of 0 more threads\n",
      "INFO - 20:13:36: EPOCH - 69 : training on 262585 raw words (119674 effective words) took 2.0s, 60212 effective words/s\n",
      "INFO - 20:13:37: EPOCH 70 - PROGRESS: at 56.96% examples, 66443 words/s, in_qsize 2, out_qsize 0\n",
      "INFO - 20:13:38: worker thread finished; awaiting finish of 0 more threads\n",
      "INFO - 20:13:38: EPOCH - 70 : training on 262585 raw words (119328 effective words) took 1.8s, 66917 effective words/s\n",
      "INFO - 20:13:39: EPOCH 71 - PROGRESS: at 60.68% examples, 68734 words/s, in_qsize 1, out_qsize 0\n",
      "INFO - 20:13:40: worker thread finished; awaiting finish of 0 more threads\n",
      "INFO - 20:13:40: EPOCH - 71 : training on 262585 raw words (119295 effective words) took 1.7s, 69062 effective words/s\n",
      "INFO - 20:13:41: EPOCH 72 - PROGRESS: at 56.96% examples, 66468 words/s, in_qsize 2, out_qsize 0\n",
      "INFO - 20:13:42: EPOCH 72 - PROGRESS: at 94.97% examples, 55058 words/s, in_qsize 2, out_qsize 0\n",
      "INFO - 20:13:42: worker thread finished; awaiting finish of 0 more threads\n"
     ]
    },
    {
     "name": "stderr",
     "output_type": "stream",
     "text": [
      "INFO - 20:13:42: EPOCH - 72 : training on 262585 raw words (119456 effective words) took 2.2s, 54251 effective words/s\n",
      "INFO - 20:13:43: EPOCH 73 - PROGRESS: at 38.14% examples, 42998 words/s, in_qsize 1, out_qsize 0\n",
      "INFO - 20:13:44: EPOCH 73 - PROGRESS: at 75.95% examples, 42467 words/s, in_qsize 1, out_qsize 0\n",
      "INFO - 20:13:45: worker thread finished; awaiting finish of 0 more threads\n",
      "INFO - 20:13:45: EPOCH - 73 : training on 262585 raw words (119287 effective words) took 2.6s, 45348 effective words/s\n",
      "INFO - 20:13:46: EPOCH 74 - PROGRESS: at 49.45% examples, 57727 words/s, in_qsize 2, out_qsize 0\n",
      "INFO - 20:13:47: EPOCH 74 - PROGRESS: at 91.03% examples, 51357 words/s, in_qsize 1, out_qsize 0\n",
      "INFO - 20:13:47: worker thread finished; awaiting finish of 0 more threads\n",
      "INFO - 20:13:47: EPOCH - 74 : training on 262585 raw words (119511 effective words) took 2.3s, 51279 effective words/s\n",
      "INFO - 20:13:48: EPOCH 75 - PROGRESS: at 38.14% examples, 43587 words/s, in_qsize 2, out_qsize 0\n",
      "INFO - 20:13:49: EPOCH 75 - PROGRESS: at 79.58% examples, 45692 words/s, in_qsize 1, out_qsize 0\n",
      "INFO - 20:13:50: worker thread finished; awaiting finish of 0 more threads\n",
      "INFO - 20:13:50: EPOCH - 75 : training on 262585 raw words (119437 effective words) took 2.6s, 45850 effective words/s\n",
      "INFO - 20:13:51: EPOCH 76 - PROGRESS: at 41.94% examples, 47635 words/s, in_qsize 2, out_qsize 0\n",
      "INFO - 20:13:52: EPOCH 76 - PROGRESS: at 83.44% examples, 47394 words/s, in_qsize 2, out_qsize 0\n",
      "INFO - 20:13:52: worker thread finished; awaiting finish of 0 more threads\n",
      "INFO - 20:13:52: EPOCH - 76 : training on 262585 raw words (119426 effective words) took 2.5s, 47580 effective words/s\n",
      "INFO - 20:13:53: EPOCH 77 - PROGRESS: at 41.94% examples, 45848 words/s, in_qsize 2, out_qsize 0\n",
      "INFO - 20:13:54: EPOCH 77 - PROGRESS: at 83.44% examples, 46389 words/s, in_qsize 1, out_qsize 0\n",
      "INFO - 20:13:55: worker thread finished; awaiting finish of 0 more threads\n",
      "INFO - 20:13:55: EPOCH - 77 : training on 262585 raw words (119545 effective words) took 2.6s, 46512 effective words/s\n",
      "INFO - 20:13:56: EPOCH 78 - PROGRESS: at 41.94% examples, 45990 words/s, in_qsize 2, out_qsize 0\n",
      "INFO - 20:13:57: EPOCH 78 - PROGRESS: at 79.58% examples, 45767 words/s, in_qsize 1, out_qsize 0\n",
      "INFO - 20:13:57: worker thread finished; awaiting finish of 0 more threads\n",
      "INFO - 20:13:57: EPOCH - 78 : training on 262585 raw words (119508 effective words) took 2.6s, 45839 effective words/s\n",
      "INFO - 20:13:58: EPOCH 79 - PROGRESS: at 41.94% examples, 47136 words/s, in_qsize 1, out_qsize 0\n",
      "INFO - 20:13:59: EPOCH 79 - PROGRESS: at 83.44% examples, 47366 words/s, in_qsize 1, out_qsize 0\n",
      "INFO - 20:14:00: worker thread finished; awaiting finish of 0 more threads\n",
      "INFO - 20:14:00: EPOCH - 79 : training on 262585 raw words (119901 effective words) took 2.6s, 46793 effective words/s\n",
      "INFO - 20:14:01: EPOCH 80 - PROGRESS: at 41.94% examples, 46392 words/s, in_qsize 2, out_qsize 0\n",
      "INFO - 20:14:02: EPOCH 80 - PROGRESS: at 83.44% examples, 46077 words/s, in_qsize 2, out_qsize 0\n",
      "INFO - 20:14:02: worker thread finished; awaiting finish of 0 more threads\n",
      "INFO - 20:14:02: EPOCH - 80 : training on 262585 raw words (119164 effective words) took 2.6s, 46307 effective words/s\n",
      "INFO - 20:14:04: EPOCH 81 - PROGRESS: at 38.14% examples, 43056 words/s, in_qsize 1, out_qsize 0\n",
      "INFO - 20:14:05: EPOCH 81 - PROGRESS: at 79.58% examples, 45563 words/s, in_qsize 1, out_qsize 0\n",
      "INFO - 20:14:05: worker thread finished; awaiting finish of 0 more threads\n",
      "INFO - 20:14:05: EPOCH - 81 : training on 262585 raw words (119623 effective words) took 2.6s, 46428 effective words/s\n",
      "INFO - 20:14:06: EPOCH 82 - PROGRESS: at 38.14% examples, 45443 words/s, in_qsize 1, out_qsize 0\n",
      "INFO - 20:14:07: EPOCH 82 - PROGRESS: at 72.03% examples, 41935 words/s, in_qsize 1, out_qsize 0\n",
      "INFO - 20:14:08: worker thread finished; awaiting finish of 0 more threads\n",
      "INFO - 20:14:08: EPOCH - 82 : training on 262585 raw words (119677 effective words) took 2.8s, 42554 effective words/s\n",
      "INFO - 20:14:09: EPOCH 83 - PROGRESS: at 41.94% examples, 45860 words/s, in_qsize 1, out_qsize 0\n",
      "INFO - 20:14:10: EPOCH 83 - PROGRESS: at 79.58% examples, 45490 words/s, in_qsize 1, out_qsize 0\n",
      "INFO - 20:14:10: worker thread finished; awaiting finish of 0 more threads\n",
      "INFO - 20:14:10: EPOCH - 83 : training on 262585 raw words (119356 effective words) took 2.6s, 46146 effective words/s\n",
      "INFO - 20:14:12: EPOCH 84 - PROGRESS: at 38.14% examples, 44918 words/s, in_qsize 2, out_qsize 0\n",
      "INFO - 20:14:13: EPOCH 84 - PROGRESS: at 79.58% examples, 46401 words/s, in_qsize 1, out_qsize 0\n",
      "INFO - 20:14:13: worker thread finished; awaiting finish of 0 more threads\n",
      "INFO - 20:14:13: EPOCH - 84 : training on 262585 raw words (119842 effective words) took 2.6s, 46635 effective words/s\n",
      "INFO - 20:14:14: EPOCH 85 - PROGRESS: at 38.14% examples, 42725 words/s, in_qsize 2, out_qsize 0\n",
      "INFO - 20:14:15: EPOCH 85 - PROGRESS: at 79.58% examples, 44504 words/s, in_qsize 1, out_qsize 0\n",
      "INFO - 20:14:16: worker thread finished; awaiting finish of 0 more threads\n",
      "INFO - 20:14:16: EPOCH - 85 : training on 262585 raw words (119479 effective words) took 2.6s, 45463 effective words/s\n",
      "INFO - 20:14:17: EPOCH 86 - PROGRESS: at 41.94% examples, 48976 words/s, in_qsize 2, out_qsize 0\n",
      "INFO - 20:14:18: EPOCH 86 - PROGRESS: at 91.03% examples, 53910 words/s, in_qsize 1, out_qsize 0\n",
      "INFO - 20:14:18: worker thread finished; awaiting finish of 0 more threads\n",
      "INFO - 20:14:18: EPOCH - 86 : training on 262585 raw words (119685 effective words) took 2.2s, 54448 effective words/s\n",
      "INFO - 20:14:19: EPOCH 87 - PROGRESS: at 56.96% examples, 66327 words/s, in_qsize 2, out_qsize 0\n",
      "INFO - 20:14:20: worker thread finished; awaiting finish of 0 more threads\n",
      "INFO - 20:14:20: EPOCH - 87 : training on 262585 raw words (119610 effective words) took 1.6s, 73545 effective words/s\n",
      "INFO - 20:14:21: EPOCH 88 - PROGRESS: at 68.12% examples, 79949 words/s, in_qsize 2, out_qsize 0\n",
      "INFO - 20:14:21: worker thread finished; awaiting finish of 0 more threads\n",
      "INFO - 20:14:21: EPOCH - 88 : training on 262585 raw words (119517 effective words) took 1.5s, 80244 effective words/s\n",
      "INFO - 20:14:22: EPOCH 89 - PROGRESS: at 68.12% examples, 79192 words/s, in_qsize 2, out_qsize 0\n",
      "INFO - 20:14:23: worker thread finished; awaiting finish of 0 more threads\n",
      "INFO - 20:14:23: EPOCH - 89 : training on 262585 raw words (119554 effective words) took 1.5s, 78836 effective words/s\n",
      "INFO - 20:14:24: EPOCH 90 - PROGRESS: at 49.45% examples, 56890 words/s, in_qsize 1, out_qsize 0\n",
      "INFO - 20:14:25: EPOCH 90 - PROGRESS: at 87.22% examples, 50755 words/s, in_qsize 2, out_qsize 0\n",
      "INFO - 20:14:25: worker thread finished; awaiting finish of 0 more threads\n",
      "INFO - 20:14:25: EPOCH - 90 : training on 262585 raw words (119574 effective words) took 2.4s, 50218 effective words/s\n",
      "INFO - 20:14:26: EPOCH 91 - PROGRESS: at 41.94% examples, 47045 words/s, in_qsize 1, out_qsize 0\n",
      "INFO - 20:14:27: EPOCH 91 - PROGRESS: at 83.44% examples, 46712 words/s, in_qsize 2, out_qsize 0\n",
      "INFO - 20:14:28: worker thread finished; awaiting finish of 0 more threads\n",
      "INFO - 20:14:28: EPOCH - 91 : training on 262585 raw words (119547 effective words) took 2.6s, 46786 effective words/s\n",
      "INFO - 20:14:29: EPOCH 92 - PROGRESS: at 38.14% examples, 41853 words/s, in_qsize 2, out_qsize 0\n",
      "INFO - 20:14:30: EPOCH 92 - PROGRESS: at 72.03% examples, 39852 words/s, in_qsize 2, out_qsize 0\n",
      "INFO - 20:14:30: worker thread finished; awaiting finish of 0 more threads\n",
      "INFO - 20:14:30: EPOCH - 92 : training on 262585 raw words (119489 effective words) took 2.9s, 40989 effective words/s\n",
      "INFO - 20:14:32: EPOCH 93 - PROGRESS: at 56.96% examples, 63422 words/s, in_qsize 1, out_qsize 0\n",
      "INFO - 20:14:33: EPOCH 93 - PROGRESS: at 87.22% examples, 50050 words/s, in_qsize 2, out_qsize 0\n",
      "INFO - 20:14:33: worker thread finished; awaiting finish of 0 more threads\n",
      "INFO - 20:14:33: EPOCH - 93 : training on 262585 raw words (119715 effective words) took 2.4s, 49230 effective words/s\n",
      "INFO - 20:14:34: EPOCH 94 - PROGRESS: at 30.55% examples, 36154 words/s, in_qsize 1, out_qsize 0\n",
      "INFO - 20:14:35: EPOCH 94 - PROGRESS: at 56.96% examples, 33138 words/s, in_qsize 2, out_qsize 0\n",
      "INFO - 20:14:36: EPOCH 94 - PROGRESS: at 94.97% examples, 37177 words/s, in_qsize 2, out_qsize 0\n"
     ]
    },
    {
     "name": "stderr",
     "output_type": "stream",
     "text": [
      "INFO - 20:14:36: worker thread finished; awaiting finish of 0 more threads\n",
      "INFO - 20:14:36: EPOCH - 94 : training on 262585 raw words (119649 effective words) took 3.2s, 37857 effective words/s\n",
      "INFO - 20:14:37: EPOCH 95 - PROGRESS: at 56.96% examples, 65400 words/s, in_qsize 2, out_qsize 0\n",
      "INFO - 20:14:38: worker thread finished; awaiting finish of 0 more threads\n",
      "INFO - 20:14:38: EPOCH - 95 : training on 262585 raw words (119608 effective words) took 1.7s, 71184 effective words/s\n",
      "INFO - 20:14:39: EPOCH 96 - PROGRESS: at 75.95% examples, 87547 words/s, in_qsize 1, out_qsize 0\n",
      "INFO - 20:14:39: worker thread finished; awaiting finish of 0 more threads\n",
      "INFO - 20:14:39: EPOCH - 96 : training on 262585 raw words (119719 effective words) took 1.4s, 88449 effective words/s\n",
      "INFO - 20:14:40: EPOCH 97 - PROGRESS: at 75.95% examples, 88116 words/s, in_qsize 1, out_qsize 0\n",
      "INFO - 20:14:41: worker thread finished; awaiting finish of 0 more threads\n",
      "INFO - 20:14:41: EPOCH - 97 : training on 262585 raw words (119786 effective words) took 1.6s, 72671 effective words/s\n",
      "INFO - 20:14:42: EPOCH 98 - PROGRESS: at 38.14% examples, 43737 words/s, in_qsize 1, out_qsize 0\n",
      "INFO - 20:14:43: EPOCH 98 - PROGRESS: at 75.95% examples, 43967 words/s, in_qsize 1, out_qsize 0\n",
      "INFO - 20:14:44: worker thread finished; awaiting finish of 0 more threads\n",
      "INFO - 20:14:44: EPOCH - 98 : training on 262585 raw words (119436 effective words) took 2.7s, 43769 effective words/s\n",
      "INFO - 20:14:45: EPOCH 99 - PROGRESS: at 38.14% examples, 44213 words/s, in_qsize 1, out_qsize 0\n",
      "INFO - 20:14:46: EPOCH 99 - PROGRESS: at 87.22% examples, 49666 words/s, in_qsize 2, out_qsize 0\n",
      "INFO - 20:14:46: worker thread finished; awaiting finish of 0 more threads\n",
      "INFO - 20:14:46: EPOCH - 99 : training on 262585 raw words (119725 effective words) took 2.4s, 50517 effective words/s\n",
      "INFO - 20:14:47: EPOCH 100 - PROGRESS: at 45.63% examples, 52884 words/s, in_qsize 1, out_qsize 0\n",
      "INFO - 20:14:48: worker thread finished; awaiting finish of 0 more threads\n",
      "INFO - 20:14:48: EPOCH - 100 : training on 262585 raw words (119552 effective words) took 1.8s, 64992 effective words/s\n",
      "INFO - 20:14:48: training on a 26258500 raw words (11958827 effective words) took 219.6s, 54456 effective words/s\n"
     ]
    },
    {
     "data": {
      "text/plain": [
       "(11958827, 26258500)"
      ]
     },
     "execution_count": 84,
     "metadata": {},
     "output_type": "execute_result"
    }
   ],
   "source": [
    "w2v.train(new_lines, total_examples=w2v.corpus_count, epochs=100)"
   ]
  },
  {
   "cell_type": "code",
   "execution_count": 85,
   "metadata": {},
   "outputs": [
    {
     "name": "stderr",
     "output_type": "stream",
     "text": [
      "INFO - 20:14:48: precomputing L2-norms of word weight vectors\n"
     ]
    }
   ],
   "source": [
    "w2v.init_sims(replace=True)###your code ### "
   ]
  },
  {
   "cell_type": "markdown",
   "metadata": {},
   "source": [
    "### Subtask 3: Exploring the Model\n"
   ]
  },
  {
   "cell_type": "markdown",
   "metadata": {},
   "source": [
    "As mentioned in the lecture, word embeddings are suited for similarity and analogy tasks. Let's explore some of that with our dataset: \n",
    "\n",
    "We look for most similar words to the famous coffee shop where most of the episodes took place, namely `central_perk` and also one of the characters `joey`. If you have followed the exercise correctly until now, you should see that words like `laying` are similar to `central_perk` and the other main characters are also considered similar to `joey`.\n",
    "\n"
   ]
  },
  {
   "cell_type": "code",
   "execution_count": 106,
   "metadata": {},
   "outputs": [
    {
     "data": {
      "text/plain": [
       "0.12335912"
      ]
     },
     "execution_count": 106,
     "metadata": {},
     "output_type": "execute_result"
    }
   ],
   "source": [
    "w2v.wv.similarity(\"central_perk\" , \"joey\")"
   ]
  },
  {
   "cell_type": "code",
   "execution_count": 105,
   "metadata": {},
   "outputs": [
    {
     "name": "stderr",
     "output_type": "stream",
     "text": [
      "INFO - 20:42:38: saving Word2Vec object under friends_w2v_model.model, separately None\n",
      "INFO - 20:42:38: not storing attribute vectors_norm\n",
      "INFO - 20:42:38: not storing attribute cum_table\n",
      "INFO - 20:42:38: saved friends_w2v_model.model\n"
     ]
    }
   ],
   "source": [
    "w2v.save###your code###\n",
    "w2v.save(\"friends_w2v_model.model\")\n",
    "# model = Word2Vec.load(\"friends_w2v_model.model\")"
   ]
  },
  {
   "cell_type": "code",
   "execution_count": 107,
   "metadata": {},
   "outputs": [
    {
     "data": {
      "text/plain": [
       "0.33376282"
      ]
     },
     "execution_count": 107,
     "metadata": {},
     "output_type": "execute_result"
    }
   ],
   "source": [
    "w2v.wv.similarity(\"laying\" , \"joey\") ###your code### "
   ]
  },
  {
   "cell_type": "markdown",
   "metadata": {},
   "source": [
    "Look at the similarity of `mrs_green` to `rachel` (her mom) and `ross`  and `spaceship` (urelated). The first one should have a high and the second low score. Finally look at the similarity of `smelly_cat` ( a song from pheobe) and `song` the similarity should be high."
   ]
  },
  {
   "cell_type": "code",
   "execution_count": 95,
   "metadata": {},
   "outputs": [
    {
     "data": {
      "text/plain": [
       "0.5045453"
      ]
     },
     "execution_count": 95,
     "metadata": {},
     "output_type": "execute_result"
    }
   ],
   "source": [
    "w2v.wv.similarity(\"mrs_green\", \"rachel\")###your code### "
   ]
  },
  {
   "cell_type": "code",
   "execution_count": 96,
   "metadata": {},
   "outputs": [
    {
     "data": {
      "text/plain": [
       "-0.12668173"
      ]
     },
     "execution_count": 96,
     "metadata": {},
     "output_type": "execute_result"
    }
   ],
   "source": [
    "w2v.wv.similarity(\"ross\", \"spaceship\") ###your code### "
   ]
  },
  {
   "cell_type": "code",
   "execution_count": 97,
   "metadata": {},
   "outputs": [
    {
     "data": {
      "text/plain": [
       "0.53361744"
      ]
     },
     "execution_count": 97,
     "metadata": {},
     "output_type": "execute_result"
    }
   ],
   "source": [
    "w2v.wv.similarity(\"smelly_cat\", \"song\")###your code### "
   ]
  },
  {
   "cell_type": "code",
   "execution_count": 104,
   "metadata": {},
   "outputs": [
    {
     "data": {
      "text/plain": [
       "'a'"
      ]
     },
     "execution_count": 104,
     "metadata": {},
     "output_type": "execute_result"
    }
   ],
   "source": [
    "a = (10, 'a')\n"
   ]
  },
  {
   "cell_type": "markdown",
   "metadata": {},
   "source": [
    "We can also ask our model to give us the word that does not belong to a list of words. Let's see from the list of all 5 characters which one is the most dissimilar? \n"
   ]
  },
  {
   "cell_type": "code",
   "execution_count": 98,
   "metadata": {},
   "outputs": [],
   "source": [
    "character_names= ['joey', 'rachel', 'phoebe','monica','chandler']"
   ]
  },
  {
   "cell_type": "code",
   "execution_count": 168,
   "metadata": {},
   "outputs": [
    {
     "name": "stdout",
     "output_type": "stream",
     "text": [
      "dissimilar pair of characters:\n",
      "(0.61173326, 'joey', 'phoebe') \n",
      "\n",
      "(0.6389175, 'rachel', 'joey') \n",
      "\n",
      "(0.61173326, 'phoebe', 'joey') \n",
      "\n",
      "(0.6711618, 'monica', 'joey') \n",
      "\n",
      "(0.67341334, 'chandler', 'rachel') \n",
      "\n"
     ]
    }
   ],
   "source": [
    "### your code### \n",
    "\n",
    "## the way i understood the task is:\n",
    "    ## among all five characters, which pair of characters are the most dissimilar\n",
    "\n",
    "## function to compute similarity between chars and returns two lists\n",
    "## a list containing pair of characters that are most similar to each other\n",
    "## a list containing pair of characters that are most dissimilar to each other\n",
    "def analogy(list):\n",
    "    most_similar = []\n",
    "    most_dissimilar = []\n",
    "    for  i in range(len(list)): #\n",
    "        sim_ = (-10,list[i],'')\n",
    "        dis_sim_ = (10, list[i], '')\n",
    "        for j in range(0,len(list)):\n",
    "            if(j == i): \n",
    "                continue\n",
    "            else:\n",
    "                sim = w2v.wv.similarity(list[i],list[j])\n",
    "                if sim_[0] < sim:\n",
    "                    sim_ = ( sim , list[i],list[j]) \n",
    "                if dis_sim_[0] > sim:\n",
    "                    dis_sim_ = ( sim , list[i],list[j]) \n",
    "\n",
    "        most_similar.append(sim_), most_dissimilar.append(dis_sim_)\n",
    "    return most_similar, most_dissimilar\n",
    "\n",
    "sim, dis = analogy(character_names)\n",
    "print(\"dissimilar pair of characters:\")\n",
    "for pair in dis:\n",
    "    print(pair, \"\\n\")"
   ]
  },
  {
   "cell_type": "markdown",
   "metadata": {},
   "source": [
    "Based on the analogies, which word is to `rachel` as `man` is to `women`? (print the top 3); you should get `chandler` and `monica` among the answers."
   ]
  },
  {
   "cell_type": "code",
   "execution_count": 221,
   "metadata": {},
   "outputs": [
    {
     "name": "stdout",
     "output_type": "stream",
     "text": [
      "[('monica', 0.5237314701080322), ('chandler', 0.5017028450965881), ('ross', 0.4923253655433655)]\n"
     ]
    }
   ],
   "source": [
    " ### your code### \n",
    "def analogy(x1, x2, x3, y1):\n",
    "    result = w2v.wv.most_similar(positive=[x1, x2,x3], negative=[y1],topn=3)\n",
    "    return result\n",
    "analogy = analogy('man','woman','rachel', 'act' )\n",
    "print(analogy)\n",
    "\n",
    "### for some reason i got at first  the word \"look on the second place \" then monica and chandler on 3rd and 4rth\n",
    "## so i decided to add a negative word that represents a verb to the most fit to that was 'act' "
   ]
  },
  {
   "cell_type": "code",
   "execution_count": 412,
   "metadata": {},
   "outputs": [],
   "source": [
    "embs = np.empty((0, 100), dtype='f')# to save all the embeddings\n",
    "embs = np.append(embs,[w2v.wv['joey']], axis=0) # adds the vector of the query word\n",
    "\n",
    "\n",
    "#close_words = w2v.wv.most_similar(positive=['joey'], topn=10) # gets list of most similar words\n",
    "#for i in close_words[:1]:\n",
    "#    print(w2v.wv[i[0]])\n",
    "#    print(i[0])"
   ]
  },
  {
   "cell_type": "markdown",
   "metadata": {},
   "source": [
    "Finally, lets use t-SNE to look at the distribution of our embeddings in the vector space for the character `joey`. Follow the instructions and fill in the blank in the `tsneplot` function."
   ]
  },
  {
   "cell_type": "code",
   "execution_count": 217,
   "metadata": {},
   "outputs": [],
   "source": [
    "import numpy as np\n",
    "import matplotlib.pyplot as plt\n",
    "%matplotlib inline\n",
    "import seaborn as sns\n",
    "import sys\n",
    "from sklearn.manifold import TSNE"
   ]
  },
  {
   "cell_type": "code",
   "execution_count": 415,
   "metadata": {},
   "outputs": [],
   "source": [
    "def tsneplot(model, word):\n",
    "    \"\"\" Plot in seaborn the results from the t-SNE dimensionality reduction for the top 10 most similar and dissimilar words\n",
    "    \"\"\"\n",
    "    embs = np.empty((0, 100), dtype='f')# to save all the embeddings\n",
    "    word_labels = [word]\n",
    "    color_list  = ['green']\n",
    "   \n",
    "    embs = np.append(embs,[w2v.wv[word]], axis=0) # adds the vector of the query word\n",
    "\n",
    "    close_words = model.wv.most_similar(positive=[word], topn=10) # gets list of most similar words\n",
    "    far_words = model.wv.most_similar(negative=[word], topn=10) # gets list of most dissimilar words\n",
    "                                #  (get the sorted list of all the words and their similarity and choose the bottom 10 )\n",
    "    \n",
    "    # adds the vector for each of the closest words to the array\n",
    "    for wrd_score in close_words:\n",
    "        wrd_vector = w2v.wv[wrd_score[0]]#get the vector \n",
    "        word_labels.append(wrd_score[0])\n",
    "        color_list.append('blue')\n",
    "        embs = np.append(embs, [wrd_vector], axis=0)\n",
    "        \n",
    "    # adds the vector for each of the furthest words to the array\n",
    "    for wrd_score in far_words:\n",
    "        wrd_vector = w2v.wv[wrd_score[0]]#get the vector \n",
    "        word_labels.append(wrd_score[0])\n",
    "        color_list.append('red')\n",
    "        embs = np.append(embs, [wrd_vector], axis=0)\n",
    "    np.set_printoptions(suppress=True)\n",
    "    print(embs.shape)\n",
    "    Y = TSNE(n_components=2, random_state=42, perplexity=15).fit_transform(embs)# with  n_components=2, random_state=42, perplexity=15 \n",
    "    \n",
    "    # Sets everything up to plot\n",
    "    df = pd.DataFrame({'x': [x for x in Y[:, 0]],\n",
    "                       'y': [y for y in Y[:, 1]],\n",
    "                       'words': word_labels,\n",
    "                       'color': color_list})\n",
    "    \n",
    "    fig, _ = plt.subplots()\n",
    "    fig.set_size_inches(10, 10)\n",
    "    \n",
    "    # Basic plot\n",
    "    p1 = sns.regplot(data=df,\n",
    "                     x=\"x\",\n",
    "                     y=\"y\",\n",
    "                     fit_reg=False,\n",
    "                     marker=\"o\",\n",
    "                     scatter_kws={'s': 40,\n",
    "                                  'facecolors': df['color']\n",
    "                                 }\n",
    "                    )\n",
    "    \n",
    "    # adds annotations one by one with a loop\n",
    "    for line in range(0, df.shape[0]):\n",
    "         p1.text(df[\"x\"][line],\n",
    "                 df['y'][line],\n",
    "                 '  ' + df[\"words\"][line].title(),\n",
    "                 horizontalalignment='left',\n",
    "                 verticalalignment='bottom', size='medium',\n",
    "                 color=df['color'][line],\n",
    "                 weight='normal'\n",
    "                ).set_size(15)\n",
    "\n",
    "    \n",
    "    plt.xlim(Y[:, 0].min()-50, Y[:, 0].max()+50)\n",
    "    plt.ylim(Y[:, 1].min()-50, Y[:, 1].max()+50)\n",
    "            \n",
    "    plt.title('t-SNE visualization for {}'.format(word.title()))\n",
    "    "
   ]
  },
  {
   "cell_type": "code",
   "execution_count": 416,
   "metadata": {},
   "outputs": [
    {
     "name": "stdout",
     "output_type": "stream",
     "text": [
      "(21, 100)\n"
     ]
    },
    {
     "data": {
      "image/png": "[encoded data removed]",
      "text/plain": [
       "<Figure size 720x720 with 1 Axes>"
      ]
     },
     "metadata": {
      "needs_background": "light"
     },
     "output_type": "display_data"
    }
   ],
   "source": [
    "tsneplot(w2v, 'joey')"
   ]
  },
  {
   "cell_type": "markdown",
   "metadata": {},
   "source": [
    "## Task 2: Multi-class Classification ( 1+ 3 + 2 = 6 points)\n",
    "In this task, we aim to classify consumer finance complaints into 12 pre-defined classes. Note that this is not a multi-label task, and we assume that each new complaint is assigned to one and only one category. The data comes from https://www.data.gov/ (US government’s open data) and contains complaints that are published after the company responds, confirming a commercial relationship with the consumer, or after 15 days, whatever comes first.\n"
   ]
  },
  {
   "cell_type": "markdown",
   "metadata": {},
   "source": [
    "### Sub Task 1: Data Exploration"
   ]
  },
  {
   "cell_type": "markdown",
   "metadata": {},
   "source": [
    "Read the data to a pandas dataframe from `complaints.csv`; this is a rather large file of 206MB. Keep only the `Consumer complaint narrative` (input text) and `product`(labels). Remove the missing values, rename `Consumer complaint narrative` to `Narrative` for ease of use, and add a column encoding the product as an integer. This will represent your labels for classification and the mapping will be used later on. Create two dictionaries: one mapping the ids to products and one mapping products to their ids."
   ]
  },
  {
   "cell_type": "code",
   "execution_count": 248,
   "metadata": {},
   "outputs": [
    {
     "data": {
      "text/html": [
       "<div>\n",
       "<style scoped>\n",
       "    .dataframe tbody tr th:only-of-type {\n",
       "        vertical-align: middle;\n",
       "    }\n",
       "\n",
       "    .dataframe tbody tr th {\n",
       "        vertical-align: top;\n",
       "    }\n",
       "\n",
       "    .dataframe thead th {\n",
       "        text-align: right;\n",
       "    }\n",
       "</style>\n",
       "<table border=\"1\" class=\"dataframe\">\n",
       "  <thead>\n",
       "    <tr style=\"text-align: right;\">\n",
       "      <th></th>\n",
       "      <th>Product</th>\n",
       "      <th>Narrative</th>\n",
       "    </tr>\n",
       "  </thead>\n",
       "  <tbody>\n",
       "    <tr>\n",
       "      <th>0</th>\n",
       "      <td>Checking or savings account</td>\n",
       "      <td>NaN</td>\n",
       "    </tr>\n",
       "    <tr>\n",
       "      <th>1</th>\n",
       "      <td>Money transfer, virtual currency, or money ser...</td>\n",
       "      <td>I was sold access to an event digitally, of wh...</td>\n",
       "    </tr>\n",
       "    <tr>\n",
       "      <th>2</th>\n",
       "      <td>Vehicle loan or lease</td>\n",
       "      <td>NaN</td>\n",
       "    </tr>\n",
       "    <tr>\n",
       "      <th>3</th>\n",
       "      <td>Checking or savings account</td>\n",
       "      <td>NaN</td>\n",
       "    </tr>\n",
       "    <tr>\n",
       "      <th>4</th>\n",
       "      <td>Checking or savings account</td>\n",
       "      <td>NaN</td>\n",
       "    </tr>\n",
       "  </tbody>\n",
       "</table>\n",
       "</div>"
      ],
      "text/plain": [
       "                                             Product  \\\n",
       "0                        Checking or savings account   \n",
       "1  Money transfer, virtual currency, or money ser...   \n",
       "2                              Vehicle loan or lease   \n",
       "3                        Checking or savings account   \n",
       "4                        Checking or savings account   \n",
       "\n",
       "                                           Narrative  \n",
       "0                                                NaN  \n",
       "1  I was sold access to an event digitally, of wh...  \n",
       "2                                                NaN  \n",
       "3                                                NaN  \n",
       "4                                                NaN  "
      ]
     },
     "execution_count": 248,
     "metadata": {},
     "output_type": "execute_result"
    }
   ],
   "source": [
    "import pandas as pd\n",
    "from io import StringIO\n",
    "df = pd.read_csv(\"C:/Users/Mazz Issa/Documents/Kurse/TA/Ex03/ITA_assignment3_data/complaints.csv\")###read the file ####\n",
    "df = df[[\"Product\", \"Consumer complaint narrative\"]] ###keep the columns you need ####\n",
    "df = df.rename(columns={\"Consumer complaint narrative\" : \"Narrative\"}) ###rename columns ####\n",
    "df.head()"
   ]
  },
  {
   "cell_type": "code",
   "execution_count": 249,
   "metadata": {},
   "outputs": [
    {
     "data": {
      "text/html": [
       "<div>\n",
       "<style scoped>\n",
       "    .dataframe tbody tr th:only-of-type {\n",
       "        vertical-align: middle;\n",
       "    }\n",
       "\n",
       "    .dataframe tbody tr th {\n",
       "        vertical-align: top;\n",
       "    }\n",
       "\n",
       "    .dataframe thead th {\n",
       "        text-align: right;\n",
       "    }\n",
       "</style>\n",
       "<table border=\"1\" class=\"dataframe\">\n",
       "  <thead>\n",
       "    <tr style=\"text-align: right;\">\n",
       "      <th></th>\n",
       "      <th>product_id</th>\n",
       "      <th>Product</th>\n",
       "      <th>Narrative</th>\n",
       "    </tr>\n",
       "  </thead>\n",
       "  <tbody>\n",
       "    <tr>\n",
       "      <th>1</th>\n",
       "      <td>5</td>\n",
       "      <td>Money transfer, virtual currency, or money ser...</td>\n",
       "      <td>I was sold access to an event digitally, of wh...</td>\n",
       "    </tr>\n",
       "    <tr>\n",
       "      <th>5</th>\n",
       "      <td>12</td>\n",
       "      <td>Vehicle loan or lease</td>\n",
       "      <td>I LEASED MY CAR ON XX/XX/XXXX AND MADE PAYMENT...</td>\n",
       "    </tr>\n",
       "    <tr>\n",
       "      <th>6</th>\n",
       "      <td>11</td>\n",
       "      <td>Student loan</td>\n",
       "      <td>My original lender was XXXX XXXX XXXX ; this l...</td>\n",
       "    </tr>\n",
       "    <tr>\n",
       "      <th>8</th>\n",
       "      <td>11</td>\n",
       "      <td>Student loan</td>\n",
       "      <td>I was misled by XXXX XXXX  and my degree did n...</td>\n",
       "    </tr>\n",
       "    <tr>\n",
       "      <th>10</th>\n",
       "      <td>12</td>\n",
       "      <td>Vehicle loan or lease</td>\n",
       "      <td>I purchased a vehicle 3 years ago. As of recen...</td>\n",
       "    </tr>\n",
       "  </tbody>\n",
       "</table>\n",
       "</div>"
      ],
      "text/plain": [
       "    product_id                                            Product  \\\n",
       "1            5  Money transfer, virtual currency, or money ser...   \n",
       "5           12                              Vehicle loan or lease   \n",
       "6           11                                       Student loan   \n",
       "8           11                                       Student loan   \n",
       "10          12                              Vehicle loan or lease   \n",
       "\n",
       "                                            Narrative  \n",
       "1   I was sold access to an event digitally, of wh...  \n",
       "5   I LEASED MY CAR ON XX/XX/XXXX AND MADE PAYMENT...  \n",
       "6   My original lender was XXXX XXXX XXXX ; this l...  \n",
       "8   I was misled by XXXX XXXX  and my degree did n...  \n",
       "10  I purchased a vehicle 3 years ago. As of recen...  "
      ]
     },
     "execution_count": 249,
     "metadata": {},
     "output_type": "execute_result"
    }
   ],
   "source": [
    "df= df.dropna() ### remove missing #### \n",
    "df['product_id'] = df.groupby(\"Product\").ngroup() ### integer ids for product ### \n",
    "df = df[[\"product_id\", \"Product\", \"Narrative\"]] ## rearrange the columns order\n",
    "### create the dictionary ####\n",
    "product_to_id = pd.Series(df.product_id.values, index=df.Product).to_dict()\n",
    "product_to_id = dict(sorted(product_to_id.items(), key=lambda item: item[1]))\n",
    "id_to_product = pd.Series(df.Product.values, index=df.product_id).to_dict()\n",
    "id_to_product = dict(sorted(id_to_product.items(), key=lambda item: item[1]))\n",
    "\n",
    "df.head()"
   ]
  },
  {
   "cell_type": "code",
   "execution_count": 159,
   "metadata": {},
   "outputs": [
    {
     "data": {
      "text/plain": [
       "{0: 'Bank account or service',\n",
       " 1: 'Checking or savings account',\n",
       " 2: 'Consumer Loan',\n",
       " 3: 'Credit card',\n",
       " 4: 'Credit reporting',\n",
       " 5: 'Money transfer, virtual currency, or money service',\n",
       " 6: 'Money transfers',\n",
       " 7: 'Other financial service',\n",
       " 8: 'Payday loan',\n",
       " 9: 'Payday loan, title loan, or personal loan',\n",
       " 10: 'Prepaid card',\n",
       " 11: 'Student loan',\n",
       " 12: 'Vehicle loan or lease',\n",
       " 13: 'Virtual currency'}"
      ]
     },
     "execution_count": 159,
     "metadata": {},
     "output_type": "execute_result"
    }
   ],
   "source": [
    "id_to_product"
   ]
  },
  {
   "cell_type": "markdown",
   "metadata": {},
   "source": [
    "Look at the class distribution of the products. It is always a good idea to look at the relative number of instances for each class before performing any classification task. Use the `plot` function from the dataframe to show the number of instances in each class in a histogram."
   ]
  },
  {
   "cell_type": "code",
   "execution_count": 62,
   "metadata": {},
   "outputs": [
    {
     "data": {
      "image/png": "[encoded data removed]",
      "text/plain": [
       "<Figure size 720x576 with 1 Axes>"
      ]
     },
     "metadata": {
      "needs_background": "light"
     },
     "output_type": "display_data"
    }
   ],
   "source": [
    "import matplotlib.pyplot as plt\n",
    "fig = plt.figure(figsize=(10,8))\n",
    "df.groupby(\"Product\").Narrative.count().plot.bar(ylim=0) ### your code ###\n",
    "plt.show()"
   ]
  },
  {
   "cell_type": "markdown",
   "metadata": {},
   "source": [
    "If you have done the exercise correctly you should observe a class imbalance with `credit reporting` having the most complaints. This can result in some difficulties for standard algorithms, making them biased towards the majority class and treating the minority classes as outliers and unimportant. One way to overcome this problem is by using **undersampling** or **oversampling**. However, this is beyond the scope of this assignment."
   ]
  },
  {
   "cell_type": "markdown",
   "metadata": {},
   "source": [
    "### Sub Task 2: Text Representation and Training the Classifier \n",
    "Before performing any classification we need to split our data into train and test sets. Use `sklearn` to save 20 percent of the data for the test and the rest for training. Make sure to input the index of the data frame to retrieve the indices of the test and train. \n"
   ]
  },
  {
   "cell_type": "code",
   "execution_count": 85,
   "metadata": {},
   "outputs": [],
   "source": [
    "from sklearn.model_selection import train_test_split\n",
    "X_train, X_test, y_train, y_test, indices_train, indices_test = \\\n",
    "                    train_test_split(df[\"Narrative\"],df[\"Product\"],df.index, test_size=0.2, random_state=1)### your code ###"
   ]
  },
  {
   "cell_type": "markdown",
   "metadata": {},
   "source": [
    "To perform any sort of classification task, we first need to convert our raw text into some vector representation. Let's use the `TfidfVectorizer` from `sklearn` to convert the `narrative` column into TF-IDF vectors. When transforming the text keep the following in mind:\n",
    "- use the logarithmic form for frequency\n",
    "- remove accents (ASCII) \n",
    "- lowercase all characters \n",
    "- remove `English` stop words \n",
    "- ignore terms that have a document frequency strictly less than 10\n",
    "- smooth IDF weights by adding one to document frequencies \n",
    "- output row should have unit L2 norm\n",
    "- set the encoding to `Latin-1`\n",
    "- extract both uni-grams and bi-grams \n",
    "- build a vocabulary that only considers the top 10.000 features\n",
    "Keep in mind that the vectorizer should be trained **only** on the training data, and the test data should be transformed using the same model."
   ]
  },
  {
   "cell_type": "code",
   "execution_count": 86,
   "metadata": {},
   "outputs": [
    {
     "data": {
      "text/plain": [
       "(132647, 10000)"
      ]
     },
     "execution_count": 86,
     "metadata": {},
     "output_type": "execute_result"
    }
   ],
   "source": [
    "from sklearn.feature_extraction.text import TfidfVectorizer\n",
    "tfidf = TfidfVectorizer(encoding = 'Latin-1', strip_accents='ascii', lowercase=True,stop_words='english',ngram_range=(1,2),\n",
    "                        min_df=10, max_features=10000, smooth_idf = True, norm='l2'  ) ###initlize the model ### \n",
    "\n",
    "X_train = tfidf.fit_transform(X_train) ###transform text  ### \n",
    "X_train.shape # should be (132647, 10000) "
   ]
  },
  {
   "cell_type": "markdown",
   "metadata": {},
   "source": [
    "After the data transformation, we attain the features and labels, to train the classifier. In our case, we use **Naive Bayes Classifier**. \n",
    "- split the features and labels into training and test set (set the random state to 42) \n",
    "- use `MultinomialNB` from sklearn to classify the data "
   ]
  },
  {
   "cell_type": "code",
   "execution_count": 109,
   "metadata": {},
   "outputs": [],
   "source": [
    "from sklearn.naive_bayes import MultinomialNB\n",
    "X_train, X_test, y_train, y_test, indices_train, indices_test = \\\n",
    "                    train_test_split(df[\"Narrative\"],df[\"Product\"],df.index, test_size=0.2, random_state=42)### your code ###\n",
    "tfidf.fit(X_train)\n",
    "X_train, X_test = tfidf.transform(X_train), tfidf.transform(X_test)\n",
    "\n",
    "clf = MultinomialNB()\n",
    "clf.fit(X_train, y_train)\n",
    "\n",
    "prediction = clf.predict(X_test)"
   ]
  },
  {
   "cell_type": "code",
   "execution_count": 126,
   "metadata": {},
   "outputs": [],
   "source": [
    "def error_rate_cal(x,y):\n",
    "    if(len(x) != len(y)):\n",
    "        return \"Error: inputs length does not match!\"\n",
    "    length = len(x)\n",
    "    count = 0\n",
    "    for i, j in zip(x, y):\n",
    "        if i != j:\n",
    "            count += 1\n",
    "    return (count/length)*100"
   ]
  },
  {
   "cell_type": "code",
   "execution_count": 127,
   "metadata": {},
   "outputs": [
    {
     "data": {
      "text/plain": [
       "26.400699595923044"
      ]
     },
     "execution_count": 127,
     "metadata": {},
     "output_type": "execute_result"
    }
   ],
   "source": [
    "error_rate = error_rate_cal(prediction, y_test)\n",
    "error_rate"
   ]
  },
  {
   "cell_type": "markdown",
   "metadata": {},
   "source": [
    "### Sub Task 3: Model Evaluation  "
   ]
  },
  {
   "cell_type": "markdown",
   "metadata": {},
   "source": [
    "We evaluate our model using the held-out test data. We are going to look at the confusion matrix to show the performance of the model. "
   ]
  },
  {
   "cell_type": "code",
   "execution_count": 216,
   "metadata": {},
   "outputs": [],
   "source": [
    "def get_from_dict(labels): ### a helper function to get values from dict\n",
    "    value_list =[]\n",
    "    for i in labels:\n",
    "        value_list.append(product_to_id.get(i))\n",
    "    return value_list"
   ]
  },
  {
   "cell_type": "code",
   "execution_count": 191,
   "metadata": {},
   "outputs": [
    {
     "data": {
      "image/png": "[encoded data removed]",
      "text/plain": [
       "<Figure size 720x720 with 2 Axes>"
      ]
     },
     "metadata": {
      "needs_background": "light"
     },
     "output_type": "display_data"
    }
   ],
   "source": [
    "from sklearn.metrics import confusion_matrix\n",
    "import seaborn as sns\n",
    "y_pred = prediction ### predict on the test set ### \n",
    "labels = df['Product'].unique() ## labels\n",
    "\n",
    "\n",
    "conf = confusion_matrix(y_test, y_pred)### create the confusion matrix ### \n",
    "fig, ax = plt.subplots(figsize=(10,10))\n",
    "sns.heatmap(conf, annot=True, fmt='d',\n",
    "            xticklabels= get_from_dict(y_test.unique()),  ###products names from the dictionary ###,\n",
    "            yticklabels= get_from_dict(np.unique(y_pred)) )### products names from the dictionary###)\n",
    "plt.ylabel('True Label')\n",
    "plt.xlabel('Predicted Label')\n",
    "plt.show()"
   ]
  },
  {
   "cell_type": "markdown",
   "metadata": {},
   "source": [
    "<font color='green'> it seem like out prediction did not assign any data to some labels  ( 0,7,12)</font>\\\n",
    "<font color='green'> i ploted another graph below to show that </font>"
   ]
  },
  {
   "cell_type": "code",
   "execution_count": 218,
   "metadata": {},
   "outputs": [
    {
     "data": {
      "image/png": "[encoded data removed]",
      "text/plain": [
       "<Figure size 432x288 with 1 Axes>"
      ]
     },
     "metadata": {
      "needs_background": "light"
     },
     "output_type": "display_data"
    }
   ],
   "source": [
    "unique_pred = np.unique(y_pred)\n",
    "pred_counter = Counter(y_pred)\n",
    "plt.bar(unique_pred, pred_counter.values())\n",
    "plt.xticks(unique_pred, rotation=90)\n",
    "plt.show()"
   ]
  },
  {
   "cell_type": "markdown",
   "metadata": {},
   "source": [
    "The majority of the predictions end up on the diagonal (predicted label = actual label). The diagonal shows the correct classified classes. However, there are several misclassifications, specifically `Checking or savings account` is often confused with `Bank account or service`. Let's take a look at why this happens. For this, we look at 5 misclassified examples."
   ]
  },
  {
   "cell_type": "code",
   "execution_count": 278,
   "metadata": {},
   "outputs": [
    {
     "data": {
      "text/html": [
       "<div>\n",
       "<style scoped>\n",
       "    .dataframe tbody tr th:only-of-type {\n",
       "        vertical-align: middle;\n",
       "    }\n",
       "\n",
       "    .dataframe tbody tr th {\n",
       "        vertical-align: top;\n",
       "    }\n",
       "\n",
       "    .dataframe thead th {\n",
       "        text-align: right;\n",
       "    }\n",
       "</style>\n",
       "<table border=\"1\" class=\"dataframe\">\n",
       "  <thead>\n",
       "    <tr style=\"text-align: right;\">\n",
       "      <th></th>\n",
       "      <th>product_id</th>\n",
       "      <th>Product</th>\n",
       "      <th>Narrative</th>\n",
       "    </tr>\n",
       "  </thead>\n",
       "  <tbody>\n",
       "    <tr>\n",
       "      <th>57572</th>\n",
       "      <td>0</td>\n",
       "      <td>Bank account or service</td>\n",
       "      <td>I 'm currently on XXXX somy funds are limited....</td>\n",
       "    </tr>\n",
       "    <tr>\n",
       "      <th>69521</th>\n",
       "      <td>0</td>\n",
       "      <td>Bank account or service</td>\n",
       "      <td>I put in several request for Documents used in...</td>\n",
       "    </tr>\n",
       "    <tr>\n",
       "      <th>83651</th>\n",
       "      <td>0</td>\n",
       "      <td>Bank account or service</td>\n",
       "      <td>On XXXX XXXX, Wells Fargo allowed this unautho...</td>\n",
       "    </tr>\n",
       "    <tr>\n",
       "      <th>83661</th>\n",
       "      <td>0</td>\n",
       "      <td>Bank account or service</td>\n",
       "      <td>On XXXX XXXX, XXXX I have contacted Bank of Am...</td>\n",
       "    </tr>\n",
       "    <tr>\n",
       "      <th>83780</th>\n",
       "      <td>0</td>\n",
       "      <td>Bank account or service</td>\n",
       "      <td>Over a year ago I closed acct for XXXX with Ne...</td>\n",
       "    </tr>\n",
       "    <tr>\n",
       "      <th>...</th>\n",
       "      <td>...</td>\n",
       "      <td>...</td>\n",
       "      <td>...</td>\n",
       "    </tr>\n",
       "    <tr>\n",
       "      <th>552999</th>\n",
       "      <td>0</td>\n",
       "      <td>Bank account or service</td>\n",
       "      <td>I 've been a customer of TD Bank NA ( formally...</td>\n",
       "    </tr>\n",
       "    <tr>\n",
       "      <th>553370</th>\n",
       "      <td>0</td>\n",
       "      <td>Bank account or service</td>\n",
       "      <td>Good Morning, I was not sure you handled these...</td>\n",
       "    </tr>\n",
       "    <tr>\n",
       "      <th>558324</th>\n",
       "      <td>0</td>\n",
       "      <td>Bank account or service</td>\n",
       "      <td>on XXXX, i used my Direct Express Debit card (...</td>\n",
       "    </tr>\n",
       "    <tr>\n",
       "      <th>559326</th>\n",
       "      <td>0</td>\n",
       "      <td>Bank account or service</td>\n",
       "      <td>I recently moved back to XXXX to start a new j...</td>\n",
       "    </tr>\n",
       "    <tr>\n",
       "      <th>559356</th>\n",
       "      <td>0</td>\n",
       "      <td>Bank account or service</td>\n",
       "      <td>Received statements showing {$3000.00} in Savi...</td>\n",
       "    </tr>\n",
       "  </tbody>\n",
       "</table>\n",
       "<p>1545 rows × 3 columns</p>\n",
       "</div>"
      ],
      "text/plain": [
       "        product_id                  Product  \\\n",
       "57572            0  Bank account or service   \n",
       "69521            0  Bank account or service   \n",
       "83651            0  Bank account or service   \n",
       "83661            0  Bank account or service   \n",
       "83780            0  Bank account or service   \n",
       "...            ...                      ...   \n",
       "552999           0  Bank account or service   \n",
       "553370           0  Bank account or service   \n",
       "558324           0  Bank account or service   \n",
       "559326           0  Bank account or service   \n",
       "559356           0  Bank account or service   \n",
       "\n",
       "                                                Narrative  \n",
       "57572   I 'm currently on XXXX somy funds are limited....  \n",
       "69521   I put in several request for Documents used in...  \n",
       "83651   On XXXX XXXX, Wells Fargo allowed this unautho...  \n",
       "83661   On XXXX XXXX, XXXX I have contacted Bank of Am...  \n",
       "83780   Over a year ago I closed acct for XXXX with Ne...  \n",
       "...                                                   ...  \n",
       "552999  I 've been a customer of TD Bank NA ( formally...  \n",
       "553370  Good Morning, I was not sure you handled these...  \n",
       "558324  on XXXX, i used my Direct Express Debit card (...  \n",
       "559326  I recently moved back to XXXX to start a new j...  \n",
       "559356  Received statements showing {$3000.00} in Savi...  \n",
       "\n",
       "[1545 rows x 3 columns]"
      ]
     },
     "execution_count": 278,
     "metadata": {},
     "output_type": "execute_result"
    }
   ],
   "source": [
    "fofo = df[df['Product'] == actual]\n",
    "fofo ## df.shape = 14885\n",
    "fofo[fofo.index.isin(dd)] ## shape"
   ]
  },
  {
   "cell_type": "code",
   "execution_count": 285,
   "metadata": {},
   "outputs": [
    {
     "data": {
      "text/html": [
       "<div>\n",
       "<style scoped>\n",
       "    .dataframe tbody tr th:only-of-type {\n",
       "        vertical-align: middle;\n",
       "    }\n",
       "\n",
       "    .dataframe tbody tr th {\n",
       "        vertical-align: top;\n",
       "    }\n",
       "\n",
       "    .dataframe thead th {\n",
       "        text-align: right;\n",
       "    }\n",
       "</style>\n",
       "<table border=\"1\" class=\"dataframe\">\n",
       "  <thead>\n",
       "    <tr style=\"text-align: right;\">\n",
       "      <th></th>\n",
       "      <th>product_id</th>\n",
       "      <th>Product</th>\n",
       "      <th>Narrative</th>\n",
       "    </tr>\n",
       "  </thead>\n",
       "  <tbody>\n",
       "    <tr>\n",
       "      <th>57572</th>\n",
       "      <td>0</td>\n",
       "      <td>Bank account or service</td>\n",
       "      <td>I 'm currently on XXXX somy funds are limited....</td>\n",
       "    </tr>\n",
       "    <tr>\n",
       "      <th>69521</th>\n",
       "      <td>0</td>\n",
       "      <td>Bank account or service</td>\n",
       "      <td>I put in several request for Documents used in...</td>\n",
       "    </tr>\n",
       "    <tr>\n",
       "      <th>83651</th>\n",
       "      <td>0</td>\n",
       "      <td>Bank account or service</td>\n",
       "      <td>On XXXX XXXX, Wells Fargo allowed this unautho...</td>\n",
       "    </tr>\n",
       "    <tr>\n",
       "      <th>83661</th>\n",
       "      <td>0</td>\n",
       "      <td>Bank account or service</td>\n",
       "      <td>On XXXX XXXX, XXXX I have contacted Bank of Am...</td>\n",
       "    </tr>\n",
       "    <tr>\n",
       "      <th>83780</th>\n",
       "      <td>0</td>\n",
       "      <td>Bank account or service</td>\n",
       "      <td>Over a year ago I closed acct for XXXX with Ne...</td>\n",
       "    </tr>\n",
       "    <tr>\n",
       "      <th>...</th>\n",
       "      <td>...</td>\n",
       "      <td>...</td>\n",
       "      <td>...</td>\n",
       "    </tr>\n",
       "    <tr>\n",
       "      <th>552999</th>\n",
       "      <td>0</td>\n",
       "      <td>Bank account or service</td>\n",
       "      <td>I 've been a customer of TD Bank NA ( formally...</td>\n",
       "    </tr>\n",
       "    <tr>\n",
       "      <th>553370</th>\n",
       "      <td>0</td>\n",
       "      <td>Bank account or service</td>\n",
       "      <td>Good Morning, I was not sure you handled these...</td>\n",
       "    </tr>\n",
       "    <tr>\n",
       "      <th>558324</th>\n",
       "      <td>0</td>\n",
       "      <td>Bank account or service</td>\n",
       "      <td>on XXXX, i used my Direct Express Debit card (...</td>\n",
       "    </tr>\n",
       "    <tr>\n",
       "      <th>559326</th>\n",
       "      <td>0</td>\n",
       "      <td>Bank account or service</td>\n",
       "      <td>I recently moved back to XXXX to start a new j...</td>\n",
       "    </tr>\n",
       "    <tr>\n",
       "      <th>559356</th>\n",
       "      <td>0</td>\n",
       "      <td>Bank account or service</td>\n",
       "      <td>Received statements showing {$3000.00} in Savi...</td>\n",
       "    </tr>\n",
       "  </tbody>\n",
       "</table>\n",
       "<p>1545 rows × 3 columns</p>\n",
       "</div>"
      ],
      "text/plain": [
       "        product_id                  Product  \\\n",
       "57572            0  Bank account or service   \n",
       "69521            0  Bank account or service   \n",
       "83651            0  Bank account or service   \n",
       "83661            0  Bank account or service   \n",
       "83780            0  Bank account or service   \n",
       "...            ...                      ...   \n",
       "552999           0  Bank account or service   \n",
       "553370           0  Bank account or service   \n",
       "558324           0  Bank account or service   \n",
       "559326           0  Bank account or service   \n",
       "559356           0  Bank account or service   \n",
       "\n",
       "                                                Narrative  \n",
       "57572   I 'm currently on XXXX somy funds are limited....  \n",
       "69521   I put in several request for Documents used in...  \n",
       "83651   On XXXX XXXX, Wells Fargo allowed this unautho...  \n",
       "83661   On XXXX XXXX, XXXX I have contacted Bank of Am...  \n",
       "83780   Over a year ago I closed acct for XXXX with Ne...  \n",
       "...                                                   ...  \n",
       "552999  I 've been a customer of TD Bank NA ( formally...  \n",
       "553370  Good Morning, I was not sure you handled these...  \n",
       "558324  on XXXX, i used my Direct Express Debit card (...  \n",
       "559326  I recently moved back to XXXX to start a new j...  \n",
       "559356  Received statements showing {$3000.00} in Savi...  \n",
       "\n",
       "[1545 rows x 3 columns]"
      ]
     },
     "execution_count": 285,
     "metadata": {},
     "output_type": "execute_result"
    }
   ],
   "source": [
    "actual='Bank account or service'\n",
    "predicted= 'Checking or savings account'\n",
    "### print only the top 10 \n",
    "#df ###choose the ones that have an actual label of Bank account or service and the predicted label of Checking or savings account ###)\n",
    "misclassified = df[(df['Product'] == actual) | (df['Product'] == predicted)] ## from df get all rwo where labels== actual and predicted \n",
    "misclassified ## df.shape = 41901 \n",
    "\n",
    "indices_of_predicted = indices_test[y_pred == predicted] ## list of indices where y_pred == predicted\n",
    "\n",
    "misclassified = misclassified[misclassified.index.isin(indices_of_predicted)] ## shape 6292\n",
    "misclassified[misclassified['product_id'] == 0] ## shape 1454"
   ]
  },
  {
   "cell_type": "markdown",
   "metadata": {},
   "source": [
    "<font color='green'> the reslut above shows that 1545 data belongs to \"Bank account or service\" </font>\\\n",
    "<font color='green'> was classified as \"Checking or saving account\"  </font>\n",
    "- test_labels_count = Counter(y_test)        \n",
    " the counter above shows that the total count of  \"Bank account or service\" ist 2958,\\\n",
    "and 1545 of them are classifed as \"Checking or saving account\" ( which is more than 50%)\n"
   ]
  },
  {
   "cell_type": "markdown",
   "metadata": {},
   "source": [
    "As you can see, some of the misclassified complaints are complaints that are not easy to distinguish. "
   ]
  },
  {
   "cell_type": "markdown",
   "metadata": {},
   "source": [
    "## Task 3: Auto-Complete ( 2 + 5 + 4 = 11 Points ) \n",
    "Let's get even more practical! In this problem set, you will build your own auto-completion system that you see every day while using search engines.\n",
    "\n",
    "[google]: https://www.thedad.com/wp-content/uploads/2018/05/screen-shot-2018-05-12-at-2-01-56-pm.png \"google auto complete\"\n",
    "\n",
    "![google]\n",
    "By the end of this assignment, you will develop a simple prototype of such a system using n-gram language models. At the heart of the system is a language model that assigns the probability to a sequence of words. We take advantage of this probability calculation to predict the next word. \n",
    "\n",
    "The problem set contains 3 main parts:\n",
    "\n",
    "1. Load and preprocess data (tokenize and split into train and test)\n",
    "2. Develop n-gram based language models by estimating the conditional probability of the next word.\n",
    "3. Evaluate the model by computing the perplexity score.\n"
   ]
  },
  {
   "cell_type": "markdown",
   "metadata": {},
   "source": [
    "### Sub Task 1: Load and Preprocess Data \n",
    "We use a subset of English tweets to train our model. Run the cell below to load the data and observe a few lines of it. Notice that tweets are saved in a text file, where tweets are separated by `\\n`"
   ]
  },
  {
   "cell_type": "code",
   "execution_count": null,
   "metadata": {},
   "outputs": [],
   "source": [
    "import math\n",
    "import random\n",
    "import numpy as np\n",
    "import spacy\n",
    "nlp = spacy.load(\"en_core_web_sm\", disable=[\"tagger\", \"parser\",\"ner\"])\n",
    "\n",
    "\n",
    "with open(\"twitter.txt\", \"r\") as f:\n",
    "    data = f.read()\n",
    "print(\"First 500 characters of the data:\")\n",
    "display(data[0:500])\n",
    "print(\"-------\")"
   ]
  },
  {
   "cell_type": "markdown",
   "metadata": {},
   "source": [
    "Now we need to separate the tweets and split them into train and test set. Apply the following pre-processing steps:\n",
    "\n",
    "1. Split data into sentences using \"\\n\" as the delimiter and remove the leading and trailing spaces (drop empty sentences)\n",
    "2. Tokenize the sentences into words using SpaCy and lowercase them. (notice that we do not remove stop words or punctuations.) \n",
    "3. Divide the sentences into 80 percent training and 20 percent test set. No validation set is required. Although in a real-world application it is best to set aside part of the data for hyperparameter tuning.\n",
    "4. To limit the vocabulary and remove potential spelling mistakes, make a vocabulary of the words that appear at least 2 times. The rest of the words will be replaced by the `<unk>` symbol. This is a crucial step since if your model encounters a word that it never saw during training, it won't have an input word that helps determining the next word for suggestion. We use the `<unk>` word for **out of Vocabulary (OOV)** words. Keep in mind that we built the vocabulary on the training data only."
   ]
  },
  {
   "cell_type": "code",
   "execution_count": null,
   "metadata": {},
   "outputs": [],
   "source": [
    "sentences = #split\n",
    "sentences = #remove spaces and drop empty sentences "
   ]
  },
  {
   "cell_type": "code",
   "execution_count": null,
   "metadata": {},
   "outputs": [],
   "source": [
    "tokenized_corpus = []# list of list of the tokens in a sentence \n",
    "##Your Code###     "
   ]
  },
  {
   "cell_type": "code",
   "execution_count": null,
   "metadata": {},
   "outputs": [],
   "source": [
    "from random import Random\n",
    "Random(4).shuffle(tokenized_corpus)\n",
    "\n",
    "train = ##Your Code###     \n",
    "test = ##Your Code###     "
   ]
  },
  {
   "cell_type": "code",
   "execution_count": null,
   "metadata": {},
   "outputs": [],
   "source": [
    "from collections import Counter\n",
    "flatten_corpus = ### Flatten the train corpus ### \n",
    "word_counts = ### count the number of each token ### \n",
    "vocab = []\n",
    "\n",
    "### keep only the ones with frequency bigger than 2 ### \n",
    "print(len(vocab)) ### should be 16930 ### \n",
    "train_replaced = []\n",
    "test_replaced = []\n",
    "for sentence in train:\n",
    "    ### adjust the sentence to contain the word in the vocabulary and <unk> for the rest #### \n",
    "for sentence in test:"
   ]
  },
  {
   "cell_type": "markdown",
   "metadata": {},
   "source": [
    "### Sub Task 2: N-gram Based Language Model: \n",
    "In this section, you will develop the n-grams language model. We assume that the probability of the next word depends only on the previous n-gram or previous n words. We compute this probability by counting the occurrences in the corpus.\n",
    "The conditional probability for the word at position 't' in the sentence, given that the words preceding it are $w_{t-1}, w_{t-2} \\cdots w_{t-n}$ can be estimated as follows:\n",
    "\n",
    "$$ \\hat{P}(w_t | w_{t-1}\\dots w_{t-n}) = \\frac{C(w_{t-1}\\dots w_{t-n}, w_n)}{C(w_{t-1}\\dots w_{t-n})}  $$\n",
    "\n",
    "The numerator is the number of times word 't' appears after the n-gram, and the denominator is the number of times the n-gram occurs in the corpus, where $C(\\cdots)$ is a count function. Later, we add k-smoothing to avoid errors when any counts are zero."
   ]
  },
  {
   "cell_type": "markdown",
   "metadata": {},
   "source": [
    "To tackle the problem of probability estimation we divide the problem into 3 parts. In the following you will: \n",
    "1. Implement a function that computes the counts of n-grams for an arbitrary number n.\n",
    "2. Estimate the probability of a word given the prior n-words using the n-gram counts.\n",
    "3. Calculate probabilities for all possible words.\n",
    "4. Create a probability matrix. \n",
    "The steps are detailed below. "
   ]
  },
  {
   "cell_type": "markdown",
   "metadata": {},
   "source": [
    "Let's start by implementing a function that computes the counts of n-grams for an arbitrary number n.\n",
    "- Prepend necessary starting markers `<s>` to indicate the beginning of the sentence. In the case of a bi-gram model, you need to prepend two start tokens `<s><s>` to be able to predict the first word. \"hello world\"-> \"`<s><s>`hello world\".\n",
    "- Append an end token `<e>` so that the model can predict when to finish a sentence.\n",
    "- Create a dictionary to store all the n_gram counts."
   ]
  },
  {
   "cell_type": "code",
   "execution_count": null,
   "metadata": {},
   "outputs": [],
   "source": [
    "def n_grams_counts(corpus, n):\n",
    "    \"\"\"\n",
    "    Count all n-grams in the corpus given the parameter n \n",
    "    \n",
    "    data: List of lists of words (your tokenized corpus)\n",
    "    n: n in the n-gram\n",
    "    \n",
    "    Returns: A dictionary that maps a tuple of n words to its frequency\n",
    "    \"\"\"\n",
    "    start_token='<s>'\n",
    "    end_token = '<e>'\n",
    "    n_grams = defaultdict(int)\n",
    "    for sentence in corpus: \n",
    "        sentence = ### add start and end token ###\n",
    "        # convert list to tuple so it can be used a the key in the dictionary \n",
    "        sentence = tuple(sentence)\n",
    "        \n",
    "        ###iterate over the n-grams in the sentence, you can use the range() function, and increament the counts in the\n",
    "        ## n_grams dictionary, where the key is the n_gram and the value is count \n",
    "    return n_grams"
   ]
  },
  {
   "cell_type": "markdown",
   "metadata": {},
   "source": [
    "The next step is to estimate the probability of a word given the prior n words using the n-gram counts, based on the formula given at the beginning of this task. To deal with the problem of zero division we add k-smoothing. K-smoothing adds a positive constant $k$ to each numerator and $k \\times |vocabulary size|$ in the denominator. Below we will define a function that takes in a dictionary `n_gram_cnt`, where the key is the n-gram, and the value is the count of that n-gram, plus a dictionary for `plus_current_gram_cnt`, which you'll use to find the count for the previous n-gram plus the current word. Notice that these dictionaries are computed using the previous function `n_grams_counts`.\n"
   ]
  },
  {
   "cell_type": "code",
   "execution_count": null,
   "metadata": {},
   "outputs": [],
   "source": [
    "def probability(word, prev_n_gram, \n",
    "                         n_gram_cnts, n_plus1_gram_cnts, vocab_size):\n",
    "    \"\"\"\n",
    "    Estimate the probabilities of a next word using the n-gram counts with k-smoothing\n",
    "    word: next word\n",
    "    prev_n_gram: previous n gram\n",
    "    n_gram_cnts: dictionary of counts of n-grams\n",
    "    plus_current_gram_cnts: dictionary of counts of (n+1)-grams -> current word+ n-gram = (n+1)-gram\n",
    "    vocab_size: number of words in the vocabulary\n",
    "    \n",
    "    Returns: A probability\n",
    "    \"\"\"\n",
    "    k=1.0\n",
    "    prev_n_gram = tuple(prev_n_gram)\n",
    "    \n",
    "    prev_n_gram_cnt =  # get the previous n-gram count from the dictionary \n",
    "    denominator = # denominator with the previous n-gram count and k-smoothing\n",
    "    n_plus1_gram =  # add the current word to the n-gram \n",
    "    n_plus1_gram_cnt =  # get the current n-gram count using the dictionary\n",
    "    numerator = #calculate the numerator with k-smoothing\n",
    "    prob =\n",
    "    \n",
    "    return prob"
   ]
  },
  {
   "cell_type": "markdown",
   "metadata": {},
   "source": [
    "Let's use the functions we have defined to calculate probabilities for all possible words.\n"
   ]
  },
  {
   "cell_type": "code",
   "execution_count": null,
   "metadata": {},
   "outputs": [],
   "source": [
    "def probabilities(prev_n_gram, n_gram_cnts, plus_current_gram_cnts, vocab):\n",
    "    \"\"\"\n",
    "    Estimate the probabilities for all the words in the vocabulary given the previous n-gram \n",
    "    prev_n_gram: previous n-gram\n",
    "    n_gram_cnts: dictionary of counts of n-grams\n",
    "    plus_current_gram_cntsplus_current_gram_cnt: dictionary of counts of (n+1)-grams -> current word+ n-gram = (n+1)-gram\n",
    "    vocab: List of words\n",
    "    \n",
    "    Returns: A dictionary mapping from next words to the probability.\n",
    "    \"\"\"\n",
    "    prev_n_gram = tuple(prev_n_gram)\n",
    "    \n",
    "    vocab =  # add <e> <unk> to the vocabulary\n",
    "    vocabulary_size = #compute the size \n",
    "    \n",
    "    probabilities = {}\n",
    "    for word in vocab:\n",
    "        ### compute the probability \n",
    "    return probabilities"
   ]
  },
  {
   "cell_type": "code",
   "execution_count": null,
   "metadata": {},
   "outputs": [],
   "source": [
    "# Predict the probability of the all possible words after the unigram \"the\"\n",
    "sentences = [['the', 'moon', 'and', 'stars', 'are','shining','bright'],\n",
    "             ['the', 'moon', 'is', 'shinnig','tonight'],\n",
    "             ['mars','and' ,'moon', 'are', 'plants'],\n",
    "             ['the' ,'moon', 'is','a', 'plant']]\n",
    "unique_words = list(set(sentences[0] + sentences[1] + sentences[2]+ sentences[3]))\n",
    "unigram_counts = n_grams_counts(sentences, 1)\n",
    "bigram_counts = n_grams_counts(sentences, 2)\n",
    "print(\"The word 'moon' should have the highest probability, if it is not the case, re-visit your previous functions.\")\n",
    "probabilities([\"the\"], unigram_counts, bigram_counts, unique_words)"
   ]
  },
  {
   "cell_type": "markdown",
   "metadata": {},
   "source": [
    "## Sub Task 3: Evaluation "
   ]
  },
  {
   "cell_type": "markdown",
   "metadata": {},
   "source": [
    "In this section we use the perplexity score to evaluate your model on the test set.\n",
    "the perplexity score of the test set on an n-gram model, is denoted as follows: \n",
    "\n",
    "$$ PP(W) =\\sqrt[N]{ \\prod_{t=n}^{N-1} \\frac{1}{P(w_t | w_{t-n} \\cdots w_{t-1})} } $$\n",
    "- where $N$ is the length of the sentence. ($N-1$ is used because in the code we start from the index 0).\n",
    "- $n$ is the number of words in the n-gram.\n",
    "\n",
    "Notice that we have already computed this probability. \n",
    "\n",
    "The higher the probabilities are, the lower the perplexity will be. "
   ]
  },
  {
   "cell_type": "code",
   "execution_count": null,
   "metadata": {},
   "outputs": [],
   "source": [
    "def perplexity(sentence, n_gram_cnts, plus_current_gram_cnts, vocab_size, k=1.0):\n",
    "    \"\"\"\n",
    "    Calculate perplexity for a list of sentences\n",
    "    sentence: List of strings\n",
    "    n_gram_cnts: dictionary of counts of n-grams\n",
    "    plus_current_gram_cnts: dictionary of counts of (n+1)-grams -> current word+ n-gram = (n+1)-gram\n",
    "    vocab_size: number of unique words in the vocabulary\n",
    "    k: positive smoothing constant\n",
    "    \n",
    "    Returns: Perplexity score for a single sentence \n",
    "    \"\"\"\n",
    "    \n",
    "    n =  # get the number 'n' in  n-gram  from n_gram_cnts  \n",
    "    \n",
    "    sentence =  # prepend <s> and append <e>\n",
    "    sentence = tuple(sentence)\n",
    "    N =# length of sentence \n",
    "    \n",
    "   \n",
    "    product_pi = 1.0 \n",
    "    \n",
    "    ### Compute the product of probabilites ###\n",
    "    \n",
    "    for t in range(n, N): \n",
    "        n_gram =# get the n-gram before the predicted word (n-gram before t )\n",
    "        word =  # get the word to be predicted (position t)\n",
    "        prob = probability(\n",
    "        product_pi *= # Update the product of the probabilities\n",
    "    \n",
    "    perplexity = product_pi**(1/float(N)) # Take the Nth root of the product\n",
    "    return perplexity"
   ]
  },
  {
   "cell_type": "markdown",
   "metadata": {},
   "source": [
    "Use the function to find the perplexity of a bi-gram model on the first instance of training and test set."
   ]
  },
  {
   "cell_type": "code",
   "execution_count": null,
   "metadata": {},
   "outputs": [],
   "source": [
    "bigram_counts = ### your code ###\n",
    "trigram_counts = ### your code ###\n",
    "\n",
    "perplexity_train = perplexity(train_replaced[0],bigram_counts, trigram_counts,len(vocab))\n",
    "print(f\"Perplexity for first train sample: {perplexity_train:.4f}\")\n",
    "\n",
    "perplexity_test = perplexity(test_replaced[0],bigram_counts, trigram_counts,len(vocab))\n",
    "print(f\"Perplexity for test sample: {perplexity_test:.4f}\")# the preprexity for the train sample should be much lower "
   ]
  },
  {
   "cell_type": "markdown",
   "metadata": {},
   "source": [
    "Finally, let's use the model we created to generate an auto-complete system that makes suggestions."
   ]
  },
  {
   "cell_type": "code",
   "execution_count": null,
   "metadata": {},
   "outputs": [],
   "source": [
    "def suggest_a_word(up_to_here, n_gram_cnts, plus_current_gram_cnts, vocab , start_with=None):\n",
    "    \"\"\"\n",
    "    Get suggestion for the next word\n",
    "    up_to_here: the sentence so far, must have length > n \n",
    "    n_gram_cnts: dictionary of counts of n-grams\n",
    "    plus_current_gram_cnts: dictionary of counts of (n+1)-grams -> current word+ n-gram = (n+1)-gram\n",
    "    vocab: List of words\n",
    "    start_with: If not None, specifies the first few letters of the next word\n",
    "        \n",
    "    Returns: (most likely next word,  probability) \n",
    "    \"\"\"    \n",
    "    n = len(list(n_gram_cnts.keys())[0]) # get the number 'n' in  n-gram  from n_gram_cnts     \n",
    "    previous_n_gram = previous_tokens[-n:] # get the last 'n' words as the previous n-gram from the input sentence\n",
    "\n",
    "    \n",
    "    probabs = # Estimate the probabilities for each word in the vocabulary\n",
    "    \n",
    "    probabs = \n",
    "    ### sort the probability for higher to lower and return the highest probability word,probability tuple\n",
    "    #if start_with is specified then return the highest probability word that starts with that specific character \n"
   ]
  },
  {
   "cell_type": "markdown",
   "metadata": {},
   "source": [
    "Test your model based on the bi-gram model created on the training corpus."
   ]
  },
  {
   "cell_type": "code",
   "execution_count": null,
   "metadata": {},
   "outputs": [],
   "source": [
    "previous_tokens=['i','like']\n",
    "start_with='g'\n",
    "suggestion = suggest_a_word(previous_tokens, bigram_counts,trigram_counts, list(vocab),start_with=start_with)\n",
    "suggestion"
   ]
  },
  {
   "cell_type": "code",
   "execution_count": null,
   "metadata": {},
   "outputs": [],
   "source": [
    "previous_tokens=['i','like','to']\n",
    "start_with=None\n",
    "suggestion = suggest_a_word(previous_tokens, bigram_counts,trigram_counts, list(vocab),start_with=start_with)\n",
    "suggestion"
   ]
  },
  {
   "cell_type": "code",
   "execution_count": null,
   "metadata": {},
   "outputs": [],
   "source": [
    "previous_tokens=[\"hello\", \"my\", \"name\", \"is\"]\n",
    "start_with=None\n",
    "suggestion = suggest_a_word(previous_tokens, bigram_counts,trigram_counts, list(vocab),start_with=start_with)\n",
    "suggestion"
   ]
  },
  {
   "cell_type": "code",
   "execution_count": null,
   "metadata": {},
   "outputs": [],
   "source": [
    "previous_tokens=[\"hello\", \"my\", \"name\", \"is\"]\n",
    "start_with='sa'\n",
    "suggestion = suggest_a_word(previous_tokens, bigram_counts,trigram_counts, list(vocab),start_with=start_with)\n",
    "suggestion"
   ]
  },
  {
   "cell_type": "markdown",
   "metadata": {},
   "source": [
    "## Task 4: Theoretical Questions ( 1 +1 +1 +1 + 1 = 5 Points) \n"
   ]
  },
  {
   "cell_type": "markdown",
   "metadata": {},
   "source": [
    "Please answer the following questions in the notebook cells using markdown, try to be percise and short. "
   ]
  },
  {
   "cell_type": "markdown",
   "metadata": {},
   "source": [
    "### Sub Task 1: What is the goal of Word2Veec? / What is a word embedding?"
   ]
  },
  {
   "cell_type": "markdown",
   "metadata": {},
   "source": []
  },
  {
   "cell_type": "markdown",
   "metadata": {},
   "source": [
    "<<< your answer >>>"
   ]
  },
  {
   "cell_type": "markdown",
   "metadata": {},
   "source": [
    "### Sub Task 2: For gradient descent, what advantage has a decaying learning rate?"
   ]
  },
  {
   "cell_type": "markdown",
   "metadata": {},
   "source": []
  },
  {
   "cell_type": "markdown",
   "metadata": {},
   "source": [
    "<<< your answer >>>"
   ]
  },
  {
   "cell_type": "markdown",
   "metadata": {},
   "source": [
    "### Sub Task 3: Why is it easier to maximize the log likelihood instead of the \"normal\" likelihood?"
   ]
  },
  {
   "cell_type": "markdown",
   "metadata": {},
   "source": []
  },
  {
   "cell_type": "markdown",
   "metadata": {},
   "source": [
    "<<< your answer >>>"
   ]
  },
  {
   "cell_type": "markdown",
   "metadata": {},
   "source": [
    "### Sub Task 4: Word2Vec trains a complete neural network. How do we extract word embeddings from this network?"
   ]
  },
  {
   "cell_type": "markdown",
   "metadata": {},
   "source": []
  },
  {
   "cell_type": "markdown",
   "metadata": {},
   "source": [
    "<<< your answer >>>\n"
   ]
  },
  {
   "cell_type": "markdown",
   "metadata": {},
   "source": [
    "### Sub Task 5: What advantages has fastText over Word2Vec? "
   ]
  },
  {
   "cell_type": "markdown",
   "metadata": {},
   "source": []
  },
  {
   "cell_type": "markdown",
   "metadata": {},
   "source": [
    "<<< your answer >>>\n"
   ]
  },
  {
   "cell_type": "code",
   "execution_count": null,
   "metadata": {},
   "outputs": [],
   "source": []
  }
 ],
 "metadata": {
  "kernelspec": {
   "display_name": "Python 3",
   "language": "python",
   "name": "python3"
  },
  "language_info": {
   "codemirror_mode": {
    "name": "ipython",
    "version": 3
   },
   "file_extension": ".py",
   "mimetype": "text/x-python",
   "name": "python",
   "nbconvert_exporter": "python",
   "pygments_lexer": "ipython3",
   "version": "3.7.6"
  }
 },
 "nbformat": 4,
 "nbformat_minor": 2
}
