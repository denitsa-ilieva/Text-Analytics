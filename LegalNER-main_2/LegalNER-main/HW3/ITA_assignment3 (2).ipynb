{
  "nbformat": 4,
  "nbformat_minor": 0,
  "metadata": {
    "kernelspec": {
      "display_name": "Python 3",
      "language": "python",
      "name": "python3"
    },
    "language_info": {
      "codemirror_mode": {
        "name": "ipython",
        "version": 3
      },
      "file_extension": ".py",
      "mimetype": "text/x-python",
      "name": "python",
      "nbconvert_exporter": "python",
      "pygments_lexer": "ipython3",
      "version": "3.7.4"
    },
    "colab": {
      "name": "ITA_assignment3.ipynb",
      "provenance": [],
      "toc_visible": true
    }
  },
  "cells": [
    {
      "cell_type": "markdown",
      "metadata": {
        "id": "Y2jsWFAvod-k"
      },
      "source": [
        ""
      ]
    },
    {
      "cell_type": "markdown",
      "metadata": {
        "id": "A1z4wd8cjEat"
      },
      "source": [
        "# Assignment 3 : \"Word Vectors and Classification\"\n",
        "Due: Monday 2pm, Feburary 1, 2021, via Moodle"
      ]
    },
    {
      "cell_type": "markdown",
      "metadata": {
        "id": "6CB0v8iOjEaw"
      },
      "source": [
        "### Submission guidelines\n",
        "\n",
        "- Solutions need to be uploaded as a single Jupyter notebook. You will find many provided codes in the notebook, your task is to fill in the missing cells.\n",
        "- For the written solution, use LaTeX in markdown inside the same notebook. Do *not* hand in a separate file for it.\n",
        "- Download the .zip file containing the dataset but do *not* upload it with your solution.\n",
        "- It is sufficient if one person per group uploads the solution to Moodle, but make sure that the names of\n",
        "all team members are given in the notebook."
      ]
    },
    {
      "cell_type": "markdown",
      "metadata": {
        "id": "H2Qs-ARQjEax"
      },
      "source": [
        "--------"
      ]
    },
    {
      "cell_type": "markdown",
      "metadata": {
        "id": "NaBQC0CsjEax"
      },
      "source": [
        "## Task 1: F.R.I.E.N.D.S and  Word2Vec ( 3+ 2+ 3 = 8 points) "
      ]
    },
    {
      "cell_type": "markdown",
      "metadata": {
        "id": "ugNLGimyjEax"
      },
      "source": [
        "Friends is an American television sitcom, created by David Crane and Marta Kauffman. In this assignment we will use the transcripts from the show to train a Word2Vec model using the Gensim library."
      ]
    },
    {
      "cell_type": "markdown",
      "metadata": {
        "id": "ipaHCJUrjEay"
      },
      "source": [
        "### Subtask 1: Pre-processing \n",
        "We start by loading and cleaning the data. Download the dataset for this assignment and load the `friends_quotes.csv` using pandas. The dataset is from Kaggle (https://www.kaggle.com/ryanstonebraker/friends-transcript) and is created for building a classifier that could determine which friend from the Friend's TV Show would be most likely to say a quote. The column `quote` contains the line from the movie and `author` is the one who spoke it. Since these are the only two columns we need, we remove the rest and only keep these two. "
      ]
    },
    {
      "cell_type": "code",
      "metadata": {
        "id": "Y69FgBWsjEaz"
      },
      "source": [
        "import re  \n",
        "import pandas as pd  \n",
        "from collections import defaultdict \n",
        "from collections import Counter \n",
        "import spacy \n",
        "import logging  # Setting up the loggings to monitor gensim\n",
        "logging.basicConfig(format=\"%(levelname)s - %(asctime)s: %(message)s\", datefmt= '%H:%M:%S', level=logging.INFO)"
      ],
      "execution_count": 18,
      "outputs": []
    },
    {
      "cell_type": "code",
      "metadata": {
        "colab": {
          "base_uri": "https://localhost:8080/",
          "height": 197
        },
        "id": "VVGz886ojEa0",
        "outputId": "21fd3ad0-b8a9-401f-bb09-35ac685cccbe"
      },
      "source": [
        "df = pd.read_csv('friends_quotes.csv')### Load the data #### \n",
        "### filter out columns ### \n",
        "df = df[['author','quote']]\n",
        "df.head()"
      ],
      "execution_count": null,
      "outputs": [
        {
          "output_type": "execute_result",
          "data": {
            "text/html": [
              "<div>\n",
              "<style scoped>\n",
              "    .dataframe tbody tr th:only-of-type {\n",
              "        vertical-align: middle;\n",
              "    }\n",
              "\n",
              "    .dataframe tbody tr th {\n",
              "        vertical-align: top;\n",
              "    }\n",
              "\n",
              "    .dataframe thead th {\n",
              "        text-align: right;\n",
              "    }\n",
              "</style>\n",
              "<table border=\"1\" class=\"dataframe\">\n",
              "  <thead>\n",
              "    <tr style=\"text-align: right;\">\n",
              "      <th></th>\n",
              "      <th>author</th>\n",
              "      <th>quote</th>\n",
              "    </tr>\n",
              "  </thead>\n",
              "  <tbody>\n",
              "    <tr>\n",
              "      <th>0</th>\n",
              "      <td>Monica</td>\n",
              "      <td>There's nothing to tell! He's just some guy I ...</td>\n",
              "    </tr>\n",
              "    <tr>\n",
              "      <th>1</th>\n",
              "      <td>Joey</td>\n",
              "      <td>C'mon, you're going out with the guy! There's ...</td>\n",
              "    </tr>\n",
              "    <tr>\n",
              "      <th>2</th>\n",
              "      <td>Chandler</td>\n",
              "      <td>All right Joey, be nice. So does he have a hum...</td>\n",
              "    </tr>\n",
              "    <tr>\n",
              "      <th>3</th>\n",
              "      <td>Phoebe</td>\n",
              "      <td>Wait, does he eat chalk?</td>\n",
              "    </tr>\n",
              "    <tr>\n",
              "      <th>4</th>\n",
              "      <td>Phoebe</td>\n",
              "      <td>Just, 'cause, I don't want her to go through w...</td>\n",
              "    </tr>\n",
              "  </tbody>\n",
              "</table>\n",
              "</div>"
            ],
            "text/plain": [
              "     author                                              quote\n",
              "0    Monica  There's nothing to tell! He's just some guy I ...\n",
              "1      Joey  C'mon, you're going out with the guy! There's ...\n",
              "2  Chandler  All right Joey, be nice. So does he have a hum...\n",
              "3    Phoebe                           Wait, does he eat chalk?\n",
              "4    Phoebe  Just, 'cause, I don't want her to go through w..."
            ]
          },
          "metadata": {
            "tags": []
          },
          "execution_count": 57
        }
      ]
    },
    {
      "cell_type": "markdown",
      "metadata": {
        "id": "8ug7roEOjEa0"
      },
      "source": [
        "Fortunately, there is no missing data, so we do not need to worry about that. "
      ]
    },
    {
      "cell_type": "code",
      "metadata": {
        "colab": {
          "base_uri": "https://localhost:8080/"
        },
        "id": "JzkLu1CdjEa1",
        "outputId": "c8d76e71-9791-40d3-d24b-c8afa113734b"
      },
      "source": [
        "df.isnull().sum() # check for missing data"
      ],
      "execution_count": null,
      "outputs": [
        {
          "output_type": "execute_result",
          "data": {
            "text/plain": [
              "author    0\n",
              "quote     0\n",
              "dtype: int64"
            ]
          },
          "metadata": {
            "tags": []
          },
          "execution_count": 3
        }
      ]
    },
    {
      "cell_type": "markdown",
      "metadata": {
        "id": "kMPIFSwbjEa1"
      },
      "source": [
        "use SpaCy similar to assignment 2 to pre-process the text, perform the following steps: \n",
        "- lowercase the words \n",
        "- remove the stopwords and single characters\n",
        "- use regex to remove non-alphabetic characters (anything that is not a number or alphabet including punctuations), in other words only keep \"a\" to \"z\" and digits. \n",
        "- remove lines that have less than 3 words, since they cannot contribute much to the training process.\n",
        "\n",
        "Please do not add additional steps on your own or additional cleaning, we want to create comparable results. "
      ]
    },
    {
      "cell_type": "code",
      "metadata": {
        "id": "jXDOeLtZo2Oo"
      },
      "source": [
        "nlp = spacy.load(\"en_core_web_sm\", disable=[\"tagger\", \"parser\",\"ner\"])\n",
        "stopwords = spacy.lang.en.stop_words.STOP_WORDS # only use these stop words, do not add your own! \n",
        "df[\"quote\"] = df[\"quote\"].str.lower().str.replace(r'[^\\w\\s]+',\"\").str.split()# lowercase and remove non-alphabetic characters\n",
        "quotes =df[\"quote\"].tolist() # to save all the lines \n",
        "\n",
        "### Your Code ### \n",
        "quotes = [[word for word in sen if not word in stopwords] for sen in quotes] \n",
        "quotes = [[word for word in sen  if len(word) > 1] for sen in quotes]\n",
        "quotes = [sen for sen in quotes if not len(sen) <= 3]  "
      ],
      "execution_count": null,
      "outputs": []
    },
    {
      "cell_type": "code",
      "metadata": {
        "colab": {
          "base_uri": "https://localhost:8080/"
        },
        "id": "azm-S0SWo8HX",
        "outputId": "c114b9bd-d31d-4d81-cfae-c2c8cdd40322"
      },
      "source": [
        "print(quotes[:20])"
      ],
      "execution_count": null,
      "outputs": [
        {
          "output_type": "stream",
          "text": [
            "[['theres', 'tell', 'hes', 'guy', 'work'], ['cmon', 'youre', 'going', 'guy', 'theres', 'gotta', 'wrong'], ['right', 'joey', 'nice', 'hump', 'hump', 'hairpiece'], ['cause', 'dont', 'want', 'went', 'carl', 'oh'], ['okay', 'everybody', 'relax', 'date', 'people', 'going', 'dinner', 'having', 'sex'], ['alright', 'im', 'high', 'school', 'im', 'standing', 'middle', 'cafeteria', 'realize', 'totally', 'naked'], ['look', 'realize', 'theres', 'phone'], ['sudden', 'phone', 'starts', 'ring', 'dont', 'know', 'everybody', 'starts', 'looking'], ['finally', 'figure', 'id', 'better', 'answer', 'turns', 'mother', 'veryvery', 'weird', 'calls'], ['guy', 'says', 'hello', 'wanna', 'kill'], ['feel', 'like', 'reached', 'throat', 'grabbed', 'small', 'intestine', 'pulled', 'mouth', 'tied', 'neck'], ['explaining', 'carol', 'moved', 'stuff', 'today'], ['ooh', 'oh', 'starts', 'pluck', 'air', 'ross'], ['dont', 'stop', 'cleansing', 'aura', 'leave', 'aura', 'okay'], ['ill', 'fine', 'alright', 'hope', 'shell', 'happy'], ['okay', 'fixating', 'didnt', 'know', 'know'], ['wish', 'lesbian', 'stare', 'loud'], ['told', 'mom', 'dad', 'night', 'pretty'], ['oh', 'hysterical', 'phone', 'got', 'woman', 'sobbing', '300', 'ill', 'grandchildren', 'ill', 'grandchildren', 'wrong', 'number'], ['alright', 'ross', 'look', 'youre', 'feeling', 'lot', 'pain', 'right', 'youre', 'angry', 'youre', 'hurting', 'tell', 'answer']]\n"
          ],
          "name": "stdout"
        }
      ]
    },
    {
      "cell_type": "markdown",
      "metadata": {
        "id": "GC9Ck102jEa3"
      },
      "source": [
        "The next step is to build the vocabulary of the words and word combinations we want to learn representations from. We choose a subset of the most frequent words and bigrams to represent our corpus.\n",
        "- use the Gensim Phrases package to automatically detect common phrases (bigrams) from a list of lines from the previous step (`min_count=10`). Now words like New_York will be considered as one entity and character names like joey_tribbiani will be recognized.\n",
        "- create a list of words/bigrams with their frequencies and choose the top 15.000 words for the vocabulary, to keep the computation time-limited and choose the most important words."
      ]
    },
    {
      "cell_type": "code",
      "metadata": {
        "colab": {
          "base_uri": "https://localhost:8080/"
        },
        "id": "mXTOGaMUjEa3",
        "outputId": "29f30511-0d6f-4882-f5cf-e0d4dc0bb62e"
      },
      "source": [
        "from gensim.models.phrases import Phrases, Phraser\n",
        "sent = quotes[:]#list of all words# \n",
        "phrases = Phrases(sent,min_count=10)#define the phraser for bi-gram creation# \n",
        "new_lines = [s for s in sent]#transform the lines# \n",
        "#print(phrases[new_lines[1262]])\n",
        "phrased = phrases[new_lines]\n",
        "\n",
        "### find the top words for the vocabulary###\n",
        "\n",
        "#vocab=###top words ### \n"
      ],
      "execution_count": null,
      "outputs": [
        {
          "output_type": "stream",
          "text": [
            "INFO - 20:29:23: collecting all words and their counts\n",
            "INFO - 20:29:23: PROGRESS: at sentence #0, processed 0 words and 0 word types\n",
            "INFO - 20:29:23: PROGRESS: at sentence #10000, processed 85738 words and 64496 word types\n",
            "INFO - 20:29:23: PROGRESS: at sentence #20000, processed 171891 words and 113732 word types\n",
            "INFO - 20:29:23: PROGRESS: at sentence #30000, processed 257842 words and 159380 word types\n",
            "INFO - 20:29:23: collected 165888 word types from a corpus of 271185 words (unigram + bigrams) and 31624 sentences\n",
            "INFO - 20:29:23: using 165888 counts as vocab in Phrases<0 vocab, min_count=10, threshold=10.0, max_vocab_size=40000000>\n",
            "/usr/local/lib/python3.6/dist-packages/gensim/models/phrases.py:598: UserWarning: For a faster implementation, use the gensim.models.phrases.Phraser class\n",
            "  warnings.warn(\"For a faster implementation, use the gensim.models.phrases.Phraser class\")\n"
          ],
          "name": "stderr"
        }
      ]
    },
    {
      "cell_type": "code",
      "metadata": {
        "id": "ysLbFFzB0wie"
      },
      "source": [
        "all_line = []\n",
        "for i in phrased:\n",
        "  for j in i:\n",
        "    all_line.append(j)\n",
        "counter = Counter(all_line)\n",
        "most_frequent = counter.most_common(15000)\n",
        "#print(most_frequent)"
      ],
      "execution_count": null,
      "outputs": []
    },
    {
      "cell_type": "code",
      "metadata": {
        "colab": {
          "base_uri": "https://localhost:8080/"
        },
        "id": "tAkG5_3mA7Xi",
        "outputId": "ced0d8bb-752b-4236-b0bb-49b9c466e257"
      },
      "source": [
        "###optional###\n",
        "'''\n",
        "word_freq = defaultdict(int)\n",
        "for sent in phrased:\n",
        "    for i in sent:\n",
        "        word_freq[i] += 1\n",
        "len(word_freq)\n",
        "'''"
      ],
      "execution_count": null,
      "outputs": [
        {
          "output_type": "stream",
          "text": [
            "/usr/local/lib/python3.6/dist-packages/gensim/models/phrases.py:598: UserWarning: For a faster implementation, use the gensim.models.phrases.Phraser class\n",
            "  warnings.warn(\"For a faster implementation, use the gensim.models.phrases.Phraser class\")\n"
          ],
          "name": "stderr"
        },
        {
          "output_type": "execute_result",
          "data": {
            "text/plain": [
              "18755"
            ]
          },
          "metadata": {
            "tags": []
          },
          "execution_count": 99
        }
      ]
    },
    {
      "cell_type": "markdown",
      "metadata": {
        "id": "FEzyD0u7jEa4"
      },
      "source": [
        "### Subtask 2: Training The Model\n"
      ]
    },
    {
      "cell_type": "markdown",
      "metadata": {
        "id": "V6W2rbjJjEa4"
      },
      "source": [
        "Use Gensim the implementation of Word2Vec to train a model on the scripts. The training can be divided into 3 stages:\n",
        "\n",
        "\n",
        "1) Set up your model with parameters, define your parameters in such a way that the following conditions are satisfied:\n",
        " - ignores all words that have a total absolute frequency less than 2.\n",
        " - dimensions of the embeddings: 100 \n",
        " - initial learning rate of 0.03 \n",
        " - 20 negative samples \n",
        " - window size 3 \n",
        " - learning rate in the training will decrease as you apply more and more updates. Most of the time when starting with gradient descent the initial steps can be larger, and as we get close to the local minima it is best to use smaller steps to avoid jumping over the local minima. This adjustment is done internally using a learning rate scheduler. Make sure that the smallest learning rate does not go below 0.0001.\n",
        " - set the threshold for configuring which higher-frequency words are randomly down-sampled to 6e-5. This parameter forces the sampling to choose the very frequent words less often in the sampling.\n",
        " - set the hashfunction of the word2vec to the given function.\n",
        " - train on a single worker to make sure you get the same result as ours."
      ]
    },
    {
      "cell_type": "code",
      "metadata": {
        "id": "zN4sqiSMjEa5"
      },
      "source": [
        "from gensim.models import Word2Vec\n",
        "def hash(astring):\n",
        "    return ord(astring[0])"
      ],
      "execution_count": null,
      "outputs": []
    },
    {
      "cell_type": "code",
      "metadata": {
        "id": "ATBO2hZR_Qcp"
      },
      "source": [
        "w2v = Word2Vec(min_count=2,\n",
        "                     window=3,\n",
        "                     size=100,\n",
        "                     sample=6e-5, \n",
        "                     alpha=0.03, \n",
        "                     min_alpha=0.0001, \n",
        "                     negative=20,\n",
        "                    hashfxn = hash,\n",
        "                     workers=1)"
      ],
      "execution_count": null,
      "outputs": []
    },
    {
      "cell_type": "markdown",
      "metadata": {
        "id": "caXuqVWhjEa5"
      },
      "source": [
        "2) before training, Word2Vec requires us to build the vocabulary table by filtering out the unique words and doing some basic counts on them.\n",
        "If you look at the logs you can see the effect of `min_count` and `sample` on the word corpus. Use the `build_vocab` function to process the data."
      ]
    },
    {
      "cell_type": "code",
      "metadata": {
        "colab": {
          "base_uri": "https://localhost:8080/"
        },
        "id": "COE3hmYmjEa6",
        "outputId": "4066f1d3-4f6f-4311-b263-9a57e3d16972"
      },
      "source": [
        "w2v.build_vocab(phrased, progress_per=10000)### your code ### "
      ],
      "execution_count": null,
      "outputs": [
        {
          "output_type": "stream",
          "text": [
            "INFO - 20:21:16: collecting all words and their counts\n",
            "/usr/local/lib/python3.6/dist-packages/gensim/models/phrases.py:598: UserWarning: For a faster implementation, use the gensim.models.phrases.Phraser class\n",
            "  warnings.warn(\"For a faster implementation, use the gensim.models.phrases.Phraser class\")\n",
            "INFO - 20:21:16: PROGRESS: at sentence #0, processed 0 words, keeping 0 word types\n",
            "INFO - 20:21:17: PROGRESS: at sentence #10000, processed 97944 words, keeping 9510 word types\n",
            "INFO - 20:21:17: PROGRESS: at sentence #20000, processed 198435 words, keeping 13443 word types\n",
            "INFO - 20:21:18: PROGRESS: at sentence #30000, processed 297774 words, keeping 16352 word types\n",
            "INFO - 20:21:18: collected 18755 word types from a corpus of 376259 raw words and 38060 sentences\n",
            "INFO - 20:21:18: Loading a fresh vocabulary\n",
            "INFO - 20:21:18: effective_min_count=2 retains 10078 unique words (53% of original 18755, drops 8677)\n",
            "INFO - 20:21:18: effective_min_count=2 leaves 367582 word corpus (97% of original 376259, drops 8677)\n",
            "INFO - 20:21:18: deleting the raw counts dictionary of 18755 items\n",
            "INFO - 20:21:18: sample=6e-05 downsamples 885 most-common words\n",
            "INFO - 20:21:18: downsampling leaves estimated 161907 word corpus (44.0% of prior 367582)\n",
            "INFO - 20:21:18: estimated required memory for 10078 words and 100 dimensions: 13101400 bytes\n",
            "INFO - 20:21:18: resetting layer weights\n"
          ],
          "name": "stderr"
        }
      ]
    },
    {
      "cell_type": "markdown",
      "metadata": {
        "id": "LORThi5_jEa6"
      },
      "source": [
        "3) Finally, we get to train the model. Train the model for 100 epochs. This will take a while. As we do not plan to train the model any further, we call `init_sims()`, which will make the model much more memory-efficient by precomputing L2-norms of word weight vectors for further analysis. "
      ]
    },
    {
      "cell_type": "code",
      "metadata": {
        "colab": {
          "base_uri": "https://localhost:8080/"
        },
        "id": "4UUasjJNjEa6",
        "outputId": "b7d0f439-c747-401a-cdd4-a8f15bce2258"
      },
      "source": [
        "w2v.train(phrased, total_examples=w2v.corpus_count, epochs=100, report_delay=1)###your code ### "
      ],
      "execution_count": null,
      "outputs": [
        {
          "output_type": "stream",
          "text": [
            "INFO - 20:21:25: training model with 1 workers on 10078 vocabulary and 100 features, using sg=0 hs=0 sample=6e-05 negative=20 window=3\n",
            "/usr/local/lib/python3.6/dist-packages/gensim/models/phrases.py:598: UserWarning: For a faster implementation, use the gensim.models.phrases.Phraser class\n",
            "  warnings.warn(\"For a faster implementation, use the gensim.models.phrases.Phraser class\")\n",
            "INFO - 20:21:26: EPOCH 1 - PROGRESS: at 37.36% examples, 58706 words/s, in_qsize 0, out_qsize 0\n",
            "INFO - 20:21:27: EPOCH 1 - PROGRESS: at 76.74% examples, 60654 words/s, in_qsize 0, out_qsize 0\n",
            "INFO - 20:21:28: worker thread finished; awaiting finish of 0 more threads\n",
            "INFO - 20:21:28: EPOCH - 1 : training on 376259 raw words (161698 effective words) took 2.6s, 61628 effective words/s\n",
            "INFO - 20:21:29: EPOCH 2 - PROGRESS: at 37.36% examples, 59832 words/s, in_qsize 0, out_qsize 0\n",
            "INFO - 20:21:30: EPOCH 2 - PROGRESS: at 76.74% examples, 61217 words/s, in_qsize 0, out_qsize 0\n",
            "INFO - 20:21:31: worker thread finished; awaiting finish of 0 more threads\n",
            "INFO - 20:21:31: EPOCH - 2 : training on 376259 raw words (162016 effective words) took 2.6s, 61722 effective words/s\n",
            "INFO - 20:21:32: EPOCH 3 - PROGRESS: at 37.36% examples, 58284 words/s, in_qsize 0, out_qsize 0\n",
            "INFO - 20:21:33: EPOCH 3 - PROGRESS: at 76.74% examples, 60055 words/s, in_qsize 0, out_qsize 0\n",
            "INFO - 20:21:33: worker thread finished; awaiting finish of 0 more threads\n",
            "INFO - 20:21:33: EPOCH - 3 : training on 376259 raw words (161923 effective words) took 2.6s, 61165 effective words/s\n",
            "INFO - 20:21:34: EPOCH 4 - PROGRESS: at 39.97% examples, 60440 words/s, in_qsize 0, out_qsize 0\n",
            "INFO - 20:21:35: EPOCH 4 - PROGRESS: at 79.34% examples, 61095 words/s, in_qsize 0, out_qsize 0\n",
            "INFO - 20:21:36: worker thread finished; awaiting finish of 0 more threads\n",
            "INFO - 20:21:36: EPOCH - 4 : training on 376259 raw words (162193 effective words) took 2.6s, 61844 effective words/s\n",
            "INFO - 20:21:37: EPOCH 5 - PROGRESS: at 37.36% examples, 58876 words/s, in_qsize 0, out_qsize 0\n",
            "INFO - 20:21:38: EPOCH 5 - PROGRESS: at 76.74% examples, 60177 words/s, in_qsize 0, out_qsize 0\n",
            "INFO - 20:21:39: worker thread finished; awaiting finish of 0 more threads\n",
            "INFO - 20:21:39: EPOCH - 5 : training on 376259 raw words (161403 effective words) took 2.6s, 61103 effective words/s\n",
            "INFO - 20:21:40: EPOCH 6 - PROGRESS: at 37.36% examples, 59444 words/s, in_qsize 0, out_qsize 0\n",
            "INFO - 20:21:41: EPOCH 6 - PROGRESS: at 76.74% examples, 60488 words/s, in_qsize 0, out_qsize 0\n",
            "INFO - 20:21:41: worker thread finished; awaiting finish of 0 more threads\n",
            "INFO - 20:21:41: EPOCH - 6 : training on 376259 raw words (162165 effective words) took 2.6s, 61569 effective words/s\n",
            "INFO - 20:21:42: EPOCH 7 - PROGRESS: at 37.36% examples, 58375 words/s, in_qsize 0, out_qsize 0\n",
            "INFO - 20:21:43: EPOCH 7 - PROGRESS: at 76.74% examples, 60046 words/s, in_qsize 0, out_qsize 0\n",
            "INFO - 20:21:44: worker thread finished; awaiting finish of 0 more threads\n",
            "INFO - 20:21:44: EPOCH - 7 : training on 376259 raw words (161682 effective words) took 2.7s, 60891 effective words/s\n",
            "INFO - 20:21:45: EPOCH 8 - PROGRESS: at 37.36% examples, 59872 words/s, in_qsize 0, out_qsize 0\n",
            "INFO - 20:21:46: EPOCH 8 - PROGRESS: at 76.74% examples, 61207 words/s, in_qsize 0, out_qsize 0\n",
            "INFO - 20:21:46: worker thread finished; awaiting finish of 0 more threads\n",
            "INFO - 20:21:46: EPOCH - 8 : training on 376259 raw words (162002 effective words) took 2.6s, 61676 effective words/s\n",
            "INFO - 20:21:48: EPOCH 9 - PROGRESS: at 39.97% examples, 60318 words/s, in_qsize 0, out_qsize 0\n",
            "INFO - 20:21:49: EPOCH 9 - PROGRESS: at 76.74% examples, 60067 words/s, in_qsize 0, out_qsize 0\n",
            "INFO - 20:21:49: worker thread finished; awaiting finish of 0 more threads\n",
            "INFO - 20:21:49: EPOCH - 9 : training on 376259 raw words (161764 effective words) took 2.7s, 60610 effective words/s\n",
            "INFO - 20:21:50: EPOCH 10 - PROGRESS: at 37.36% examples, 58562 words/s, in_qsize 0, out_qsize 0\n",
            "INFO - 20:21:51: EPOCH 10 - PROGRESS: at 76.74% examples, 60005 words/s, in_qsize 0, out_qsize 0\n",
            "INFO - 20:21:52: worker thread finished; awaiting finish of 0 more threads\n",
            "INFO - 20:21:52: EPOCH - 10 : training on 376259 raw words (162137 effective words) took 2.7s, 60550 effective words/s\n",
            "INFO - 20:21:53: EPOCH 11 - PROGRESS: at 37.36% examples, 58437 words/s, in_qsize 0, out_qsize 0\n",
            "INFO - 20:21:54: EPOCH 11 - PROGRESS: at 76.74% examples, 60434 words/s, in_qsize 0, out_qsize 0\n",
            "INFO - 20:21:55: worker thread finished; awaiting finish of 0 more threads\n",
            "INFO - 20:21:55: EPOCH - 11 : training on 376259 raw words (161972 effective words) took 2.6s, 61219 effective words/s\n",
            "INFO - 20:21:56: EPOCH 12 - PROGRESS: at 37.36% examples, 59238 words/s, in_qsize 0, out_qsize 0\n",
            "INFO - 20:21:57: EPOCH 12 - PROGRESS: at 76.74% examples, 59980 words/s, in_qsize 0, out_qsize 0\n",
            "INFO - 20:21:57: worker thread finished; awaiting finish of 0 more threads\n",
            "INFO - 20:21:57: EPOCH - 12 : training on 376259 raw words (161917 effective words) took 2.7s, 60785 effective words/s\n",
            "INFO - 20:21:58: EPOCH 13 - PROGRESS: at 39.97% examples, 59852 words/s, in_qsize 0, out_qsize 0\n",
            "INFO - 20:21:59: EPOCH 13 - PROGRESS: at 79.34% examples, 61059 words/s, in_qsize 0, out_qsize 0\n",
            "INFO - 20:22:00: worker thread finished; awaiting finish of 0 more threads\n",
            "INFO - 20:22:00: EPOCH - 13 : training on 376259 raw words (161926 effective words) took 2.6s, 61548 effective words/s\n",
            "INFO - 20:22:01: EPOCH 14 - PROGRESS: at 37.36% examples, 60263 words/s, in_qsize 0, out_qsize 0\n",
            "INFO - 20:22:02: EPOCH 14 - PROGRESS: at 76.74% examples, 60871 words/s, in_qsize 0, out_qsize 0\n",
            "INFO - 20:22:02: worker thread finished; awaiting finish of 0 more threads\n",
            "INFO - 20:22:02: EPOCH - 14 : training on 376259 raw words (162047 effective words) took 2.6s, 61519 effective words/s\n",
            "INFO - 20:22:04: EPOCH 15 - PROGRESS: at 37.36% examples, 58968 words/s, in_qsize 0, out_qsize 0\n",
            "INFO - 20:22:05: EPOCH 15 - PROGRESS: at 76.74% examples, 60593 words/s, in_qsize 0, out_qsize 0\n",
            "INFO - 20:22:05: worker thread finished; awaiting finish of 0 more threads\n",
            "INFO - 20:22:05: EPOCH - 15 : training on 376259 raw words (161963 effective words) took 2.7s, 61097 effective words/s\n",
            "INFO - 20:22:06: EPOCH 16 - PROGRESS: at 37.36% examples, 59919 words/s, in_qsize 0, out_qsize 0\n",
            "INFO - 20:22:07: EPOCH 16 - PROGRESS: at 76.74% examples, 60507 words/s, in_qsize 0, out_qsize 0\n",
            "INFO - 20:22:08: worker thread finished; awaiting finish of 0 more threads\n",
            "INFO - 20:22:08: EPOCH - 16 : training on 376259 raw words (161616 effective words) took 2.6s, 61067 effective words/s\n",
            "INFO - 20:22:09: EPOCH 17 - PROGRESS: at 39.97% examples, 60899 words/s, in_qsize 0, out_qsize 0\n",
            "INFO - 20:22:10: EPOCH 17 - PROGRESS: at 79.34% examples, 61044 words/s, in_qsize 0, out_qsize 0\n",
            "INFO - 20:22:10: worker thread finished; awaiting finish of 0 more threads\n",
            "INFO - 20:22:10: EPOCH - 17 : training on 376259 raw words (162146 effective words) took 2.6s, 61556 effective words/s\n",
            "INFO - 20:22:11: EPOCH 18 - PROGRESS: at 37.36% examples, 59589 words/s, in_qsize 0, out_qsize 0\n",
            "INFO - 20:22:13: EPOCH 18 - PROGRESS: at 76.74% examples, 60761 words/s, in_qsize 0, out_qsize 0\n",
            "INFO - 20:22:13: worker thread finished; awaiting finish of 0 more threads\n",
            "INFO - 20:22:13: EPOCH - 18 : training on 376259 raw words (162126 effective words) took 2.6s, 61661 effective words/s\n",
            "INFO - 20:22:14: EPOCH 19 - PROGRESS: at 37.36% examples, 59312 words/s, in_qsize 0, out_qsize 0\n",
            "INFO - 20:22:15: EPOCH 19 - PROGRESS: at 76.74% examples, 60712 words/s, in_qsize 0, out_qsize 0\n",
            "INFO - 20:22:16: worker thread finished; awaiting finish of 0 more threads\n",
            "INFO - 20:22:16: EPOCH - 19 : training on 376259 raw words (161933 effective words) took 2.6s, 61124 effective words/s\n",
            "INFO - 20:22:17: EPOCH 20 - PROGRESS: at 39.97% examples, 60106 words/s, in_qsize 0, out_qsize 0\n",
            "INFO - 20:22:18: EPOCH 20 - PROGRESS: at 79.34% examples, 60993 words/s, in_qsize 0, out_qsize 0\n",
            "INFO - 20:22:18: worker thread finished; awaiting finish of 0 more threads\n",
            "INFO - 20:22:18: EPOCH - 20 : training on 376259 raw words (161675 effective words) took 2.6s, 61613 effective words/s\n",
            "INFO - 20:22:19: EPOCH 21 - PROGRESS: at 37.36% examples, 58351 words/s, in_qsize 0, out_qsize 0\n",
            "INFO - 20:22:20: EPOCH 21 - PROGRESS: at 76.74% examples, 59617 words/s, in_qsize 0, out_qsize 0\n",
            "INFO - 20:22:21: worker thread finished; awaiting finish of 0 more threads\n",
            "INFO - 20:22:21: EPOCH - 21 : training on 376259 raw words (161697 effective words) took 2.7s, 60640 effective words/s\n",
            "INFO - 20:22:22: EPOCH 22 - PROGRESS: at 37.36% examples, 59747 words/s, in_qsize 0, out_qsize 0\n",
            "INFO - 20:22:23: EPOCH 22 - PROGRESS: at 76.74% examples, 60415 words/s, in_qsize 0, out_qsize 0\n",
            "INFO - 20:22:24: worker thread finished; awaiting finish of 0 more threads\n",
            "INFO - 20:22:24: EPOCH - 22 : training on 376259 raw words (161873 effective words) took 2.7s, 61061 effective words/s\n",
            "INFO - 20:22:25: EPOCH 23 - PROGRESS: at 37.36% examples, 59498 words/s, in_qsize 0, out_qsize 0\n",
            "INFO - 20:22:26: EPOCH 23 - PROGRESS: at 76.74% examples, 60532 words/s, in_qsize 0, out_qsize 0\n",
            "INFO - 20:22:26: worker thread finished; awaiting finish of 0 more threads\n",
            "INFO - 20:22:26: EPOCH - 23 : training on 376259 raw words (161947 effective words) took 2.6s, 61214 effective words/s\n",
            "INFO - 20:22:27: EPOCH 24 - PROGRESS: at 39.97% examples, 59960 words/s, in_qsize 0, out_qsize 0\n",
            "INFO - 20:22:28: EPOCH 24 - PROGRESS: at 79.34% examples, 61253 words/s, in_qsize 0, out_qsize 0\n",
            "INFO - 20:22:29: worker thread finished; awaiting finish of 0 more threads\n",
            "INFO - 20:22:29: EPOCH - 24 : training on 376259 raw words (161691 effective words) took 2.6s, 61335 effective words/s\n",
            "INFO - 20:22:30: EPOCH 25 - PROGRESS: at 37.36% examples, 59743 words/s, in_qsize 0, out_qsize 0\n",
            "INFO - 20:22:31: EPOCH 25 - PROGRESS: at 76.74% examples, 60992 words/s, in_qsize 0, out_qsize 0\n",
            "INFO - 20:22:32: worker thread finished; awaiting finish of 0 more threads\n",
            "INFO - 20:22:32: EPOCH - 25 : training on 376259 raw words (161832 effective words) took 2.6s, 61092 effective words/s\n",
            "INFO - 20:22:33: EPOCH 26 - PROGRESS: at 39.97% examples, 61008 words/s, in_qsize 0, out_qsize 0\n",
            "INFO - 20:22:34: EPOCH 26 - PROGRESS: at 79.34% examples, 61341 words/s, in_qsize 0, out_qsize 0\n",
            "INFO - 20:22:34: worker thread finished; awaiting finish of 0 more threads\n",
            "INFO - 20:22:34: EPOCH - 26 : training on 376259 raw words (161856 effective words) took 2.6s, 61783 effective words/s\n",
            "INFO - 20:22:35: EPOCH 27 - PROGRESS: at 39.97% examples, 60436 words/s, in_qsize 0, out_qsize 0\n",
            "INFO - 20:22:36: EPOCH 27 - PROGRESS: at 79.34% examples, 60905 words/s, in_qsize 0, out_qsize 0\n",
            "INFO - 20:22:37: worker thread finished; awaiting finish of 0 more threads\n",
            "INFO - 20:22:37: EPOCH - 27 : training on 376259 raw words (162135 effective words) took 2.6s, 61875 effective words/s\n",
            "INFO - 20:22:38: EPOCH 28 - PROGRESS: at 37.36% examples, 60140 words/s, in_qsize 0, out_qsize 0\n",
            "INFO - 20:22:39: EPOCH 28 - PROGRESS: at 76.74% examples, 61105 words/s, in_qsize 0, out_qsize 0\n",
            "INFO - 20:22:40: worker thread finished; awaiting finish of 0 more threads\n",
            "INFO - 20:22:40: EPOCH - 28 : training on 376259 raw words (162001 effective words) took 2.6s, 61894 effective words/s\n",
            "INFO - 20:22:41: EPOCH 29 - PROGRESS: at 39.97% examples, 60561 words/s, in_qsize 0, out_qsize 0\n",
            "INFO - 20:22:42: EPOCH 29 - PROGRESS: at 79.34% examples, 60954 words/s, in_qsize 0, out_qsize 0\n",
            "INFO - 20:22:42: worker thread finished; awaiting finish of 0 more threads\n",
            "INFO - 20:22:42: EPOCH - 29 : training on 376259 raw words (161885 effective words) took 2.6s, 61852 effective words/s\n",
            "INFO - 20:22:43: EPOCH 30 - PROGRESS: at 37.36% examples, 59388 words/s, in_qsize 0, out_qsize 0\n",
            "INFO - 20:22:44: EPOCH 30 - PROGRESS: at 76.74% examples, 61163 words/s, in_qsize 0, out_qsize 0\n",
            "INFO - 20:22:45: worker thread finished; awaiting finish of 0 more threads\n",
            "INFO - 20:22:45: EPOCH - 30 : training on 376259 raw words (161948 effective words) took 2.9s, 55769 effective words/s\n",
            "INFO - 20:22:46: EPOCH 31 - PROGRESS: at 39.97% examples, 60204 words/s, in_qsize 0, out_qsize 0\n",
            "INFO - 20:22:47: EPOCH 31 - PROGRESS: at 79.34% examples, 61093 words/s, in_qsize 0, out_qsize 0\n",
            "INFO - 20:22:48: worker thread finished; awaiting finish of 0 more threads\n",
            "INFO - 20:22:48: EPOCH - 31 : training on 376259 raw words (161420 effective words) took 2.6s, 61702 effective words/s\n",
            "INFO - 20:22:49: EPOCH 32 - PROGRESS: at 39.97% examples, 60845 words/s, in_qsize 0, out_qsize 0\n",
            "INFO - 20:22:50: EPOCH 32 - PROGRESS: at 79.34% examples, 60691 words/s, in_qsize 0, out_qsize 0\n",
            "INFO - 20:22:50: worker thread finished; awaiting finish of 0 more threads\n",
            "INFO - 20:22:50: EPOCH - 32 : training on 376259 raw words (161819 effective words) took 2.6s, 61612 effective words/s\n",
            "INFO - 20:22:51: EPOCH 33 - PROGRESS: at 37.36% examples, 59722 words/s, in_qsize 0, out_qsize 0\n",
            "INFO - 20:22:52: EPOCH 33 - PROGRESS: at 76.74% examples, 60567 words/s, in_qsize 0, out_qsize 0\n",
            "INFO - 20:22:53: worker thread finished; awaiting finish of 0 more threads\n",
            "INFO - 20:22:53: EPOCH - 33 : training on 376259 raw words (161871 effective words) took 2.6s, 61213 effective words/s\n",
            "INFO - 20:22:54: EPOCH 34 - PROGRESS: at 37.36% examples, 59907 words/s, in_qsize 0, out_qsize 0\n",
            "INFO - 20:22:55: EPOCH 34 - PROGRESS: at 76.74% examples, 60445 words/s, in_qsize 0, out_qsize 0\n",
            "INFO - 20:22:56: worker thread finished; awaiting finish of 0 more threads\n",
            "INFO - 20:22:56: EPOCH - 34 : training on 376259 raw words (161966 effective words) took 2.6s, 61152 effective words/s\n",
            "INFO - 20:22:57: EPOCH 35 - PROGRESS: at 37.36% examples, 60263 words/s, in_qsize 0, out_qsize 0\n",
            "INFO - 20:22:58: EPOCH 35 - PROGRESS: at 76.74% examples, 61018 words/s, in_qsize 0, out_qsize 0\n",
            "INFO - 20:22:58: worker thread finished; awaiting finish of 0 more threads\n",
            "INFO - 20:22:58: EPOCH - 35 : training on 376259 raw words (161820 effective words) took 2.6s, 61751 effective words/s\n",
            "INFO - 20:22:59: EPOCH 36 - PROGRESS: at 37.36% examples, 60033 words/s, in_qsize 0, out_qsize 0\n",
            "INFO - 20:23:00: EPOCH 36 - PROGRESS: at 74.15% examples, 59936 words/s, in_qsize 0, out_qsize 0\n",
            "INFO - 20:23:01: worker thread finished; awaiting finish of 0 more threads\n",
            "INFO - 20:23:01: EPOCH - 36 : training on 376259 raw words (161894 effective words) took 2.7s, 60902 effective words/s\n",
            "INFO - 20:23:02: EPOCH 37 - PROGRESS: at 37.36% examples, 58532 words/s, in_qsize 0, out_qsize 0\n",
            "INFO - 20:23:03: EPOCH 37 - PROGRESS: at 76.74% examples, 60726 words/s, in_qsize 0, out_qsize 0\n",
            "INFO - 20:23:04: worker thread finished; awaiting finish of 0 more threads\n",
            "INFO - 20:23:04: EPOCH - 37 : training on 376259 raw words (161725 effective words) took 2.6s, 61187 effective words/s\n",
            "INFO - 20:23:05: EPOCH 38 - PROGRESS: at 39.97% examples, 60475 words/s, in_qsize 0, out_qsize 0\n",
            "INFO - 20:23:06: EPOCH 38 - PROGRESS: at 76.74% examples, 60093 words/s, in_qsize 0, out_qsize 0\n",
            "INFO - 20:23:06: worker thread finished; awaiting finish of 0 more threads\n",
            "INFO - 20:23:06: EPOCH - 38 : training on 376259 raw words (161697 effective words) took 2.6s, 61044 effective words/s\n",
            "INFO - 20:23:07: EPOCH 39 - PROGRESS: at 39.97% examples, 60248 words/s, in_qsize 0, out_qsize 0\n",
            "INFO - 20:23:08: EPOCH 39 - PROGRESS: at 79.34% examples, 60964 words/s, in_qsize 0, out_qsize 0\n",
            "INFO - 20:23:09: worker thread finished; awaiting finish of 0 more threads\n",
            "INFO - 20:23:09: EPOCH - 39 : training on 376259 raw words (161898 effective words) took 2.6s, 61760 effective words/s\n",
            "INFO - 20:23:10: EPOCH 40 - PROGRESS: at 37.36% examples, 60334 words/s, in_qsize 0, out_qsize 0\n",
            "INFO - 20:23:11: EPOCH 40 - PROGRESS: at 76.74% examples, 61147 words/s, in_qsize 0, out_qsize 0\n",
            "INFO - 20:23:12: worker thread finished; awaiting finish of 0 more threads\n",
            "INFO - 20:23:12: EPOCH - 40 : training on 376259 raw words (162112 effective words) took 2.6s, 61940 effective words/s\n",
            "INFO - 20:23:13: EPOCH 41 - PROGRESS: at 37.36% examples, 59773 words/s, in_qsize 0, out_qsize 0\n",
            "INFO - 20:23:14: EPOCH 41 - PROGRESS: at 76.74% examples, 61206 words/s, in_qsize 0, out_qsize 0\n",
            "INFO - 20:23:14: worker thread finished; awaiting finish of 0 more threads\n",
            "INFO - 20:23:14: EPOCH - 41 : training on 376259 raw words (161785 effective words) took 2.6s, 61724 effective words/s\n",
            "INFO - 20:23:15: EPOCH 42 - PROGRESS: at 37.36% examples, 60324 words/s, in_qsize 0, out_qsize 0\n",
            "INFO - 20:23:16: EPOCH 42 - PROGRESS: at 76.74% examples, 61079 words/s, in_qsize 0, out_qsize 0\n",
            "INFO - 20:23:17: worker thread finished; awaiting finish of 0 more threads\n",
            "INFO - 20:23:17: EPOCH - 42 : training on 376259 raw words (162085 effective words) took 2.6s, 61367 effective words/s\n",
            "INFO - 20:23:18: EPOCH 43 - PROGRESS: at 37.36% examples, 59911 words/s, in_qsize 0, out_qsize 0\n",
            "INFO - 20:23:19: EPOCH 43 - PROGRESS: at 76.74% examples, 60757 words/s, in_qsize 0, out_qsize 0\n",
            "INFO - 20:23:19: worker thread finished; awaiting finish of 0 more threads\n",
            "INFO - 20:23:19: EPOCH - 43 : training on 376259 raw words (162450 effective words) took 2.6s, 61408 effective words/s\n",
            "INFO - 20:23:21: EPOCH 44 - PROGRESS: at 37.36% examples, 58622 words/s, in_qsize 0, out_qsize 0\n",
            "INFO - 20:23:22: EPOCH 44 - PROGRESS: at 76.74% examples, 60592 words/s, in_qsize 0, out_qsize 0\n",
            "INFO - 20:23:22: worker thread finished; awaiting finish of 0 more threads\n",
            "INFO - 20:23:22: EPOCH - 44 : training on 376259 raw words (161497 effective words) took 2.6s, 61195 effective words/s\n",
            "INFO - 20:23:23: EPOCH 45 - PROGRESS: at 37.36% examples, 59961 words/s, in_qsize 0, out_qsize 0\n",
            "INFO - 20:23:24: EPOCH 45 - PROGRESS: at 76.74% examples, 60529 words/s, in_qsize 0, out_qsize 0\n",
            "INFO - 20:23:25: worker thread finished; awaiting finish of 0 more threads\n",
            "INFO - 20:23:25: EPOCH - 45 : training on 376259 raw words (161875 effective words) took 2.6s, 61531 effective words/s\n",
            "INFO - 20:23:26: EPOCH 46 - PROGRESS: at 39.97% examples, 60241 words/s, in_qsize 0, out_qsize 0\n",
            "INFO - 20:23:27: EPOCH 46 - PROGRESS: at 79.34% examples, 60945 words/s, in_qsize 0, out_qsize 0\n",
            "INFO - 20:23:27: worker thread finished; awaiting finish of 0 more threads\n",
            "INFO - 20:23:27: EPOCH - 46 : training on 376259 raw words (161607 effective words) took 2.6s, 61485 effective words/s\n",
            "INFO - 20:23:28: EPOCH 47 - PROGRESS: at 39.97% examples, 60713 words/s, in_qsize 0, out_qsize 0\n",
            "INFO - 20:23:30: EPOCH 47 - PROGRESS: at 79.34% examples, 61149 words/s, in_qsize 0, out_qsize 0\n",
            "INFO - 20:23:30: worker thread finished; awaiting finish of 0 more threads\n",
            "INFO - 20:23:30: EPOCH - 47 : training on 376259 raw words (161859 effective words) took 2.6s, 61341 effective words/s\n",
            "INFO - 20:23:31: EPOCH 48 - PROGRESS: at 39.97% examples, 60387 words/s, in_qsize 0, out_qsize 0\n",
            "INFO - 20:23:32: EPOCH 48 - PROGRESS: at 79.34% examples, 60566 words/s, in_qsize 0, out_qsize 0\n",
            "INFO - 20:23:33: worker thread finished; awaiting finish of 0 more threads\n",
            "INFO - 20:23:33: EPOCH - 48 : training on 376259 raw words (162019 effective words) took 2.6s, 61483 effective words/s\n",
            "INFO - 20:23:34: EPOCH 49 - PROGRESS: at 39.97% examples, 61121 words/s, in_qsize 0, out_qsize 0\n",
            "INFO - 20:23:35: EPOCH 49 - PROGRESS: at 79.34% examples, 61598 words/s, in_qsize 0, out_qsize 0\n",
            "INFO - 20:23:35: worker thread finished; awaiting finish of 0 more threads\n",
            "INFO - 20:23:35: EPOCH - 49 : training on 376259 raw words (161965 effective words) took 2.6s, 61945 effective words/s\n",
            "INFO - 20:23:36: EPOCH 50 - PROGRESS: at 39.97% examples, 60447 words/s, in_qsize 0, out_qsize 0\n",
            "INFO - 20:23:37: EPOCH 50 - PROGRESS: at 76.74% examples, 60005 words/s, in_qsize 0, out_qsize 0\n",
            "INFO - 20:23:38: worker thread finished; awaiting finish of 0 more threads\n",
            "INFO - 20:23:38: EPOCH - 50 : training on 376259 raw words (161931 effective words) took 2.6s, 61237 effective words/s\n",
            "INFO - 20:23:39: EPOCH 51 - PROGRESS: at 37.36% examples, 58407 words/s, in_qsize 0, out_qsize 0\n",
            "INFO - 20:23:40: EPOCH 51 - PROGRESS: at 76.74% examples, 60280 words/s, in_qsize 0, out_qsize 0\n",
            "INFO - 20:23:41: worker thread finished; awaiting finish of 0 more threads\n",
            "INFO - 20:23:41: EPOCH - 51 : training on 376259 raw words (161541 effective words) took 2.7s, 60922 effective words/s\n",
            "INFO - 20:23:42: EPOCH 52 - PROGRESS: at 37.36% examples, 59445 words/s, in_qsize 0, out_qsize 0\n",
            "INFO - 20:23:43: EPOCH 52 - PROGRESS: at 76.74% examples, 59980 words/s, in_qsize 0, out_qsize 0\n",
            "INFO - 20:23:43: worker thread finished; awaiting finish of 0 more threads\n",
            "INFO - 20:23:43: EPOCH - 52 : training on 376259 raw words (162476 effective words) took 2.7s, 61087 effective words/s\n",
            "INFO - 20:23:44: EPOCH 53 - PROGRESS: at 39.97% examples, 60743 words/s, in_qsize 0, out_qsize 0\n",
            "INFO - 20:23:45: EPOCH 53 - PROGRESS: at 79.34% examples, 60764 words/s, in_qsize 0, out_qsize 0\n",
            "INFO - 20:23:46: worker thread finished; awaiting finish of 0 more threads\n",
            "INFO - 20:23:46: EPOCH - 53 : training on 376259 raw words (162021 effective words) took 2.6s, 61617 effective words/s\n",
            "INFO - 20:23:47: EPOCH 54 - PROGRESS: at 37.36% examples, 59618 words/s, in_qsize 0, out_qsize 0\n",
            "INFO - 20:23:48: EPOCH 54 - PROGRESS: at 76.74% examples, 60375 words/s, in_qsize 0, out_qsize 0\n",
            "INFO - 20:23:49: worker thread finished; awaiting finish of 0 more threads\n",
            "INFO - 20:23:49: EPOCH - 54 : training on 376259 raw words (161563 effective words) took 2.6s, 61312 effective words/s\n",
            "INFO - 20:23:50: EPOCH 55 - PROGRESS: at 37.36% examples, 58655 words/s, in_qsize 0, out_qsize 0\n",
            "INFO - 20:23:51: EPOCH 55 - PROGRESS: at 76.74% examples, 60358 words/s, in_qsize 0, out_qsize 0\n",
            "INFO - 20:23:51: worker thread finished; awaiting finish of 0 more threads\n",
            "INFO - 20:23:51: EPOCH - 55 : training on 376259 raw words (161962 effective words) took 2.6s, 61306 effective words/s\n",
            "INFO - 20:23:52: EPOCH 56 - PROGRESS: at 37.36% examples, 58602 words/s, in_qsize 0, out_qsize 0\n",
            "INFO - 20:23:53: EPOCH 56 - PROGRESS: at 76.74% examples, 59654 words/s, in_qsize 0, out_qsize 0\n",
            "INFO - 20:23:54: worker thread finished; awaiting finish of 0 more threads\n",
            "INFO - 20:23:54: EPOCH - 56 : training on 376259 raw words (161806 effective words) took 2.7s, 60741 effective words/s\n",
            "INFO - 20:23:55: EPOCH 57 - PROGRESS: at 37.36% examples, 59256 words/s, in_qsize 0, out_qsize 0\n",
            "INFO - 20:23:56: EPOCH 57 - PROGRESS: at 76.74% examples, 60896 words/s, in_qsize 0, out_qsize 0\n",
            "INFO - 20:23:57: worker thread finished; awaiting finish of 0 more threads\n",
            "INFO - 20:23:57: EPOCH - 57 : training on 376259 raw words (161436 effective words) took 2.6s, 61394 effective words/s\n",
            "INFO - 20:23:58: EPOCH 58 - PROGRESS: at 37.36% examples, 59557 words/s, in_qsize 0, out_qsize 0\n",
            "INFO - 20:23:59: EPOCH 58 - PROGRESS: at 76.74% examples, 60598 words/s, in_qsize 0, out_qsize 0\n",
            "INFO - 20:23:59: worker thread finished; awaiting finish of 0 more threads\n",
            "INFO - 20:23:59: EPOCH - 58 : training on 376259 raw words (162192 effective words) took 2.6s, 61682 effective words/s\n",
            "INFO - 20:24:00: EPOCH 59 - PROGRESS: at 39.97% examples, 61296 words/s, in_qsize 0, out_qsize 0\n",
            "INFO - 20:24:01: EPOCH 59 - PROGRESS: at 79.34% examples, 61242 words/s, in_qsize 0, out_qsize 0\n",
            "INFO - 20:24:02: worker thread finished; awaiting finish of 0 more threads\n",
            "INFO - 20:24:02: EPOCH - 59 : training on 376259 raw words (161979 effective words) took 2.6s, 61432 effective words/s\n",
            "INFO - 20:24:03: EPOCH 60 - PROGRESS: at 37.36% examples, 59663 words/s, in_qsize 0, out_qsize 0\n",
            "INFO - 20:24:04: EPOCH 60 - PROGRESS: at 76.74% examples, 61053 words/s, in_qsize 0, out_qsize 0\n",
            "INFO - 20:24:04: worker thread finished; awaiting finish of 0 more threads\n",
            "INFO - 20:24:04: EPOCH - 60 : training on 376259 raw words (161719 effective words) took 2.6s, 61735 effective words/s\n",
            "INFO - 20:24:06: EPOCH 61 - PROGRESS: at 39.97% examples, 60819 words/s, in_qsize 0, out_qsize 0\n",
            "INFO - 20:24:07: EPOCH 61 - PROGRESS: at 79.34% examples, 60947 words/s, in_qsize 0, out_qsize 0\n",
            "INFO - 20:24:07: worker thread finished; awaiting finish of 0 more threads\n",
            "INFO - 20:24:07: EPOCH - 61 : training on 376259 raw words (161944 effective words) took 2.6s, 61473 effective words/s\n",
            "INFO - 20:24:08: EPOCH 62 - PROGRESS: at 37.36% examples, 59037 words/s, in_qsize 0, out_qsize 0\n",
            "INFO - 20:24:09: EPOCH 62 - PROGRESS: at 76.74% examples, 60164 words/s, in_qsize 0, out_qsize 0\n",
            "INFO - 20:24:10: worker thread finished; awaiting finish of 0 more threads\n",
            "INFO - 20:24:10: EPOCH - 62 : training on 376259 raw words (161803 effective words) took 2.6s, 61276 effective words/s\n",
            "INFO - 20:24:11: EPOCH 63 - PROGRESS: at 39.97% examples, 61184 words/s, in_qsize 0, out_qsize 0\n",
            "INFO - 20:24:12: EPOCH 63 - PROGRESS: at 79.34% examples, 61445 words/s, in_qsize 0, out_qsize 0\n",
            "INFO - 20:24:12: worker thread finished; awaiting finish of 0 more threads\n",
            "INFO - 20:24:12: EPOCH - 63 : training on 376259 raw words (161936 effective words) took 2.6s, 61886 effective words/s\n",
            "INFO - 20:24:13: EPOCH 64 - PROGRESS: at 26.81% examples, 42619 words/s, in_qsize 0, out_qsize 0\n",
            "INFO - 20:24:14: EPOCH 64 - PROGRESS: at 66.12% examples, 52241 words/s, in_qsize 0, out_qsize 0\n",
            "INFO - 20:24:15: worker thread finished; awaiting finish of 0 more threads\n",
            "INFO - 20:24:15: EPOCH - 64 : training on 376259 raw words (162145 effective words) took 2.9s, 55682 effective words/s\n",
            "INFO - 20:24:16: EPOCH 65 - PROGRESS: at 37.36% examples, 59368 words/s, in_qsize 0, out_qsize 0\n",
            "INFO - 20:24:17: EPOCH 65 - PROGRESS: at 76.74% examples, 60438 words/s, in_qsize 0, out_qsize 0\n",
            "INFO - 20:24:18: worker thread finished; awaiting finish of 0 more threads\n",
            "INFO - 20:24:18: EPOCH - 65 : training on 376259 raw words (162100 effective words) took 2.7s, 60978 effective words/s\n",
            "INFO - 20:24:19: EPOCH 66 - PROGRESS: at 37.36% examples, 58208 words/s, in_qsize 0, out_qsize 0\n",
            "INFO - 20:24:20: EPOCH 66 - PROGRESS: at 76.74% examples, 59155 words/s, in_qsize 0, out_qsize 0\n",
            "INFO - 20:24:21: worker thread finished; awaiting finish of 0 more threads\n",
            "INFO - 20:24:21: EPOCH - 66 : training on 376259 raw words (161619 effective words) took 2.7s, 59883 effective words/s\n",
            "INFO - 20:24:22: EPOCH 67 - PROGRESS: at 37.36% examples, 58483 words/s, in_qsize 0, out_qsize 0\n",
            "INFO - 20:24:23: EPOCH 67 - PROGRESS: at 74.15% examples, 59086 words/s, in_qsize 0, out_qsize 0\n",
            "INFO - 20:24:23: worker thread finished; awaiting finish of 0 more threads\n",
            "INFO - 20:24:23: EPOCH - 67 : training on 376259 raw words (161916 effective words) took 2.7s, 60091 effective words/s\n",
            "INFO - 20:24:24: EPOCH 68 - PROGRESS: at 37.36% examples, 59852 words/s, in_qsize 0, out_qsize 0\n",
            "INFO - 20:24:25: EPOCH 68 - PROGRESS: at 76.74% examples, 61215 words/s, in_qsize 0, out_qsize 0\n",
            "INFO - 20:24:26: worker thread finished; awaiting finish of 0 more threads\n",
            "INFO - 20:24:26: EPOCH - 68 : training on 376259 raw words (162000 effective words) took 2.6s, 61742 effective words/s\n",
            "INFO - 20:24:27: EPOCH 69 - PROGRESS: at 37.36% examples, 59416 words/s, in_qsize 0, out_qsize 0\n",
            "INFO - 20:24:28: EPOCH 69 - PROGRESS: at 76.74% examples, 60066 words/s, in_qsize 0, out_qsize 0\n",
            "INFO - 20:24:29: worker thread finished; awaiting finish of 0 more threads\n",
            "INFO - 20:24:29: EPOCH - 69 : training on 376259 raw words (162160 effective words) took 2.7s, 60419 effective words/s\n",
            "INFO - 20:24:30: EPOCH 70 - PROGRESS: at 37.36% examples, 58826 words/s, in_qsize 0, out_qsize 0\n",
            "INFO - 20:24:31: EPOCH 70 - PROGRESS: at 76.74% examples, 59443 words/s, in_qsize 0, out_qsize 0\n",
            "INFO - 20:24:31: worker thread finished; awaiting finish of 0 more threads\n",
            "INFO - 20:24:31: EPOCH - 70 : training on 376259 raw words (161927 effective words) took 2.7s, 60359 effective words/s\n",
            "INFO - 20:24:32: EPOCH 71 - PROGRESS: at 37.36% examples, 60079 words/s, in_qsize 0, out_qsize 0\n",
            "INFO - 20:24:33: EPOCH 71 - PROGRESS: at 74.15% examples, 59719 words/s, in_qsize 0, out_qsize 0\n",
            "INFO - 20:24:34: worker thread finished; awaiting finish of 0 more threads\n",
            "INFO - 20:24:34: EPOCH - 71 : training on 376259 raw words (161793 effective words) took 2.7s, 60756 effective words/s\n",
            "INFO - 20:24:35: EPOCH 72 - PROGRESS: at 39.97% examples, 60680 words/s, in_qsize 0, out_qsize 0\n",
            "INFO - 20:24:36: EPOCH 72 - PROGRESS: at 79.34% examples, 61168 words/s, in_qsize 0, out_qsize 0\n",
            "INFO - 20:24:37: worker thread finished; awaiting finish of 0 more threads\n",
            "INFO - 20:24:37: EPOCH - 72 : training on 376259 raw words (161880 effective words) took 2.6s, 61519 effective words/s\n",
            "INFO - 20:24:38: EPOCH 73 - PROGRESS: at 37.36% examples, 59421 words/s, in_qsize 0, out_qsize 0\n",
            "INFO - 20:24:39: EPOCH 73 - PROGRESS: at 76.74% examples, 60639 words/s, in_qsize 0, out_qsize 0\n",
            "INFO - 20:24:39: worker thread finished; awaiting finish of 0 more threads\n",
            "INFO - 20:24:39: EPOCH - 73 : training on 376259 raw words (162163 effective words) took 2.7s, 60571 effective words/s\n",
            "INFO - 20:24:40: EPOCH 74 - PROGRESS: at 37.36% examples, 59617 words/s, in_qsize 0, out_qsize 0\n",
            "INFO - 20:24:41: EPOCH 74 - PROGRESS: at 76.74% examples, 60916 words/s, in_qsize 0, out_qsize 0\n",
            "INFO - 20:24:42: worker thread finished; awaiting finish of 0 more threads\n",
            "INFO - 20:24:42: EPOCH - 74 : training on 376259 raw words (161838 effective words) took 2.6s, 61583 effective words/s\n",
            "INFO - 20:24:43: EPOCH 75 - PROGRESS: at 37.36% examples, 59536 words/s, in_qsize 0, out_qsize 0\n",
            "INFO - 20:24:44: EPOCH 75 - PROGRESS: at 76.74% examples, 60750 words/s, in_qsize 0, out_qsize 0\n",
            "INFO - 20:24:45: worker thread finished; awaiting finish of 0 more threads\n",
            "INFO - 20:24:45: EPOCH - 75 : training on 376259 raw words (161534 effective words) took 2.6s, 61096 effective words/s\n",
            "INFO - 20:24:46: EPOCH 76 - PROGRESS: at 37.36% examples, 60056 words/s, in_qsize 0, out_qsize 0\n",
            "INFO - 20:24:47: EPOCH 76 - PROGRESS: at 76.74% examples, 60731 words/s, in_qsize 0, out_qsize 0\n",
            "INFO - 20:24:47: worker thread finished; awaiting finish of 0 more threads\n",
            "INFO - 20:24:47: EPOCH - 76 : training on 376259 raw words (161528 effective words) took 2.6s, 61510 effective words/s\n",
            "INFO - 20:24:48: EPOCH 77 - PROGRESS: at 37.36% examples, 59495 words/s, in_qsize 0, out_qsize 0\n",
            "INFO - 20:24:49: EPOCH 77 - PROGRESS: at 76.74% examples, 60352 words/s, in_qsize 0, out_qsize 0\n",
            "INFO - 20:24:50: worker thread finished; awaiting finish of 0 more threads\n",
            "INFO - 20:24:50: EPOCH - 77 : training on 376259 raw words (162249 effective words) took 2.7s, 60585 effective words/s\n",
            "INFO - 20:24:51: EPOCH 78 - PROGRESS: at 37.36% examples, 59854 words/s, in_qsize 0, out_qsize 0\n",
            "INFO - 20:24:52: EPOCH 78 - PROGRESS: at 76.74% examples, 60939 words/s, in_qsize 0, out_qsize 0\n",
            "INFO - 20:24:53: worker thread finished; awaiting finish of 0 more threads\n",
            "INFO - 20:24:53: EPOCH - 78 : training on 376259 raw words (161778 effective words) took 2.6s, 61213 effective words/s\n",
            "INFO - 20:24:54: EPOCH 79 - PROGRESS: at 37.36% examples, 59158 words/s, in_qsize 0, out_qsize 0\n",
            "INFO - 20:24:55: EPOCH 79 - PROGRESS: at 74.15% examples, 59530 words/s, in_qsize 0, out_qsize 0\n",
            "INFO - 20:24:55: worker thread finished; awaiting finish of 0 more threads\n",
            "INFO - 20:24:55: EPOCH - 79 : training on 376259 raw words (161741 effective words) took 2.7s, 60654 effective words/s\n",
            "INFO - 20:24:56: EPOCH 80 - PROGRESS: at 39.97% examples, 59762 words/s, in_qsize 0, out_qsize 0\n",
            "INFO - 20:24:57: EPOCH 80 - PROGRESS: at 79.34% examples, 61003 words/s, in_qsize 0, out_qsize 0\n",
            "INFO - 20:24:58: worker thread finished; awaiting finish of 0 more threads\n",
            "INFO - 20:24:58: EPOCH - 80 : training on 376259 raw words (162127 effective words) took 2.6s, 61421 effective words/s\n",
            "INFO - 20:24:59: EPOCH 81 - PROGRESS: at 37.36% examples, 59727 words/s, in_qsize 0, out_qsize 0\n",
            "INFO - 20:25:00: EPOCH 81 - PROGRESS: at 76.74% examples, 60192 words/s, in_qsize 0, out_qsize 0\n",
            "INFO - 20:25:01: worker thread finished; awaiting finish of 0 more threads\n",
            "INFO - 20:25:01: EPOCH - 81 : training on 376259 raw words (162242 effective words) took 2.7s, 60776 effective words/s\n",
            "INFO - 20:25:02: EPOCH 82 - PROGRESS: at 37.36% examples, 59725 words/s, in_qsize 0, out_qsize 0\n",
            "INFO - 20:25:03: EPOCH 82 - PROGRESS: at 76.74% examples, 60301 words/s, in_qsize 0, out_qsize 0\n",
            "INFO - 20:25:03: worker thread finished; awaiting finish of 0 more threads\n",
            "INFO - 20:25:03: EPOCH - 82 : training on 376259 raw words (161829 effective words) took 2.6s, 61121 effective words/s\n",
            "INFO - 20:25:04: EPOCH 83 - PROGRESS: at 37.36% examples, 59378 words/s, in_qsize 0, out_qsize 0\n",
            "INFO - 20:25:05: EPOCH 83 - PROGRESS: at 76.74% examples, 60609 words/s, in_qsize 0, out_qsize 0\n",
            "INFO - 20:25:06: worker thread finished; awaiting finish of 0 more threads\n",
            "INFO - 20:25:06: EPOCH - 83 : training on 376259 raw words (162297 effective words) took 2.7s, 60906 effective words/s\n",
            "INFO - 20:25:07: EPOCH 84 - PROGRESS: at 39.97% examples, 60502 words/s, in_qsize 0, out_qsize 0\n",
            "INFO - 20:25:08: EPOCH 84 - PROGRESS: at 79.34% examples, 61395 words/s, in_qsize 0, out_qsize 0\n",
            "INFO - 20:25:09: worker thread finished; awaiting finish of 0 more threads\n",
            "INFO - 20:25:09: EPOCH - 84 : training on 376259 raw words (161883 effective words) took 2.6s, 61665 effective words/s\n",
            "INFO - 20:25:10: EPOCH 85 - PROGRESS: at 37.36% examples, 60205 words/s, in_qsize 0, out_qsize 0\n",
            "INFO - 20:25:11: EPOCH 85 - PROGRESS: at 74.15% examples, 59708 words/s, in_qsize 0, out_qsize 0\n",
            "INFO - 20:25:11: worker thread finished; awaiting finish of 0 more threads\n",
            "INFO - 20:25:11: EPOCH - 85 : training on 376259 raw words (161728 effective words) took 2.7s, 60480 effective words/s\n",
            "INFO - 20:25:12: EPOCH 86 - PROGRESS: at 37.36% examples, 58835 words/s, in_qsize 0, out_qsize 0\n",
            "INFO - 20:25:13: EPOCH 86 - PROGRESS: at 76.74% examples, 60144 words/s, in_qsize 0, out_qsize 0\n",
            "INFO - 20:25:14: worker thread finished; awaiting finish of 0 more threads\n",
            "INFO - 20:25:14: EPOCH - 86 : training on 376259 raw words (161513 effective words) took 2.7s, 60630 effective words/s\n",
            "INFO - 20:25:15: EPOCH 87 - PROGRESS: at 37.36% examples, 59925 words/s, in_qsize 0, out_qsize 0\n",
            "INFO - 20:25:16: EPOCH 87 - PROGRESS: at 74.15% examples, 60036 words/s, in_qsize 0, out_qsize 0\n",
            "INFO - 20:25:17: worker thread finished; awaiting finish of 0 more threads\n",
            "INFO - 20:25:17: EPOCH - 87 : training on 376259 raw words (161949 effective words) took 2.7s, 60912 effective words/s\n",
            "INFO - 20:25:18: EPOCH 88 - PROGRESS: at 39.97% examples, 60614 words/s, in_qsize 0, out_qsize 0\n",
            "INFO - 20:25:19: EPOCH 88 - PROGRESS: at 79.34% examples, 60943 words/s, in_qsize 0, out_qsize 0\n",
            "INFO - 20:25:19: worker thread finished; awaiting finish of 0 more threads\n",
            "INFO - 20:25:19: EPOCH - 88 : training on 376259 raw words (161860 effective words) took 2.6s, 61640 effective words/s\n",
            "INFO - 20:25:20: EPOCH 89 - PROGRESS: at 37.36% examples, 60109 words/s, in_qsize 0, out_qsize 0\n",
            "INFO - 20:25:21: EPOCH 89 - PROGRESS: at 74.15% examples, 60061 words/s, in_qsize 0, out_qsize 0\n",
            "INFO - 20:25:22: worker thread finished; awaiting finish of 0 more threads\n",
            "INFO - 20:25:22: EPOCH - 89 : training on 376259 raw words (161924 effective words) took 2.7s, 60293 effective words/s\n",
            "INFO - 20:25:23: EPOCH 90 - PROGRESS: at 39.97% examples, 60590 words/s, in_qsize 0, out_qsize 0\n",
            "INFO - 20:25:24: EPOCH 90 - PROGRESS: at 79.34% examples, 61078 words/s, in_qsize 0, out_qsize 0\n",
            "INFO - 20:25:25: worker thread finished; awaiting finish of 0 more threads\n",
            "INFO - 20:25:25: EPOCH - 90 : training on 376259 raw words (161976 effective words) took 2.6s, 61866 effective words/s\n",
            "INFO - 20:25:26: EPOCH 91 - PROGRESS: at 37.36% examples, 60106 words/s, in_qsize 0, out_qsize 0\n",
            "INFO - 20:25:27: EPOCH 91 - PROGRESS: at 76.74% examples, 61147 words/s, in_qsize 0, out_qsize 0\n",
            "INFO - 20:25:27: worker thread finished; awaiting finish of 0 more threads\n",
            "INFO - 20:25:27: EPOCH - 91 : training on 376259 raw words (162133 effective words) took 2.6s, 62055 effective words/s\n",
            "INFO - 20:25:28: EPOCH 92 - PROGRESS: at 37.36% examples, 60023 words/s, in_qsize 0, out_qsize 0\n",
            "INFO - 20:25:29: EPOCH 92 - PROGRESS: at 76.74% examples, 61315 words/s, in_qsize 0, out_qsize 0\n",
            "INFO - 20:25:30: worker thread finished; awaiting finish of 0 more threads\n",
            "INFO - 20:25:30: EPOCH - 92 : training on 376259 raw words (162140 effective words) took 2.6s, 62215 effective words/s\n",
            "INFO - 20:25:31: EPOCH 93 - PROGRESS: at 39.97% examples, 61235 words/s, in_qsize 0, out_qsize 0\n",
            "INFO - 20:25:32: EPOCH 93 - PROGRESS: at 76.74% examples, 59909 words/s, in_qsize 0, out_qsize 0\n",
            "INFO - 20:25:33: worker thread finished; awaiting finish of 0 more threads\n",
            "INFO - 20:25:33: EPOCH - 93 : training on 376259 raw words (162133 effective words) took 2.7s, 61104 effective words/s\n",
            "INFO - 20:25:34: EPOCH 94 - PROGRESS: at 37.36% examples, 59952 words/s, in_qsize 0, out_qsize 0\n",
            "INFO - 20:25:35: EPOCH 94 - PROGRESS: at 76.74% examples, 60417 words/s, in_qsize 0, out_qsize 0\n",
            "INFO - 20:25:35: worker thread finished; awaiting finish of 0 more threads\n",
            "INFO - 20:25:35: EPOCH - 94 : training on 376259 raw words (161976 effective words) took 2.7s, 60639 effective words/s\n",
            "INFO - 20:25:36: EPOCH 95 - PROGRESS: at 37.36% examples, 59754 words/s, in_qsize 0, out_qsize 0\n",
            "INFO - 20:25:37: EPOCH 95 - PROGRESS: at 76.74% examples, 59891 words/s, in_qsize 0, out_qsize 0\n",
            "INFO - 20:25:38: worker thread finished; awaiting finish of 0 more threads\n",
            "INFO - 20:25:38: EPOCH - 95 : training on 376259 raw words (161793 effective words) took 2.7s, 60544 effective words/s\n",
            "INFO - 20:25:39: EPOCH 96 - PROGRESS: at 37.36% examples, 58750 words/s, in_qsize 0, out_qsize 0\n",
            "INFO - 20:25:40: EPOCH 96 - PROGRESS: at 76.74% examples, 60099 words/s, in_qsize 0, out_qsize 0\n",
            "INFO - 20:25:41: worker thread finished; awaiting finish of 0 more threads\n",
            "INFO - 20:25:41: EPOCH - 96 : training on 376259 raw words (162110 effective words) took 2.7s, 61133 effective words/s\n",
            "INFO - 20:25:42: EPOCH 97 - PROGRESS: at 39.97% examples, 60099 words/s, in_qsize 0, out_qsize 0\n",
            "INFO - 20:25:43: EPOCH 97 - PROGRESS: at 79.34% examples, 60685 words/s, in_qsize 0, out_qsize 0\n",
            "INFO - 20:25:43: worker thread finished; awaiting finish of 0 more threads\n",
            "INFO - 20:25:43: EPOCH - 97 : training on 376259 raw words (162183 effective words) took 2.9s, 55652 effective words/s\n",
            "INFO - 20:25:45: EPOCH 98 - PROGRESS: at 39.97% examples, 60441 words/s, in_qsize 0, out_qsize 0\n",
            "INFO - 20:25:46: EPOCH 98 - PROGRESS: at 79.34% examples, 60968 words/s, in_qsize 0, out_qsize 0\n",
            "INFO - 20:25:46: worker thread finished; awaiting finish of 0 more threads\n",
            "INFO - 20:25:46: EPOCH - 98 : training on 376259 raw words (161522 effective words) took 2.6s, 61480 effective words/s\n",
            "INFO - 20:25:47: EPOCH 99 - PROGRESS: at 37.36% examples, 60058 words/s, in_qsize 0, out_qsize 0\n",
            "INFO - 20:25:48: EPOCH 99 - PROGRESS: at 76.74% examples, 60852 words/s, in_qsize 0, out_qsize 0\n",
            "INFO - 20:25:49: worker thread finished; awaiting finish of 0 more threads\n",
            "INFO - 20:25:49: EPOCH - 99 : training on 376259 raw words (161938 effective words) took 2.6s, 61270 effective words/s\n",
            "INFO - 20:25:50: EPOCH 100 - PROGRESS: at 39.97% examples, 60468 words/s, in_qsize 0, out_qsize 0\n",
            "INFO - 20:25:51: EPOCH 100 - PROGRESS: at 79.34% examples, 61013 words/s, in_qsize 0, out_qsize 0\n",
            "INFO - 20:25:51: worker thread finished; awaiting finish of 0 more threads\n",
            "INFO - 20:25:51: EPOCH - 100 : training on 376259 raw words (161815 effective words) took 2.6s, 61761 effective words/s\n",
            "INFO - 20:25:51: training on a 37625900 raw words (16190284 effective words) took 266.0s, 60857 effective words/s\n"
          ],
          "name": "stderr"
        },
        {
          "output_type": "execute_result",
          "data": {
            "text/plain": [
              "(16190284, 37625900)"
            ]
          },
          "metadata": {
            "tags": []
          },
          "execution_count": 50
        }
      ]
    },
    {
      "cell_type": "code",
      "metadata": {
        "colab": {
          "base_uri": "https://localhost:8080/"
        },
        "id": "-SFQSmu0iWMk",
        "outputId": "97e154a8-3f4a-4153-ebcb-370651180b58"
      },
      "source": [
        "w2v.init_sims(replace=True)"
      ],
      "execution_count": null,
      "outputs": [
        {
          "output_type": "stream",
          "text": [
            "INFO - 20:26:10: precomputing L2-norms of word weight vectors\n"
          ],
          "name": "stderr"
        }
      ]
    },
    {
      "cell_type": "markdown",
      "metadata": {
        "id": "yw7sbwBTjEa7"
      },
      "source": [
        "### Subtask 3: Exploring the Model\n"
      ]
    },
    {
      "cell_type": "markdown",
      "metadata": {
        "id": "nl_BhptRjEa8"
      },
      "source": [
        "As mentioned in the lecture, word embeddings are suited for similarity and analogy tasks. Let's explore some of that with our dataset: \n",
        "\n",
        "We look for most similar words to the famous coffee shop where most of the episodes took place, namely `central_perk` and also one of the characters `joey`. If you have followed the exercise correctly until now, you should see that words like `laying` are similar to `central_perk` and the other main characters are also considered similar to `joey`.\n",
        "\n"
      ]
    },
    {
      "cell_type": "code",
      "metadata": {
        "colab": {
          "base_uri": "https://localhost:8080/"
        },
        "id": "7XoTY9RajEa8",
        "outputId": "9ac68166-986d-400e-976a-acbf6cbe1c57"
      },
      "source": [
        "###your code### \n",
        "w2v.wv.most_similar(positive=[\"central_perk\"])"
      ],
      "execution_count": null,
      "outputs": [
        {
          "output_type": "execute_result",
          "data": {
            "text/plain": [
              "[('conan', 0.6499655246734619),\n",
              " ('aaah', 0.6430685520172119),\n",
              " ('itscene', 0.5574625730514526),\n",
              " ('deadline', 0.5573766231536865),\n",
              " ('aaahhh', 0.5539358854293823),\n",
              " ('mitzi', 0.5441156625747681),\n",
              " ('sitting', 0.5377589464187622),\n",
              " ('dejectedly', 0.5362467765808105),\n",
              " ('thatscene', 0.530768871307373),\n",
              " ('coffee', 0.53019118309021)]"
            ]
          },
          "metadata": {
            "tags": []
          },
          "execution_count": 52
        }
      ]
    },
    {
      "cell_type": "code",
      "metadata": {
        "colab": {
          "base_uri": "https://localhost:8080/"
        },
        "id": "rB1wBoRwjEa8",
        "outputId": "075bb165-80c6-4c8e-f2d2-2e5e73643469"
      },
      "source": [
        "###your code### \n",
        "w2v.wv.most_similar(positive=[\"joey\"])"
      ],
      "execution_count": null,
      "outputs": [
        {
          "output_type": "execute_result",
          "data": {
            "text/plain": [
              "[('chandler', 0.9125280380249023),\n",
              " ('monica', 0.8385242819786072),\n",
              " ('rachel', 0.8337999582290649),\n",
              " ('ross', 0.8246485590934753),\n",
              " ('him', 0.776767373085022),\n",
              " ('phoebe', 0.741597592830658),\n",
              " ('and', 0.7195862531661987),\n",
              " ('he', 0.7065567970275879),\n",
              " ('turns', 0.6923996806144714),\n",
              " ('tighter', 0.6849449872970581)]"
            ]
          },
          "metadata": {
            "tags": []
          },
          "execution_count": 53
        }
      ]
    },
    {
      "cell_type": "markdown",
      "metadata": {
        "id": "SmlFLt2TjEa9"
      },
      "source": [
        "Look at the similarity of `mrs_green` to `rachel` (her mom) and `ross`  and `spaceship` (urelated). The first one should have a high and the second low score. Finally look at the similarity of `smelly_cat` ( a song from pheobe) and `song` the similarity should be high."
      ]
    },
    {
      "cell_type": "code",
      "metadata": {
        "colab": {
          "base_uri": "https://localhost:8080/"
        },
        "id": "5Nb2IxxIjEa9",
        "outputId": "74ec93b0-71ef-4048-a9dd-828d8baff69e"
      },
      "source": [
        "###your code### \n",
        "w2v.wv.similarity(\"mrs_green\", 'rachel')"
      ],
      "execution_count": null,
      "outputs": [
        {
          "output_type": "execute_result",
          "data": {
            "text/plain": [
              "0.74068975"
            ]
          },
          "metadata": {
            "tags": []
          },
          "execution_count": 190
        }
      ]
    },
    {
      "cell_type": "code",
      "metadata": {
        "colab": {
          "base_uri": "https://localhost:8080/"
        },
        "id": "ucuj3BSkjEa9",
        "outputId": "cd1cfd2d-dbcf-497a-d620-9966d286c9a5"
      },
      "source": [
        "###your code### \n",
        "w2v.wv.similarity(\"ross\", 'spaceship')"
      ],
      "execution_count": null,
      "outputs": [
        {
          "output_type": "execute_result",
          "data": {
            "text/plain": [
              "-0.3264322"
            ]
          },
          "metadata": {
            "tags": []
          },
          "execution_count": 191
        }
      ]
    },
    {
      "cell_type": "code",
      "metadata": {
        "colab": {
          "base_uri": "https://localhost:8080/"
        },
        "id": "K7NuAb7bjEa9",
        "outputId": "488be5a6-e055-44d3-94c3-eb59bcda4ccd"
      },
      "source": [
        "###your code### \n",
        "w2v.wv.similarity(\"smelly_cat\", 'song')"
      ],
      "execution_count": null,
      "outputs": [
        {
          "output_type": "execute_result",
          "data": {
            "text/plain": [
              "0.62645215"
            ]
          },
          "metadata": {
            "tags": []
          },
          "execution_count": 192
        }
      ]
    },
    {
      "cell_type": "markdown",
      "metadata": {
        "id": "eoY4pnd1jEa-"
      },
      "source": [
        "We can also ask our model to give us the word that does not belong to a list of words. Let's see from the list of all 5 characters which one is the most dissimilar? \n"
      ]
    },
    {
      "cell_type": "code",
      "metadata": {
        "id": "jNO6d76njEa-"
      },
      "source": [
        "character_names= ['joey', 'rachel', 'phoebe','monica','chandler']"
      ],
      "execution_count": null,
      "outputs": []
    },
    {
      "cell_type": "code",
      "metadata": {
        "colab": {
          "base_uri": "https://localhost:8080/",
          "height": 91
        },
        "id": "ldUxBRXgjEa-",
        "outputId": "01bfcc93-261b-4adb-bf86-41e8b2088922"
      },
      "source": [
        "w2v.wv.doesnt_match(character_names)### your code### "
      ],
      "execution_count": null,
      "outputs": [
        {
          "output_type": "stream",
          "text": [
            "/usr/local/lib/python3.6/dist-packages/gensim/models/keyedvectors.py:895: FutureWarning: arrays to stack must be passed as a \"sequence\" type such as list or tuple. Support for non-sequence iterables such as generators is deprecated as of NumPy 1.16 and will raise an error in the future.\n",
            "  vectors = vstack(self.word_vec(word, use_norm=True) for word in used_words).astype(REAL)\n"
          ],
          "name": "stderr"
        },
        {
          "output_type": "execute_result",
          "data": {
            "application/vnd.google.colaboratory.intrinsic+json": {
              "type": "string"
            },
            "text/plain": [
              "'phoebe'"
            ]
          },
          "metadata": {
            "tags": []
          },
          "execution_count": 56
        }
      ]
    },
    {
      "cell_type": "markdown",
      "metadata": {
        "id": "WwyGG4GSjEa_"
      },
      "source": [
        "Based on the analogies, which word is to `rachel` as `man` is to `women`? (print the top 3); you should get `chandler` and `monica` among the answers."
      ]
    },
    {
      "cell_type": "code",
      "metadata": {
        "colab": {
          "base_uri": "https://localhost:8080/"
        },
        "id": "agr6s-OtjEa_",
        "outputId": "8d9f0de7-19b2-4eb7-a02a-987761bb7e48"
      },
      "source": [
        "w2v.wv.most_similar(positive=[\"rachel\", \"man\"], negative=[\"women\"], topn=3)### your code### "
      ],
      "execution_count": null,
      "outputs": [
        {
          "output_type": "execute_result",
          "data": {
            "text/plain": [
              "[('monica', 0.7742742300033569),\n",
              " ('joey', 0.740937352180481),\n",
              " ('chandler', 0.7405201196670532)]"
            ]
          },
          "metadata": {
            "tags": []
          },
          "execution_count": 54
        }
      ]
    },
    {
      "cell_type": "markdown",
      "metadata": {
        "id": "dDdV63ozjEa_"
      },
      "source": [
        "Finally, lets use t-SNE to look at the distribution of our embeddings in the vector space for the character `joey`. Follow the instructions and fill in the blank in the `tsneplot` function."
      ]
    },
    {
      "cell_type": "code",
      "metadata": {
        "id": "2GuirGDfjEa_"
      },
      "source": [
        "import numpy as np\n",
        "import matplotlib.pyplot as plt\n",
        "%matplotlib inline\n",
        "import seaborn as sns\n",
        "import sys\n",
        "from sklearn.manifold import TSNE"
      ],
      "execution_count": null,
      "outputs": []
    },
    {
      "cell_type": "code",
      "metadata": {
        "id": "GcjSA91XjEa_"
      },
      "source": [
        "def tsneplot(model, word):\n",
        "    \"\"\" Plot in seaborn the results from the t-SNE dimensionality reduction for the top 10 most similar and dissimilar words\n",
        "    \"\"\"\n",
        "    embs = np.empty((0, 100), dtype='f')# to save all the embeddings\n",
        "    word_labels = [word]\n",
        "    color_list  = ['green']\n",
        "\n",
        "   \n",
        "    embs = np.append(embs, [model.wv[word]], axis=0) # adds the vector of the query word\n",
        "    \n",
        "   \n",
        "    close_words = model.wv.most_similar(positive=[word]) # gets list of most similar words\n",
        "    all_sims = model.wv.most_similar(negative=[word]) # gets list of most dissimilar words (get the sorted list of all the words and their similarity and choose the bottom 10 )\n",
        "    \n",
        "    # adds the vector for each of the closest words to the array\n",
        "    for wrd_score in close_words:\n",
        "        wrd_vector = model.wv[wrd_score[0]]#get the vector \n",
        "        word_labels.append(wrd_score[0])\n",
        "        color_list.append('blue')\n",
        "        embs = np.append(embs, [wrd_vector], axis=0)\n",
        "        \n",
        "    # adds the vector for each of the furthest words to the array\n",
        "    #for wrd_score in far_words:\n",
        "    for wrd_score in all_sims:\n",
        "        wrd_vector = model.wv[wrd_score[0]]#get the vector \n",
        "        word_labels.append(wrd_score[0])\n",
        "        color_list.append('red')\n",
        "        embs = np.append(embs, [wrd_vector], axis=0)\n",
        "    \n",
        "    np.set_printoptions(suppress=True)\n",
        "    # with  n_components=2, random_state=42, perplexity=15 \n",
        "    #Y = TSNE(n_components=2, random_state=42, perplexity=15).fit_transform(reduc)\n",
        "    Y = TSNE(n_components=2, random_state=42, perplexity=15).fit_transform(embs)\n",
        "    \n",
        "    # Sets everything up to plot\n",
        "    df = pd.DataFrame({'x': [x for x in Y[:, 0]],\n",
        "                       'y': [y for y in Y[:, 1]],\n",
        "                       'words': word_labels,\n",
        "                       'color': color_list})\n",
        "    \n",
        "    fig, _ = plt.subplots()\n",
        "    fig.set_size_inches(10, 10)\n",
        "    \n",
        "    # Basic plot\n",
        "    p1 = sns.regplot(data=df,\n",
        "                     x=\"x\",\n",
        "                     y=\"y\",\n",
        "                     fit_reg=False,\n",
        "                     marker=\"o\",\n",
        "                     scatter_kws={'s': 40,\n",
        "                                  'facecolors': df['color']\n",
        "                                 }\n",
        "                    )\n",
        "    \n",
        "    # adds annotations one by one with a loop\n",
        "    for line in range(0, df.shape[0]):\n",
        "         p1.text(df[\"x\"][line],\n",
        "                 df['y'][line],\n",
        "                 '  ' + df[\"words\"][line].title(),\n",
        "                 horizontalalignment='left',\n",
        "                 verticalalignment='bottom', size='medium',\n",
        "                 color=df['color'][line],\n",
        "                 weight='normal'\n",
        "                ).set_size(15)\n",
        "\n",
        "    \n",
        "    plt.xlim(Y[:, 0].min()-50, Y[:, 0].max()+50)\n",
        "    plt.ylim(Y[:, 1].min()-50, Y[:, 1].max()+50)\n",
        "            \n",
        "    plt.title('t-SNE visualization for {}'.format(word.title()))\n",
        "    "
      ],
      "execution_count": null,
      "outputs": []
    },
    {
      "cell_type": "code",
      "metadata": {
        "colab": {
          "base_uri": "https://localhost:8080/",
          "height": 621
        },
        "id": "1k4_SNepjEbA",
        "outputId": "6233610c-59b8-434b-df70-a11e04bce20c"
      },
      "source": [
        "tsneplot(w2v, 'joey')\n",
        "#tsneplot(w2v, 'monica')"
      ],
      "execution_count": null,
      "outputs": [
        {
          "output_type": "display_data",
          "data": {
            "image/png": "[encoded data removed]",
            "text/plain": [
              "<Figure size 720x720 with 1 Axes>"
            ]
          },
          "metadata": {
            "tags": [],
            "needs_background": "light"
          }
        }
      ]
    },
    {
      "cell_type": "markdown",
      "metadata": {
        "id": "Z1gZRbWcjEbB"
      },
      "source": [
        "## Task 2: Multi-class Classification ( 1+ 3 + 2 = 6 points)\n",
        "In this task, we aim to classify consumer finance complaints into 12 pre-defined classes. Note that this is not a multi-label task, and we assume that each new complaint is assigned to one and only one category. The data comes from https://www.data.gov/ (US government’s open data) and contains complaints that are published after the company responds, confirming a commercial relationship with the consumer, or after 15 days, whatever comes first.\n"
      ]
    },
    {
      "cell_type": "markdown",
      "metadata": {
        "id": "dzDUw6cxjEbB"
      },
      "source": [
        "### Sub Task 1: Data Exploration"
      ]
    },
    {
      "cell_type": "markdown",
      "metadata": {
        "id": "Uem729YmjEbB"
      },
      "source": [
        "Read the data to a pandas dataframe from `complaints.csv`; this is a rather large file of 206MB. Keep only the `Consumer complaint narrative` (input text) and `product`(labels). Remove the missing values, rename `Consumer complaint narrative` to `Narrative` for ease of use, and add a column encoding the product as an integer. This will represent your labels for classification and the mapping will be used later on. Create two dictionaries: one mapping the ids to products and one mapping products to their ids."
      ]
    },
    {
      "cell_type": "code",
      "metadata": {
        "id": "Fwz2zEjXjEbC",
        "colab": {
          "base_uri": "https://localhost:8080/",
          "height": 197
        },
        "outputId": "c4f43d37-7f11-478f-e3d0-fa2ce84bba8e"
      },
      "source": [
        "import pandas as pd\n",
        "from io import StringIO\n",
        "df = pd.read_csv('complaints.csv')###read the file ####\n",
        "#df.info()\n",
        "df = df[['Product', 'Consumer complaint narrative']] ###keep the columns you need ####\n",
        "df = df.rename(columns={\"Consumer complaint narrative\": \"Narrative\"}) ###rename columns ####\n",
        "df.head()"
      ],
      "execution_count": 1,
      "outputs": [
        {
          "output_type": "execute_result",
          "data": {
            "text/html": [
              "<div>\n",
              "<style scoped>\n",
              "    .dataframe tbody tr th:only-of-type {\n",
              "        vertical-align: middle;\n",
              "    }\n",
              "\n",
              "    .dataframe tbody tr th {\n",
              "        vertical-align: top;\n",
              "    }\n",
              "\n",
              "    .dataframe thead th {\n",
              "        text-align: right;\n",
              "    }\n",
              "</style>\n",
              "<table border=\"1\" class=\"dataframe\">\n",
              "  <thead>\n",
              "    <tr style=\"text-align: right;\">\n",
              "      <th></th>\n",
              "      <th>Product</th>\n",
              "      <th>Narrative</th>\n",
              "    </tr>\n",
              "  </thead>\n",
              "  <tbody>\n",
              "    <tr>\n",
              "      <th>0</th>\n",
              "      <td>Checking or savings account</td>\n",
              "      <td>NaN</td>\n",
              "    </tr>\n",
              "    <tr>\n",
              "      <th>1</th>\n",
              "      <td>Money transfer, virtual currency, or money ser...</td>\n",
              "      <td>I was sold access to an event digitally, of wh...</td>\n",
              "    </tr>\n",
              "    <tr>\n",
              "      <th>2</th>\n",
              "      <td>Vehicle loan or lease</td>\n",
              "      <td>NaN</td>\n",
              "    </tr>\n",
              "    <tr>\n",
              "      <th>3</th>\n",
              "      <td>Checking or savings account</td>\n",
              "      <td>NaN</td>\n",
              "    </tr>\n",
              "    <tr>\n",
              "      <th>4</th>\n",
              "      <td>Checking or savings account</td>\n",
              "      <td>NaN</td>\n",
              "    </tr>\n",
              "  </tbody>\n",
              "</table>\n",
              "</div>"
            ],
            "text/plain": [
              "                                             Product                                          Narrative\n",
              "0                        Checking or savings account                                                NaN\n",
              "1  Money transfer, virtual currency, or money ser...  I was sold access to an event digitally, of wh...\n",
              "2                              Vehicle loan or lease                                                NaN\n",
              "3                        Checking or savings account                                                NaN\n",
              "4                        Checking or savings account                                                NaN"
            ]
          },
          "metadata": {
            "tags": []
          },
          "execution_count": 1
        }
      ]
    },
    {
      "cell_type": "code",
      "metadata": {
        "id": "jguhB0pRjEbC",
        "colab": {
          "base_uri": "https://localhost:8080/",
          "height": 197
        },
        "outputId": "3b4c1f12-3dba-49c2-f590-246dcf4ce911"
      },
      "source": [
        "df = df[pd.notnull(df['Narrative'])]### remove missing #### \n",
        "df['product_id'] = df['Product'].factorize()[0]### integer ids for product ### \n",
        "### create the dictionary #### \n",
        "products = df[['Product', 'product_id']].drop_duplicates().sort_values('product_id')\n",
        "product_to_id = dict(products.values)\n",
        "id_to_product = dict(products[['product_id', 'Product']].values)\n",
        "df.head()"
      ],
      "execution_count": 2,
      "outputs": [
        {
          "output_type": "execute_result",
          "data": {
            "text/html": [
              "<div>\n",
              "<style scoped>\n",
              "    .dataframe tbody tr th:only-of-type {\n",
              "        vertical-align: middle;\n",
              "    }\n",
              "\n",
              "    .dataframe tbody tr th {\n",
              "        vertical-align: top;\n",
              "    }\n",
              "\n",
              "    .dataframe thead th {\n",
              "        text-align: right;\n",
              "    }\n",
              "</style>\n",
              "<table border=\"1\" class=\"dataframe\">\n",
              "  <thead>\n",
              "    <tr style=\"text-align: right;\">\n",
              "      <th></th>\n",
              "      <th>Product</th>\n",
              "      <th>Narrative</th>\n",
              "      <th>product_id</th>\n",
              "    </tr>\n",
              "  </thead>\n",
              "  <tbody>\n",
              "    <tr>\n",
              "      <th>1</th>\n",
              "      <td>Money transfer, virtual currency, or money ser...</td>\n",
              "      <td>I was sold access to an event digitally, of wh...</td>\n",
              "      <td>0</td>\n",
              "    </tr>\n",
              "    <tr>\n",
              "      <th>5</th>\n",
              "      <td>Vehicle loan or lease</td>\n",
              "      <td>I LEASED MY CAR ON XX/XX/XXXX AND MADE PAYMENT...</td>\n",
              "      <td>1</td>\n",
              "    </tr>\n",
              "    <tr>\n",
              "      <th>6</th>\n",
              "      <td>Student loan</td>\n",
              "      <td>My original lender was XXXX XXXX XXXX ; this l...</td>\n",
              "      <td>2</td>\n",
              "    </tr>\n",
              "    <tr>\n",
              "      <th>8</th>\n",
              "      <td>Student loan</td>\n",
              "      <td>I was misled by XXXX XXXX  and my degree did n...</td>\n",
              "      <td>2</td>\n",
              "    </tr>\n",
              "    <tr>\n",
              "      <th>10</th>\n",
              "      <td>Vehicle loan or lease</td>\n",
              "      <td>I purchased a vehicle 3 years ago. As of recen...</td>\n",
              "      <td>1</td>\n",
              "    </tr>\n",
              "  </tbody>\n",
              "</table>\n",
              "</div>"
            ],
            "text/plain": [
              "                                              Product  ... product_id\n",
              "1   Money transfer, virtual currency, or money ser...  ...          0\n",
              "5                               Vehicle loan or lease  ...          1\n",
              "6                                        Student loan  ...          2\n",
              "8                                        Student loan  ...          2\n",
              "10                              Vehicle loan or lease  ...          1\n",
              "\n",
              "[5 rows x 3 columns]"
            ]
          },
          "metadata": {
            "tags": []
          },
          "execution_count": 2
        }
      ]
    },
    {
      "cell_type": "markdown",
      "metadata": {
        "id": "rWieNYSmjEbC"
      },
      "source": [
        "Look at the class distribution of the products. It is always a good idea to look at the relative number of instances for each class before performing any classification task. Use the `plot` function from the dataframe to show the number of instances in each class in a histogram."
      ]
    },
    {
      "cell_type": "code",
      "metadata": {
        "id": "pyYgWCoEkPBz"
      },
      "source": [
        "import matplotlib.pyplot as plt\n",
        "import numpy as np"
      ],
      "execution_count": 16,
      "outputs": []
    },
    {
      "cell_type": "code",
      "metadata": {
        "id": "uIU5e_4jjEbC",
        "colab": {
          "base_uri": "https://localhost:8080/",
          "height": 740
        },
        "outputId": "c2134ce1-1def-4ae8-dd81-7c36927d6701"
      },
      "source": [
        "import matplotlib.pyplot as plt\n",
        "fig = plt.figure(figsize=(10,8))\n",
        "df.groupby('Product').Narrative.count().plot.bar(ylim=0) ### your code ###\n",
        "plt.show()"
      ],
      "execution_count": null,
      "outputs": [
        {
          "output_type": "display_data",
          "data": {
            "image/png": "[encoded data removed]",
            "text/plain": [
              "<Figure size 720x576 with 1 Axes>"
            ]
          },
          "metadata": {
            "tags": [],
            "needs_background": "light"
          }
        }
      ]
    },
    {
      "cell_type": "markdown",
      "metadata": {
        "id": "xRcoPie0jEbD"
      },
      "source": [
        "If you have done the exercise correctly you should observe a class imbalance with `credit reporting` having the most complaints. This can result in some difficulties for standard algorithms, making them biased towards the majority class and treating the minority classes as outliers and unimportant. One way to overcome this problem is by using **undersampling** or **oversampling**. However, this is beyond the scope of this assignment."
      ]
    },
    {
      "cell_type": "markdown",
      "metadata": {
        "id": "Dw_zd0SijEbD"
      },
      "source": [
        "### Sub Task 2: Text Representation and Training the Classifier \n",
        "Before performing any classification we need to split our data into train and test sets. Use `sklearn` to save 20 percent of the data for the test and the rest for training. Make sure to input the index of the data frame to retrieve the indices of the test and train. \n"
      ]
    },
    {
      "cell_type": "code",
      "metadata": {
        "colab": {
          "base_uri": "https://localhost:8080/"
        },
        "id": "90sxFBniXfE3",
        "outputId": "1b38a143-eebf-415d-f96a-d3ab9f481eae"
      },
      "source": [
        "#df['Narrative'].shape"
      ],
      "execution_count": null,
      "outputs": [
        {
          "output_type": "execute_result",
          "data": {
            "text/plain": [
              "(165809,)"
            ]
          },
          "metadata": {
            "tags": []
          },
          "execution_count": 21
        }
      ]
    },
    {
      "cell_type": "code",
      "metadata": {
        "colab": {
          "base_uri": "https://localhost:8080/"
        },
        "id": "KAfFzSFMXkNs",
        "outputId": "c1daa89b-c91c-4562-b6f6-efaff405f8a2"
      },
      "source": [
        "#df['product_id'].shape"
      ],
      "execution_count": null,
      "outputs": [
        {
          "output_type": "execute_result",
          "data": {
            "text/plain": [
              "(165809,)"
            ]
          },
          "metadata": {
            "tags": []
          },
          "execution_count": 24
        }
      ]
    },
    {
      "cell_type": "code",
      "metadata": {
        "id": "M-AasTNQjEbD"
      },
      "source": [
        "from sklearn.model_selection import train_test_split\n",
        "X_train, X_test, y_train, y_test, indices_train, indices_test =train_test_split(df['Narrative'], df['Product'], df.index, \n",
        "                                                    test_size=0.2)### your code ###"
      ],
      "execution_count": 3,
      "outputs": []
    },
    {
      "cell_type": "markdown",
      "metadata": {
        "id": "wq2ThYQbjEbD"
      },
      "source": [
        "To perform any sort of classification task, we first need to convert our raw text into some vector representation. Let's use the `TfidfVectorizer` from `sklearn` to convert the `narrative` column into TF-IDF vectors. When transforming the text keep the following in mind:\n",
        "- use the logarithmic form for frequency\n",
        "- remove accents (ASCII) \n",
        "- lowercase all characters \n",
        "- remove `English` stop words \n",
        "- ignore terms that have a document frequency strictly less than 10\n",
        "- smooth IDF weights by adding one to document frequencies \n",
        "- output row should have unit L2 norm\n",
        "- set the encoding to `Latin-1`\n",
        "- extract both uni-grams and bi-grams \n",
        "- build a vocabulary that only considers the top 10.000 features\n",
        "Keep in mind that the vectorizer should be trained **only** on the training data, and the test data should be transformed using the same model."
      ]
    },
    {
      "cell_type": "code",
      "metadata": {
        "id": "rWY-og7wjEbD",
        "colab": {
          "base_uri": "https://localhost:8080/"
        },
        "outputId": "3f2925ad-9d4a-4541-eb6c-3de6d1a3dcd0"
      },
      "source": [
        "from sklearn.feature_extraction.text import TfidfVectorizer\n",
        "tfidf = TfidfVectorizer(sublinear_tf=True,strip_accents='ascii',lowercase=True,stop_words='english',\n",
        "                        min_df=10,smooth_idf=True,norm='l2',encoding='latin-1',ngram_range=(1,2),\n",
        "                        max_features=10000)###initlize the model ### \n",
        "X_train = tfidf.fit_transform(X_train).toarray()###transform text  ### \n",
        "X_train.shape # should be (132647, 10000) "
      ],
      "execution_count": 4,
      "outputs": [
        {
          "output_type": "execute_result",
          "data": {
            "text/plain": [
              "(132647, 10000)"
            ]
          },
          "metadata": {
            "tags": []
          },
          "execution_count": 4
        }
      ]
    },
    {
      "cell_type": "markdown",
      "metadata": {
        "id": "eK1Vq59tjEbE"
      },
      "source": [
        "After the data transformation, we attain the features and labels, to train the classifier. In our case, we use **Naive Bayes Classifier**. \n",
        "- split the features and labels into training and test set (set the random state to 42) \n",
        "- use `MultinomialNB` from sklearn to classify the data "
      ]
    },
    {
      "cell_type": "code",
      "metadata": {
        "id": "PQ8qQHq6jEbE",
        "colab": {
          "base_uri": "https://localhost:8080/"
        },
        "outputId": "3b5174c8-ab3e-4faa-ee86-8036613745c0"
      },
      "source": [
        "from sklearn.naive_bayes import MultinomialNB\n",
        "from sklearn.feature_extraction.text import CountVectorizer\n",
        "from sklearn.feature_extraction.text import TfidfTransformer\n",
        "X_train, X_test, y_train, y_test = train_test_split(df['Narrative'], df['Product'],test_size=0.2, random_state = 42)\n",
        "tfidf.fit(X_train)\n",
        "X_train, X_test = tfidf.transform(X_train), tfidf.transform(X_test)\n",
        "clf = MultinomialNB()\n",
        "clf.fit(X_train, y_train)\n",
        "#clf =### fit the model to the data ### "
      ],
      "execution_count": 5,
      "outputs": [
        {
          "output_type": "execute_result",
          "data": {
            "text/plain": [
              "MultinomialNB(alpha=1.0, class_prior=None, fit_prior=True)"
            ]
          },
          "metadata": {
            "tags": []
          },
          "execution_count": 5
        }
      ]
    },
    {
      "cell_type": "code",
      "metadata": {
        "id": "bfrfkzS113IF"
      },
      "source": [
        "prediction = clf.predict(X_test)"
      ],
      "execution_count": 6,
      "outputs": []
    },
    {
      "cell_type": "markdown",
      "metadata": {
        "id": "zFIeCw2LjEbE"
      },
      "source": [
        "### Sub Task 3: Model Evaluation  "
      ]
    },
    {
      "cell_type": "markdown",
      "metadata": {
        "id": "kcsMbMWrjEbE"
      },
      "source": [
        "We evaluate our model using the held-out test data. We are going to look at the confusion matrix to show the performance of the model. "
      ]
    },
    {
      "cell_type": "code",
      "metadata": {
        "id": "rXxcQKGwjEbF",
        "colab": {
          "base_uri": "https://localhost:8080/",
          "height": 848
        },
        "outputId": "696ce337-cea5-4db1-fc4e-031371a193e5"
      },
      "source": [
        "from sklearn.metrics import confusion_matrix\n",
        "import seaborn as sns\n",
        "y_pred =clf.predict(X_test) ### predict on the test set ### \n",
        "conf = confusion_matrix(y_test, y_pred)### create the confusion matrix ### \n",
        "fig, ax = plt.subplots(figsize=(10,10))\n",
        "sns.heatmap(conf, annot=True, fmt='d',\n",
        "            xticklabels=products.Product.values,###products names from the dictionary ###,\n",
        "            yticklabels=products.Product.values)### products names from the dictionary###)\n",
        "plt.ylabel('True Label')\n",
        "plt.xlabel('Predicted Label')\n",
        "plt.show()"
      ],
      "execution_count": 9,
      "outputs": [
        {
          "output_type": "display_data",
          "data": {
            "image/png": "[encoded data removed]",
            "text/plain": [
              "<Figure size 720x720 with 2 Axes>"
            ]
          },
          "metadata": {
            "tags": [],
            "needs_background": "light"
          }
        }
      ]
    },
    {
      "cell_type": "markdown",
      "metadata": {
        "id": "TZwigGVsjEbF"
      },
      "source": [
        "The majority of the predictions end up on the diagonal (predicted label = actual label). The diagonal shows the correct classified classes. However, there are several misclassifications, specifically `Checking or savings account` is often confused with `Bank account or service`. Let's take a look at why this happens. For this, we look at 5 misclassified examples."
      ]
    },
    {
      "cell_type": "code",
      "metadata": {
        "colab": {
          "base_uri": "https://localhost:8080/",
          "height": 508
        },
        "id": "n-wdBlyAmRAk",
        "outputId": "5685f421-8c41-4b53-b820-4715d0386d76"
      },
      "source": [
        "unique_pred = np.unique(y_pred)\n",
        "pred_counter = Counter(y_pred)\n",
        "plt.bar(unique_pred, pred_counter.values())\n",
        "plt.xticks(unique_pred, rotation=90)\n",
        "plt.show()"
      ],
      "execution_count": 19,
      "outputs": [
        {
          "output_type": "display_data",
          "data": {
            "image/png": "[encoded data removed]",
            "text/plain": [
              "<Figure size 432x288 with 1 Axes>"
            ]
          },
          "metadata": {
            "tags": [],
            "needs_background": "light"
          }
        }
      ]
    },
    {
      "cell_type": "code",
      "metadata": {
        "id": "iZ1vJJicjEbF",
        "colab": {
          "base_uri": "https://localhost:8080/",
          "height": 347
        },
        "outputId": "038d144f-daba-43d4-c1d8-4f26658afe37"
      },
      "source": [
        "actual='Bank account or service'\n",
        "predicted= 'Checking or savings account'\n",
        "### print only the top 10 \n",
        "###choose the ones that have an actual label of Bank account or service and the predicted label of Checking or savings account ###)\n",
        "misclassified = df[(df['Product'] == actual) | (df['Product'] == predicted)] ## from df get all rwo where labels== actual and predicted \n",
        "misclassified[:10] #"
      ],
      "execution_count": 11,
      "outputs": [
        {
          "output_type": "execute_result",
          "data": {
            "text/html": [
              "<div>\n",
              "<style scoped>\n",
              "    .dataframe tbody tr th:only-of-type {\n",
              "        vertical-align: middle;\n",
              "    }\n",
              "\n",
              "    .dataframe tbody tr th {\n",
              "        vertical-align: top;\n",
              "    }\n",
              "\n",
              "    .dataframe thead th {\n",
              "        text-align: right;\n",
              "    }\n",
              "</style>\n",
              "<table border=\"1\" class=\"dataframe\">\n",
              "  <thead>\n",
              "    <tr style=\"text-align: right;\">\n",
              "      <th></th>\n",
              "      <th>Product</th>\n",
              "      <th>Narrative</th>\n",
              "      <th>product_id</th>\n",
              "    </tr>\n",
              "  </thead>\n",
              "  <tbody>\n",
              "    <tr>\n",
              "      <th>15</th>\n",
              "      <td>Checking or savings account</td>\n",
              "      <td>Capital One mailed me a closeout check on or a...</td>\n",
              "      <td>3</td>\n",
              "    </tr>\n",
              "    <tr>\n",
              "      <th>22</th>\n",
              "      <td>Checking or savings account</td>\n",
              "      <td>I made an appointment at XXXX for myself and a...</td>\n",
              "      <td>3</td>\n",
              "    </tr>\n",
              "    <tr>\n",
              "      <th>42</th>\n",
              "      <td>Checking or savings account</td>\n",
              "      <td>Capital 1 bank had an offer \" Deposit {$50000....</td>\n",
              "      <td>3</td>\n",
              "    </tr>\n",
              "    <tr>\n",
              "      <th>56</th>\n",
              "      <td>Checking or savings account</td>\n",
              "      <td>Continued CFPB case NO.XXXX Participated in Se...</td>\n",
              "      <td>3</td>\n",
              "    </tr>\n",
              "    <tr>\n",
              "      <th>65</th>\n",
              "      <td>Checking or savings account</td>\n",
              "      <td>I am a victim of a school loan consolidation s...</td>\n",
              "      <td>3</td>\n",
              "    </tr>\n",
              "    <tr>\n",
              "      <th>66</th>\n",
              "      <td>Checking or savings account</td>\n",
              "      <td>Small business ( checking and savings ) ( corp...</td>\n",
              "      <td>3</td>\n",
              "    </tr>\n",
              "    <tr>\n",
              "      <th>68</th>\n",
              "      <td>Checking or savings account</td>\n",
              "      <td>Our granddaughter XXXX XXXX XXXX contacted us ...</td>\n",
              "      <td>3</td>\n",
              "    </tr>\n",
              "    <tr>\n",
              "      <th>115</th>\n",
              "      <td>Checking or savings account</td>\n",
              "      <td>I had filed a joint tax return and the check, ...</td>\n",
              "      <td>3</td>\n",
              "    </tr>\n",
              "    <tr>\n",
              "      <th>122</th>\n",
              "      <td>Checking or savings account</td>\n",
              "      <td>Have been an account holder of Wells Fargo ban...</td>\n",
              "      <td>3</td>\n",
              "    </tr>\n",
              "    <tr>\n",
              "      <th>130</th>\n",
              "      <td>Checking or savings account</td>\n",
              "      <td>I opened a savings account at Wells Fargo to d...</td>\n",
              "      <td>3</td>\n",
              "    </tr>\n",
              "  </tbody>\n",
              "</table>\n",
              "</div>"
            ],
            "text/plain": [
              "                         Product  ... product_id\n",
              "15   Checking or savings account  ...          3\n",
              "22   Checking or savings account  ...          3\n",
              "42   Checking or savings account  ...          3\n",
              "56   Checking or savings account  ...          3\n",
              "65   Checking or savings account  ...          3\n",
              "66   Checking or savings account  ...          3\n",
              "68   Checking or savings account  ...          3\n",
              "115  Checking or savings account  ...          3\n",
              "122  Checking or savings account  ...          3\n",
              "130  Checking or savings account  ...          3\n",
              "\n",
              "[10 rows x 3 columns]"
            ]
          },
          "metadata": {
            "tags": []
          },
          "execution_count": 11
        }
      ]
    },
    {
      "cell_type": "code",
      "metadata": {
        "colab": {
          "base_uri": "https://localhost:8080/",
          "height": 406
        },
        "id": "dR6Efmesep5J",
        "outputId": "9e9ae168-3c66-4044-a1ec-0b44bfe9a31d"
      },
      "source": [
        "misclassified ## df.shape = 41901 \r\n",
        "\r\n",
        "indices_of_predicted = indices_test[y_pred == predicted] ## list of indices where y_pred == predicted\r\n",
        "\r\n",
        "misclassified = misclassified[misclassified.index.isin(indices_of_predicted)] ## shape 6292\r\n",
        "misclassified[misclassified['product_id'] == 3] ## shape 1454"
      ],
      "execution_count": 14,
      "outputs": [
        {
          "output_type": "execute_result",
          "data": {
            "text/html": [
              "<div>\n",
              "<style scoped>\n",
              "    .dataframe tbody tr th:only-of-type {\n",
              "        vertical-align: middle;\n",
              "    }\n",
              "\n",
              "    .dataframe tbody tr th {\n",
              "        vertical-align: top;\n",
              "    }\n",
              "\n",
              "    .dataframe thead th {\n",
              "        text-align: right;\n",
              "    }\n",
              "</style>\n",
              "<table border=\"1\" class=\"dataframe\">\n",
              "  <thead>\n",
              "    <tr style=\"text-align: right;\">\n",
              "      <th></th>\n",
              "      <th>Product</th>\n",
              "      <th>Narrative</th>\n",
              "      <th>product_id</th>\n",
              "    </tr>\n",
              "  </thead>\n",
              "  <tbody>\n",
              "    <tr>\n",
              "      <th>261</th>\n",
              "      <td>Checking or savings account</td>\n",
              "      <td>bank pf america in reporting accounts to my XX...</td>\n",
              "      <td>3</td>\n",
              "    </tr>\n",
              "    <tr>\n",
              "      <th>775</th>\n",
              "      <td>Checking or savings account</td>\n",
              "      <td>Right now I'm in mediation ... with Wells Farg...</td>\n",
              "      <td>3</td>\n",
              "    </tr>\n",
              "    <tr>\n",
              "      <th>778</th>\n",
              "      <td>Checking or savings account</td>\n",
              "      <td>Bank of America 's debit card broke and I lost...</td>\n",
              "      <td>3</td>\n",
              "    </tr>\n",
              "    <tr>\n",
              "      <th>860</th>\n",
              "      <td>Checking or savings account</td>\n",
              "      <td>I am trying to resolve an issue i have with Na...</td>\n",
              "      <td>3</td>\n",
              "    </tr>\n",
              "    <tr>\n",
              "      <th>2512</th>\n",
              "      <td>Checking or savings account</td>\n",
              "      <td>On XXXX XXXX I received a direct deposit from ...</td>\n",
              "      <td>3</td>\n",
              "    </tr>\n",
              "    <tr>\n",
              "      <th>...</th>\n",
              "      <td>...</td>\n",
              "      <td>...</td>\n",
              "      <td>...</td>\n",
              "    </tr>\n",
              "    <tr>\n",
              "      <th>558684</th>\n",
              "      <td>Checking or savings account</td>\n",
              "      <td>Main Complaint : Chase Banker lied about CD pe...</td>\n",
              "      <td>3</td>\n",
              "    </tr>\n",
              "    <tr>\n",
              "      <th>558762</th>\n",
              "      <td>Checking or savings account</td>\n",
              "      <td>XX/XX/XXXX, my account had fraud actiivity. So...</td>\n",
              "      <td>3</td>\n",
              "    </tr>\n",
              "    <tr>\n",
              "      <th>558876</th>\n",
              "      <td>Checking or savings account</td>\n",
              "      <td>Opened a Capital one 360 money market account ...</td>\n",
              "      <td>3</td>\n",
              "    </tr>\n",
              "    <tr>\n",
              "      <th>559168</th>\n",
              "      <td>Checking or savings account</td>\n",
              "      <td>A family member who asked me to put their bank...</td>\n",
              "      <td>3</td>\n",
              "    </tr>\n",
              "    <tr>\n",
              "      <th>559248</th>\n",
              "      <td>Checking or savings account</td>\n",
              "      <td>On XX/XX/XXXX I noticed a charge on my debit c...</td>\n",
              "      <td>3</td>\n",
              "    </tr>\n",
              "  </tbody>\n",
              "</table>\n",
              "<p>1230 rows × 3 columns</p>\n",
              "</div>"
            ],
            "text/plain": [
              "                            Product  ... product_id\n",
              "261     Checking or savings account  ...          3\n",
              "775     Checking or savings account  ...          3\n",
              "778     Checking or savings account  ...          3\n",
              "860     Checking or savings account  ...          3\n",
              "2512    Checking or savings account  ...          3\n",
              "...                             ...  ...        ...\n",
              "558684  Checking or savings account  ...          3\n",
              "558762  Checking or savings account  ...          3\n",
              "558876  Checking or savings account  ...          3\n",
              "559168  Checking or savings account  ...          3\n",
              "559248  Checking or savings account  ...          3\n",
              "\n",
              "[1230 rows x 3 columns]"
            ]
          },
          "metadata": {
            "tags": []
          },
          "execution_count": 14
        }
      ]
    },
    {
      "cell_type": "markdown",
      "metadata": {
        "id": "OKnPF3-TjEbF"
      },
      "source": [
        "As you can see, some of the misclassified complaints are complaints that are not easy to distinguish. "
      ]
    },
    {
      "cell_type": "markdown",
      "metadata": {
        "id": "PPiEpWUFjEbI"
      },
      "source": [
        "## Task 3: Auto-Complete ( 2 + 5 + 4 = 11 Points ) \n",
        "Let's get even more practical! In this problem set, you will build your own auto-completion system that you see every day while using search engines.\n",
        "\n",
        "[google]: https://www.thedad.com/wp-content/uploads/2018/05/screen-shot-2018-05-12-at-2-01-56-pm.png \"google auto complete\"\n",
        "\n",
        "![google]\n",
        "By the end of this assignment, you will develop a simple prototype of such a system using n-gram language models. At the heart of the system is a language model that assigns the probability to a sequence of words. We take advantage of this probability calculation to predict the next word. \n",
        "\n",
        "The problem set contains 3 main parts:\n",
        "\n",
        "1. Load and preprocess data (tokenize and split into train and test)\n",
        "2. Develop n-gram based language models by estimating the conditional probability of the next word.\n",
        "3. Evaluate the model by computing the perplexity score.\n"
      ]
    },
    {
      "cell_type": "markdown",
      "metadata": {
        "id": "qsMghrb5jEbJ"
      },
      "source": [
        "### Sub Task 1: Load and Preprocess Data \n",
        "We use a subset of English tweets to train our model. Run the cell below to load the data and observe a few lines of it. Notice that tweets are saved in a text file, where tweets are separated by `\\n`"
      ]
    },
    {
      "cell_type": "code",
      "metadata": {
        "id": "NNJ5cIvOjEbJ",
        "colab": {
          "base_uri": "https://localhost:8080/",
          "height": 124
        },
        "outputId": "9f2637eb-84b8-4e89-c5a9-6e60b60a0f3f"
      },
      "source": [
        "import math\n",
        "import random\n",
        "import numpy as np\n",
        "import spacy\n",
        "nlp = spacy.load(\"en_core_web_sm\", disable=[\"tagger\", \"parser\",\"ner\"])\n",
        "\n",
        "\n",
        "with open(\"twitter.txt\", \"r\") as f:\n",
        "    data = f.read()\n",
        "print(\"First 500 characters of the data:\")\n",
        "display(data[0:500])\n",
        "print(\"-------\")"
      ],
      "execution_count": null,
      "outputs": [
        {
          "output_type": "stream",
          "text": [
            "First 500 characters of the data:\n"
          ],
          "name": "stdout"
        },
        {
          "output_type": "display_data",
          "data": {
            "application/vnd.google.colaboratory.intrinsic+json": {
              "type": "string"
            },
            "text/plain": [
              "\"How are you? Btw thanks for the RT. You gonna be in DC anytime soon? Love to see you. Been way, way too long.\\nWhen you meet someone special... you'll know. Your heart will beat more rapidly and you'll smile for no reason.\\nthey've decided its more fun if I don't.\\nSo Tired D; Played Lazer Tag & Ran A LOT D; Ughh Going To Sleep Like In 5 Minutes ;)\\nWords from a complete stranger! Made my birthday even better :)\\nFirst Cubs game ever! Wrigley field is gorgeous. This is perfect. Go Cubs Go!\\ni no! i ge\""
            ]
          },
          "metadata": {
            "tags": []
          }
        },
        {
          "output_type": "stream",
          "text": [
            "-------\n"
          ],
          "name": "stdout"
        }
      ]
    },
    {
      "cell_type": "markdown",
      "metadata": {
        "id": "Fcg107K8jEbK"
      },
      "source": [
        "Now we need to separate the tweets and split them into train and test set. Apply the following pre-processing steps:\n",
        "\n",
        "1. Split data into sentences using \"\\n\" as the delimiter and remove the leading and trailing spaces (drop empty sentences)\n",
        "2. Tokenize the sentences into words using SpaCy and lowercase them. (notice that we do not remove stop words or punctuations.) \n",
        "3. Divide the sentences into 80 percent training and 20 percent test set. No validation set is required. Although in a real-world application it is best to set aside part of the data for hyperparameter tuning.\n",
        "4. To limit the vocabulary and remove potential spelling mistakes, make a vocabulary of the words that appear at least 2 times. The rest of the words will be replaced by the `<unk>` symbol. This is a crucial step since if your model encounters a word that it never saw during training, it won't have an input word that helps determining the next word for suggestion. We use the `<unk>` word for **out of Vocabulary (OOV)** words. Keep in mind that we built the vocabulary on the training data only."
      ]
    },
    {
      "cell_type": "code",
      "metadata": {
        "id": "jytfgQObjEbK"
      },
      "source": [
        "sentences = data.split(\"\\n\")#split\n",
        "sentences = [s.strip() for s in sentences]\n",
        "sentences = [s for s in sentences if len(s) > 0]  #remove spaces and drop empty sentences "
      ],
      "execution_count": null,
      "outputs": []
    },
    {
      "cell_type": "code",
      "metadata": {
        "colab": {
          "base_uri": "https://localhost:8080/"
        },
        "id": "EQBSXQ-r1rEB",
        "outputId": "2f84150f-640d-4606-cdfd-a1ec413999d1"
      },
      "source": [
        "print(sentences[:10])"
      ],
      "execution_count": null,
      "outputs": [
        {
          "output_type": "stream",
          "text": [
            "['How are you? Btw thanks for the RT. You gonna be in DC anytime soon? Love to see you. Been way, way too long.', \"When you meet someone special... you'll know. Your heart will beat more rapidly and you'll smile for no reason.\", \"they've decided its more fun if I don't.\", 'So Tired D; Played Lazer Tag & Ran A LOT D; Ughh Going To Sleep Like In 5 Minutes ;)', 'Words from a complete stranger! Made my birthday even better :)', 'First Cubs game ever! Wrigley field is gorgeous. This is perfect. Go Cubs Go!', 'i no! i get another day off from skool due to the wonderful snow (: and THIS wakes me up...damn thing', \"I'm coo... Jus at work hella tired r u ever in cali\", 'The new sundrop commercial ...hehe love at first sight', 'we need to reconnect THIS WEEK']\n"
          ],
          "name": "stdout"
        }
      ]
    },
    {
      "cell_type": "markdown",
      "metadata": {
        "id": "QNOvNT3GNfHq"
      },
      "source": [
        "Not the best solution with spacy tokenizer"
      ]
    },
    {
      "cell_type": "code",
      "metadata": {
        "id": "JiT8OYGnlYmD"
      },
      "source": [
        "tokenized_corpus = []\n",
        "for sent in sentences:\n",
        "  sent = sent.lower()\n",
        "  tokenized_corpus.append([token.text for token in nlp(sent)])"
      ],
      "execution_count": null,
      "outputs": []
    },
    {
      "cell_type": "code",
      "metadata": {
        "id": "qqizoyosl2yr"
      },
      "source": [
        "#print(tokenized_corpus[:40])"
      ],
      "execution_count": null,
      "outputs": []
    },
    {
      "cell_type": "code",
      "metadata": {
        "id": "0TACajKljEbL"
      },
      "source": [
        "from random import Random\n",
        "Random(4).shuffle(tokenized_corpus)\n",
        "   \n",
        "train_size = int(len(tokenized_corpus) * 0.8)\n",
        "train = tokenized_corpus[0:train_size] ##Your Code###\n",
        "test = tokenized_corpus[train_size:]  ##Your Code###"
      ],
      "execution_count": null,
      "outputs": []
    },
    {
      "cell_type": "code",
      "metadata": {
        "id": "2QAUnZGhQEhk"
      },
      "source": [
        "#print(test[:10])"
      ],
      "execution_count": null,
      "outputs": []
    },
    {
      "cell_type": "code",
      "metadata": {
        "id": "9aecjlkNjEbL"
      },
      "source": [
        "from collections import Counter\n",
        "### Flatten the train corpus ### \n",
        "flatten_corpus = []\n",
        "for tr in train:\n",
        "  for t in tr:\n",
        "    flatten_corpus.append(t)\n",
        "word_counts = Counter(flatten_corpus)### count the number of each token ### \n",
        "#print(word_counts)\n",
        "vocab = []\n",
        "for word, freq in word_counts.items(): \n",
        "  if freq>=2:\n",
        "    vocab.append(word)\n",
        "\n",
        "### keep only the ones with frequency bigger than 2 ### \n",
        "#print(len(vocab)) ### should be 16930 ### \n",
        "train_replaced = []\n",
        "test_replaced = []\n",
        "for sentence in train:\n",
        "  un_list = []\n",
        "  for s in sentence:\n",
        "    if s in vocab:\n",
        "      un_list.append(s)\n",
        "    else:\n",
        "      un_list.append('<unk>')\n",
        "  train_replaced.append(un_list)\n",
        "    ### adjust the sentence to contain the word in the vocabulary and <unk> for the rest #### \n",
        "for sentence in test:\n",
        "  un_list = []\n",
        "  for s in sentence:\n",
        "    if s in vocab:\n",
        "      un_list.append(s)\n",
        "    else:\n",
        "      un_list.append('<unk>')\n",
        "  test_replaced.append(un_list)"
      ],
      "execution_count": null,
      "outputs": []
    },
    {
      "cell_type": "code",
      "metadata": {
        "id": "AIss6K9y-Qvs"
      },
      "source": [
        "#train_replaced[:20]"
      ],
      "execution_count": null,
      "outputs": []
    },
    {
      "cell_type": "markdown",
      "metadata": {
        "id": "BQENgdmkjEbM"
      },
      "source": [
        "### Sub Task 2: N-gram Based Language Model: \n",
        "In this section, you will develop the n-grams language model. We assume that the probability of the next word depends only on the previous n-gram or previous n words. We compute this probability by counting the occurrences in the corpus.\n",
        "The conditional probability for the word at position 't' in the sentence, given that the words preceding it are $w_{t-1}, w_{t-2} \\cdots w_{t-n}$ can be estimated as follows:\n",
        "\n",
        "$$ \\hat{P}(w_t | w_{t-1}\\dots w_{t-n}) = \\frac{C(w_{t-1}\\dots w_{t-n}, w_n)}{C(w_{t-1}\\dots w_{t-n})}  $$\n",
        "\n",
        "The numerator is the number of times word 't' appears after the n-gram, and the denominator is the number of times the n-gram occurs in the corpus, where $C(\\cdots)$ is a count function. Later, we add k-smoothing to avoid errors when any counts are zero."
      ]
    },
    {
      "cell_type": "markdown",
      "metadata": {
        "id": "Y9nrAxPFjEbM"
      },
      "source": [
        "To tackle the problem of probability estimation we divide the problem into 3 parts. In the following you will: \n",
        "1. Implement a function that computes the counts of n-grams for an arbitrary number n.\n",
        "2. Estimate the probability of a word given the prior n-words using the n-gram counts.\n",
        "3. Calculate probabilities for all possible words.\n",
        "4. Create a probability matrix. \n",
        "The steps are detailed below. "
      ]
    },
    {
      "cell_type": "markdown",
      "metadata": {
        "id": "ffjc_lsJjEbN"
      },
      "source": [
        "Let's start by implementing a function that computes the counts of n-grams for an arbitrary number n.\n",
        "- Prepend necessary starting markers `<s>` to indicate the beginning of the sentence. In the case of a bi-gram model, you need to prepend two start tokens `<s><s>` to be able to predict the first word. \"hello world\"-> \"`<s><s>`hello world\".\n",
        "- Append an end token `<e>` so that the model can predict when to finish a sentence.\n",
        "- Create a dictionary to store all the n_gram counts."
      ]
    },
    {
      "cell_type": "code",
      "metadata": {
        "id": "i6R3Uaq_BTBl"
      },
      "source": [
        "import collections"
      ],
      "execution_count": null,
      "outputs": []
    },
    {
      "cell_type": "code",
      "metadata": {
        "id": "ZOO_XG-4jEbN"
      },
      "source": [
        "def n_grams_counts(corpus, n):\n",
        "    \"\"\"\n",
        "    Count all n-grams in the corpus given the parameter n \n",
        "    \n",
        "    corpus: List of lists of words (your tokenized corpus)\n",
        "    n: n in the n-gram\n",
        "    \n",
        "    Returns: A dictionary that maps a tuple of n words to its frequency\n",
        "    \"\"\"\n",
        "    start_token='<s>'\n",
        "    end_token = '<e>'\n",
        "    n_grams = {}\n",
        "    for sentence in range(len(corpus)): \n",
        "        sentence = [start_token]*n +list(corpus[sentence]) + [end_token]### add start and end token ###\n",
        "        sentence = tuple(sentence)\n",
        "        for i in range(0,len(sentence)-n+1): \n",
        "          n_gram = sentence[i:i+n]\n",
        "          if n_gram in n_grams.keys():  \n",
        "            n_grams[n_gram] += 1\n",
        "          else:\n",
        "            n_grams[n_gram] = 1\n",
        "        \n",
        "        ###iterate over the n-grams in the sentence, you can use the range() function, and increament the counts in the\n",
        "        ## n_grams dictionary, where the key is the n_gram and the value is count \n",
        "    return n_grams"
      ],
      "execution_count": null,
      "outputs": []
    },
    {
      "cell_type": "code",
      "metadata": {
        "colab": {
          "base_uri": "https://localhost:8080/"
        },
        "id": "ElB3p0CaA6zu",
        "outputId": "e3693508-eb93-44d9-9ecc-959b6c4d5ac5"
      },
      "source": [
        "sentences = [['the', 'moon', 'and', 'stars', 'are','shining','bright'],\n",
        "             ['the', 'moon', 'is', 'shinnig','tonight'],\n",
        "             ['mars','and' ,'moon', 'are', 'plants'],\n",
        "             ['the' ,'moon', 'is','a', 'plant']]\n",
        "print(n_grams_counts(sentences, 1))\n",
        "print(n_grams_counts(sentences, 2))"
      ],
      "execution_count": null,
      "outputs": [
        {
          "output_type": "stream",
          "text": [
            "{('<s>',): 4, ('the',): 3, ('moon',): 4, ('and',): 2, ('stars',): 1, ('are',): 2, ('shining',): 1, ('bright',): 1, ('<e>',): 4, ('is',): 2, ('shinnig',): 1, ('tonight',): 1, ('mars',): 1, ('plants',): 1, ('a',): 1, ('plant',): 1}\n",
            "{('<s>', '<s>'): 4, ('<s>', 'the'): 3, ('the', 'moon'): 3, ('moon', 'and'): 1, ('and', 'stars'): 1, ('stars', 'are'): 1, ('are', 'shining'): 1, ('shining', 'bright'): 1, ('bright', '<e>'): 1, ('moon', 'is'): 2, ('is', 'shinnig'): 1, ('shinnig', 'tonight'): 1, ('tonight', '<e>'): 1, ('<s>', 'mars'): 1, ('mars', 'and'): 1, ('and', 'moon'): 1, ('moon', 'are'): 1, ('are', 'plants'): 1, ('plants', '<e>'): 1, ('is', 'a'): 1, ('a', 'plant'): 1, ('plant', '<e>'): 1}\n"
          ],
          "name": "stdout"
        }
      ]
    },
    {
      "cell_type": "markdown",
      "metadata": {
        "id": "G4fCDZs1jEbN"
      },
      "source": [
        "The next step is to estimate the probability of a word given the prior n words using the n-gram counts, based on the formula given at the beginning of this task. To deal with the problem of zero division we add k-smoothing. K-smoothing adds a positive constant $k$ to each numerator and $k \\times |vocabulary size|$ in the denominator. Below we will define a function that takes in a dictionary `n_gram_cnt`, where the key is the n-gram, and the value is the count of that n-gram, plus a dictionary for `plus_current_gram_cnt`, which you'll use to find the count for the previous n-gram plus the current word. Notice that these dictionaries are computed using the previous function `n_grams_counts`.\n"
      ]
    },
    {
      "cell_type": "code",
      "metadata": {
        "id": "qtZJTfWYjEbO"
      },
      "source": [
        "def probability(word, prev_n_gram, \n",
        "                         n_gram_cnts, n_plus1_gram_cnts, vocab_size):\n",
        "    \"\"\"\n",
        "    Estimate the probabilities of a next word using the n-gram counts with k-smoothing\n",
        "    word: next word\n",
        "    prev_n_gram: previous n gram\n",
        "    n_gram_cnts: dictionary of counts of n-grams\n",
        "    plus_current_gram_cnts: dictionary of counts of (n+1)-grams -> current word+ n-gram = (n+1)-gram\n",
        "    vocab_size: number of words in the vocabulary\n",
        "    \n",
        "    Returns: A probability\n",
        "    \"\"\"\n",
        "    k=1.0\n",
        "    prev_n_gram = tuple(prev_n_gram)\n",
        "    \n",
        "    prev_n_gram_cnt = n_gram_cnts.get(prev_n_gram,0)# get the previous n-gram count from the dictionary \n",
        "    denominator = prev_n_gram_cnt+vocab_size*k # denominator with the previous n-gram count and k-smoothing\n",
        "    n_plus1_gram = prev_n_gram+tuple([word]) # add the current word to the n-gram \n",
        "    n_plus1_gram_cnt = n_plus1_gram_cnts.get(n_plus1_gram,0) # get the current n-gram count using the dictionary\n",
        "    numerator = n_plus1_gram_cnt+k #calculate the numerator with k-smoothing\n",
        "    prob = numerator/denominator\n",
        "    \n",
        "    return prob"
      ],
      "execution_count": null,
      "outputs": []
    },
    {
      "cell_type": "markdown",
      "metadata": {
        "id": "7TcN-_CEjEbO"
      },
      "source": [
        "Let's use the functions we have defined to calculate probabilities for all possible words.\n"
      ]
    },
    {
      "cell_type": "code",
      "metadata": {
        "id": "iSlfs2ocjEbO"
      },
      "source": [
        "def probabilities(prev_n_gram, n_gram_cnts, plus_current_gram_cnts, vocab):\n",
        "    \"\"\"\n",
        "    Estimate the probabilities for all the words in the vocabulary given the previous n-gram \n",
        "    prev_n_gram: previous n-gram\n",
        "    n_gram_cnts: dictionary of counts of n-grams\n",
        "    plus_current_gram_cntsplus_current_gram_cnt: dictionary of counts of (n+1)-grams -> current word+ n-gram = (n+1)-gram\n",
        "    vocab: List of words\n",
        "    \n",
        "    Returns: A dictionary mapping from next words to the probability.\n",
        "    \"\"\"\n",
        "    prev_n_gram = tuple(prev_n_gram)\n",
        "    \n",
        "    vocab = vocab + [\"<e>\", \"<unk>\"] # add <e> <unk> to the vocabulary\n",
        "    vocabulary_size = len(vocab) #compute the size \n",
        "    \n",
        "    probabilities = {}\n",
        "    for word in vocab:\n",
        "      probability1 = probability(word, prev_n_gram, n_gram_cnts, plus_current_gram_cnts, \n",
        "                                           vocabulary_size)\n",
        "      probabilities[word] = probability1\n",
        "        ### compute the probability \n",
        "    return probabilities"
      ],
      "execution_count": null,
      "outputs": []
    },
    {
      "cell_type": "code",
      "metadata": {
        "id": "ShFNWY3hjEbP",
        "colab": {
          "base_uri": "https://localhost:8080/"
        },
        "outputId": "c9b6f010-56cd-4120-c587-76b5b640d346"
      },
      "source": [
        "# Predict the probability of the all possible words after the unigram \"the\"\n",
        "sentences = [['the', 'moon', 'and', 'stars', 'are','shining','bright'],\n",
        "             ['the', 'moon', 'is', 'shinnig','tonight'],\n",
        "             ['mars','and' ,'moon', 'are', 'plants'],\n",
        "             ['the' ,'moon', 'is','a', 'plant']]\n",
        "unique_words = list(set(sentences[0] + sentences[1] + sentences[2]+ sentences[3]))\n",
        "print(unique_words)\n",
        "unigram_counts = n_grams_counts(sentences, 1)\n",
        "bigram_counts = n_grams_counts(sentences, 2)\n",
        "print(\"The word 'moon' should have the highest probability, if it is not the case, re-visit your previous functions.\")\n",
        "probabilities([\"the\"], unigram_counts, bigram_counts, unique_words)"
      ],
      "execution_count": null,
      "outputs": [
        {
          "output_type": "stream",
          "text": [
            "['moon', 'shinnig', 'tonight', 'are', 'shining', 'mars', 'plants', 'and', 'stars', 'is', 'plant', 'the', 'bright', 'a']\n",
            "The word 'moon' should have the highest probability, if it is not the case, re-visit your previous functions.\n"
          ],
          "name": "stdout"
        },
        {
          "output_type": "execute_result",
          "data": {
            "text/plain": [
              "{'<e>': 0.05263157894736842,\n",
              " '<unk>': 0.05263157894736842,\n",
              " 'a': 0.05263157894736842,\n",
              " 'and': 0.05263157894736842,\n",
              " 'are': 0.05263157894736842,\n",
              " 'bright': 0.05263157894736842,\n",
              " 'is': 0.05263157894736842,\n",
              " 'mars': 0.05263157894736842,\n",
              " 'moon': 0.21052631578947367,\n",
              " 'plant': 0.05263157894736842,\n",
              " 'plants': 0.05263157894736842,\n",
              " 'shining': 0.05263157894736842,\n",
              " 'shinnig': 0.05263157894736842,\n",
              " 'stars': 0.05263157894736842,\n",
              " 'the': 0.05263157894736842,\n",
              " 'tonight': 0.05263157894736842}"
            ]
          },
          "metadata": {
            "tags": []
          },
          "execution_count": 174
        }
      ]
    },
    {
      "cell_type": "markdown",
      "metadata": {
        "id": "wZ21LC1ujEbP"
      },
      "source": [
        "## Sub Task 3: Evaluation "
      ]
    },
    {
      "cell_type": "markdown",
      "metadata": {
        "id": "HtKhTpdWjEbP"
      },
      "source": [
        "In this section we use the perplexity score to evaluate your model on the test set.\n",
        "the perplexity score of the test set on an n-gram model, is denoted as follows: \n",
        "\n",
        "$$ PP(W) =\\sqrt[N]{ \\prod_{t=n}^{N-1} \\frac{1}{P(w_t | w_{t-n} \\cdots w_{t-1})} } $$\n",
        "- where $N$ is the length of the sentence. ($N-1$ is used because in the code we start from the index 0).\n",
        "- $n$ is the number of words in the n-gram.\n",
        "\n",
        "Notice that we have already computed this probability. \n",
        "\n",
        "The higher the probabilities are, the lower the perplexity will be. "
      ]
    },
    {
      "cell_type": "code",
      "metadata": {
        "id": "j4c_3ZdhjEbP"
      },
      "source": [
        "def perplexity(sentence, n_gram_cnts, plus_current_gram_cnts, vocab_size, k=1.0):\n",
        "    \"\"\"\n",
        "    Calculate perplexity for a list of sentences\n",
        "    sentence: List of strings\n",
        "    n_gram_cnts: dictionary of counts of n-grams\n",
        "    plus_current_gram_cnts: dictionary of counts of (n+1)-grams -> current word+ n-gram = (n+1)-gram\n",
        "    vocab_size: number of unique words in the vocabulary\n",
        "    k: positive smoothing constant\n",
        "    \n",
        "    Returns: Perplexity score for a single sentence \n",
        "    \"\"\"\n",
        "    \n",
        "    n = len(list(n_gram_cnts.keys())[0])  # get the number 'n' in  n-gram  from n_gram_cnts  \n",
        "   \n",
        "    \n",
        "    sentence = ['<s>']*n + sentence + ['<e>'] # prepend <s> and append <e>\n",
        "    sentence = tuple(sentence)\n",
        "    N = len(sentence) # length of sentence \n",
        "    \n",
        "   \n",
        "    product_pi = 1.0 \n",
        "    \n",
        "    ### Compute the product of probabilites ###\n",
        "    \n",
        "    for t in range(n, N): \n",
        "        n_gram = sentence[t-n] # get the n-gram before the predicted word (n-gram before t )\n",
        "        word = sentence[t] # get the word to be predicted (position t)\n",
        "        prob = probability(word, n_gram,n_gram_cnts, plus_current_gram_cnts, vocab_size)\n",
        "        product_pi *= 1/prob # Update the product of the probabilities\n",
        "    \n",
        "    perplexity = product_pi**(1/float(N)) # Take the Nth root of the product\n",
        "    return perplexity"
      ],
      "execution_count": null,
      "outputs": []
    },
    {
      "cell_type": "markdown",
      "metadata": {
        "id": "PJPjvkCGjEbQ"
      },
      "source": [
        "Use the function to find the perplexity of a bi-gram model on the first instance of training and test set."
      ]
    },
    {
      "cell_type": "code",
      "metadata": {
        "id": "K7v_-DU4jEbQ",
        "colab": {
          "base_uri": "https://localhost:8080/"
        },
        "outputId": "d168af4b-f3b0-4968-99c6-2df7a64ffe3b"
      },
      "source": [
        "new_list = []\n",
        "for sent in tokenized_corpus:\n",
        "  for s in sent:\n",
        "    new_list.append(s)\n",
        "#print(new_list[:30])\n",
        "#print(train_replaced[0])\n",
        "#print(test_replaced[0])\n",
        "bigram_counts = n_grams_counts(tokenized_corpus, 2) ### your code ###\n",
        "trigram_counts = n_grams_counts(tokenized_corpus, 3)### your code ###\n",
        "\n",
        "perplexity_train = perplexity(train_replaced[0],bigram_counts, trigram_counts,len(vocab))\n",
        "print(f\"Perplexity for first train sample: {perplexity_train:.4f}\")\n",
        "\n",
        "perplexity_test = perplexity(test_replaced[0],bigram_counts, trigram_counts,len(vocab))\n",
        "print(f\"Perplexity for test sample: {perplexity_test:.4f}\")# the preprexity for the train sample should be much lower "
      ],
      "execution_count": null,
      "outputs": [
        {
          "output_type": "stream",
          "text": [
            "['be', 'safe', '!', '!', 'working', 'today', 'in', 'madison', ',', 'wi', 'with', 'troy', 'reeves', ',', 'director', 'of', 'the', 'oh', 'program', 'at', 'uw-madison', 'on', 'oral', 'history', 'in', 'the', 'digital', 'age', 'best', 'practices']\n",
            "['be', 'safe', '!', '!']\n",
            "['this', 'week', 'has', 'been', 'so', 'beautifully', 'busy', '...', 'busy', 'busy', 'bees', 'we', \"'ve\", 'been', '!']\n",
            "Perplexity for first train sample: 958.0958\n",
            "Perplexity for test sample: 5130.9694\n"
          ],
          "name": "stdout"
        }
      ]
    },
    {
      "cell_type": "markdown",
      "metadata": {
        "id": "ePnj2I3zjEbQ"
      },
      "source": [
        "Finally, let's use the model we created to generate an auto-complete system that makes suggestions."
      ]
    },
    {
      "cell_type": "code",
      "metadata": {
        "id": "Kctdp-6GjEbQ"
      },
      "source": [
        "def suggest_a_word(up_to_here, n_gram_cnts, plus_current_gram_cnts, vocab , start_with=None):\n",
        "    \"\"\"\n",
        "    Get suggestion for the next word\n",
        "    up_to_here: the sentence so far, must have length > n \n",
        "    n_gram_cnts: dictionary of counts of n-grams\n",
        "    plus_current_gram_cnts: dictionary of counts of (n+1)-grams -> current word+ n-gram = (n+1)-gram\n",
        "    vocab: List of words\n",
        "    start_with: If not None, specifies the first few letters of the next word\n",
        "        \n",
        "    Returns: (most likely next word,  probability) \n",
        "    \"\"\"    \n",
        "    n = len(list(n_gram_cnts.keys())[0]) # get the number 'n' in  n-gram  from n_gram_cnts     \n",
        "    previous_n_gram = previous_tokens[-n:] # get the last 'n' words as the previous n-gram from the input sentence\n",
        "\n",
        "    \n",
        "    probabs = probabilities(previous_n_gram, n_gram_cnts, plus_current_gram_cnts,vocab)# Estimate the probabilities for each word in the vocabulary\n",
        "    \n",
        "    \n",
        "    ### sort the probability for higher to lower and return the highest probability word,probability tuple\n",
        "    #if start_with is specified then return the highest probability word that starts with that specific character \n",
        "    suggestion = None    \n",
        "    max_prob = 0\n",
        "    for word, prob in probabs.items(): \n",
        "      if start_with != None : \n",
        "        if word.startswith(start_with)==False:\n",
        "          continue \n",
        "      if prob>max_prob: \n",
        "        suggestion = word\n",
        "        max_prob = prob\n",
        "\n",
        "    return suggestion, max_prob\n"
      ],
      "execution_count": null,
      "outputs": []
    },
    {
      "cell_type": "markdown",
      "metadata": {
        "id": "ytjOKahQjEbR"
      },
      "source": [
        "Test your model based on the bi-gram model created on the training corpus."
      ]
    },
    {
      "cell_type": "code",
      "metadata": {
        "id": "okCILIbZjEbR",
        "colab": {
          "base_uri": "https://localhost:8080/"
        },
        "outputId": "7262a2b0-fa9c-429b-f8ae-90b9303544ed"
      },
      "source": [
        "previous_tokens=['i','like']\n",
        "start_with='g'\n",
        "suggestion = suggest_a_word(previous_tokens, bigram_counts,trigram_counts, list(vocab),start_with=start_with)\n",
        "suggestion"
      ],
      "execution_count": null,
      "outputs": [
        {
          "output_type": "execute_result",
          "data": {
            "text/plain": [
              "('get', 6.698372295532186e-05)"
            ]
          },
          "metadata": {
            "tags": []
          },
          "execution_count": 133
        }
      ]
    },
    {
      "cell_type": "code",
      "metadata": {
        "id": "p60KhooJjEbR",
        "colab": {
          "base_uri": "https://localhost:8080/"
        },
        "outputId": "c9fc5a25-f82c-4d55-f5ff-9cd2f4b59df4"
      },
      "source": [
        "previous_tokens=['i','like','to']\n",
        "start_with=None\n",
        "suggestion = suggest_a_word(previous_tokens, bigram_counts,trigram_counts, list(vocab),start_with=start_with)\n",
        "suggestion"
      ],
      "execution_count": null,
      "outputs": [
        {
          "output_type": "execute_result",
          "data": {
            "text/plain": [
              "('be', 6.698372295532186e-05)"
            ]
          },
          "metadata": {
            "tags": []
          },
          "execution_count": 134
        }
      ]
    },
    {
      "cell_type": "code",
      "metadata": {
        "id": "qwZ9AIpsjEbR",
        "colab": {
          "base_uri": "https://localhost:8080/"
        },
        "outputId": "b6ebbc87-5d5a-4fcc-896f-af8c6306adca"
      },
      "source": [
        "previous_tokens=[\"hello\", \"my\", \"name\", \"is\"]\n",
        "start_with=None\n",
        "suggestion = suggest_a_word(previous_tokens, bigram_counts,trigram_counts, list(vocab),start_with=start_with)\n",
        "suggestion"
      ],
      "execution_count": null,
      "outputs": [
        {
          "output_type": "execute_result",
          "data": {
            "text/plain": [
              "('be', 6.698372295532186e-05)"
            ]
          },
          "metadata": {
            "tags": []
          },
          "execution_count": 135
        }
      ]
    },
    {
      "cell_type": "code",
      "metadata": {
        "id": "g48kT0k7jEbR",
        "colab": {
          "base_uri": "https://localhost:8080/"
        },
        "outputId": "74aeaa00-652f-4ad4-c78d-fadb1f954e57"
      },
      "source": [
        "previous_tokens=[\"hello\", \"my\", \"name\", \"is\"]\n",
        "start_with='sa'\n",
        "suggestion = suggest_a_word(previous_tokens, bigram_counts,trigram_counts, list(vocab),start_with=start_with)\n",
        "suggestion"
      ],
      "execution_count": null,
      "outputs": [
        {
          "output_type": "execute_result",
          "data": {
            "text/plain": [
              "('safe', 6.698372295532186e-05)"
            ]
          },
          "metadata": {
            "tags": []
          },
          "execution_count": 136
        }
      ]
    },
    {
      "cell_type": "markdown",
      "metadata": {
        "id": "Ov73gMQWjEbS"
      },
      "source": [
        "## Task 4: Theoretical Questions ( 1 +1 +1 +1 + 1 = 5 Points) \n"
      ]
    },
    {
      "cell_type": "markdown",
      "metadata": {
        "id": "b6UnXMT3jEbS"
      },
      "source": [
        "Please answer the following questions in the notebook cells using markdown, try to be percise and short. "
      ]
    },
    {
      "cell_type": "markdown",
      "metadata": {
        "id": "J5Ga2MngjEbS"
      },
      "source": [
        "### Sub Task 1: What is the goal of Word2Veec? / What is a word embedding?"
      ]
    },
    {
      "cell_type": "markdown",
      "metadata": {
        "id": "0LgWjt-wjEbS"
      },
      "source": [
        ""
      ]
    },
    {
      "cell_type": "markdown",
      "metadata": {
        "id": "c0INCf0zjEbT"
      },
      "source": [
        "The input of Word2Vec is a text corpus and its output is a set of vectors: feature vectors that represent words in that corpus. Its goal is to group the vectors of similar words together in vectorspace or in other words: the main goal of Word2vec is to find similarity between words in a corpus. That is, it detects similarities mathematically. Word2Vec creates vectors that are distributed numerical representations of word features, features such as the context of individual words.\n",
        "\n",
        "Word embedding is representation of document vocabulary that allows words with similar meaning to have a similar representation."
      ]
    },
    {
      "cell_type": "markdown",
      "metadata": {
        "id": "frXnJ2grjEbT"
      },
      "source": [
        "### Sub Task 2: For gradient descent, what advantage has a decaying learning rate?"
      ]
    },
    {
      "cell_type": "markdown",
      "metadata": {
        "id": "XOPrBZG6jEbT"
      },
      "source": [
        ""
      ]
    },
    {
      "cell_type": "markdown",
      "metadata": {
        "id": "6xJDIbx5jEbT"
      },
      "source": [
        "Decay learning rate serves to adjust the learning rate by reducing the learning rate according to a predefined schedule. sometimes the learning rate might be too large and that results in converging the model too quickly to a suboptimal solution, whereas if the learning rate is too small the model may stuck, therefore decay learning rate helps us to over avoid such cases. In other words: the smaller decay values do result in better performance but a large learning rate decay would rapidly result in a learning rate that is too small for the model to learn effectively."
      ]
    },
    {
      "cell_type": "markdown",
      "metadata": {
        "id": "2I_ZpiuajEbU"
      },
      "source": [
        "### Sub Task 3: Why is it easier to maximize the log likelihood instead of the \"normal\" likelihood?"
      ]
    },
    {
      "cell_type": "markdown",
      "metadata": {
        "id": "X9ZEL1vGjEbU"
      },
      "source": [
        ""
      ]
    },
    {
      "cell_type": "markdown",
      "metadata": {
        "id": "4l3_OdBSjEbU"
      },
      "source": [
        "Because the logarithm is monotonically increasing function of its argument, maximization of the log of a function is equivalent to maximization of the function itself (which means in our case that the log-likelihood is increasing on the x axis as well as on the y axis, which means that the maximum value parameter is at the same point as likelihood function itself). Taking the log not only simplifies the subsequent mathematical analysis, but it also helps numerically because the product of a large number of small probabilities can easily underflow the numerical precision of the computer, and this is resolved by computing instead the sum of the log probabilities."
      ]
    },
    {
      "cell_type": "markdown",
      "metadata": {
        "id": "6q6AkgBnjEbU"
      },
      "source": [
        "### Sub Task 4: Word2Vec trains a complete neural network. How do we extract word embeddings from this network?"
      ]
    },
    {
      "cell_type": "markdown",
      "metadata": {
        "id": "5GVzetOYjEbU"
      },
      "source": [
        ""
      ]
    },
    {
      "cell_type": "markdown",
      "metadata": {
        "id": "agKhFTKJjEbV"
      },
      "source": [
        "They are two options: Skip Gram and Continuous Bag of Word (CBOW). In CBOW, the current word is predicted using the window of surrounding context windows. For example, if wi-1,wi-2,wi+1,wi+2are given words or context, this model will provide wi. Skip-Gram performs opposite of CBOW which implies that it predicts the given sequence or context from the word. If wi is given, this will predict the context or wi-1,wi-2,wi+1,wi+2.\n"
      ]
    },
    {
      "cell_type": "markdown",
      "metadata": {
        "id": "VTAYG3o0jEbV"
      },
      "source": [
        "### Sub Task 5: What advantages has fastText over Word2Vec? "
      ]
    },
    {
      "cell_type": "markdown",
      "metadata": {
        "id": "9Hjg4ezOjEbV"
      },
      "source": [
        ""
      ]
    },
    {
      "cell_type": "markdown",
      "metadata": {
        "id": "MK8B768xjEbV"
      },
      "source": [
        "FastText predicts the surrounding ''Characters'' of some word, this help dealing with misspelling/slang partial words and single character. and another advantage is that it can handel rare word in a better way, because characters are being considered in FastText and not only words (some rare words look similar to common words but with word2vec the small difference makes a huge change. FastText treats each word as composed of character ngrams. So the vector for a word is made of the sum of this character n-grams. FastText is essentially an extension of Word2Vec model."
      ]
    },
    {
      "cell_type": "code",
      "metadata": {
        "id": "tUVEER2qjEbW"
      },
      "source": [
        ""
      ],
      "execution_count": null,
      "outputs": []
    }
  ]
}
