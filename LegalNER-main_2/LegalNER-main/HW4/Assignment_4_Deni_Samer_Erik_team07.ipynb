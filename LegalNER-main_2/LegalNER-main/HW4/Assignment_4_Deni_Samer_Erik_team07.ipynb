{
 "cells": [
  {
   "cell_type": "markdown",
   "metadata": {
    "id": "8hp0qzvF5quM"
   },
   "source": [
    "# Assignment 4 : \"RNN/CNN and keyphrase extraction \"\n",
    "Due: Monday 2pm, Feburary 15, 2021, via Moodle"
   ]
  },
  {
   "cell_type": "markdown",
   "metadata": {
    "id": "jsXIFFvQ5quX"
   },
   "source": [
    "### Submission guidelines\n",
    "\n",
    "- Solutions need to be uploaded as a single Jupyter notebook. You will find many provided codes in the notebook, your task is to fill in the missing cells.\n",
    "- For the written solution, use LaTeX in markdown inside the same notebook. Do *not* hand in a separate file for it.\n",
    "- Download the .zip file containing the dataset but do *not* upload it with your solution.\n",
    "- It is sufficient if one person per group uploads the solution to Moodle."
   ]
  },
  {
   "cell_type": "markdown",
   "metadata": {
    "id": "Ur58Ru825quZ"
   },
   "source": [
    "## Task 1: Spam Detection (3 + 3 + 2 + 4 + 1) = 13 Points"
   ]
  },
  {
   "cell_type": "markdown",
   "metadata": {
    "id": "SmPrBmWZ5quZ"
   },
   "source": [
    "In this task we tackle the task of Spam Detection (Text Classification) using RNNs and CNNs. To start download the `spam.csv` file from Moodle. "
   ]
  },
  {
   "cell_type": "code",
   "execution_count": 1,
   "metadata": {
    "id": "WjdVHmVe5qua"
   },
   "outputs": [],
   "source": [
    "import numpy as np\n",
    "import pandas as pd\n",
    "import matplotlib.pyplot as plt\n",
    "from sklearn.model_selection import train_test_split\n",
    "from tensorflow.keras.layers.experimental.preprocessing import TextVectorization\n",
    "from tensorflow.data import Dataset\n",
    "from tensorflow.keras.layers import Dense, Input, GlobalMaxPooling1D, MaxPooling1D\n",
    "from tensorflow.keras.layers import LSTM, Embedding, Bidirectional, Conv1D,Flatten\n",
    "from tensorflow.keras.models import Model\n",
    "import tensorflow as tf\n",
    "tf.random.set_seed(12)"
   ]
  },
  {
   "cell_type": "code",
   "execution_count": 2,
   "metadata": {
    "id": "Jj3aNGEz5qub",
    "outputId": "0ab0dd32-fb30-4b0d-e7d7-11a9180b9e0b"
   },
   "outputs": [
    {
     "data": {
      "text/html": [
       "<div>\n",
       "<style scoped>\n",
       "    .dataframe tbody tr th:only-of-type {\n",
       "        vertical-align: middle;\n",
       "    }\n",
       "\n",
       "    .dataframe tbody tr th {\n",
       "        vertical-align: top;\n",
       "    }\n",
       "\n",
       "    .dataframe thead th {\n",
       "        text-align: right;\n",
       "    }\n",
       "</style>\n",
       "<table border=\"1\" class=\"dataframe\">\n",
       "  <thead>\n",
       "    <tr style=\"text-align: right;\">\n",
       "      <th></th>\n",
       "      <th>v1</th>\n",
       "      <th>v2</th>\n",
       "      <th>Unnamed: 2</th>\n",
       "      <th>Unnamed: 3</th>\n",
       "      <th>Unnamed: 4</th>\n",
       "    </tr>\n",
       "  </thead>\n",
       "  <tbody>\n",
       "    <tr>\n",
       "      <th>0</th>\n",
       "      <td>ham</td>\n",
       "      <td>Go until jurong point, crazy.. Available only ...</td>\n",
       "      <td>NaN</td>\n",
       "      <td>NaN</td>\n",
       "      <td>NaN</td>\n",
       "    </tr>\n",
       "    <tr>\n",
       "      <th>1</th>\n",
       "      <td>ham</td>\n",
       "      <td>Ok lar... Joking wif u oni...</td>\n",
       "      <td>NaN</td>\n",
       "      <td>NaN</td>\n",
       "      <td>NaN</td>\n",
       "    </tr>\n",
       "    <tr>\n",
       "      <th>2</th>\n",
       "      <td>spam</td>\n",
       "      <td>Free entry in 2 a wkly comp to win FA Cup fina...</td>\n",
       "      <td>NaN</td>\n",
       "      <td>NaN</td>\n",
       "      <td>NaN</td>\n",
       "    </tr>\n",
       "    <tr>\n",
       "      <th>3</th>\n",
       "      <td>ham</td>\n",
       "      <td>U dun say so early hor... U c already then say...</td>\n",
       "      <td>NaN</td>\n",
       "      <td>NaN</td>\n",
       "      <td>NaN</td>\n",
       "    </tr>\n",
       "    <tr>\n",
       "      <th>4</th>\n",
       "      <td>ham</td>\n",
       "      <td>Nah I don't think he goes to usf, he lives aro...</td>\n",
       "      <td>NaN</td>\n",
       "      <td>NaN</td>\n",
       "      <td>NaN</td>\n",
       "    </tr>\n",
       "  </tbody>\n",
       "</table>\n",
       "</div>"
      ],
      "text/plain": [
       "     v1                                                 v2 Unnamed: 2  \\\n",
       "0   ham  Go until jurong point, crazy.. Available only ...        NaN   \n",
       "1   ham                      Ok lar... Joking wif u oni...        NaN   \n",
       "2  spam  Free entry in 2 a wkly comp to win FA Cup fina...        NaN   \n",
       "3   ham  U dun say so early hor... U c already then say...        NaN   \n",
       "4   ham  Nah I don't think he goes to usf, he lives aro...        NaN   \n",
       "\n",
       "  Unnamed: 3 Unnamed: 4  \n",
       "0        NaN        NaN  \n",
       "1        NaN        NaN  \n",
       "2        NaN        NaN  \n",
       "3        NaN        NaN  \n",
       "4        NaN        NaN  "
      ]
     },
     "execution_count": 2,
     "metadata": {},
     "output_type": "execute_result"
    }
   ],
   "source": [
    "df = pd.read_csv('C:/Users/Mazz Issa/Documents/Kurse/TA/Ex04/ITA_assignment4_data/spam.csv', encoding='ISO-8859-1')\n",
    "df.head()"
   ]
  },
  {
   "cell_type": "markdown",
   "metadata": {
    "id": "K8eiJUrD5quf"
   },
   "source": [
    "### Sub Task 1: Pre-processsing "
   ]
  },
  {
   "cell_type": "markdown",
   "metadata": {
    "id": "hG1Fq4nP5qug"
   },
   "source": [
    "There are some unnecessary columns in the data `Unnamed:2 to 4`. Remove those and rename the remaining columns to `labels` and `text`. "
   ]
  },
  {
   "cell_type": "code",
   "execution_count": 3,
   "metadata": {
    "id": "TzC6DrBl5qui"
   },
   "outputs": [
    {
     "data": {
      "text/html": [
       "<div>\n",
       "<style scoped>\n",
       "    .dataframe tbody tr th:only-of-type {\n",
       "        vertical-align: middle;\n",
       "    }\n",
       "\n",
       "    .dataframe tbody tr th {\n",
       "        vertical-align: top;\n",
       "    }\n",
       "\n",
       "    .dataframe thead th {\n",
       "        text-align: right;\n",
       "    }\n",
       "</style>\n",
       "<table border=\"1\" class=\"dataframe\">\n",
       "  <thead>\n",
       "    <tr style=\"text-align: right;\">\n",
       "      <th></th>\n",
       "      <th>labels</th>\n",
       "      <th>text</th>\n",
       "    </tr>\n",
       "  </thead>\n",
       "  <tbody>\n",
       "    <tr>\n",
       "      <th>0</th>\n",
       "      <td>ham</td>\n",
       "      <td>Go until jurong point, crazy.. Available only ...</td>\n",
       "    </tr>\n",
       "    <tr>\n",
       "      <th>1</th>\n",
       "      <td>ham</td>\n",
       "      <td>Ok lar... Joking wif u oni...</td>\n",
       "    </tr>\n",
       "    <tr>\n",
       "      <th>2</th>\n",
       "      <td>spam</td>\n",
       "      <td>Free entry in 2 a wkly comp to win FA Cup fina...</td>\n",
       "    </tr>\n",
       "    <tr>\n",
       "      <th>3</th>\n",
       "      <td>ham</td>\n",
       "      <td>U dun say so early hor... U c already then say...</td>\n",
       "    </tr>\n",
       "    <tr>\n",
       "      <th>4</th>\n",
       "      <td>ham</td>\n",
       "      <td>Nah I don't think he goes to usf, he lives aro...</td>\n",
       "    </tr>\n",
       "  </tbody>\n",
       "</table>\n",
       "</div>"
      ],
      "text/plain": [
       "  labels                                               text\n",
       "0    ham  Go until jurong point, crazy.. Available only ...\n",
       "1    ham                      Ok lar... Joking wif u oni...\n",
       "2   spam  Free entry in 2 a wkly comp to win FA Cup fina...\n",
       "3    ham  U dun say so early hor... U c already then say...\n",
       "4    ham  Nah I don't think he goes to usf, he lives aro..."
      ]
     },
     "execution_count": 3,
     "metadata": {},
     "output_type": "execute_result"
    }
   ],
   "source": [
    "### your code ###\n",
    "df = df[['v1','v2']]\n",
    "df = df.rename(columns = {'v1': 'labels', 'v2': 'text'})\n",
    "df.head()"
   ]
  },
  {
   "cell_type": "markdown",
   "metadata": {
    "id": "g7mkzcTp5quj"
   },
   "source": [
    "Notice that the labels are string values. We need to convert them to integers of `0` and `1` for Tensorflow to understand. Create a new column called `binary_labels` and save the binary values in there. Then split the dataset into train and test set using `sklearn`, where the test data is 20 precent of the entire set. Then use 20 percent of the training set for your validation set. Convert them into a `tensorflow.Dataset` for training and test, shuffle the `dataset_train` and set the batch_size of both dataset to `16`. You can change the batch size to a smaller value if your device does not support it. Set the random_state for both to `12`. "
   ]
  },
  {
   "cell_type": "code",
   "execution_count": 4,
   "metadata": {
    "id": "7G0sO5Yi5qul"
   },
   "outputs": [],
   "source": [
    "df['binary_labels'] = np.where( (df['labels'] == 'ham'), 0, 1) ### your code ###\n",
    "#Y = ### your code ## hmm what is this for \n",
    "# split up the data\n",
    "X_train, X_test, Ytrain, Ytest = train_test_split(df['text'], df['binary_labels'], test_size=0.2, random_state=42) ### your code ###\n",
    "X_train, X_val, Ytrain, Yval = train_test_split(X_train, Ytrain, test_size=0.2, random_state=42) ### your code ###"
   ]
  },
  {
   "cell_type": "code",
   "execution_count": 5,
   "metadata": {
    "id": "jUpzwr9O5qun"
   },
   "outputs": [
    {
     "name": "stdout",
     "output_type": "stream",
     "text": [
      "Features: [b\"At 4. Let's go to bill millers\"\n",
      " b'Watching cartoon, listening music &amp; at eve had to go temple &amp; church.. What about u?'\n",
      " b'Yes, princess. Toledo.'\n",
      " b'YOU VE WON! Your 4* Costa Del Sol Holiday or \\xc3\\xa5\\xc2\\xa35000 await collection. Call 09050090044 Now toClaim. SAE, TC s, POBox334, Stockport, SK38xh, Cost\\xc3\\xa5\\xc2\\xa31.50/pm, Max10mins'\n",
      " b\"Y dun cut too short leh. U dun like ah? She failed. She's quite sad.\"\n",
      " b'Finish liao... U?'\n",
      " b'No need lar i go engin? Cos my sis at arts today...'\n",
      " b'Whatever, juliana. Do whatever you want.'\n",
      " b'For your chance to WIN a FREE Bluetooth Headset then simply reply back with \\\\ADP\\\\\"\"'\n",
      " b\" says that he's quitting at least5times a day so i wudn't take much notice of that. Nah, she didn't mind. Are you gonna see him again? Do you want to come to taunton tonight? U can tell me all about !\"\n",
      " b'Get ready to put on your excellent sub face :)'\n",
      " b\"Hello, my boytoy! I made it home and my constant thought is of you, my love. I hope your having a nice visit but I can't wait till you come home to me ...*kiss*\"\n",
      " b'Am not working but am up to eyes in philosophy so will text u later when a bit more free for chat...'\n",
      " b'Ya very nice. . .be ready on thursday' b'make that 3! 4 fucks sake?! x'\n",
      " b'Lmao!nice 1'], Target: [0 0 0 1 0 0 0 0 1 0 0 0 0 0 0 0]\n"
     ]
    }
   ],
   "source": [
    "dataset_train = Dataset.from_tensor_slices((X_train, Ytrain))  ### your code ###\n",
    "dataset_train = dataset_train.shuffle(120).batch(batch_size=16)  ### shuffle, set batch to 16 ###\n",
    "\n",
    "dataset_val = Dataset.from_tensor_slices((X_val, Yval))  ### your code ###\n",
    "dataset_val = dataset_val.shuffle(120).batch(batch_size=16)  ### set batch to 16 ###\n",
    "\n",
    "dataset_test = Dataset.from_tensor_slices((X_test, Ytest))  ### your code ###\n",
    "dataset_test = dataset_test.shuffle(120).batch(batch_size=16)  ### set batch to 16 ###\n",
    "\n",
    "for feat, targ in dataset_train.take(1):\n",
    "    print ('Features: {}, Target: {}'.format(feat, targ))"
   ]
  },
  {
   "cell_type": "markdown",
   "metadata": {
    "id": "cUgbolxu5quo"
   },
   "source": [
    "Set the vocabulary size to `10000` and use the `TextVectorization` class to preprocess the textual data and turn it into integer vectors. Set the lenght of the output sequence to `128`. Any sequence with more tokens will be truncated and shorter sequences will be padded to fit the size. "
   ]
  },
  {
   "cell_type": "code",
   "execution_count": 6,
   "metadata": {
    "id": "Jf3o2L_t5quo"
   },
   "outputs": [],
   "source": [
    "encoder = TextVectorization(max_tokens=10000, output_sequence_length=128) ### your code ###\n",
    "encoder.adapt(feat)"
   ]
  },
  {
   "cell_type": "code",
   "execution_count": 7,
   "metadata": {},
   "outputs": [
    {
     "name": "stdout",
     "output_type": "stream",
     "text": [
      "Encoded [  8  12 107  11   2 154  98   0   0   0   0   0   0   0   0   0   0   0\n",
      "   0   0   0   0   0   0   0   0   0   0   0   0   0   0   0   0   0   0\n",
      "   0   0   0   0   0   0   0   0   0   0   0   0   0   0   0   0   0   0\n",
      "   0   0   0   0   0   0   0   0   0   0   0   0   0   0   0   0   0   0\n",
      "   0   0   0   0   0   0   0   0   0   0   0   0   0   0   0   0   0   0\n",
      "   0   0   0   0   0   0   0   0   0   0   0   0   0   0   0   0   0   0\n",
      "   0   0   0   0   0   0   0   0   0   0   0   0   0   0   0   0   0   0\n",
      "   0   0]\n",
      "Original:  b\"At 4. Let's go to bill millers\"\n",
      "After vectorization:  at 4 lets go to bill millers                                                                                                                         \n"
     ]
    }
   ],
   "source": [
    "# run this cell to make sure your output makes sense \n",
    "vocab = np.array(encoder.get_vocabulary())\n",
    "print(\"Encoded\",encoder(feat).numpy()[0]) # this should output the encoded vector with integer values to the size of 128 \n",
    "print(\"Original: \", feat.numpy()[0]) # the orginal text should be retrieved \n",
    "print(\"After vectorization: \", \" \".join(vocab[encoder(feat).numpy()[0]])) #text with preprocessing (lowercase and normalization)"
   ]
  },
  {
   "cell_type": "markdown",
   "metadata": {
    "id": "YNecc5_65quq"
   },
   "source": [
    "## Sub Task 2: Create the LSTM Model and Train"
   ]
  },
  {
   "cell_type": "markdown",
   "metadata": {
    "id": "su9blgeI5quq"
   },
   "source": [
    "In this sub task you will use a RNN with LSTM cells for text classification. We use the Keras functional API for our model building. Below you will see the summary output of our model. Use this as a basis to model your own network with the same layers: \n",
    "```\n",
    "Model: \"model_63\"\n",
    "_________________________________________________________________\n",
    "Layer (type)                 Output Shape              Param #   \n",
    "=================================================================\n",
    "input_88 (InputLayer)        [(None, 1)]               0         \n",
    "_________________________________________________________________\n",
    "text_vectorization_9 (TextVe (None, 128)               0         \n",
    "_________________________________________________________________\n",
    "embedding_73 (Embedding)     (None, 128, 64)           640064    \n",
    "_________________________________________________________________\n",
    "lstm_41 (LSTM)               (None, 128, 32)           12416     \n",
    "_________________________________________________________________\n",
    "global_max_pooling1d_39 (Glo (None, 32)                0         \n",
    "_________________________________________________________________\n",
    "dense_49 (Dense)             (None, 1)                 33        \n",
    "=================================================================\n",
    "Total params: 652,513\n",
    "Trainable params: 652,513\n",
    "Non-trainable params: 0\n",
    "```\n",
    "Train the model for 6 epochs with the `fit` function, using the validation set for intermediate testing. Use the Adam optimizer with default parameters and binary cross entropy loss. Also keep track of the accuracy during training so we can plot it later. You can specify the metric you would like to track, when compiling your model. The value of the loss and the callback function for accuracy will be saved in the `history` of the returned object for `fit` function. "
   ]
  },
  {
   "cell_type": "code",
   "execution_count": 8,
   "metadata": {
    "id": "A6RkwYNw5quq"
   },
   "outputs": [
    {
     "name": "stdout",
     "output_type": "stream",
     "text": [
      "Model: \"model_63\"\n",
      "_________________________________________________________________\n",
      "Layer (type)                 Output Shape              Param #   \n",
      "=================================================================\n",
      "input_1 (InputLayer)         [(None, 1)]               0         \n",
      "_________________________________________________________________\n",
      "text_vectorization (TextVect (None, 128)               0         \n",
      "_________________________________________________________________\n",
      "embedding (Embedding)        (None, 128, 64)           640064    \n",
      "_________________________________________________________________\n",
      "lstm (LSTM)                  (None, 128, 32)           12416     \n",
      "_________________________________________________________________\n",
      "global_max_pooling1d (Global (None, 32)                0         \n",
      "_________________________________________________________________\n",
      "dense (Dense)                (None, 1)                 33        \n",
      "=================================================================\n",
      "Total params: 652,513\n",
      "Trainable params: 652,513\n",
      "Non-trainable params: 0\n",
      "_________________________________________________________________\n"
     ]
    }
   ],
   "source": [
    "# Create the model\n",
    "embedding_dim = 64\n",
    "hidden_dim = 32\n",
    "\n",
    "i = Input(shape=(1,), dtype=\"string\")\n",
    "x = encoder(i) ### pre-processing ### \n",
    "x = Embedding(10001, output_dim=embedding_dim, input_length=64)(x) ### embedding ###\n",
    "x = LSTM(hidden_dim, return_sequences=True,input_shape=(1,128))(x)### lstm - keep in mind the output shape is (None, 128, 32) meaning that ALL the hidden states are returned and not just the final one ###\n",
    "x = GlobalMaxPooling1D()(x) ### max pool over everything ### \n",
    "x = Dense(1, activation='sigmoid')(x)\n",
    "\n",
    "lstm_model = Model(i,x, name=\"model_63\")### build model ### \n",
    "lstm_model.summary()"
   ]
  },
  {
   "cell_type": "code",
   "execution_count": 9,
   "metadata": {
    "id": "9nxTuy7d5qur"
   },
   "outputs": [
    {
     "name": "stdout",
     "output_type": "stream",
     "text": [
      "Training model...\n",
      "Epoch 1/6\n",
      "112/112 [==============================] - 20s 120ms/step - loss: 0.5197 - accuracy: 0.8439 - val_loss: 0.2899 - val_accuracy: 0.8901\n",
      "Epoch 2/6\n",
      "112/112 [==============================] - 11s 95ms/step - loss: 0.2885 - accuracy: 0.8820 - val_loss: 0.1764 - val_accuracy: 0.9406\n",
      "Epoch 3/6\n",
      "112/112 [==============================] - 8s 69ms/step - loss: 0.2497 - accuracy: 0.9017 - val_loss: 0.1728 - val_accuracy: 0.9316\n",
      "Epoch 4/6\n",
      "112/112 [==============================] - 9s 77ms/step - loss: 0.1510 - accuracy: 0.9539 - val_loss: 0.1555 - val_accuracy: 0.9563\n",
      "Epoch 5/6\n",
      "112/112 [==============================] - 8s 72ms/step - loss: 0.1299 - accuracy: 0.9651 - val_loss: 0.1467 - val_accuracy: 0.9563\n",
      "Epoch 6/6\n",
      "112/112 [==============================] - 9s 78ms/step - loss: 0.1751 - accuracy: 0.9380 - val_loss: 0.1677 - val_accuracy: 0.9507\n"
     ]
    }
   ],
   "source": [
    "# Compile and fit\n",
    "lstm_model.compile(optimizer='Adam', loss= 'BinaryCrossentropy', metrics=['accuracy']) ### your code ### \n",
    "print('Training model...')\n",
    "r = lstm_model.fit(X_train, Ytrain, epochs=6, validation_data=(X_val, Yval)) ### your code ### "
   ]
  },
  {
   "cell_type": "code",
   "execution_count": 10,
   "metadata": {
    "id": "QKUEbBor5qut"
   },
   "outputs": [
    {
     "data": {
      "image/png": "[encoded data removed]",
      "text/plain": [
       "<Figure size 432x288 with 1 Axes>"
      ]
     },
     "metadata": {
      "needs_background": "light"
     },
     "output_type": "display_data"
    }
   ],
   "source": [
    "# Plot loss per iteration\n",
    "plt.plot(r.history['loss'],color='g', label = 'loss')\n",
    "plt.plot(r.history['val_loss'],color='b', label = 'val_loss')\n",
    "plt.legend()\n",
    "plt.show()\n",
    "### your code ### "
   ]
  },
  {
   "cell_type": "code",
   "execution_count": 11,
   "metadata": {
    "id": "446Xdczb5qut"
   },
   "outputs": [
    {
     "data": {
      "image/png": "[encoded data removed]",
      "text/plain": [
       "<Figure size 432x288 with 1 Axes>"
      ]
     },
     "metadata": {
      "needs_background": "light"
     },
     "output_type": "display_data"
    }
   ],
   "source": [
    "# Plot accuracy per iteration\n",
    "plt.plot(r.history['accuracy'],color='g', label = 'accuracy')\n",
    "plt.plot(r.history['val_accuracy'],color='b', label = 'val_accuracy')\n",
    "plt.legend()\n",
    "plt.show() \n",
    "### your code ### "
   ]
  },
  {
   "cell_type": "markdown",
   "metadata": {
    "id": "x9aKKpMM5qut"
   },
   "source": [
    "## Sub Task 3: Create the CNN Model and Train"
   ]
  },
  {
   "cell_type": "markdown",
   "metadata": {
    "id": "gaRCqxMs5quu"
   },
   "source": [
    "We want to use the same data but this time with a CNN architecture to classify the spam emails. Once again, use this model summary to create a similiar network: \n",
    "```\n",
    "Model: \"model_64\"\n",
    "_________________________________________________________________\n",
    "Layer (type)                 Output Shape              Param #   \n",
    "=================================================================\n",
    "input_89 (InputLayer)        [(None, 1)]               0         \n",
    "_________________________________________________________________\n",
    "text_vectorization_9 (TextVe (None, 128)               0         \n",
    "_________________________________________________________________\n",
    "embedding_74 (Embedding)     (None, 128, 64)           640064    \n",
    "_________________________________________________________________\n",
    "conv1d_72 (Conv1D)           (None, 126, 32)           6176      \n",
    "_________________________________________________________________\n",
    "max_pooling1d_67 (MaxPooling (None, 42, 32)            0         \n",
    "_________________________________________________________________\n",
    "conv1d_73 (Conv1D)           (None, 40, 64)            6208      \n",
    "_________________________________________________________________\n",
    "max_pooling1d_68 (MaxPooling (None, 13, 64)            0         \n",
    "_________________________________________________________________\n",
    "dense_50 (Dense)             (None, 13, 1)             65        \n",
    "=================================================================\n",
    "Total params: 652,513\n",
    "Trainable params: 652,513\n",
    "Non-trainable params: 0\n",
    "```\n",
    "Train the model for 6 epochs using the validation set for intermediate testing. Use the Adam optimizer with default parameters and binary cross entropy loss, keep track of the accuracy during training so we can plot it later. Note that the CNN trains much quicker than the LSTM network since it can be parallelized easier on a GPU. "
   ]
  },
  {
   "cell_type": "code",
   "execution_count": 12,
   "metadata": {
    "id": "HtH8z2WZ5quv"
   },
   "outputs": [
    {
     "name": "stdout",
     "output_type": "stream",
     "text": [
      "Model: \"model\"\n",
      "_________________________________________________________________\n",
      "Layer (type)                 Output Shape              Param #   \n",
      "=================================================================\n",
      "input_2 (InputLayer)         [(None, 1)]               0         \n",
      "_________________________________________________________________\n",
      "text_vectorization (TextVect (None, 128)               0         \n",
      "_________________________________________________________________\n",
      "embedding_1 (Embedding)      (None, 128, 64)           640064    \n",
      "_________________________________________________________________\n",
      "conv1d (Conv1D)              (None, 126, 32)           6176      \n",
      "_________________________________________________________________\n",
      "max_pooling1d (MaxPooling1D) (None, 42, 32)            0         \n",
      "_________________________________________________________________\n",
      "conv1d_1 (Conv1D)            (None, 40, 64)            6208      \n",
      "_________________________________________________________________\n",
      "max_pooling1d_1 (MaxPooling1 (None, 13, 64)            0         \n",
      "_________________________________________________________________\n",
      "dense_1 (Dense)              (None, 13, 1)             65        \n",
      "=================================================================\n",
      "Total params: 652,513\n",
      "Trainable params: 652,513\n",
      "Non-trainable params: 0\n",
      "_________________________________________________________________\n"
     ]
    }
   ],
   "source": [
    "# Create the model\n",
    "embedding_dim = 64\n",
    "\n",
    "i = Input(shape=(1,), dtype=\"string\")\n",
    "x = encoder(i)### pre-processing ### \n",
    "x = Embedding(10001, input_length=embedding_dim, output_dim= 64)(x) ### embedding ### \n",
    "x = Conv1D(32, kernel_size=3,activation='relu')(x) ### first conv, activation='relu', filter_size= can you guess? ### \n",
    "x = MaxPooling1D(pool_size=3)(x) ### first maxpool, filter_size= can you guess?   ### \n",
    "x = Conv1D(64, kernel_size=3,activation='relu')(x) ### second conv, activation='relu', filter_size= can you guess?  ### \n",
    "x = MaxPooling1D(pool_size=3)(x) ### second maxpool, filter_size= can you guess?   ### \n",
    "x = Dense(1, activation='sigmoid')(x)\n",
    "\n",
    "cnn_model = Model(inputs=i , outputs=x)### build model ### \n",
    "cnn_model.summary()"
   ]
  },
  {
   "cell_type": "code",
   "execution_count": 13,
   "metadata": {
    "id": "--AyqxtW5quv"
   },
   "outputs": [
    {
     "name": "stdout",
     "output_type": "stream",
     "text": [
      "Training model...\n",
      "Epoch 1/6\n",
      "112/112 [==============================] - 8s 59ms/step - loss: 0.5129 - accuracy: 0.8615 - val_loss: 0.3291 - val_accuracy: 0.8901\n",
      "Epoch 2/6\n",
      "112/112 [==============================] - 4s 35ms/step - loss: 0.3733 - accuracy: 0.8695 - val_loss: 0.3213 - val_accuracy: 0.8994\n",
      "Epoch 3/6\n",
      "112/112 [==============================] - 3s 30ms/step - loss: 0.3649 - accuracy: 0.8756 - val_loss: 0.3132 - val_accuracy: 0.9009\n",
      "Epoch 4/6\n",
      "112/112 [==============================] - 3s 30ms/step - loss: 0.3588 - accuracy: 0.8794 - val_loss: 0.3215 - val_accuracy: 0.9013\n",
      "Epoch 5/6\n",
      "112/112 [==============================] - 3s 30ms/step - loss: 0.3517 - accuracy: 0.8823 - val_loss: 0.3119 - val_accuracy: 0.9021\n",
      "Epoch 6/6\n",
      "112/112 [==============================] - 3s 30ms/step - loss: 0.3504 - accuracy: 0.8815 - val_loss: 0.3159 - val_accuracy: 0.9019\n"
     ]
    }
   ],
   "source": [
    "# Compile and fit\n",
    "cnn_model.compile(optimizer='adam',loss='binary_crossentropy', metrics=['accuracy']) ### your code ### \n",
    "print('Training model...')\n",
    "r = cnn_model.fit(X_train, Ytrain, epochs=6, validation_data=(X_val, Yval)) ### your code ### "
   ]
  },
  {
   "cell_type": "code",
   "execution_count": 14,
   "metadata": {
    "id": "ZYnknsRP5qux"
   },
   "outputs": [
    {
     "data": {
      "image/png": "[encoded data removed]",
      "text/plain": [
       "<Figure size 432x288 with 1 Axes>"
      ]
     },
     "metadata": {
      "needs_background": "light"
     },
     "output_type": "display_data"
    }
   ],
   "source": [
    "# Plot loss per iteration\n",
    "plt.plot(r.history['loss'],color='g', label = 'loss')\n",
    "plt.plot(r.history['val_loss'],color='b', label = 'val_loss')\n",
    "plt.legend()\n",
    "plt.show()\n",
    "### your code ### "
   ]
  },
  {
   "cell_type": "code",
   "execution_count": 15,
   "metadata": {
    "id": "TlWTqE-45qux"
   },
   "outputs": [
    {
     "data": {
      "image/png": "[encoded data removed]",
      "text/plain": [
       "<Figure size 432x288 with 1 Axes>"
      ]
     },
     "metadata": {
      "needs_background": "light"
     },
     "output_type": "display_data"
    }
   ],
   "source": [
    "# Plot accuracy per iteration\n",
    "plt.plot(r.history['accuracy'],color='g', label = 'accuracy')\n",
    "plt.plot(r.history['val_accuracy'],color='b', label = 'val_accuracy')\n",
    "plt.legend()\n",
    "plt.show() \n",
    "### your code ### "
   ]
  },
  {
   "cell_type": "markdown",
   "metadata": {
    "id": "8IOP2DHL5qux"
   },
   "source": [
    "## Sub Task 4: Mix and Match"
   ]
  },
  {
   "cell_type": "markdown",
   "metadata": {
    "id": "2xhtum7s5qux"
   },
   "source": [
    "Let's use the power of the functional API to stack our two models together. Our final model takes as input two parallel branches and combine them to get a final output. One input passage will go through our LSTM network and the other through our CNN network. Keep in mind that you need to remove the last sigmoid layer of the both models for it to work properly. The output of two models are concatenated and passed through two additional `Dense` layers. Here is the model summary of the model you need to replicate: \n",
    "\n",
    "```\n",
    "Model: \"model_61\"\n",
    "__________________________________________________________________________________________________\n",
    "Layer (type)                    Output Shape         Param #     Connected to                     \n",
    "==================================================================================================\n",
    "input_85 (InputLayer)           [(None, 1)]          0                                            \n",
    "__________________________________________________________________________________________________\n",
    "input_86 (InputLayer)           [(None, 1)]          0                                            \n",
    "__________________________________________________________________________________________________\n",
    "text_vectorization_9 (TextVecto (None, 128)          0           input_85[0][0]                   \n",
    "                                                                 input_86[0][0]                   \n",
    "__________________________________________________________________________________________________\n",
    "embedding_71 (Embedding)        (None, 128, 20)      200020      text_vectorization_9[51][0]      \n",
    "__________________________________________________________________________________________________\n",
    "conv1d_70 (Conv1D)              (None, 126, 32)      1952        embedding_71[0][0]               \n",
    "__________________________________________________________________________________________________\n",
    "max_pooling1d_65 (MaxPooling1D) (None, 42, 32)       0           conv1d_70[0][0]                  \n",
    "__________________________________________________________________________________________________\n",
    "embedding_70 (Embedding)        (None, 128, 20)      200020      text_vectorization_9[50][0]      \n",
    "__________________________________________________________________________________________________\n",
    "conv1d_71 (Conv1D)              (None, 40, 64)       6208        max_pooling1d_65[0][0]           \n",
    "__________________________________________________________________________________________________\n",
    "lstm_39 (LSTM)                  (None, 128, 15)      2160        embedding_70[0][0]               \n",
    "__________________________________________________________________________________________________\n",
    "max_pooling1d_66 (MaxPooling1D) (None, 13, 64)       0           conv1d_71[0][0]                  \n",
    "__________________________________________________________________________________________________\n",
    "global_max_pooling1d_37 (Global (None, 15)           0           lstm_39[0][0]                    \n",
    "__________________________________________________________________________________________________\n",
    "flatten_6 (Flatten)             (None, 832)          0           max_pooling1d_66[0][0]           \n",
    "__________________________________________________________________________________________________\n",
    "tf.concat_10 (TFOpLambda)       (None, 847)          0           global_max_pooling1d_37[0][0]    \n",
    "                                                                 flatten_6[0][0]                  \n",
    "__________________________________________________________________________________________________\n",
    "dense_46 (Dense)                (None, 128)          108544      tf.concat_10[0][0]               \n",
    "__________________________________________________________________________________________________\n",
    "dense_47 (Dense)                (None, 1)            129         dense_46[0][0]                   \n",
    "==================================================================================================\n",
    "Total params: 519,033\n",
    "Trainable params: 519,033\n",
    "Non-trainable params: 0\n",
    "_____________________________\n",
    "```\n",
    "Train the model for 4 epochs using the validation set for intermediate testing. Use the Adam optimizer with default parameters and binary cross entropy loss, keep track of the accuracy during training so we can plot it later. Note that the input should be a list containing your training features (twice), the same applies for the validation set and later the test set. This is due to the fact that your model has two input branches, however, since the output branch is still one, no changes are needed for the loss function or target values.\n"
   ]
  },
  {
   "cell_type": "code",
   "execution_count": 16,
   "metadata": {
    "id": "eITYuuK25quy"
   },
   "outputs": [
    {
     "name": "stdout",
     "output_type": "stream",
     "text": [
      "Model: \"model_3\"\n",
      "__________________________________________________________________________________________________\n",
      "Layer (type)                    Output Shape         Param #     Connected to                     \n",
      "==================================================================================================\n",
      "input_3 (InputLayer)            [(None, 1)]          0                                            \n",
      "__________________________________________________________________________________________________\n",
      "input_4 (InputLayer)            [(None, 1)]          0                                            \n",
      "__________________________________________________________________________________________________\n",
      "text_vectorization (TextVectori (None, 128)          0           input_3[0][0]                    \n",
      "                                                                 input_4[0][0]                    \n",
      "__________________________________________________________________________________________________\n",
      "embedding_3 (Embedding)         (None, 128, 20)      200020      text_vectorization[3][0]         \n",
      "__________________________________________________________________________________________________\n",
      "conv1d_2 (Conv1D)               (None, 126, 32)      1952        embedding_3[0][0]                \n",
      "__________________________________________________________________________________________________\n",
      "max_pooling1d_2 (MaxPooling1D)  (None, 42, 32)       0           conv1d_2[0][0]                   \n",
      "__________________________________________________________________________________________________\n",
      "embedding_2 (Embedding)         (None, 128, 20)      200020      text_vectorization[2][0]         \n",
      "__________________________________________________________________________________________________\n",
      "conv1d_3 (Conv1D)               (None, 40, 64)       6208        max_pooling1d_2[0][0]            \n",
      "__________________________________________________________________________________________________\n",
      "lstm_1 (LSTM)                   (None, 128, 15)      2160        embedding_2[0][0]                \n",
      "__________________________________________________________________________________________________\n",
      "max_pooling1d_3 (MaxPooling1D)  (None, 13, 64)       0           conv1d_3[0][0]                   \n",
      "__________________________________________________________________________________________________\n",
      "global_max_pooling1d_1 (GlobalM (None, 15)           0           lstm_1[0][0]                     \n",
      "__________________________________________________________________________________________________\n",
      "flatten (Flatten)               (None, 832)          0           max_pooling1d_3[0][0]            \n",
      "__________________________________________________________________________________________________\n",
      "tf.concat (TFOpLambda)          (None, 847)          0           global_max_pooling1d_1[0][0]     \n",
      "                                                                 flatten[0][0]                    \n",
      "__________________________________________________________________________________________________\n",
      "dense_2 (Dense)                 (None, 128)          108544      tf.concat[0][0]                  \n",
      "__________________________________________________________________________________________________\n",
      "dense_3 (Dense)                 (None, 1)            129         dense_2[0][0]                    \n",
      "==================================================================================================\n",
      "Total params: 519,033\n",
      "Trainable params: 519,033\n",
      "Non-trainable params: 0\n",
      "__________________________________________________________________________________________________\n"
     ]
    }
   ],
   "source": [
    "# define two sets of inputs\n",
    "inputA = Input(shape=(1,), dtype=\"string\")\n",
    "inputB = Input(shape=(1,), dtype=\"string\")\n",
    "\n",
    "# the first branch operates on the first input\n",
    "x = encoder(inputA)### pre-processing ### \n",
    "x = Embedding(input_dim=10001, output_dim=20, input_length=64)(x)### Embedding ### \n",
    "x = LSTM(15, return_sequences=True, input_shape=(1,128))(x)### lstm_model ###\n",
    "x = GlobalMaxPooling1D()(x)### lstm_model ###\n",
    "x = Model(inputs=inputA, outputs=x)\n",
    "\n",
    "\n",
    "# the second branch operates on the second input\n",
    "y = encoder(inputB)### pre processing ### \n",
    "y = Embedding(input_dim=10001, output_dim=20)(y)### Embedding ### \n",
    "y = Conv1D(32, kernel_size=3 ,activation='relu')(y)### cnn_model ###\n",
    "y = MaxPooling1D(pool_size=3)(y)### cnn_model ###\n",
    "y = Conv1D(64, kernel_size=3 ,activation='relu')(y)### cnn_model ###\n",
    "y = MaxPooling1D(pool_size=3)(y)### cnn_model ###\n",
    "y = Flatten()(y) ### we need to flatten the data to remove the additional dimension here\n",
    "y = Model(inputs=inputB, outputs=y)\n",
    "\n",
    "# combine the output of the two branches\n",
    "combined = tf.concat([x.output,y.output],axis=-1) ### your code ### \n",
    "\n",
    "# combined outputs\n",
    "z = Dense(128, activation=\"relu\")(combined)### your code ### \n",
    "z = Dense(1, activation=\"sigmoid\")(z)\n",
    "\n",
    "# our model will accept the inputs of the two branches and then output a single value\n",
    "mix_model = Model(inputs=[x.input, y.input], outputs=z)\n",
    "mix_model.summary()"
   ]
  },
  {
   "cell_type": "code",
   "execution_count": 17,
   "metadata": {
    "id": "gMUMLO2R5qu0"
   },
   "outputs": [
    {
     "name": "stdout",
     "output_type": "stream",
     "text": [
      "Training model...\n",
      "Epoch 1/4\n",
      "60/60 [==============================] - 17s 140ms/step - loss: 0.5087 - accuracy: 0.8022 - val_loss: 0.2508 - val_accuracy: 0.8901\n",
      "Epoch 2/4\n",
      "60/60 [==============================] - 7s 111ms/step - loss: 0.2288 - accuracy: 0.8981 - val_loss: 0.1568 - val_accuracy: 0.9507\n",
      "Epoch 3/4\n",
      "60/60 [==============================] - 4s 67ms/step - loss: 0.1503 - accuracy: 0.9508 - val_loss: 0.1322 - val_accuracy: 0.9563\n",
      "Epoch 4/4\n",
      "60/60 [==============================] - 4s 63ms/step - loss: 0.1135 - accuracy: 0.9631 - val_loss: 0.1223 - val_accuracy: 0.9664\n"
     ]
    }
   ],
   "source": [
    "# Compile and fit\n",
    "mix_model.compile(optimizer='adam', loss='binary_crossentropy', metrics=['accuracy'])### your code ### \n",
    "print('Training model...')\n",
    "r2 = mix_model.fit([X_train,X_train], Ytrain, validation_data=([X_val, X_val], Yval), epochs=4, batch_size=60)### your code ###"
   ]
  },
  {
   "cell_type": "code",
   "execution_count": 18,
   "metadata": {
    "id": "kAY1r0005qu1"
   },
   "outputs": [
    {
     "data": {
      "image/png": "[encoded data removed]",
      "text/plain": [
       "<Figure size 432x288 with 1 Axes>"
      ]
     },
     "metadata": {
      "needs_background": "light"
     },
     "output_type": "display_data"
    }
   ],
   "source": [
    "# Plot loss per iteration\n",
    "loss = r2.history['loss']\n",
    "val_loss = r2.history['val_loss']\n",
    "epochs = range(len(loss))\n",
    "plt.plot(epochs, loss, '-', color='red', label='loss')\n",
    "plt.plot(epochs, val_loss,  '-', color='blue', label='val loss')\n",
    "plt.title('Training and validation loss')\n",
    "plt.legend()\n",
    "plt.show()\n",
    "### your code ###"
   ]
  },
  {
   "cell_type": "code",
   "execution_count": 19,
   "metadata": {
    "id": "jSHM242x5qu2"
   },
   "outputs": [
    {
     "data": {
      "image/png": "[encoded data removed]",
      "text/plain": [
       "<Figure size 432x288 with 1 Axes>"
      ]
     },
     "metadata": {
      "needs_background": "light"
     },
     "output_type": "display_data"
    }
   ],
   "source": [
    "# Plot accuracy per iteration\n",
    "acc = r2.history['accuracy']\n",
    "val_acc = r2.history['val_accuracy']\n",
    "epochs = range(len(acc))\n",
    "plt.plot(epochs, acc, '-', color='red', label='accuracy')\n",
    "plt.plot(epochs, val_acc, '-', color='blue', label='val accuracy')\n",
    "plt.title('Training and validation accuracy')\n",
    "plt.legend()\n",
    "plt.show()\n",
    "### your code ###"
   ]
  },
  {
   "cell_type": "markdown",
   "metadata": {
    "id": "t7WVr_Fx5qu2"
   },
   "source": [
    "## Sub Task 5: Comparision "
   ]
  },
  {
   "cell_type": "markdown",
   "metadata": {
    "id": "QncqSQGY5qu3"
   },
   "source": [
    "Use the `evaluate` function to compare the performance of the three models on the test set. Which one works better? "
   ]
  },
  {
   "cell_type": "code",
   "execution_count": 20,
   "metadata": {
    "id": "c3_gdKr25qu4"
   },
   "outputs": [
    {
     "name": "stdout",
     "output_type": "stream",
     "text": [
      "70/70 [==============================] - 4s 50ms/step - loss: 0.1918 - accuracy: 0.9498\n",
      "Test score lstm: [0.19181093573570251, 0.949775755405426]\n",
      "70/70 [==============================] - 1s 13ms/step - loss: 0.3524 - accuracy: 0.8811\n",
      "Test score cnn: [0.35242071747779846, 0.8811315298080444]\n",
      "35/35 [==============================] - 1s 31ms/step - loss: 0.1393 - accuracy: 0.9543\n",
      "Test score mix: [0.13928548991680145, 0.9542601108551025]\n"
     ]
    }
   ],
   "source": [
    "print(\"Test score lstm:\", lstm_model.evaluate(dataset_test)) ### your code ### )\n",
    "print(\"Test score cnn:\", cnn_model.evaluate(dataset_test))### your code ### )\n",
    "print(\"Test score mix:\", mix_model.evaluate([X_test,X_test],Ytest)) ### your code ### )"
   ]
  },
  {
   "cell_type": "markdown",
   "metadata": {},
   "source": [
    "<span style=\"color:green\"> The mix_model does evaluate better,as we see the loss and less than the CNN and LSTM model and the accuracy is higher too.</ span>"
   ]
  },
  {
   "cell_type": "markdown",
   "metadata": {
    "id": "Zr8VogsJ5qu4"
   },
   "source": [
    "## Task 2: Theoretical Questions (1+1+1+1+1+1+1+1) = 8 Points  "
   ]
  },
  {
   "cell_type": "markdown",
   "metadata": {
    "id": "3lSTMz2f5qu5"
   },
   "source": [
    "### Sub Task 1: "
   ]
  },
  {
   "cell_type": "markdown",
   "metadata": {
    "id": "cebFt4UW5qu5"
   },
   "source": [
    "While training an RNN at the *t*-th time-step, what probability is the RNN computing? ($w_t$ is the word at time $t$). "
   ]
  },
  {
   "cell_type": "markdown",
   "metadata": {
    "id": "h3iYzCh_5qu6"
   },
   "source": [
    "$P(w_{t} | w_{1},...w_{t-1})$"
   ]
  },
  {
   "cell_type": "markdown",
   "metadata": {
    "id": "L1Q6i4RS5qu6"
   },
   "source": [
    "### Sub Task 2: "
   ]
  },
  {
   "cell_type": "markdown",
   "metadata": {
    "id": "u12qUQWD5qu6"
   },
   "source": [
    "Consider the following two scenarios for the language model:  \n",
    "(i) During training,  \n",
    "(ii) After training, while using the language model to sample.  \n",
    "**For both cases answer the following:** How is the next word chosen? What value is passed on to the next time step? "
   ]
  },
  {
   "cell_type": "markdown",
   "metadata": {
    "id": "jIdkTPwG5qu7"
   },
   "source": [
    "<span style=\"color:blue\">    i) sequential\\\n",
    "    ii) The next word is chosen with the probability computing by RNN (see subtask 1). The selected word is passed on the next time step. </ span>"
   ]
  },
  {
   "cell_type": "markdown",
   "metadata": {
    "id": "BCF0hNoD5qu7"
   },
   "source": [
    "### Sub Task 3: "
   ]
  },
  {
   "cell_type": "markdown",
   "metadata": {
    "id": "NtOvQuLm5qu7"
   },
   "source": [
    "While training your RNN, you realise that your weights and activations have taken the value of `NaN` (not a number), what can be the cause of this? Name one method to avoid this problem.  (short answer) "
   ]
  },
  {
   "cell_type": "markdown",
   "metadata": {
    "id": "56NqUKw45qu7"
   },
   "source": [
    "<span style=\"color:blue\">That is exploding gradients. It ocurrs when the RNN can't learn over long input sequences of data.\\\n",
    "Methods for avoiding this problems: </span>\n",
    "\n",
    "<span style=\"color:blue\">1) We can use ReLu activation instead of Sigmoid/Tahn. The ReLu activation function squeezes the activation value not between -1~1 or 0~1 as with Tahn and Sigmoid.\\\n",
    "    2) or we can change the derivative of the error before propagating it backward through the network and using it to update the weights </span>"
   ]
  },
  {
   "cell_type": "markdown",
   "metadata": {
    "id": "gcAmrnWr5qu7"
   },
   "source": [
    "### Sub Task 4: "
   ]
  },
  {
   "cell_type": "markdown",
   "metadata": {
    "id": "otFcTN6A5qu8"
   },
   "source": [
    "You have a pet dragon, whose mood is heavily dependent on the weather on the current and past few days. You have collected data of the weather for the past 365 days as $w_1,...,w_{365}$, where $w_1$ is the first day of your recording, and $w_{365}$ the most recent day. You also recorded the mood of your dragon as $y_1,...,y_{365}$ corresponding to the individual days. To avoid any \"dragon accidents\", you want to predict her mood for the next days. Would you use a unidirectional or bidirectional RNN? Justify your answer. "
   ]
  },
  {
   "cell_type": "markdown",
   "metadata": {
    "id": "KIHGqn5OwKEV"
   },
   "source": [
    "\n",
    "<span style=\"color:blue\"> In this case it will better if we use unidirectional RNN. This network only preserves information of the past because the only inputs it has seen are from the past. We don't need to preserve information from future to past, because $t_{365}$ depends only on $w_{1}$ to $w_{365}$. </span>"
   ]
  },
  {
   "cell_type": "markdown",
   "metadata": {
    "id": "oeTeI2GE5qu8"
   },
   "source": [
    "### Sub Task 5: "
   ]
  },
  {
   "cell_type": "markdown",
   "metadata": {
    "id": "jGinHwKR5qu8"
   },
   "source": [
    "You have an input of shape `(84x3)` and you convolve (1D) it with `16` filters of size `7`, using a stride of `2` and no padding. What is the output dimension?  \n",
    "What if you had an image of shape `(84x84x3)` (last dimension is the RGB channel) and you convolve it with `32` filters of shape `(7x7)`, using a stride of `2` and no padding. What is the shape of the output volume?\n",
    "\n",
    "The question is independent of the batch size, imagine a single example. "
   ]
  },
  {
   "cell_type": "markdown",
   "metadata": {
    "id": "_R_Ui6OB5qu9"
   },
   "source": [
    "<span style=\"color:blue\">1) the output dimension is 1x83\\\n",
    "2) [(W−K+2P)/S]+1 and [(H−K+2P)/S]+1\\\n",
    "[(84-7+0)/2]+1= floor(38,5)+1=39 output (39x39x32)</span>"
   ]
  },
  {
   "cell_type": "markdown",
   "metadata": {
    "id": "OV7ExHyP5qu-"
   },
   "source": [
    "## Sub Task 6: "
   ]
  },
  {
   "cell_type": "markdown",
   "metadata": {
    "id": "-0AisEM25qu-"
   },
   "source": [
    "What is the effect of pooling layers in terms of the derivative for backpropagation? "
   ]
  },
  {
   "cell_type": "markdown",
   "metadata": {
    "id": "1suQkseG5qu-"
   },
   "source": [
    "<span style=\"color:blue\">Backpropagation of the pooling layers then computes the error which is acquired by the single value - value of the \"winning unit\". For the other units the pooling layers will backpropagate zero. </span>"
   ]
  },
  {
   "cell_type": "markdown",
   "metadata": {
    "id": "5iyUGEDY5qu-"
   },
   "source": [
    "### Sub Task 7: "
   ]
  },
  {
   "cell_type": "markdown",
   "metadata": {
    "id": "C3aByyOY5qu_"
   },
   "source": [
    "You have an input volume of shape `(32x32x64)` and you apply *max pooling* with stride `4` and a filter size of `2`. What is the size of the output volume? The question is independent of the batch size, imagine a single example. "
   ]
  },
  {
   "cell_type": "markdown",
   "metadata": {
    "id": "jGViPD4NwKEZ"
   },
   "source": [
    "<span style=\"color:blue\">[(W - F) / S] + 1 x D and [(H - F) / S] + 1 x D\n",
    "[(32-2)/4] +1 = 9 -> output volume = 9x9x64 </span>"
   ]
  },
  {
   "cell_type": "markdown",
   "metadata": {
    "id": "NC53qV1h98hS"
   },
   "source": [
    "## Sub Task 8\n",
    "\n"
   ]
  },
  {
   "cell_type": "markdown",
   "metadata": {
    "id": "nVcu82ep-PR4"
   },
   "source": [
    "You trained a classifier using a convolutional neural network that stacked 4 convolutional layers to differentiate images of animals. There are 100 different classes of animals the network classifies. Now you want to find a hidden unit that strongly indicates that the image is a dragon, i.e., a hidden unit that is strongly activated when shown an image of a dragon. In which of the four layers are you most likely to find such a unit?"
   ]
  },
  {
   "cell_type": "markdown",
   "metadata": {
    "id": "-Nsei_lQwKEa"
   },
   "source": [
    "<span style=\"color:blue\">in the last layer (4th layer)</span>"
   ]
  },
  {
   "cell_type": "markdown",
   "metadata": {
    "id": "315kqIiW2Zhr"
   },
   "source": [
    "## Task 3: Unsupervised Keyphrase Extraction (4+3+2) = 9 Points\n",
    "\n",
    "In this task, we will implement a simple unsupervised keyphrase extraction module utilizing a simple grammatical ruling system, which we apply to a Sherlock Holmes novel. To generate TF-IDF-weighted phrases, we will be using the entire collection from Sir Arthur Donan Coyle to calculate document frequencies."
   ]
  },
  {
   "cell_type": "markdown",
   "metadata": {
    "id": "joME4y0pC-bq"
   },
   "source": [
    "### Sub Task 1: Extract Keyphrase Candidates\n",
    "We will generate a set of suitable candidate phrases by using spaCy's rule-based `Matcher` class.\n",
    "The pattern should satisfy the following rules for a valid candidate:\n",
    "\n",
    "1. An optional adjective, noun, proper noun\n",
    "2. An optional adjective, noun, proper noun, or adposition\n",
    "3. A mandatory noun or proper noun.\n",
    "\n",
    "This will match phrases of an length of 1-3 tokens, which is a suitable rule of thumb to start with."
   ]
  },
  {
   "cell_type": "code",
   "execution_count": 5,
   "metadata": {},
   "outputs": [],
   "source": [
    "import spacy \n",
    "from spacy.matcher import Matcher\n",
    "import numpy as np"
   ]
  },
  {
   "cell_type": "code",
   "execution_count": 6,
   "metadata": {},
   "outputs": [],
   "source": [
    "nlp = spacy.load(\"en_core_web_sm\", disable=[\"ner\"])# load the spaCy model \"en\", and disable named entity recognition #\n",
    "matcher = Matcher(nlp.vocab) # Instantiate a Matcher object with the vocabulary of the \"en\" module #\n",
    "\n",
    "pattern = [[{\"POS\":\"ADJ\",\"OP\":\"?\"},{\"POS\":\"NOUN\"},{\"POS\":\"PROPN\"}], #{\"POS\":{\"IN\" :[\"NOUN\", \"PROPN\"] }}],\n",
    "               [{\"POS\":\"ADJ\",\"OP\":\"?\"},{\"POS\":{\"IN\":[\"NOUN\",\"ADP\"]}},{\"POS\":{\"IN\":[\"PROPN\",\"ADP\"]}, \"OP\":\"*\"}],\n",
    "           [{\"POS\": {\"IN\": [\"NOUN\" ,\"PROPN\"]}}]] ### your code ###\n",
    "matcher.add(\"TEST\", pattern) # Append your pattern to the matcher class #"
   ]
  },
  {
   "cell_type": "code",
   "execution_count": 7,
   "metadata": {
    "colab": {
     "base_uri": "https://localhost:8080/"
    },
    "id": "71JZGbIlHfxx",
    "outputId": "7b650ae4-99bd-4226-ab95-fe0b8cc2b09e"
   },
   "outputs": [
    {
     "name": "stdout",
     "output_type": "stream",
     "text": [
      "10\n"
     ]
    }
   ],
   "source": [
    "# Run to verify correctness of your rule-based matcher. Should return \"11\" if correctly implemented.\n",
    "doc = nlp(\"This is a simple test. It should return 'simple', and 'test'. Maybe we can also see if it can recognize the art of war. Would it recognize integer linear programming, too?\")\n",
    "matches = matcher(doc)\n",
    "print(len(matches))"
   ]
  },
  {
   "cell_type": "markdown",
   "metadata": {
    "id": "3x2TRsI-GeLq"
   },
   "source": [
    "Once you have matched the correct number of keyphrase candidates on the above example, apply your rule-based matcher to an actual data sample. We are going to use the Sherlock Holmes novel \"Hounds of Baskervilles\". You can find the raw text file at the following URL:\n",
    "\n",
    "https://sherlock-holm.es/stories/plain-text/houn.txt\n",
    "\n",
    "Download the text from this URL and apply your spacy model and matcher on it.  \n",
    "**Hint:** Make sure you properly decode your input, since some libraries return binary strings."
   ]
  },
  {
   "cell_type": "code",
   "execution_count": 8,
   "metadata": {
    "id": "fNgRWVB5JmTf"
   },
   "outputs": [],
   "source": [
    "import urllib\n",
    "from urllib.request import urlopen\n",
    "\n",
    "def load_txt_from_url(url=\"https://sherlock-holm.es/stories/plain-text/houn.txt\"):\n",
    "  ### your code here ###\n",
    "    text = ''\n",
    "    file = urllib.request.urlopen(url)\n",
    "    for line in file:\n",
    "        text +=  str(line.decode('utf-8')) # \n",
    "    return text \n",
    "\n",
    "text = load_txt_from_url()\n",
    "\n",
    "doc =nlp(text) ### your code here ###\n",
    "matches = matcher(doc) ### your code here ###"
   ]
  },
  {
   "cell_type": "markdown",
   "metadata": {
    "id": "q4U96ELPKtIA"
   },
   "source": [
    "We will now investigate which phrase candidates are the most frequently appearing in this novel, simply based on the phrase frequency. Therefore, convert your abstract match objects into actual strings, lowercase them, and return the 10 most frequently occurring phrase candidates and their respective frequencies."
   ]
  },
  {
   "cell_type": "code",
   "execution_count": 9,
   "metadata": {
    "id": "rizDaIubNMfx"
   },
   "outputs": [
    {
     "data": {
      "text/plain": [
       "[('of', 1599),\n",
       " ('in', 903),\n",
       " ('to', 690),\n",
       " ('with', 441),\n",
       " ('for', 421),\n",
       " ('at', 353),\n",
       " ('sir', 350),\n",
       " ('as', 350),\n",
       " ('from', 288),\n",
       " ('on', 234)]"
      ]
     },
     "execution_count": 9,
     "metadata": {},
     "output_type": "execute_result"
    }
   ],
   "source": [
    "### your code ###\n",
    "from collections import Counter \n",
    "\n",
    "text_list = []\n",
    "for match_id, start, end in matches:\n",
    "    text_list.append(doc[start:end].text)\n",
    "text_list = [i.lower() for i in text_list]  \n",
    "counter = Counter(text_list)\n",
    "most_common_words = counter.most_common(10)\n",
    "most_common_words"
   ]
  },
  {
   "cell_type": "code",
   "execution_count": 10,
   "metadata": {},
   "outputs": [
    {
     "data": {
      "text/plain": [
       "[('of', 0.004615584453072005),\n",
       " ('in', 0.0026065495691832523),\n",
       " ('to', 0.0019917156176483325),\n",
       " ('with', 0.0012729660686708907),\n",
       " ('for', 0.001215235181202823),\n",
       " ('at', 0.0010189501638113933),\n",
       " ('sir', 0.0010102905306911831),\n",
       " ('as', 0.0010102905306911831),\n",
       " ('from', 0.0008313247795401734),\n",
       " ('on', 0.0006754513833763909)]"
      ]
     },
     "execution_count": 10,
     "metadata": {},
     "output_type": "execute_result"
    }
   ],
   "source": [
    "mm = []\n",
    "## get the frequence over the whole script\n",
    "for word, freq in most_common_words:\n",
    "    mm.append((word,(freq)/len(text)))\n",
    "mm[:10] ### here we get the frequence of the top 10 words over the whole scripts"
   ]
  },
  {
   "cell_type": "markdown",
   "metadata": {
    "id": "WYQt8278NA7v"
   },
   "source": [
    "#### Briefly summarize the quality of your top 10 candidates:\n",
    "\n",
    "YOUR ANSWER\n",
    "\n",
    "<span style= color:green > Well i did not expect less, since our conditions in the pattern does allow such words as shown above through ( of. if at, for , on), and it is pretty usual that these word shows up a lot in every sentence in general.\\\n",
    "if we were to remove stop word we would have probably gotten more nouns.\\\n",
    "    (therefore i removed the stop word in the code below to see what we will get) \\\n",
    "\n",
    "P.s and we get no verbs because our pattern defined for the matcher does not include them </span>"
   ]
  },
  {
   "cell_type": "markdown",
   "metadata": {},
   "source": [
    " "
   ]
  },
  {
   "cell_type": "code",
   "execution_count": 11,
   "metadata": {},
   "outputs": [
    {
     "data": {
      "text/plain": [
       "[('sir', 350),\n",
       " ('man', 214),\n",
       " ('holmes', 192),\n",
       " ('moor', 160),\n",
       " ('henry', 156),\n",
       " ('watson', 117),\n",
       " ('baskerville', 116),\n",
       " ('dr.', 109),\n",
       " ('charles', 94),\n",
       " ('stapleton', 93)]"
      ]
     },
     "execution_count": 11,
     "metadata": {},
     "output_type": "execute_result"
    }
   ],
   "source": [
    "##\n",
    "\n",
    "text_filtered = []\n",
    "for word in text_list:\n",
    "    w = nlp.vocab[word]\n",
    "    if w.is_stop == False:\n",
    "        text_filtered.append(word)\n",
    "counter_filtered = Counter(text_filtered)\n",
    "most_common_filtered = counter_filtered.most_common(10)\n",
    "most_common_filtered"
   ]
  },
  {
   "cell_type": "markdown",
   "metadata": {},
   "source": [
    "<span style= color:green> As we see here, we got 7 name and 3 proper noun, maybe 4 proper noun, i am not sure if moor is a person or not</span>\n"
   ]
  },
  {
   "cell_type": "markdown",
   "metadata": {
    "id": "aucrN3TPJqw1"
   },
   "source": [
    "### Sub Task 2: Generating Document Frequency Values\n",
    "\n",
    "To compare the previously generated terms with a more refined model, we are going to extract document frequencies from the collection of all Sherlock Holmes works. Since the books are relatively long documents, we are instead going to split based on a simple heuristic in the input document, which should allow a decent approximation by taking into account individual chapters of each novel."
   ]
  },
  {
   "cell_type": "markdown",
   "metadata": {
    "id": "mfp7rUN9N218"
   },
   "source": [
    "Start by loading the Sherlock Holmes canon from https://sherlock-holm.es/stories/plain-text/cnus.txt\n",
    "\n",
    "Afterwards, split the full document into individual chapters. For this, use three consecutive line breaks `\\n\\n\\n` as a splitting condition to approximate the chapters."
   ]
  },
  {
   "cell_type": "code",
   "execution_count": 12,
   "metadata": {
    "id": "FWlFYasYRW8k"
   },
   "outputs": [
    {
     "data": {
      "text/plain": [
       "353"
      ]
     },
     "execution_count": 12,
     "metadata": {},
     "output_type": "execute_result"
    }
   ],
   "source": [
    "### your code ###\n",
    "def load_txt_from_url_(url=\"https://sherlock-holm.es/stories/plain-text/cnus.txt\"): ## copied from above and changed test\n",
    "  ### your code here ###\n",
    "    text = ''\n",
    "    file = urllib.request.urlopen(url)\n",
    "    for line in file:\n",
    "        text +=  str(line.decode('utf-8')) # \n",
    "    return text \n",
    "\n",
    "text = load_txt_from_url_()\n",
    "text = text.split('\\n\\n\\n')\n",
    "len(text)# 353 befor filtering "
   ]
  },
  {
   "cell_type": "markdown",
   "metadata": {
    "id": "oRcMyiKkRU7d"
   },
   "source": [
    "After splitting, you should have 353 individual \"documents\" to work with. Now, create a dictionary containing each phrase encountered in the larger corpus, and its associated document frequency. \n",
    "\n",
    "**Hint:** Since the processing of 353 documents might take a while, you can incorporate tools such as `tqdm.tqdm` to visualize progress on the task."
   ]
  },
  {
   "cell_type": "code",
   "execution_count": 13,
   "metadata": {
    "id": "xLLyxoqOWXbl"
   },
   "outputs": [
    {
     "data": {
      "application/vnd.jupyter.widget-view+json": {
       "model_id": "a75785b18afc4a009fa3c0e40a515473",
       "version_major": 2,
       "version_minor": 0
      },
      "text/plain": [
       "  0%|          | 0/353 [00:00<?, ?it/s]"
      ]
     },
     "metadata": {},
     "output_type": "display_data"
    },
    {
     "name": "stdout",
     "output_type": "stream",
     "text": [
      "\n",
      " {}\n",
      "\n",
      " {'complete': 0.009433962264150943, 'sherlock': 0.009433962264150943, 'holmes': 0.009433962264150943, 'arthur': 0.009433962264150943, 'conan': 0.009433962264150943, 'doyle': 0.009433962264150943}\n"
     ]
    }
   ],
   "source": [
    "import tqdm.notebook as tqdm\n",
    "\n",
    "# should return the candidate phrases which occur in a single \"document\"\n",
    "\n",
    "#list to store dictionaries \n",
    "chapter_list = []\n",
    "\n",
    "def return_occurring_phrases(doc_text):\n",
    "    doc_ = nlp(doc_text)\n",
    "    matches = matcher(doc_)\n",
    "    text_list = []\n",
    "    for match_id, start, end in matches:\n",
    "        text_list.append(doc_[start:end].text)\n",
    "    text_list = [i.lower() for i in text_list]\n",
    "    \n",
    "    wordDict = dict.fromkeys(text_list, 0) \n",
    "    for word in (text_list):\n",
    "        wordDict[word]+=1\n",
    "    return wordDict\n",
    "        \n",
    "# iterate over all generated documents\n",
    "for doc in tqdm.tqdm(text):\n",
    "    chapter_list.append(return_occurring_phrases(doc))\n",
    "    \n",
    "# Afterwards, count the number of individual documents a phrase occurred in.\n",
    "\n",
    "\n",
    "## function calculates the tf in document \n",
    "def term_freq_per_doc(wordDict, doc):\n",
    "    tfDict = {}\n",
    "    corpusCount = len(doc)\n",
    "    for word, count in wordDict.items():\n",
    "        tfDict[word] = count/float(corpusCount)\n",
    "    return(tfDict)\n",
    "term_freq_doc = []\n",
    "for c, dic in enumerate(chapter_list):\n",
    "    term_freq_doc.append(term_freq_per_doc(dic, text[c]))\n",
    "\n",
    "for chap in term_freq_doc[:2]:\n",
    "    print(\"\\n\",chap)"
   ]
  },
  {
   "cell_type": "code",
   "execution_count": 18,
   "metadata": {},
   "outputs": [],
   "source": [
    "term_freq_doc = []\n",
    "for c, dic in enumerate(chapter_list):\n",
    "    term_freq_doc.append(term_freq_per_doc(dic, text[c]))"
   ]
  },
  {
   "cell_type": "markdown",
   "metadata": {},
   "source": [
    "<span style=\"color:green\"> what we getin term_freq_doc list in the cell above is the term frequency over the chapter it is </ span>"
   ]
  },
  {
   "cell_type": "code",
   "execution_count": 14,
   "metadata": {
    "id": "zUTXGZ83WqEx"
   },
   "outputs": [
    {
     "name": "stdout",
     "output_type": "stream",
     "text": [
      "{'of': 149, 'in': 114, 'man': 112, 'on': 110, 'from': 110, 'with': 109, 'for': 109, 'holmes': 107, 'to': 107, 'as': 107}\n"
     ]
    }
   ],
   "source": [
    "# Print the 10 most frequent phrases according to the df-counts, to verify your result.\n",
    "\n",
    "### a list of unique words in all chapters\n",
    "unique_words = []\n",
    "for chap in chapter_list:\n",
    "    for word in chap:\n",
    "        if word not in unique_words:\n",
    "            unique_words.append(word)\n",
    "\n",
    "### function checks if a word is in dic and add one to its count\n",
    "def check_W_dic(unique_words, chapters):\n",
    "    \n",
    "    df_dict = dict.fromkeys(unique_words, 0)\n",
    "    for chap in (chapters):\n",
    "        for word in chap:\n",
    "            if word in unique_words:\n",
    "                df_dict[word] +=1\n",
    "    return df_dict\n",
    "\n",
    "df_dict = check_W_dic(unique_words, chapter_list)\n",
    "top_ten = dict(Counter(df_dict).most_common(10)) ## get top ten frequent words\n",
    "print(top_ten)"
   ]
  },
  {
   "cell_type": "code",
   "execution_count": 31,
   "metadata": {},
   "outputs": [
    {
     "data": {
      "text/plain": [
       "353"
      ]
     },
     "execution_count": 31,
     "metadata": {},
     "output_type": "execute_result"
    }
   ],
   "source": [
    "len(chapter_list)"
   ]
  },
  {
   "cell_type": "code",
   "execution_count": 57,
   "metadata": {},
   "outputs": [
    {
     "name": "stdout",
     "output_type": "stream",
     "text": [
      "0.009433962264150943\n",
      "0.009433962264150943\n",
      "0.009433962264150943\n",
      "0.009433962264150943\n",
      "0.009433962264150943\n",
      "0.009433962264150943\n"
     ]
    }
   ],
   "source": [
    "for chapter in term_freq_doc[:2]:\n",
    "    for word in chapter:\n",
    "        print(chapter[word])"
   ]
  },
  {
   "cell_type": "markdown",
   "metadata": {},
   "source": [
    "<span style=\"color:green\"> in the above cell we got the most frequent 10 words over all documents.\\\n",
    "    the word 'Of' appeared in 149 documents and 'Holmes' in 107 documents.\\\n",
    "    the results do make sense since many chapters are empty and other are introduction into something so the main character Holmes won appear in this  </ span>"
   ]
  },
  {
   "cell_type": "markdown",
   "metadata": {
    "id": "vR9FmhTpS_TB"
   },
   "source": [
    "### Sub Task 3: Generating Weighted Keyphrases\n",
    "\n",
    "We can now incorporate the extracted keyphrases to calculate tf_idf scores, and return a hopefully improved version of our keyphrases for the original novel.\n",
    "Iterate over all phrases occurring in the novel, and weigh them according to the definition of TF-IDF. Use the smoothed definition of idf:\n",
    "\n",
    "$ idf(t, D) = \\log \\frac{N}{|\\{d \\in D : t \\in d\\}| + 1} + 1 $"
   ]
  },
  {
   "cell_type": "code",
   "execution_count": 84,
   "metadata": {},
   "outputs": [],
   "source": [
    "### calculate the weights for each candidate phrase from the \"Hounds of Baskervilles\" ###\n",
    "\n",
    "def tf_idf(words_list, df , tf): ## pass the unique words list ## df is a dictionary defined above and tf is a list of dic of tf\n",
    "    tf_idf = {}\n",
    "    for chapter in tf:\n",
    "        for chapter_num,word in enumerate(chapter):\n",
    "            df_ = df_dict[word]/353   ## 353 is number of all chapters\n",
    "            idf = np.log(len(words_list)/df_+1) + 1\n",
    "            tf_idf[(word)] = df_*chapter[word]\n",
    "    return tf_idf"
   ]
  },
  {
   "cell_type": "code",
   "execution_count": 85,
   "metadata": {},
   "outputs": [],
   "source": [
    "tf_idf = tf_idf(unique_words,df_dict,term_freq_doc)"
   ]
  },
  {
   "cell_type": "markdown",
   "metadata": {
    "id": "mSfTPsukVoEF"
   },
   "source": [
    "Now print the top 10 candidate phrases by TF-IDF weight, and compare the results to your previous output. Can you give reasons as to why some of the phrases might be occurring?"
   ]
  },
  {
   "cell_type": "code",
   "execution_count": 87,
   "metadata": {},
   "outputs": [
    {
     "data": {
      "text/plain": [
       "dict_keys(['of', 'from', 'for', 'to', 'h.', 'ii', 'in', 'baskervilles', 'holmes', 'by'])"
      ]
     },
     "execution_count": 87,
     "metadata": {},
     "output_type": "execute_result"
    }
   ],
   "source": [
    "top_10 = dict(Counter(tf_idf).most_common(10))\n",
    "#print(top_10)\n",
    "top_10.keys()"
   ]
  },
  {
   "cell_type": "markdown",
   "metadata": {
    "id": "kdmGgOThVmyz"
   },
   "source": [
    "COMPARE YOUR RESULTS"
   ]
  },
  {
   "cell_type": "markdown",
   "metadata": {
    "id": "2y8eaRPNWHut"
   },
   "source": [
    "Give two examples of how you could further improve the list of keyphrase values."
   ]
  },
  {
   "cell_type": "markdown",
   "metadata": {
    "id": "1yfMZ0etWNj_"
   },
   "source": [
    "\n",
    "YOUR ANSWER\\\n",
    "<span style= \"color:blue\">\n",
    "1) I would definitely remove all stop words.\\\n",
    "2) i would remove some irrelevant chapters,for example check the cell under,\n",
    "    there you will find examples of irrelevant intros considered chapters, the words in these chapters are included in our\n",
    "    computation of tf_df but they are not wished since they are not an important part of the story.\n",
    "    \n",
    "    some chapters contain nothing after splitting \\n\\n\\n and they are still counted and they make a difference when \n",
    "    computing idf\n",
    "</ span>\n"
   ]
  },
  {
   "cell_type": "code",
   "execution_count": 94,
   "metadata": {},
   "outputs": [
    {
     "data": {
      "text/plain": [
       "('',\n",
       " '\\n                          THE COMPLETE SHERLOCK HOLMES\\n\\n                               Arthur Conan Doyle',\n",
       " '\\n',\n",
       " '\\n     ----------\\n     This text is provided to you \"as-is\" without any warranty. No\\n     warranties of any kind, expressed or implied, are made to you as to\\n     the text or any medium it may be on, including but not limited to\\n     warranties of merchantablity or fitness for a particular purpose.\\n\\n     Pictures for \"The Adventure of the Dancing Men\", \"The Adventure of\\n     the Priory School\", \"The Adventure of the Golden Pince-Nez\" and \"The\\n     Adventure of the Missing Three-Quarter\" were taken from a 1911\\n     edition of the \"The Memoirs of Sherlock Holmes\" by Smith, Elder & Co.\\n     of London.\\n\\n     Pictures for \"The Adventure of the Dancing Men\" were taken from a\\n     1915 edition of \"The Return of Sherlock Holmes\" by Smith, Elder & Co.\\n     of London.\\n\\n     This text was formatted from various free ASCII and HTML variants.\\n     See http://sherlock-holm.es for an electronic form of this text and\\n     additional information about it.\\n\\n     This text comes from the collection\\'s version 3.1.')"
      ]
     },
     "execution_count": 94,
     "metadata": {},
     "output_type": "execute_result"
    }
   ],
   "source": [
    "## example of point 2\n",
    "text[0] , text[1], text[352], text[350]\n",
    "\n",
    "## specially text[350], it contains many words that are totally irrelevant "
   ]
  }
 ],
 "metadata": {
  "colab": {
   "name": "LSTM_CNN.ipynb",
   "provenance": []
  },
  "kernelspec": {
   "display_name": "Python 3",
   "language": "python",
   "name": "python3"
  },
  "language_info": {
   "codemirror_mode": {
    "name": "ipython",
    "version": 3
   },
   "file_extension": ".py",
   "mimetype": "text/x-python",
   "name": "python",
   "nbconvert_exporter": "python",
   "pygments_lexer": "ipython3",
   "version": "3.7.9"
  }
 },
 "nbformat": 4,
 "nbformat_minor": 1
}
