{
  "nbformat": 4,
  "nbformat_minor": 0,
  "metadata": {
    "colab": {
      "name": "ITA_assignment4.ipynb",
      "provenance": [],
      "toc_visible": true
    },
    "kernelspec": {
      "display_name": "Python 3",
      "language": "python",
      "name": "python3"
    },
    "language_info": {
      "codemirror_mode": {
        "name": "ipython",
        "version": 3
      },
      "file_extension": ".py",
      "mimetype": "text/x-python",
      "name": "python",
      "nbconvert_exporter": "python",
      "pygments_lexer": "ipython3",
      "version": "3.7.4"
    }
  },
  "cells": [
    {
      "cell_type": "markdown",
      "metadata": {
        "id": "8hp0qzvF5quM"
      },
      "source": [
        "# Assignment 4 : \"RNN/CNN and keyphrase extraction \"\n",
        "Due: Monday 2pm, Feburary 15, 2021, via Moodle"
      ]
    },
    {
      "cell_type": "markdown",
      "metadata": {
        "id": "jsXIFFvQ5quX"
      },
      "source": [
        "### Submission guidelines\n",
        "\n",
        "- Solutions need to be uploaded as a single Jupyter notebook. You will find many provided codes in the notebook, your task is to fill in the missing cells.\n",
        "- For the written solution, use LaTeX in markdown inside the same notebook. Do *not* hand in a separate file for it.\n",
        "- Download the .zip file containing the dataset but do *not* upload it with your solution.\n",
        "- It is sufficient if one person per group uploads the solution to Moodle."
      ]
    },
    {
      "cell_type": "markdown",
      "metadata": {
        "id": "Ur58Ru825quZ"
      },
      "source": [
        "## Task 1: Spam Detection (3 + 3 + 2 + 4 + 1) = 13 Points"
      ]
    },
    {
      "cell_type": "markdown",
      "metadata": {
        "id": "SmPrBmWZ5quZ"
      },
      "source": [
        "In this task we tackle the task of Spam Detection (Text Classification) using RNNs and CNNs. To start download the `spam.csv` file from Moodle. "
      ]
    },
    {
      "cell_type": "code",
      "metadata": {
        "id": "WjdVHmVe5qua"
      },
      "source": [
        "import numpy as np\n",
        "import pandas as pd\n",
        "import matplotlib.pyplot as plt\n",
        "from sklearn.model_selection import train_test_split\n",
        "from tensorflow.keras.layers.experimental.preprocessing import TextVectorization\n",
        "from tensorflow.data import Dataset\n",
        "from tensorflow.keras.layers import Dense, Input, GlobalMaxPooling1D, MaxPooling1D\n",
        "from tensorflow.keras.layers import LSTM, Embedding, Bidirectional, Conv1D,Flatten\n",
        "from tensorflow.keras.models import Model\n",
        "import tensorflow as tf\n",
        "tf.random.set_seed(12)"
      ],
      "execution_count": null,
      "outputs": []
    },
    {
      "cell_type": "code",
      "metadata": {
        "id": "Jj3aNGEz5qub",
        "colab": {
          "base_uri": "https://localhost:8080/",
          "height": 191
        },
        "outputId": "920c606b-0f32-44c8-a8db-35af576f76a8"
      },
      "source": [
        "df = pd.read_csv('spam.csv', encoding='ISO-8859-1')\n",
        "df.head()"
      ],
      "execution_count": null,
      "outputs": [
        {
          "output_type": "execute_result",
          "data": {
            "text/html": [
              "<div>\n",
              "<style scoped>\n",
              "    .dataframe tbody tr th:only-of-type {\n",
              "        vertical-align: middle;\n",
              "    }\n",
              "\n",
              "    .dataframe tbody tr th {\n",
              "        vertical-align: top;\n",
              "    }\n",
              "\n",
              "    .dataframe thead th {\n",
              "        text-align: right;\n",
              "    }\n",
              "</style>\n",
              "<table border=\"1\" class=\"dataframe\">\n",
              "  <thead>\n",
              "    <tr style=\"text-align: right;\">\n",
              "      <th></th>\n",
              "      <th>v1</th>\n",
              "      <th>v2</th>\n",
              "      <th>Unnamed: 2</th>\n",
              "      <th>Unnamed: 3</th>\n",
              "      <th>Unnamed: 4</th>\n",
              "    </tr>\n",
              "  </thead>\n",
              "  <tbody>\n",
              "    <tr>\n",
              "      <th>0</th>\n",
              "      <td>ham</td>\n",
              "      <td>Go until jurong point, crazy.. Available only ...</td>\n",
              "      <td>NaN</td>\n",
              "      <td>NaN</td>\n",
              "      <td>NaN</td>\n",
              "    </tr>\n",
              "    <tr>\n",
              "      <th>1</th>\n",
              "      <td>ham</td>\n",
              "      <td>Ok lar... Joking wif u oni...</td>\n",
              "      <td>NaN</td>\n",
              "      <td>NaN</td>\n",
              "      <td>NaN</td>\n",
              "    </tr>\n",
              "    <tr>\n",
              "      <th>2</th>\n",
              "      <td>spam</td>\n",
              "      <td>Free entry in 2 a wkly comp to win FA Cup fina...</td>\n",
              "      <td>NaN</td>\n",
              "      <td>NaN</td>\n",
              "      <td>NaN</td>\n",
              "    </tr>\n",
              "    <tr>\n",
              "      <th>3</th>\n",
              "      <td>ham</td>\n",
              "      <td>U dun say so early hor... U c already then say...</td>\n",
              "      <td>NaN</td>\n",
              "      <td>NaN</td>\n",
              "      <td>NaN</td>\n",
              "    </tr>\n",
              "    <tr>\n",
              "      <th>4</th>\n",
              "      <td>ham</td>\n",
              "      <td>Nah I don't think he goes to usf, he lives aro...</td>\n",
              "      <td>NaN</td>\n",
              "      <td>NaN</td>\n",
              "      <td>NaN</td>\n",
              "    </tr>\n",
              "  </tbody>\n",
              "</table>\n",
              "</div>"
            ],
            "text/plain": [
              "     v1  ... Unnamed: 4\n",
              "0   ham  ...        NaN\n",
              "1   ham  ...        NaN\n",
              "2  spam  ...        NaN\n",
              "3   ham  ...        NaN\n",
              "4   ham  ...        NaN\n",
              "\n",
              "[5 rows x 5 columns]"
            ]
          },
          "metadata": {
            "tags": []
          },
          "execution_count": 2
        }
      ]
    },
    {
      "cell_type": "markdown",
      "metadata": {
        "id": "K8eiJUrD5quf"
      },
      "source": [
        "### Sub Task 1: Pre-processsing "
      ]
    },
    {
      "cell_type": "markdown",
      "metadata": {
        "id": "hG1Fq4nP5qug"
      },
      "source": [
        "There are some unnecessary columns in the data `Unnamed:2 to 4`. Remove those and rename the remaining columns to `labels` and `text`. "
      ]
    },
    {
      "cell_type": "code",
      "metadata": {
        "id": "TzC6DrBl5qui",
        "colab": {
          "base_uri": "https://localhost:8080/",
          "height": 191
        },
        "outputId": "72fac0c9-e296-4df8-db65-06f17482eaba"
      },
      "source": [
        "### your code ###\n",
        "df = df[['v1', 'v2']]\n",
        "df = df.rename(columns={\"v1\": \"labels\", \"v2\": \"text\"})\n",
        "df.head()"
      ],
      "execution_count": null,
      "outputs": [
        {
          "output_type": "execute_result",
          "data": {
            "text/html": [
              "<div>\n",
              "<style scoped>\n",
              "    .dataframe tbody tr th:only-of-type {\n",
              "        vertical-align: middle;\n",
              "    }\n",
              "\n",
              "    .dataframe tbody tr th {\n",
              "        vertical-align: top;\n",
              "    }\n",
              "\n",
              "    .dataframe thead th {\n",
              "        text-align: right;\n",
              "    }\n",
              "</style>\n",
              "<table border=\"1\" class=\"dataframe\">\n",
              "  <thead>\n",
              "    <tr style=\"text-align: right;\">\n",
              "      <th></th>\n",
              "      <th>labels</th>\n",
              "      <th>text</th>\n",
              "    </tr>\n",
              "  </thead>\n",
              "  <tbody>\n",
              "    <tr>\n",
              "      <th>0</th>\n",
              "      <td>ham</td>\n",
              "      <td>Go until jurong point, crazy.. Available only ...</td>\n",
              "    </tr>\n",
              "    <tr>\n",
              "      <th>1</th>\n",
              "      <td>ham</td>\n",
              "      <td>Ok lar... Joking wif u oni...</td>\n",
              "    </tr>\n",
              "    <tr>\n",
              "      <th>2</th>\n",
              "      <td>spam</td>\n",
              "      <td>Free entry in 2 a wkly comp to win FA Cup fina...</td>\n",
              "    </tr>\n",
              "    <tr>\n",
              "      <th>3</th>\n",
              "      <td>ham</td>\n",
              "      <td>U dun say so early hor... U c already then say...</td>\n",
              "    </tr>\n",
              "    <tr>\n",
              "      <th>4</th>\n",
              "      <td>ham</td>\n",
              "      <td>Nah I don't think he goes to usf, he lives aro...</td>\n",
              "    </tr>\n",
              "  </tbody>\n",
              "</table>\n",
              "</div>"
            ],
            "text/plain": [
              "  labels                                               text\n",
              "0    ham  Go until jurong point, crazy.. Available only ...\n",
              "1    ham                      Ok lar... Joking wif u oni...\n",
              "2   spam  Free entry in 2 a wkly comp to win FA Cup fina...\n",
              "3    ham  U dun say so early hor... U c already then say...\n",
              "4    ham  Nah I don't think he goes to usf, he lives aro..."
            ]
          },
          "metadata": {
            "tags": []
          },
          "execution_count": 3
        }
      ]
    },
    {
      "cell_type": "markdown",
      "metadata": {
        "id": "g7mkzcTp5quj"
      },
      "source": [
        "Notice that the labels are string values. We need to convert them to integers of `0` and `1` for Tensorflow to understand. Create a new column called `binary_labels` and save the binary values in there. Then split the dataset into train and test set using `sklearn`, where the test data is 20 precent of the entire set. Then use 20 percent of the training set for your validation set. Convert them into a `tensorflow.Dataset` for training and test, shuffle the `dataset_train` and set the batch_size of both dataset to `16`. You can change the batch size to a smaller value if your device does not support it. Set the random_state for both to `12`. "
      ]
    },
    {
      "cell_type": "code",
      "metadata": {
        "id": "7G0sO5Yi5qul",
        "colab": {
          "base_uri": "https://localhost:8080/"
        },
        "outputId": "f22a13ab-4a37-4bdd-cae4-6768587a428e"
      },
      "source": [
        "df['binary_labels'] = [1 if i=='ham' else 0 for i in df.labels] ### your code ###\n",
        "Y = df['binary_labels'] ### your code ###\n",
        "# split up the data\n",
        "X_train, X_test, Ytrain, Ytest = train_test_split(df.text,Y,test_size=0.2) ### your code ###\n",
        "X_train, X_val, Ytrain, Yval = train_test_split(X_train, Ytrain, test_size = 0.2) ### your code ###\n",
        "print(X_val.shape)"
      ],
      "execution_count": null,
      "outputs": [
        {
          "output_type": "stream",
          "text": [
            "(892,)\n"
          ],
          "name": "stdout"
        }
      ]
    },
    {
      "cell_type": "code",
      "metadata": {
        "colab": {
          "base_uri": "https://localhost:8080/"
        },
        "id": "faBYxnbmKfBx",
        "outputId": "a8f14591-6ee7-4bd6-8a9c-89e7027d4f74"
      },
      "source": [
        "len(df.text)"
      ],
      "execution_count": null,
      "outputs": [
        {
          "output_type": "execute_result",
          "data": {
            "text/plain": [
              "5572"
            ]
          },
          "metadata": {
            "tags": []
          },
          "execution_count": 10
        }
      ]
    },
    {
      "cell_type": "code",
      "metadata": {
        "colab": {
          "base_uri": "https://localhost:8080/"
        },
        "id": "0pYmKulBJ8nP",
        "outputId": "0cf6c5f0-a74e-4890-91c2-a8467c4a769a"
      },
      "source": [
        "print(X_train.shape)"
      ],
      "execution_count": null,
      "outputs": [
        {
          "output_type": "stream",
          "text": [
            "(3565,)\n"
          ],
          "name": "stdout"
        }
      ]
    },
    {
      "cell_type": "code",
      "metadata": {
        "colab": {
          "base_uri": "https://localhost:8080/"
        },
        "id": "F_oyGItIKAec",
        "outputId": "5c2b69d2-6fc8-4a08-b9e6-7eaa61ad3591"
      },
      "source": [
        "print(X_test.shape)"
      ],
      "execution_count": null,
      "outputs": [
        {
          "output_type": "stream",
          "text": [
            "(1115,)\n"
          ],
          "name": "stdout"
        }
      ]
    },
    {
      "cell_type": "code",
      "metadata": {
        "id": "jUpzwr9O5qun",
        "colab": {
          "base_uri": "https://localhost:8080/"
        },
        "outputId": "93e7c21e-465f-4058-8ce5-3b3eefc1be52"
      },
      "source": [
        "dataset_train = Dataset.from_tensor_slices((X_train, Ytrain)) ### your code ###\n",
        "dataset_train = dataset_train.shuffle(buffer_size=1024).batch(16) ### shuffle, set batch to 16 ###\n",
        "\n",
        "dataset_val = Dataset.from_tensor_slices((X_val, Yval))### your code ###\n",
        "dataset_val = dataset_val.batch(16)### set batch to 16 ###\n",
        "\n",
        "dataset_test = Dataset.from_tensor_slices((X_test, Ytest))### your code ###\n",
        "dataset_test = dataset_test.batch(16) ### set batch to 16 ###\n",
        "\n",
        "for feat, targ in dataset_train.take(1):\n",
        "    print ('Features: {}, Target: {}'.format(feat, targ))"
      ],
      "execution_count": null,
      "outputs": [
        {
          "output_type": "stream",
          "text": [
            "Features: [b\"How are you doing? Hope you've settled in for the new school year. Just wishin you a gr8 day\"\n",
            " b'Yup ok...' b'Yes, princess. Toledo.'\n",
            " b'Free any day but i finish at 6 on mon n thurs...'\n",
            " b'Hi my email address has changed now it is '\n",
            " b'Good night my dear.. Sleepwell&amp;Take care'\n",
            " b'Was gr8 to see that message. So when r u leaving? Congrats dear. What school and wat r ur plans.'\n",
            " b\"No. But we'll do medical missions to nigeria\"\n",
            " b'Ok. Not sure what time tho as not sure if can get to library before class. Will try. See you at some point! Have good eve.'\n",
            " b'Do you mind if I ask what happened? You dont have to say if it is uncomfortable.'\n",
            " b'lyricalladie(21/F) is inviting you to be her friend. Reply YES-910 or NO-910. See her: www.SMS.ac/u/hmmross STOP? Send STOP FRND to 62468'\n",
            " b'I hope your pee burns tonite.'\n",
            " b'Oh yeah! And my diet just flew out the window'\n",
            " b'Bought one ringtone and now getting texts costing 3 pound offering more tones etc'\n",
            " b'Where did u go? My phone is gonna die you have to stay in here'\n",
            " b'I uploaded mine to Facebook'], Target: [1 1 1 1 1 1 1 1 1 1 0 1 1 0 1 1]\n"
          ],
          "name": "stdout"
        }
      ]
    },
    {
      "cell_type": "markdown",
      "metadata": {
        "id": "cUgbolxu5quo"
      },
      "source": [
        "Set the vocabulary size to `10000` and use the `TextVectorization` class to preprocess the textual data and turn it into integer vectors. Set the lenght of the output sequence to `128`. Any sequence with more tokens will be truncated and shorter sequences will be padded to fit the size. "
      ]
    },
    {
      "cell_type": "code",
      "metadata": {
        "id": "Jf3o2L_t5quo"
      },
      "source": [
        "max_features = 10000  # Maximum vocab size.\n",
        "max_len = 128  # Sequence length to pad the outputs to.\n",
        "#embedding_dims = 2\n",
        "encoder = TextVectorization(\n",
        " max_tokens=max_features,\n",
        " output_mode='int',\n",
        " output_sequence_length=max_len)### your code ###"
      ],
      "execution_count": null,
      "outputs": []
    },
    {
      "cell_type": "code",
      "metadata": {
        "id": "u4HKZS8Eke4c"
      },
      "source": [
        "encoder.adapt(feat)"
      ],
      "execution_count": null,
      "outputs": []
    },
    {
      "cell_type": "code",
      "metadata": {
        "id": "OgHYbTYz5qup",
        "colab": {
          "base_uri": "https://localhost:8080/"
        },
        "outputId": "9ddfc8d5-1cbb-4a1a-d32e-1526fde163a4"
      },
      "source": [
        "# run this cell to make sure your output makes sense \n",
        "vocab = np.array(encoder.get_vocabulary())\n",
        "print(\"Encoded\",encoder(feat).numpy()[0]) # this should output the encoded vector with integer values to the size of 128 \n",
        "print(\"Original: \", feat.numpy()[0]) # the orginal text should be retrieved \n",
        "print(\"After vectorization: \", \" \".join(vocab[encoder(feat).numpy()[0]])) #text with preprocessing (lowercase and normalization)"
      ],
      "execution_count": null,
      "outputs": [
        {
          "output_type": "stream",
          "text": [
            "Encoded [ 99 135   3 119  24  34  65  23 111  13  86  16  38  21  41   3 138  26\n",
            "  30   0   0   0   0   0   0   0   0   0   0   0   0   0   0   0   0   0\n",
            "   0   0   0   0   0   0   0   0   0   0   0   0   0   0   0   0   0   0\n",
            "   0   0   0   0   0   0   0   0   0   0   0   0   0   0   0   0   0   0\n",
            "   0   0   0   0   0   0   0   0   0   0   0   0   0   0   0   0   0   0\n",
            "   0   0   0   0   0   0   0   0   0   0   0   0   0   0   0   0   0   0\n",
            "   0   0   0   0   0   0   0   0   0   0   0   0   0   0   0   0   0   0\n",
            "   0   0]\n",
            "Original:  b\"How are you doing? Hope you've settled in for the new school year. Just wishin you a gr8 day\"\n",
            "After vectorization:  how are you doing hope youve settled in for the new school year just wishin you a gr8 day                                                                                                             \n"
          ],
          "name": "stdout"
        }
      ]
    },
    {
      "cell_type": "markdown",
      "metadata": {
        "id": "YNecc5_65quq"
      },
      "source": [
        "## Sub Task 2: Create the LSTM Model and Train"
      ]
    },
    {
      "cell_type": "markdown",
      "metadata": {
        "id": "su9blgeI5quq"
      },
      "source": [
        "In this sub task you will use a RNN with LSTM cells for text classification. We use the Keras functional API for our model building. Below you will see the summary output of our model. Use this as a basis to model your own network with the same layers: \n",
        "```\n",
        "Model: \"model_63\"\n",
        "_________________________________________________________________\n",
        "Layer (type)                 Output Shape              Param #   \n",
        "=================================================================\n",
        "input_88 (InputLayer)        [(None, 1)]               0         \n",
        "_________________________________________________________________\n",
        "text_vectorization_9 (TextVe (None, 128)               0         \n",
        "_________________________________________________________________\n",
        "embedding_73 (Embedding)     (None, 128, 64)           640064    \n",
        "_________________________________________________________________\n",
        "lstm_41 (LSTM)               (None, 128, 32)           12416     \n",
        "_________________________________________________________________\n",
        "global_max_pooling1d_39 (Glo (None, 32)                0         \n",
        "_________________________________________________________________\n",
        "dense_49 (Dense)             (None, 1)                 33        \n",
        "=================================================================\n",
        "Total params: 652,513\n",
        "Trainable params: 652,513\n",
        "Non-trainable params: 0\n",
        "```\n",
        "Train the model for 6 epochs with the `fit` function, using the validation set for intermediate testing. Use the Adam optimizer with default parameters and binary cross entropy loss. Also keep track of the accuracy during training so we can plot it later. You can specify the metric you would like to track, when compiling your model. The value of the loss and the callback function for accuracy will be saved in the `history` of the returned object for `fit` function. "
      ]
    },
    {
      "cell_type": "code",
      "metadata": {
        "id": "A6RkwYNw5quq",
        "colab": {
          "base_uri": "https://localhost:8080/"
        },
        "outputId": "e8b281f2-a817-42c7-a2e0-77f5b058ea2a"
      },
      "source": [
        "# Create the model\n",
        "embedding_dim = 64\n",
        "hidden_dim = 32\n",
        "\n",
        "#i = tf.keras.models.Sequential()\n",
        "i = Input(shape=(1,), dtype=\"string\")\n",
        "x = encoder(i)### pre-processing ### \n",
        "x = Embedding(input_dim=max_features+1, output_dim=embedding_dim)(x) ### embedding ###\n",
        "x = LSTM(32, return_sequences=True, input_shape=(1,128))(x) ### lstm - keep in mind the output shape is (None, 128, 32) meaning that ALL the hidden states are returned and not just the final one ###\n",
        "x = GlobalMaxPooling1D()(x)### max pool over everything ### \n",
        "x = Dense(1, activation='sigmoid')(x)\n",
        "\n",
        "lstm_model = Model(inputs=i, outputs=x, name='model_63')### build model ### \n",
        "lstm_model.summary()"
      ],
      "execution_count": null,
      "outputs": [
        {
          "output_type": "stream",
          "text": [
            "Model: \"model_63\"\n",
            "_________________________________________________________________\n",
            "Layer (type)                 Output Shape              Param #   \n",
            "=================================================================\n",
            "input_4 (InputLayer)         [(None, 1)]               0         \n",
            "_________________________________________________________________\n",
            "text_vectorization (TextVect (None, 128)               0         \n",
            "_________________________________________________________________\n",
            "embedding_3 (Embedding)      (None, 128, 64)           640064    \n",
            "_________________________________________________________________\n",
            "lstm_3 (LSTM)                (None, 128, 32)           12416     \n",
            "_________________________________________________________________\n",
            "global_max_pooling1d_3 (Glob (None, 32)                0         \n",
            "_________________________________________________________________\n",
            "dense_3 (Dense)              (None, 1)                 33        \n",
            "=================================================================\n",
            "Total params: 652,513\n",
            "Trainable params: 652,513\n",
            "Non-trainable params: 0\n",
            "_________________________________________________________________\n"
          ],
          "name": "stdout"
        }
      ]
    },
    {
      "cell_type": "code",
      "metadata": {
        "id": "9nxTuy7d5qur",
        "colab": {
          "base_uri": "https://localhost:8080/"
        },
        "outputId": "f4f17518-45c0-426c-e997-7760926d6c2d"
      },
      "source": [
        "# Compile and fit\n",
        "lstm_model.compile(optimizer='adam', loss='binary_crossentropy', metrics=['accuracy']) ### your code ### \n",
        "print('Training model...')\n",
        "r = lstm_model.fit(dataset_train, epochs=6, batch_size=60, validation_data=dataset_val) ### your code ### "
      ],
      "execution_count": null,
      "outputs": [
        {
          "output_type": "stream",
          "text": [
            "Training model...\n",
            "Epoch 1/6\n",
            "223/223 [==============================] - 16s 62ms/step - loss: 0.4620 - accuracy: 0.8724 - val_loss: 0.2923 - val_accuracy: 0.8543\n",
            "Epoch 2/6\n",
            "223/223 [==============================] - 13s 58ms/step - loss: 0.2280 - accuracy: 0.9105 - val_loss: 0.2446 - val_accuracy: 0.9260\n",
            "Epoch 3/6\n",
            "223/223 [==============================] - 13s 58ms/step - loss: 0.1533 - accuracy: 0.9492 - val_loss: 0.1710 - val_accuracy: 0.9406\n",
            "Epoch 4/6\n",
            "223/223 [==============================] - 13s 60ms/step - loss: 0.1446 - accuracy: 0.9512 - val_loss: 0.2412 - val_accuracy: 0.8812\n",
            "Epoch 5/6\n",
            "223/223 [==============================] - 13s 60ms/step - loss: 0.1705 - accuracy: 0.9290 - val_loss: 0.1599 - val_accuracy: 0.9484\n",
            "Epoch 6/6\n",
            "223/223 [==============================] - 13s 60ms/step - loss: 0.1320 - accuracy: 0.9596 - val_loss: 0.1501 - val_accuracy: 0.9507\n"
          ],
          "name": "stdout"
        }
      ]
    },
    {
      "cell_type": "code",
      "metadata": {
        "id": "QKUEbBor5qut",
        "colab": {
          "base_uri": "https://localhost:8080/",
          "height": 281
        },
        "outputId": "ef0e0045-81de-44ce-ca8a-96c8c781cc49"
      },
      "source": [
        "# Plot loss per iteration\n",
        "loss = r.history['loss']\n",
        "val_loss = r.history['val_loss']\n",
        "epochs = range(len(loss))\n",
        "plt.plot(epochs, loss, '-', color='red', label='training loss')\n",
        "plt.plot(epochs, val_loss,  '-', color='blue', label='validation loss')\n",
        "plt.title('Training and validation loss')\n",
        "plt.legend()\n",
        "plt.show()\n",
        "### your code ### "
      ],
      "execution_count": null,
      "outputs": [
        {
          "output_type": "display_data",
          "data": {
            "image/png": "[encoded data removed]",
            "text/plain": [
              "<Figure size 432x288 with 1 Axes>"
            ]
          },
          "metadata": {
            "tags": [],
            "needs_background": "light"
          }
        }
      ]
    },
    {
      "cell_type": "code",
      "metadata": {
        "id": "446Xdczb5qut",
        "colab": {
          "base_uri": "https://localhost:8080/",
          "height": 281
        },
        "outputId": "bb609823-89f7-46c7-8113-38110f1556a5"
      },
      "source": [
        "# Plot accuracy per iteration\n",
        "acc = r.history['accuracy']\n",
        "val_acc = r.history['val_accuracy']\n",
        "epochs = range(len(acc))\n",
        "plt.plot(epochs, acc, '-', color='red', label='training acc')\n",
        "plt.plot(epochs, val_acc, '-', color='blue', label='validation acc')\n",
        "plt.title('Training and validation accuracy')\n",
        "plt.legend()\n",
        "plt.show()\n",
        "### your code ### "
      ],
      "execution_count": null,
      "outputs": [
        {
          "output_type": "display_data",
          "data": {
            "image/png": "[encoded data removed]",
            "text/plain": [
              "<Figure size 432x288 with 1 Axes>"
            ]
          },
          "metadata": {
            "tags": [],
            "needs_background": "light"
          }
        }
      ]
    },
    {
      "cell_type": "markdown",
      "metadata": {
        "id": "x9aKKpMM5qut"
      },
      "source": [
        "## Sub Task 3: Create the CNN Model and Train"
      ]
    },
    {
      "cell_type": "markdown",
      "metadata": {
        "id": "gaRCqxMs5quu"
      },
      "source": [
        "We want to use the same data but this time with a CNN architecture to classify the spam emails. Once again, use this model summary to create a similiar network: \n",
        "```\n",
        "Model: \"model_64\"\n",
        "_________________________________________________________________\n",
        "Layer (type)                 Output Shape              Param #   \n",
        "=================================================================\n",
        "input_89 (InputLayer)        [(None, 1)]               0         \n",
        "_________________________________________________________________\n",
        "text_vectorization_9 (TextVe (None, 128)               0         \n",
        "_________________________________________________________________\n",
        "embedding_74 (Embedding)     (None, 128, 64)           640064    \n",
        "_________________________________________________________________\n",
        "conv1d_72 (Conv1D)           (None, 126, 32)           6176      \n",
        "_________________________________________________________________\n",
        "max_pooling1d_67 (MaxPooling (None, 42, 32)            0         \n",
        "_________________________________________________________________\n",
        "conv1d_73 (Conv1D)           (None, 40, 64)            6208      \n",
        "_________________________________________________________________\n",
        "max_pooling1d_68 (MaxPooling (None, 13, 64)            0         \n",
        "_________________________________________________________________\n",
        "dense_50 (Dense)             (None, 13, 1)             65        \n",
        "=================================================================\n",
        "Total params: 652,513\n",
        "Trainable params: 652,513\n",
        "Non-trainable params: 0\n",
        "```\n",
        "Train the model for 6 epochs using the validation set for intermediate testing. Use the Adam optimizer with default parameters and binary cross entropy loss, keep track of the accuracy during training so we can plot it later. Note that the CNN trains much quicker than the LSTM network since it can be parallelized easier on a GPU. "
      ]
    },
    {
      "cell_type": "code",
      "metadata": {
        "id": "HtH8z2WZ5quv",
        "colab": {
          "base_uri": "https://localhost:8080/"
        },
        "outputId": "dc28eb55-6f9a-4d55-d4a1-351754d09909"
      },
      "source": [
        "# Create the model\n",
        "embedding_dim = 64\n",
        "\n",
        "i = Input(shape=(1,), dtype=\"string\")\n",
        "x = encoder(i)### pre-processing ### \n",
        "x = Embedding(input_dim=max_features+1, output_dim=embedding_dim)(x)### embedding ### \n",
        "x = Conv1D(32, kernel_size=3 ,activation='relu')(x)### first conv, activation='relu', filter_size= can you guess? ### \n",
        "x = MaxPooling1D(pool_size=3)(x)### first maxpool, filter_size= can you guess?   ### \n",
        "x = Conv1D(64, kernel_size=3 ,activation='relu')(x)### second conv, activation='relu', filter_size= can you guess?  ### \n",
        "x = MaxPooling1D(pool_size=3)(x)### second maxpool, filter_size= can you guess?   ### \n",
        "x = Dense(1, activation='sigmoid')(x)\n",
        "\n",
        "cnn_model = Model(inputs=i, outputs=x, name='model_64') ### build model ### \n",
        "cnn_model.summary()"
      ],
      "execution_count": null,
      "outputs": [
        {
          "output_type": "stream",
          "text": [
            "Model: \"model_64\"\n",
            "_________________________________________________________________\n",
            "Layer (type)                 Output Shape              Param #   \n",
            "=================================================================\n",
            "input_5 (InputLayer)         [(None, 1)]               0         \n",
            "_________________________________________________________________\n",
            "text_vectorization (TextVect (None, 128)               0         \n",
            "_________________________________________________________________\n",
            "embedding_4 (Embedding)      (None, 128, 64)           640064    \n",
            "_________________________________________________________________\n",
            "conv1d (Conv1D)              (None, 126, 32)           6176      \n",
            "_________________________________________________________________\n",
            "max_pooling1d (MaxPooling1D) (None, 42, 32)            0         \n",
            "_________________________________________________________________\n",
            "conv1d_1 (Conv1D)            (None, 40, 64)            6208      \n",
            "_________________________________________________________________\n",
            "max_pooling1d_1 (MaxPooling1 (None, 13, 64)            0         \n",
            "_________________________________________________________________\n",
            "dense_4 (Dense)              (None, 13, 1)             65        \n",
            "=================================================================\n",
            "Total params: 652,513\n",
            "Trainable params: 652,513\n",
            "Non-trainable params: 0\n",
            "_________________________________________________________________\n"
          ],
          "name": "stdout"
        }
      ]
    },
    {
      "cell_type": "code",
      "metadata": {
        "id": "--AyqxtW5quv",
        "colab": {
          "base_uri": "https://localhost:8080/"
        },
        "outputId": "cf75c73f-ab74-48da-887b-e56866794fd0"
      },
      "source": [
        "# Compile and fit\n",
        "cnn_model.compile(optimizer='adam', loss='binary_crossentropy', metrics=['accuracy']) ### your code ### \n",
        "print('Training model...')\n",
        "r1 = cnn_model.fit(dataset_train, epochs=6, batch_size=60, validation_data=dataset_val) ### your code ### "
      ],
      "execution_count": null,
      "outputs": [
        {
          "output_type": "stream",
          "text": [
            "Training model...\n",
            "Epoch 1/6\n",
            "223/223 [==============================] - 5s 17ms/step - loss: 0.4664 - accuracy: 0.8510 - val_loss: 0.3905 - val_accuracy: 0.8624\n",
            "Epoch 2/6\n",
            "223/223 [==============================] - 4s 16ms/step - loss: 0.3604 - accuracy: 0.8788 - val_loss: 0.3982 - val_accuracy: 0.8632\n",
            "Epoch 3/6\n",
            "223/223 [==============================] - 4s 16ms/step - loss: 0.3589 - accuracy: 0.8799 - val_loss: 0.3854 - val_accuracy: 0.8664\n",
            "Epoch 4/6\n",
            "223/223 [==============================] - 4s 16ms/step - loss: 0.3649 - accuracy: 0.8755 - val_loss: 0.3808 - val_accuracy: 0.8675\n",
            "Epoch 5/6\n",
            "223/223 [==============================] - 3s 16ms/step - loss: 0.3494 - accuracy: 0.8847 - val_loss: 0.3807 - val_accuracy: 0.8679\n",
            "Epoch 6/6\n",
            "223/223 [==============================] - 4s 16ms/step - loss: 0.3545 - accuracy: 0.8807 - val_loss: 0.3787 - val_accuracy: 0.8681\n"
          ],
          "name": "stdout"
        }
      ]
    },
    {
      "cell_type": "code",
      "metadata": {
        "id": "ZYnknsRP5qux",
        "colab": {
          "base_uri": "https://localhost:8080/",
          "height": 281
        },
        "outputId": "d789148b-0c36-4e3b-a9b9-76ac94c9dac2"
      },
      "source": [
        "# Plot loss per iteration\n",
        "loss = r1.history['loss']\n",
        "val_loss = r1.history['val_loss']\n",
        "epochs = range(len(loss))\n",
        "plt.plot(epochs, loss, '-', color='red', label='training loss')\n",
        "plt.plot(epochs, val_loss,  '-', color='blue', label='validation loss')\n",
        "plt.title('Training and validation loss')\n",
        "plt.legend()\n",
        "plt.show()\n",
        "### your code ### "
      ],
      "execution_count": null,
      "outputs": [
        {
          "output_type": "display_data",
          "data": {
            "image/png": "[encoded data removed]",
            "text/plain": [
              "<Figure size 432x288 with 1 Axes>"
            ]
          },
          "metadata": {
            "tags": [],
            "needs_background": "light"
          }
        }
      ]
    },
    {
      "cell_type": "code",
      "metadata": {
        "id": "TlWTqE-45qux",
        "colab": {
          "base_uri": "https://localhost:8080/",
          "height": 281
        },
        "outputId": "df86c7be-9470-47be-8c05-7eac37a9b3ae"
      },
      "source": [
        "# Plot accuracy per iteration\n",
        "acc = r1.history['accuracy']\n",
        "val_acc = r1.history['val_accuracy']\n",
        "epochs = range(len(acc))\n",
        "plt.plot(epochs, acc, '-', color='red', label='training acc')\n",
        "plt.plot(epochs, val_acc, '-', color='blue', label='validation acc')\n",
        "plt.title('Training and validation accuracy')\n",
        "plt.legend()\n",
        "plt.show()\n",
        "### your code ### "
      ],
      "execution_count": null,
      "outputs": [
        {
          "output_type": "display_data",
          "data": {
            "image/png": "[encoded data removed]",
            "text/plain": [
              "<Figure size 432x288 with 1 Axes>"
            ]
          },
          "metadata": {
            "tags": [],
            "needs_background": "light"
          }
        }
      ]
    },
    {
      "cell_type": "markdown",
      "metadata": {
        "id": "8IOP2DHL5qux"
      },
      "source": [
        "## Sub Task 4: Mix and Match"
      ]
    },
    {
      "cell_type": "markdown",
      "metadata": {
        "id": "2xhtum7s5qux"
      },
      "source": [
        "Let's use the power of the functional API to stack our two models together. Our final model takes as input two parallel branches and combine them to get a final output. One input passage will go through our LSTM network and the other through our CNN network. Keep in mind that you need to remove the last sigmoid layer of the both models for it to work properly. The output of two models are concatenated and passed through two additional `Dense` layers. Here is the model summary of the model you need to replicate: \n",
        "\n",
        "```\n",
        "Model: \"model_61\"\n",
        "__________________________________________________________________________________________________\n",
        "Layer (type)                    Output Shape         Param #     Connected to                     \n",
        "==================================================================================================\n",
        "input_85 (InputLayer)           [(None, 1)]          0                                            \n",
        "__________________________________________________________________________________________________\n",
        "input_86 (InputLayer)           [(None, 1)]          0                                            \n",
        "__________________________________________________________________________________________________\n",
        "text_vectorization_9 (TextVecto (None, 128)          0           input_85[0][0]                   \n",
        "                                                                 input_86[0][0]                   \n",
        "__________________________________________________________________________________________________\n",
        "embedding_71 (Embedding)        (None, 128, 20)      200020      text_vectorization_9[51][0]      \n",
        "__________________________________________________________________________________________________\n",
        "conv1d_70 (Conv1D)              (None, 126, 32)      1952        embedding_71[0][0]               \n",
        "__________________________________________________________________________________________________\n",
        "max_pooling1d_65 (MaxPooling1D) (None, 42, 32)       0           conv1d_70[0][0]                  \n",
        "__________________________________________________________________________________________________\n",
        "embedding_70 (Embedding)        (None, 128, 20)      200020      text_vectorization_9[50][0]      \n",
        "__________________________________________________________________________________________________\n",
        "conv1d_71 (Conv1D)              (None, 40, 64)       6208        max_pooling1d_65[0][0]           \n",
        "__________________________________________________________________________________________________\n",
        "lstm_39 (LSTM)                  (None, 128, 15)      2160        embedding_70[0][0]               \n",
        "__________________________________________________________________________________________________\n",
        "max_pooling1d_66 (MaxPooling1D) (None, 13, 64)       0           conv1d_71[0][0]                  \n",
        "__________________________________________________________________________________________________\n",
        "global_max_pooling1d_37 (Global (None, 15)           0           lstm_39[0][0]                    \n",
        "__________________________________________________________________________________________________\n",
        "flatten_6 (Flatten)             (None, 832)          0           max_pooling1d_66[0][0]           \n",
        "__________________________________________________________________________________________________\n",
        "tf.concat_10 (TFOpLambda)       (None, 847)          0           global_max_pooling1d_37[0][0]    \n",
        "                                                                 flatten_6[0][0]                  \n",
        "__________________________________________________________________________________________________\n",
        "dense_46 (Dense)                (None, 128)          108544      tf.concat_10[0][0]               \n",
        "__________________________________________________________________________________________________\n",
        "dense_47 (Dense)                (None, 1)            129         dense_46[0][0]                   \n",
        "==================================================================================================\n",
        "Total params: 519,033\n",
        "Trainable params: 519,033\n",
        "Non-trainable params: 0\n",
        "_____________________________\n",
        "```\n",
        "Train the model for 4 epochs using the validation set for intermediate testing. Use the Adam optimizer with default parameters and binary cross entropy loss, keep track of the accuracy during training so we can plot it later. Note that the input should be a list containing your training features (twice), the same applies for the validation set and later the test set. This is due to the fact that your model has two input branches, however, since the output branch is still one, no changes are needed for the loss function or target values.\n"
      ]
    },
    {
      "cell_type": "code",
      "metadata": {
        "id": "eITYuuK25quy",
        "colab": {
          "base_uri": "https://localhost:8080/"
        },
        "outputId": "e4e4a8a5-b5f1-459d-f6cc-8ca852b487db"
      },
      "source": [
        "# define two sets of inputs\n",
        "inputA = Input(shape=(1,), dtype=\"string\")\n",
        "inputB = Input(shape=(1,), dtype=\"string\")\n",
        "\n",
        "# the first branch operates on the first input\n",
        "x = encoder(inputA)### pre-processing ### \n",
        "x = Embedding(input_dim=max_features+1, output_dim=embedding_dim)(x)### Embedding ### \n",
        "x = LSTM(32, return_sequences=True, input_shape=(1,128))(x)### lstm_model ###\n",
        "x = GlobalMaxPooling1D()(x)### lstm_model ###\n",
        "x = Model(inputs=inputA, outputs=x)\n",
        "\n",
        "\n",
        "# the second branch operates on the second input\n",
        "y = encoder(inputB)### pre processing ### \n",
        "y = Embedding(input_dim=max_features+1, output_dim=embedding_dim)(y)### Embedding ### \n",
        "y = Conv1D(32, kernel_size=3 ,activation='relu')(y)### cnn_model ###\n",
        "y = MaxPooling1D(pool_size=3)(y)### cnn_model ###\n",
        "y = Conv1D(64, kernel_size=3 ,activation='relu')(y)### cnn_model ###\n",
        "y = MaxPooling1D(pool_size=3)(y)### cnn_model ###\n",
        "y = Flatten()(y) ### we need to flatten the data to remove the additional dimension here\n",
        "y = Model(inputs=inputB, outputs=y)\n",
        "\n",
        "# combine the output of the two branches\n",
        "combined = tf.concat([x.output,y.output],axis=-1) ### your code ### \n",
        "\n",
        "# combined outputs\n",
        "z = Dense(128, activation=\"relu\")(combined)### your code ### \n",
        "z = Dense(1, activation=\"sigmoid\")(z)\n",
        "\n",
        "# our model will accept the inputs of the two branches and then output a single value\n",
        "mix_model = Model(inputs=[x.input, y.input], outputs=z)\n",
        "mix_model.summary()"
      ],
      "execution_count": null,
      "outputs": [
        {
          "output_type": "stream",
          "text": [
            "Model: \"model_2\"\n",
            "__________________________________________________________________________________________________\n",
            "Layer (type)                    Output Shape         Param #     Connected to                     \n",
            "==================================================================================================\n",
            "input_6 (InputLayer)            [(None, 1)]          0                                            \n",
            "__________________________________________________________________________________________________\n",
            "input_7 (InputLayer)            [(None, 1)]          0                                            \n",
            "__________________________________________________________________________________________________\n",
            "text_vectorization (TextVectori (None, 128)          0           input_6[0][0]                    \n",
            "                                                                 input_7[0][0]                    \n",
            "__________________________________________________________________________________________________\n",
            "embedding_6 (Embedding)         (None, 128, 64)      640064      text_vectorization[6][0]         \n",
            "__________________________________________________________________________________________________\n",
            "conv1d_2 (Conv1D)               (None, 126, 32)      6176        embedding_6[0][0]                \n",
            "__________________________________________________________________________________________________\n",
            "max_pooling1d_2 (MaxPooling1D)  (None, 42, 32)       0           conv1d_2[0][0]                   \n",
            "__________________________________________________________________________________________________\n",
            "embedding_5 (Embedding)         (None, 128, 64)      640064      text_vectorization[5][0]         \n",
            "__________________________________________________________________________________________________\n",
            "conv1d_3 (Conv1D)               (None, 40, 64)       6208        max_pooling1d_2[0][0]            \n",
            "__________________________________________________________________________________________________\n",
            "lstm_4 (LSTM)                   (None, 128, 32)      12416       embedding_5[0][0]                \n",
            "__________________________________________________________________________________________________\n",
            "max_pooling1d_3 (MaxPooling1D)  (None, 13, 64)       0           conv1d_3[0][0]                   \n",
            "__________________________________________________________________________________________________\n",
            "global_max_pooling1d_4 (GlobalM (None, 32)           0           lstm_4[0][0]                     \n",
            "__________________________________________________________________________________________________\n",
            "flatten (Flatten)               (None, 832)          0           max_pooling1d_3[0][0]            \n",
            "__________________________________________________________________________________________________\n",
            "tf.concat (TFOpLambda)          (None, 864)          0           global_max_pooling1d_4[0][0]     \n",
            "                                                                 flatten[0][0]                    \n",
            "__________________________________________________________________________________________________\n",
            "dense_5 (Dense)                 (None, 128)          110720      tf.concat[0][0]                  \n",
            "__________________________________________________________________________________________________\n",
            "dense_6 (Dense)                 (None, 1)            129         dense_5[0][0]                    \n",
            "==================================================================================================\n",
            "Total params: 1,415,777\n",
            "Trainable params: 1,415,777\n",
            "Non-trainable params: 0\n",
            "__________________________________________________________________________________________________\n"
          ],
          "name": "stdout"
        }
      ]
    },
    {
      "cell_type": "code",
      "metadata": {
        "id": "gMUMLO2R5qu0",
        "colab": {
          "base_uri": "https://localhost:8080/"
        },
        "outputId": "5f3a22a8-f3f2-4515-a82f-5f959a465ef2"
      },
      "source": [
        "# Compile and fit\n",
        "mix_model.compile(optimizer='adam', loss='binary_crossentropy', metrics=['accuracy'])### your code ### \n",
        "print('Training model...')\n",
        "r2 = mix_model.fit([X_train,X_train], Ytrain, validation_data=([X_val, X_val], Yval), epochs=4, batch_size=60)### your code ### "
      ],
      "execution_count": null,
      "outputs": [
        {
          "output_type": "stream",
          "text": [
            "Training model...\n",
            "Epoch 1/4\n",
            "60/60 [==============================] - 10s 116ms/step - loss: 0.4830 - accuracy: 0.8028 - val_loss: 0.2892 - val_accuracy: 0.8543\n",
            "Epoch 2/4\n",
            "60/60 [==============================] - 6s 106ms/step - loss: 0.2379 - accuracy: 0.8754 - val_loss: 0.2074 - val_accuracy: 0.9238\n",
            "Epoch 3/4\n",
            "60/60 [==============================] - 6s 103ms/step - loss: 0.1784 - accuracy: 0.9336 - val_loss: 0.2029 - val_accuracy: 0.9260\n",
            "Epoch 4/4\n",
            "60/60 [==============================] - 6s 103ms/step - loss: 0.1408 - accuracy: 0.9545 - val_loss: 0.1683 - val_accuracy: 0.9350\n"
          ],
          "name": "stdout"
        }
      ]
    },
    {
      "cell_type": "code",
      "metadata": {
        "id": "kAY1r0005qu1",
        "colab": {
          "base_uri": "https://localhost:8080/",
          "height": 281
        },
        "outputId": "bc55b5d1-e8bc-4284-a17e-04b740030011"
      },
      "source": [
        "# Plot loss per iteration\n",
        "loss = r2.history['loss']\n",
        "val_loss = r2.history['val_loss']\n",
        "epochs = range(len(loss))\n",
        "plt.plot(epochs, loss, '-', color='red', label='training loss')\n",
        "plt.plot(epochs, val_loss,  '-', color='blue', label='validation loss')\n",
        "plt.title('Training and validation loss')\n",
        "plt.legend()\n",
        "plt.show()\n",
        "### your code ### "
      ],
      "execution_count": null,
      "outputs": [
        {
          "output_type": "display_data",
          "data": {
            "image/png": "[encoded data removed]",
            "text/plain": [
              "<Figure size 432x288 with 1 Axes>"
            ]
          },
          "metadata": {
            "tags": [],
            "needs_background": "light"
          }
        }
      ]
    },
    {
      "cell_type": "code",
      "metadata": {
        "id": "jSHM242x5qu2",
        "colab": {
          "base_uri": "https://localhost:8080/",
          "height": 281
        },
        "outputId": "324fc65a-c304-463d-e04d-f2c3996e120f"
      },
      "source": [
        "# Plot accuracy per iteration\n",
        "acc = r2.history['accuracy']\n",
        "val_acc = r2.history['val_accuracy']\n",
        "epochs = range(len(acc))\n",
        "plt.plot(epochs, acc, '-', color='red', label='training acc')\n",
        "plt.plot(epochs, val_acc, '-', color='blue', label='validation acc')\n",
        "plt.title('Training and validation accuracy')\n",
        "plt.legend()\n",
        "plt.show()\n",
        "### your code ### "
      ],
      "execution_count": null,
      "outputs": [
        {
          "output_type": "display_data",
          "data": {
            "image/png": "[encoded data removed]",
            "text/plain": [
              "<Figure size 432x288 with 1 Axes>"
            ]
          },
          "metadata": {
            "tags": [],
            "needs_background": "light"
          }
        }
      ]
    },
    {
      "cell_type": "markdown",
      "metadata": {
        "id": "t7WVr_Fx5qu2"
      },
      "source": [
        "## Sub Task 5: Comparision "
      ]
    },
    {
      "cell_type": "markdown",
      "metadata": {
        "id": "QncqSQGY5qu3"
      },
      "source": [
        "Use the `evaluate` function to compare the performance of the three models on the test set. Which one works better? "
      ]
    },
    {
      "cell_type": "code",
      "metadata": {
        "colab": {
          "base_uri": "https://localhost:8080/"
        },
        "id": "Al-FHCJMFQaE",
        "outputId": "e1053425-3a74-4033-e570-f8f30f8add8b"
      },
      "source": [
        "accr = lstm_model.evaluate(dataset_test)\n",
        "accr1 = cnn_model.evaluate(dataset_test)\n",
        "accr2 = mix_model.evaluate([X_test,X_test],Ytest)"
      ],
      "execution_count": null,
      "outputs": [
        {
          "output_type": "stream",
          "text": [
            "70/70 [==============================] - 1s 10ms/step - loss: 0.1419 - accuracy: 0.9516\n",
            "70/70 [==============================] - 0s 3ms/step - loss: 0.3462 - accuracy: 0.8850\n",
            "35/35 [==============================] - 1s 15ms/step - loss: 0.1443 - accuracy: 0.9525\n"
          ],
          "name": "stdout"
        }
      ]
    },
    {
      "cell_type": "code",
      "metadata": {
        "id": "c3_gdKr25qu4",
        "colab": {
          "base_uri": "https://localhost:8080/"
        },
        "outputId": "408307ca-59e8-43ac-eb53-b94ea88ffe0f"
      },
      "source": [
        "print(\"The est loss is {0:.2f} and the accuracy is {1:.2f} for lstm:\".format(accr[0], accr[1]))### your code ### )\n",
        "print(\"The test loss is {0:.2f} and the accuracy is {1:.2f} for cnn:\".format(accr1[0], accr1[1]))### your code ### )\n",
        "print(\"The test loss is {0:.2f} and the accuracy is {1:.2f} for mix:\".format(accr2[0], accr2[1]))### your code ### )"
      ],
      "execution_count": null,
      "outputs": [
        {
          "output_type": "stream",
          "text": [
            "The est loss is 0.14 and the accuracy is 0.95 for lstm:\n",
            "The test loss is 0.35 and the accuracy is 0.88 for cnn:\n",
            "The test loss is 0.14 and the accuracy is 0.95 for mix:\n"
          ],
          "name": "stdout"
        }
      ]
    },
    {
      "cell_type": "markdown",
      "metadata": {
        "id": "Zr8VogsJ5qu4"
      },
      "source": [
        "## Task 2: Theoretical Questions (1+1+1+1+1+1+1+1) = 8 Points  "
      ]
    },
    {
      "cell_type": "markdown",
      "metadata": {
        "id": "3lSTMz2f5qu5"
      },
      "source": [
        "### Sub Task 1: "
      ]
    },
    {
      "cell_type": "markdown",
      "metadata": {
        "id": "cebFt4UW5qu5"
      },
      "source": [
        "While training an RNN at the *t*-th time-step, what probability is the RNN computing? ($w_t$ is the word at time $t$). "
      ]
    },
    {
      "cell_type": "code",
      "metadata": {
        "id": "h3iYzCh_5qu6"
      },
      "source": [
        ""
      ],
      "execution_count": null,
      "outputs": []
    },
    {
      "cell_type": "markdown",
      "metadata": {
        "id": "L1Q6i4RS5qu6"
      },
      "source": [
        "### Sub Task 2: "
      ]
    },
    {
      "cell_type": "markdown",
      "metadata": {
        "id": "u12qUQWD5qu6"
      },
      "source": [
        "Consider the following two scenarios for the language model:  \n",
        "(i) During training,  \n",
        "(ii) After training, while using the language model to sample.  \n",
        "**For both cases answer the following:** How is the next word chosen? What value is passed on to the next time step? "
      ]
    },
    {
      "cell_type": "code",
      "metadata": {
        "id": "jIdkTPwG5qu7"
      },
      "source": [
        ""
      ],
      "execution_count": null,
      "outputs": []
    },
    {
      "cell_type": "markdown",
      "metadata": {
        "id": "BCF0hNoD5qu7"
      },
      "source": [
        "### Sub Task 3: "
      ]
    },
    {
      "cell_type": "markdown",
      "metadata": {
        "id": "NtOvQuLm5qu7"
      },
      "source": [
        "While training your RNN, you realise that your weights and activations have taken the value of `NaN` (not a number), what can be the cause of this? Name one method to avoid this problem.  (short answer) "
      ]
    },
    {
      "cell_type": "code",
      "metadata": {
        "id": "56NqUKw45qu7"
      },
      "source": [
        ""
      ],
      "execution_count": null,
      "outputs": []
    },
    {
      "cell_type": "markdown",
      "metadata": {
        "id": "gcAmrnWr5qu7"
      },
      "source": [
        "### Sub Task 4: "
      ]
    },
    {
      "cell_type": "markdown",
      "metadata": {
        "id": "otFcTN6A5qu8"
      },
      "source": [
        "You have a pet dragon, whose mood is heavily dependent on the weather on the current and past few days. You have collected data of the weather for the past 365 days as $w_1,...,w_{365}$, where $w_1$ is the first day of your recording, and $w_{365}$ the most recent day. You also recorded the mood of your dragon as $y_1,...,y_{365}$ corresponding to the individual days. To avoid any \"dragon accidents\", you want to predict her mood for the next days. Would you use a unidirectional or bidirectional RNN? Justify your answer. "
      ]
    },
    {
      "cell_type": "code",
      "metadata": {
        "id": "KIHGqn5OwKEV"
      },
      "source": [
        ""
      ],
      "execution_count": null,
      "outputs": []
    },
    {
      "cell_type": "markdown",
      "metadata": {
        "id": "oeTeI2GE5qu8"
      },
      "source": [
        "### Sub Task 5: "
      ]
    },
    {
      "cell_type": "markdown",
      "metadata": {
        "id": "jGinHwKR5qu8"
      },
      "source": [
        "You have an input of shape `(84x3)` and you convolve (1D) it with `16` filters of size `7`, using a stride of `2` and no padding. What is the output dimension?  \n",
        "What if you had an image of shape `(84x84x3)` (last dimension is the RGB channel) and you convolve it with `32` filters of shape `(7x7)`, using a stride of `2` and no padding. What is the shape of the output volume?\n",
        "\n",
        "The question is independent of the batch size, imagine a single example. "
      ]
    },
    {
      "cell_type": "code",
      "metadata": {
        "id": "_R_Ui6OB5qu9"
      },
      "source": [
        ""
      ],
      "execution_count": null,
      "outputs": []
    },
    {
      "cell_type": "markdown",
      "metadata": {
        "id": "OV7ExHyP5qu-"
      },
      "source": [
        "## Sub Task 6: "
      ]
    },
    {
      "cell_type": "markdown",
      "metadata": {
        "id": "-0AisEM25qu-"
      },
      "source": [
        "What is the effect of pooling layers in terms of the derivative for backpropagation? "
      ]
    },
    {
      "cell_type": "code",
      "metadata": {
        "id": "1suQkseG5qu-"
      },
      "source": [
        ""
      ],
      "execution_count": null,
      "outputs": []
    },
    {
      "cell_type": "markdown",
      "metadata": {
        "id": "5iyUGEDY5qu-"
      },
      "source": [
        "### Sub Task 7: "
      ]
    },
    {
      "cell_type": "markdown",
      "metadata": {
        "id": "C3aByyOY5qu_"
      },
      "source": [
        "You have an input volume of shape `(32x32x64)` and you apply *max pooling* with stride `4` and a filter size of `2`. What is the size of the output volume? The question is independent of the batch size, imagine a single example. "
      ]
    },
    {
      "cell_type": "code",
      "metadata": {
        "id": "jGViPD4NwKEZ"
      },
      "source": [
        ""
      ],
      "execution_count": null,
      "outputs": []
    },
    {
      "cell_type": "markdown",
      "metadata": {
        "id": "NC53qV1h98hS"
      },
      "source": [
        "## Sub Task 8\n",
        "\n"
      ]
    },
    {
      "cell_type": "markdown",
      "metadata": {
        "id": "nVcu82ep-PR4"
      },
      "source": [
        "You trained a classifier using a convolutional neural network that stacked 4 convolutional layers to differentiate images of animals. There are 100 different classes of animals the network classifies. Now you want to find a hidden unit that strongly indicates that the image is a dragon, i.e., a hidden unit that is strongly activated when shown an image of a dragon. In which of the four layers are you most likely to find such a unit?"
      ]
    },
    {
      "cell_type": "code",
      "metadata": {
        "id": "-Nsei_lQwKEa"
      },
      "source": [
        ""
      ],
      "execution_count": null,
      "outputs": []
    },
    {
      "cell_type": "markdown",
      "metadata": {
        "id": "315kqIiW2Zhr"
      },
      "source": [
        "## Task 3: Unsupervised Keyphrase Extraction (4+3+2) = 9 Points\n",
        "\n",
        "In this task, we will implement a simple unsupervised keyphrase extraction module utilizing a simple grammatical ruling system, which we apply to a Sherlock Holmes novel. To generate TF-IDF-weighted phrases, we will be using the entire collection from Sir Arthur Donan Coyle to calculate document frequencies."
      ]
    },
    {
      "cell_type": "markdown",
      "metadata": {
        "id": "joME4y0pC-bq"
      },
      "source": [
        "### Sub Task 1: Extract Keyphrase Candidates\n",
        "We will generate a set of suitable candidate phrases by using spaCy's rule-based `Matcher` class.\n",
        "The pattern should satisfy the following rules for a valid candidate:\n",
        "\n",
        "1. An optional adjective, noun, proper noun\n",
        "2. An optional adjective, noun, proper noun, or adposition\n",
        "3. A mandatory noun or proper noun.\n",
        "\n",
        "This will match phrases of an length of 1-3 tokens, which is a suitable rule of thumb to start with."
      ]
    },
    {
      "cell_type": "code",
      "metadata": {
        "id": "j7yKhziiDkzJ"
      },
      "source": [
        "import spacy\n",
        "from spacy.matcher import Matcher"
      ],
      "execution_count": 1,
      "outputs": []
    },
    {
      "cell_type": "code",
      "metadata": {
        "id": "tlY8UveeHmQH"
      },
      "source": [
        "nlp = spacy.load(\"en_core_web_sm\", disable=['ner']) # load the spaCy model \"en\", and disable named entity recognition #\n",
        "matcher = Matcher(nlp.vocab) # Instantiate a Matcher object with the vocabulary of the \"en\" module #\n",
        "\n",
        "pattern = [[{\"POS\": \"ADJ\", \"OP\": \"*\"}, {\"POS\": \"NOUN\"}, {\"POS\": \"PROPN\"}],\n",
        "           [{\"POS\": \"ADJ\", \"OP\": \"*\"}, {\"POS\":{'IN':[\"NOUN\", 'ADP','PROPN']}},{\"POS\": \"ADP\", \"OP\": \"*\"}],\n",
        "           [{\"POS\": {\"IN\": [\"NOUN\", \"PROPN\"]}}]] ### your code ###\n",
        "matcher.add(\"\",pattern) # Append your pattern to the matcher class #"
      ],
      "execution_count": 53,
      "outputs": []
    },
    {
      "cell_type": "code",
      "metadata": {
        "colab": {
          "base_uri": "https://localhost:8080/"
        },
        "id": "71JZGbIlHfxx",
        "outputId": "9515aa1f-0add-40a5-ec61-8d985f90dd81"
      },
      "source": [
        "# Run to verify correctness of your rule-based matcher. Should return \"11\" if correctly implemented.\n",
        "doc = nlp(\"This is a simple test. It should return 'simple', and 'test'. Maybe we can also see if it can recognize the art of war. Would it recognize integer linear programming, too?\")\n",
        "matches = matcher(doc)\n",
        "print(len(matches))\n",
        "#need to be 11"
      ],
      "execution_count": 54,
      "outputs": [
        {
          "output_type": "stream",
          "text": [
            "10\n"
          ],
          "name": "stdout"
        }
      ]
    },
    {
      "cell_type": "markdown",
      "metadata": {
        "id": "3x2TRsI-GeLq"
      },
      "source": [
        "Once you have matched the correct number of keyphrase candidates on the above example, apply your rule-based matcher to an actual data sample. We are going to use the Sherlock Holmes novel \"Hounds of Baskervilles\". You can find the raw text file at the following URL:\n",
        "\n",
        "https://sherlock-holm.es/stories/plain-text/houn.txt\n",
        "\n",
        "Download the text from this URL and apply your spacy model and matcher on it.  \n",
        "**Hint:** Make sure you properly decode your input, since some libraries return binary strings."
      ]
    },
    {
      "cell_type": "code",
      "metadata": {
        "colab": {
          "base_uri": "https://localhost:8080/"
        },
        "id": "GJmHWEZBOvDc",
        "outputId": "87e81d5c-85b7-4972-9880-9599ff2e7a17"
      },
      "source": [
        "!pip install urllib2"
      ],
      "execution_count": 9,
      "outputs": [
        {
          "output_type": "stream",
          "text": [
            "\u001b[31mERROR: Could not find a version that satisfies the requirement urllib2 (from versions: none)\u001b[0m\n",
            "\u001b[31mERROR: No matching distribution found for urllib2\u001b[0m\n"
          ],
          "name": "stdout"
        }
      ]
    },
    {
      "cell_type": "code",
      "metadata": {
        "id": "eg7H9DfgPdtq"
      },
      "source": [
        "import requests\n",
        "from collections import Counter"
      ],
      "execution_count": 36,
      "outputs": []
    },
    {
      "cell_type": "code",
      "metadata": {
        "id": "fNgRWVB5JmTf"
      },
      "source": [
        "def load_txt_from_url(url=\"https://sherlock-holm.es/stories/plain-text/houn.txt\"):\n",
        "  ### your code here ###\n",
        "  response = requests.get(url)\n",
        "  text = response.text\n",
        "  return text\n",
        "\n",
        "text = load_txt_from_url()\n",
        "\n",
        "\n",
        "doc = nlp(text)### your code here ###\n",
        "matches = matcher(doc)### your code here ###"
      ],
      "execution_count": 60,
      "outputs": []
    },
    {
      "cell_type": "code",
      "metadata": {
        "id": "btjf7ZCUPSBD"
      },
      "source": [
        "print(text)"
      ],
      "execution_count": null,
      "outputs": []
    },
    {
      "cell_type": "markdown",
      "metadata": {
        "id": "q4U96ELPKtIA"
      },
      "source": [
        "We will now investigate which phrase candidates are the most frequently appearing in this novel, simply based on the phrase frequency. Therefore, convert your abstract match objects into actual strings, lowercase them, and return the 10 most frequently occurring phrase candidates and their respective frequencies."
      ]
    },
    {
      "cell_type": "code",
      "metadata": {
        "id": "rizDaIubNMfx",
        "colab": {
          "base_uri": "https://localhost:8080/"
        },
        "outputId": "134bb772-512d-4b1a-8bd6-bee7cda02a62"
      },
      "source": [
        "### your code ###\n",
        "counted = []\n",
        "count = Counter()\n",
        "for match_id, start, end in matches:  \n",
        "  counted.append(doc[start:end].text)\n",
        "\n",
        "counted = [i.lower() for i in counted]\n",
        "freq = Counter(counted)\n",
        "most_freq = freq.most_common(10)\n",
        "most_freq"
      ],
      "execution_count": 61,
      "outputs": [
        {
          "output_type": "execute_result",
          "data": {
            "text/plain": [
              "[('of', 1598),\n",
              " ('in', 907),\n",
              " ('to', 668),\n",
              " ('with', 441),\n",
              " ('for', 421),\n",
              " ('at', 355),\n",
              " ('sir', 350),\n",
              " ('from', 288),\n",
              " ('on', 234),\n",
              " ('man', 213)]"
            ]
          },
          "metadata": {
            "tags": []
          },
          "execution_count": 61
        }
      ]
    },
    {
      "cell_type": "markdown",
      "metadata": {
        "id": "WYQt8278NA7v"
      },
      "source": [
        "#### Briefly summarize the quality of your top 10 candidates:\n",
        "\n",
        "YOUR ANSWER"
      ]
    },
    {
      "cell_type": "markdown",
      "metadata": {
        "id": "aucrN3TPJqw1"
      },
      "source": [
        "### Sub Task 2: Generating Document Frequency Values\n",
        "\n",
        "To compare the previously generated terms with a more refined model, we are going to extract document frequencies from the collection of all Sherlock Holmes works. Since the books are relatively long documents, we are instead going to split based on a simple heuristic in the input document, which should allow a decent approximation by taking into account individual chapters of each novel."
      ]
    },
    {
      "cell_type": "markdown",
      "metadata": {
        "id": "mfp7rUN9N218"
      },
      "source": [
        "Start by loading the Sherlock Holmes canon from https://sherlock-holm.es/stories/plain-text/cnus.txt\n",
        "\n",
        "Afterwards, split the full document into individual chapters. For this, use three consecutive line breaks `\\n\\n\\n` as a splitting condition to approximate the chapters."
      ]
    },
    {
      "cell_type": "code",
      "metadata": {
        "id": "FWlFYasYRW8k"
      },
      "source": [
        "### your code ###"
      ],
      "execution_count": null,
      "outputs": []
    },
    {
      "cell_type": "markdown",
      "metadata": {
        "id": "oRcMyiKkRU7d"
      },
      "source": [
        "After splitting, you should have 353 individual \"documents\" to work with. Now, create a dictionary containing each phrase encountered in the larger corpus, and its associated document frequency. \n",
        "\n",
        "**Hint:** Since the processing of 353 documents might take a while, you can incorporate tools such as `tqdm.tqdm` to visualize progress on the task."
      ]
    },
    {
      "cell_type": "code",
      "metadata": {
        "id": "xLLyxoqOWXbl"
      },
      "source": [
        "def return_occurring_phrases(doc_text):\n",
        "  # should return the candidate phrases which occur in a single \"document\"\n",
        "\n",
        "# iterate over all generated documents\n",
        "\n",
        "# Afterwards, count the number of individual documents a phrase occurred in."
      ],
      "execution_count": null,
      "outputs": []
    },
    {
      "cell_type": "code",
      "metadata": {
        "id": "zUTXGZ83WqEx"
      },
      "source": [
        "# Print the 10 most frequent phrases according to the df-counts, to verify your result."
      ],
      "execution_count": null,
      "outputs": []
    },
    {
      "cell_type": "markdown",
      "metadata": {
        "id": "vR9FmhTpS_TB"
      },
      "source": [
        "### Sub Task 3: Generating Weighted Keyphrases\n",
        "\n",
        "We can now incorporate the extracted keyphrases to calculate tf_idf scores, and return a hopefully improved version of our keyphrases for the original novel.\n",
        "Iterate over all phrases occurring in the novel, and weigh them according to the definition of TF-IDF. Use the smoothed definition of idf:\n",
        "\n",
        "$ idf(t, D) = \\log \\frac{N}{|\\{d \\in D : t \\in d\\}| + 1} + 1 $"
      ]
    },
    {
      "cell_type": "code",
      "metadata": {
        "id": "PC6XIhtYV0nK"
      },
      "source": [
        "def tf_idf\n",
        "  return ### your code ###\n",
        "\n",
        "### calculate the weights for each candidate phrase from the \"Hounds of Baskervilles\" ###"
      ],
      "execution_count": null,
      "outputs": []
    },
    {
      "cell_type": "markdown",
      "metadata": {
        "id": "mSfTPsukVoEF"
      },
      "source": [
        "Now print the top 10 candidate phrases by TF-IDF weight, and compare the results to your previous output. Can you give reasons as to why some of the phrases might be occurring?"
      ]
    },
    {
      "cell_type": "code",
      "metadata": {
        "id": "DDahNju-Vv58"
      },
      "source": [
        "### your code ###"
      ],
      "execution_count": null,
      "outputs": []
    },
    {
      "cell_type": "markdown",
      "metadata": {
        "id": "kdmGgOThVmyz"
      },
      "source": [
        "COMPARE YOUR RESULTS"
      ]
    },
    {
      "cell_type": "markdown",
      "metadata": {
        "id": "2y8eaRPNWHut"
      },
      "source": [
        "Give two examples of how you could further improve the list of keyphrase values."
      ]
    },
    {
      "cell_type": "markdown",
      "metadata": {
        "id": "1yfMZ0etWNj_"
      },
      "source": [
        "\n",
        "YOUR ANSWER\n",
        "\n"
      ]
    }
  ]
}