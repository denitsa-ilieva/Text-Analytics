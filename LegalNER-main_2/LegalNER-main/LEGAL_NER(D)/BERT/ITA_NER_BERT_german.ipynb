{
  "nbformat": 4,
  "nbformat_minor": 0,
  "metadata": {
    "colab": {
      "name": "ITA-Project",
      "provenance": []
    },
    "kernelspec": {
      "name": "python3",
      "display_name": "Python 3"
    },
    "accelerator": "GPU",
    "widgets": {
      "application/vnd.jupyter.widget-state+json": {
        "3cd78cda8a0c4f83a1599fe95e2e4b38": {
          "model_module": "@jupyter-widgets/controls",
          "model_name": "HBoxModel",
          "state": {
            "_view_name": "HBoxView",
            "_dom_classes": [],
            "_model_name": "HBoxModel",
            "_view_module": "@jupyter-widgets/controls",
            "_model_module_version": "1.5.0",
            "_view_count": null,
            "_view_module_version": "1.5.0",
            "box_style": "",
            "layout": "IPY_MODEL_b16f5183f4e5411ebf402056b4bdb163",
            "_model_module": "@jupyter-widgets/controls",
            "children": [
              "IPY_MODEL_7b06d12ae4d94596974c4c3cf6fa86d0",
              "IPY_MODEL_e173f315cac148ac9d074681c74975a6"
            ]
          }
        },
        "b16f5183f4e5411ebf402056b4bdb163": {
          "model_module": "@jupyter-widgets/base",
          "model_name": "LayoutModel",
          "state": {
            "_view_name": "LayoutView",
            "grid_template_rows": null,
            "right": null,
            "justify_content": null,
            "_view_module": "@jupyter-widgets/base",
            "overflow": null,
            "_model_module_version": "1.2.0",
            "_view_count": null,
            "flex_flow": null,
            "width": null,
            "min_width": null,
            "border": null,
            "align_items": null,
            "bottom": null,
            "_model_module": "@jupyter-widgets/base",
            "top": null,
            "grid_column": null,
            "overflow_y": null,
            "overflow_x": null,
            "grid_auto_flow": null,
            "grid_area": null,
            "grid_template_columns": null,
            "flex": null,
            "_model_name": "LayoutModel",
            "justify_items": null,
            "grid_row": null,
            "max_height": null,
            "align_content": null,
            "visibility": null,
            "align_self": null,
            "height": null,
            "min_height": null,
            "padding": null,
            "grid_auto_rows": null,
            "grid_gap": null,
            "max_width": null,
            "order": null,
            "_view_module_version": "1.2.0",
            "grid_template_areas": null,
            "object_position": null,
            "object_fit": null,
            "grid_auto_columns": null,
            "margin": null,
            "display": null,
            "left": null
          }
        },
        "7b06d12ae4d94596974c4c3cf6fa86d0": {
          "model_module": "@jupyter-widgets/controls",
          "model_name": "FloatProgressModel",
          "state": {
            "_view_name": "ProgressView",
            "style": "IPY_MODEL_a1248b5728174849a2f382ef45d39601",
            "_dom_classes": [],
            "description": "Downloading: 100%",
            "_model_name": "FloatProgressModel",
            "bar_style": "success",
            "max": 254728,
            "_view_module": "@jupyter-widgets/controls",
            "_model_module_version": "1.5.0",
            "value": 254728,
            "_view_count": null,
            "_view_module_version": "1.5.0",
            "orientation": "horizontal",
            "min": 0,
            "description_tooltip": null,
            "_model_module": "@jupyter-widgets/controls",
            "layout": "IPY_MODEL_d60abb3492f04f028f347d5d8c6224de"
          }
        },
        "e173f315cac148ac9d074681c74975a6": {
          "model_module": "@jupyter-widgets/controls",
          "model_name": "HTMLModel",
          "state": {
            "_view_name": "HTMLView",
            "style": "IPY_MODEL_f098e323d569421883c80d6645e39b46",
            "_dom_classes": [],
            "description": "",
            "_model_name": "HTMLModel",
            "placeholder": "​",
            "_view_module": "@jupyter-widgets/controls",
            "_model_module_version": "1.5.0",
            "value": " 255k/255k [00:00&lt;00:00, 612kB/s]",
            "_view_count": null,
            "_view_module_version": "1.5.0",
            "description_tooltip": null,
            "_model_module": "@jupyter-widgets/controls",
            "layout": "IPY_MODEL_e3270369a84741faaa1d61ff4c1e45d4"
          }
        },
        "a1248b5728174849a2f382ef45d39601": {
          "model_module": "@jupyter-widgets/controls",
          "model_name": "ProgressStyleModel",
          "state": {
            "_view_name": "StyleView",
            "_model_name": "ProgressStyleModel",
            "description_width": "initial",
            "_view_module": "@jupyter-widgets/base",
            "_model_module_version": "1.5.0",
            "_view_count": null,
            "_view_module_version": "1.2.0",
            "bar_color": null,
            "_model_module": "@jupyter-widgets/controls"
          }
        },
        "d60abb3492f04f028f347d5d8c6224de": {
          "model_module": "@jupyter-widgets/base",
          "model_name": "LayoutModel",
          "state": {
            "_view_name": "LayoutView",
            "grid_template_rows": null,
            "right": null,
            "justify_content": null,
            "_view_module": "@jupyter-widgets/base",
            "overflow": null,
            "_model_module_version": "1.2.0",
            "_view_count": null,
            "flex_flow": null,
            "width": null,
            "min_width": null,
            "border": null,
            "align_items": null,
            "bottom": null,
            "_model_module": "@jupyter-widgets/base",
            "top": null,
            "grid_column": null,
            "overflow_y": null,
            "overflow_x": null,
            "grid_auto_flow": null,
            "grid_area": null,
            "grid_template_columns": null,
            "flex": null,
            "_model_name": "LayoutModel",
            "justify_items": null,
            "grid_row": null,
            "max_height": null,
            "align_content": null,
            "visibility": null,
            "align_self": null,
            "height": null,
            "min_height": null,
            "padding": null,
            "grid_auto_rows": null,
            "grid_gap": null,
            "max_width": null,
            "order": null,
            "_view_module_version": "1.2.0",
            "grid_template_areas": null,
            "object_position": null,
            "object_fit": null,
            "grid_auto_columns": null,
            "margin": null,
            "display": null,
            "left": null
          }
        },
        "f098e323d569421883c80d6645e39b46": {
          "model_module": "@jupyter-widgets/controls",
          "model_name": "DescriptionStyleModel",
          "state": {
            "_view_name": "StyleView",
            "_model_name": "DescriptionStyleModel",
            "description_width": "",
            "_view_module": "@jupyter-widgets/base",
            "_model_module_version": "1.5.0",
            "_view_count": null,
            "_view_module_version": "1.2.0",
            "_model_module": "@jupyter-widgets/controls"
          }
        },
        "e3270369a84741faaa1d61ff4c1e45d4": {
          "model_module": "@jupyter-widgets/base",
          "model_name": "LayoutModel",
          "state": {
            "_view_name": "LayoutView",
            "grid_template_rows": null,
            "right": null,
            "justify_content": null,
            "_view_module": "@jupyter-widgets/base",
            "overflow": null,
            "_model_module_version": "1.2.0",
            "_view_count": null,
            "flex_flow": null,
            "width": null,
            "min_width": null,
            "border": null,
            "align_items": null,
            "bottom": null,
            "_model_module": "@jupyter-widgets/base",
            "top": null,
            "grid_column": null,
            "overflow_y": null,
            "overflow_x": null,
            "grid_auto_flow": null,
            "grid_area": null,
            "grid_template_columns": null,
            "flex": null,
            "_model_name": "LayoutModel",
            "justify_items": null,
            "grid_row": null,
            "max_height": null,
            "align_content": null,
            "visibility": null,
            "align_self": null,
            "height": null,
            "min_height": null,
            "padding": null,
            "grid_auto_rows": null,
            "grid_gap": null,
            "max_width": null,
            "order": null,
            "_view_module_version": "1.2.0",
            "grid_template_areas": null,
            "object_position": null,
            "object_fit": null,
            "grid_auto_columns": null,
            "margin": null,
            "display": null,
            "left": null
          }
        },
        "b58d0b76101746e195c61c3a1b0fb916": {
          "model_module": "@jupyter-widgets/controls",
          "model_name": "HBoxModel",
          "state": {
            "_view_name": "HBoxView",
            "_dom_classes": [],
            "_model_name": "HBoxModel",
            "_view_module": "@jupyter-widgets/controls",
            "_model_module_version": "1.5.0",
            "_view_count": null,
            "_view_module_version": "1.5.0",
            "box_style": "",
            "layout": "IPY_MODEL_ddb838f8bb3542f4bc94cc21f3f5a5f8",
            "_model_module": "@jupyter-widgets/controls",
            "children": [
              "IPY_MODEL_b1c57270d7c34f80992d669bb116125b",
              "IPY_MODEL_eadc42be9bf64a23be4db7afa16d0650"
            ]
          }
        },
        "ddb838f8bb3542f4bc94cc21f3f5a5f8": {
          "model_module": "@jupyter-widgets/base",
          "model_name": "LayoutModel",
          "state": {
            "_view_name": "LayoutView",
            "grid_template_rows": null,
            "right": null,
            "justify_content": null,
            "_view_module": "@jupyter-widgets/base",
            "overflow": null,
            "_model_module_version": "1.2.0",
            "_view_count": null,
            "flex_flow": null,
            "width": null,
            "min_width": null,
            "border": null,
            "align_items": null,
            "bottom": null,
            "_model_module": "@jupyter-widgets/base",
            "top": null,
            "grid_column": null,
            "overflow_y": null,
            "overflow_x": null,
            "grid_auto_flow": null,
            "grid_area": null,
            "grid_template_columns": null,
            "flex": null,
            "_model_name": "LayoutModel",
            "justify_items": null,
            "grid_row": null,
            "max_height": null,
            "align_content": null,
            "visibility": null,
            "align_self": null,
            "height": null,
            "min_height": null,
            "padding": null,
            "grid_auto_rows": null,
            "grid_gap": null,
            "max_width": null,
            "order": null,
            "_view_module_version": "1.2.0",
            "grid_template_areas": null,
            "object_position": null,
            "object_fit": null,
            "grid_auto_columns": null,
            "margin": null,
            "display": null,
            "left": null
          }
        },
        "b1c57270d7c34f80992d669bb116125b": {
          "model_module": "@jupyter-widgets/controls",
          "model_name": "FloatProgressModel",
          "state": {
            "_view_name": "ProgressView",
            "style": "IPY_MODEL_c527bed2fd224f98bdc1e4e970b61520",
            "_dom_classes": [],
            "description": "Downloading: 100%",
            "_model_name": "FloatProgressModel",
            "bar_style": "success",
            "max": 433,
            "_view_module": "@jupyter-widgets/controls",
            "_model_module_version": "1.5.0",
            "value": 433,
            "_view_count": null,
            "_view_module_version": "1.5.0",
            "orientation": "horizontal",
            "min": 0,
            "description_tooltip": null,
            "_model_module": "@jupyter-widgets/controls",
            "layout": "IPY_MODEL_b67d21c2b4d44fd39a0dcca13f058b8e"
          }
        },
        "eadc42be9bf64a23be4db7afa16d0650": {
          "model_module": "@jupyter-widgets/controls",
          "model_name": "HTMLModel",
          "state": {
            "_view_name": "HTMLView",
            "style": "IPY_MODEL_a3c58979f8a94ffead1760f5cbbc2084",
            "_dom_classes": [],
            "description": "",
            "_model_name": "HTMLModel",
            "placeholder": "​",
            "_view_module": "@jupyter-widgets/controls",
            "_model_module_version": "1.5.0",
            "value": " 433/433 [00:00&lt;00:00, 6.17kB/s]",
            "_view_count": null,
            "_view_module_version": "1.5.0",
            "description_tooltip": null,
            "_model_module": "@jupyter-widgets/controls",
            "layout": "IPY_MODEL_ac067afc216942e7a13aceeb89cacce5"
          }
        },
        "c527bed2fd224f98bdc1e4e970b61520": {
          "model_module": "@jupyter-widgets/controls",
          "model_name": "ProgressStyleModel",
          "state": {
            "_view_name": "StyleView",
            "_model_name": "ProgressStyleModel",
            "description_width": "initial",
            "_view_module": "@jupyter-widgets/base",
            "_model_module_version": "1.5.0",
            "_view_count": null,
            "_view_module_version": "1.2.0",
            "bar_color": null,
            "_model_module": "@jupyter-widgets/controls"
          }
        },
        "b67d21c2b4d44fd39a0dcca13f058b8e": {
          "model_module": "@jupyter-widgets/base",
          "model_name": "LayoutModel",
          "state": {
            "_view_name": "LayoutView",
            "grid_template_rows": null,
            "right": null,
            "justify_content": null,
            "_view_module": "@jupyter-widgets/base",
            "overflow": null,
            "_model_module_version": "1.2.0",
            "_view_count": null,
            "flex_flow": null,
            "width": null,
            "min_width": null,
            "border": null,
            "align_items": null,
            "bottom": null,
            "_model_module": "@jupyter-widgets/base",
            "top": null,
            "grid_column": null,
            "overflow_y": null,
            "overflow_x": null,
            "grid_auto_flow": null,
            "grid_area": null,
            "grid_template_columns": null,
            "flex": null,
            "_model_name": "LayoutModel",
            "justify_items": null,
            "grid_row": null,
            "max_height": null,
            "align_content": null,
            "visibility": null,
            "align_self": null,
            "height": null,
            "min_height": null,
            "padding": null,
            "grid_auto_rows": null,
            "grid_gap": null,
            "max_width": null,
            "order": null,
            "_view_module_version": "1.2.0",
            "grid_template_areas": null,
            "object_position": null,
            "object_fit": null,
            "grid_auto_columns": null,
            "margin": null,
            "display": null,
            "left": null
          }
        },
        "a3c58979f8a94ffead1760f5cbbc2084": {
          "model_module": "@jupyter-widgets/controls",
          "model_name": "DescriptionStyleModel",
          "state": {
            "_view_name": "StyleView",
            "_model_name": "DescriptionStyleModel",
            "description_width": "",
            "_view_module": "@jupyter-widgets/base",
            "_model_module_version": "1.5.0",
            "_view_count": null,
            "_view_module_version": "1.2.0",
            "_model_module": "@jupyter-widgets/controls"
          }
        },
        "ac067afc216942e7a13aceeb89cacce5": {
          "model_module": "@jupyter-widgets/base",
          "model_name": "LayoutModel",
          "state": {
            "_view_name": "LayoutView",
            "grid_template_rows": null,
            "right": null,
            "justify_content": null,
            "_view_module": "@jupyter-widgets/base",
            "overflow": null,
            "_model_module_version": "1.2.0",
            "_view_count": null,
            "flex_flow": null,
            "width": null,
            "min_width": null,
            "border": null,
            "align_items": null,
            "bottom": null,
            "_model_module": "@jupyter-widgets/base",
            "top": null,
            "grid_column": null,
            "overflow_y": null,
            "overflow_x": null,
            "grid_auto_flow": null,
            "grid_area": null,
            "grid_template_columns": null,
            "flex": null,
            "_model_name": "LayoutModel",
            "justify_items": null,
            "grid_row": null,
            "max_height": null,
            "align_content": null,
            "visibility": null,
            "align_self": null,
            "height": null,
            "min_height": null,
            "padding": null,
            "grid_auto_rows": null,
            "grid_gap": null,
            "max_width": null,
            "order": null,
            "_view_module_version": "1.2.0",
            "grid_template_areas": null,
            "object_position": null,
            "object_fit": null,
            "grid_auto_columns": null,
            "margin": null,
            "display": null,
            "left": null
          }
        },
        "26c3785b8593496ba5122b6bf0d3964f": {
          "model_module": "@jupyter-widgets/controls",
          "model_name": "HBoxModel",
          "state": {
            "_view_name": "HBoxView",
            "_dom_classes": [],
            "_model_name": "HBoxModel",
            "_view_module": "@jupyter-widgets/controls",
            "_model_module_version": "1.5.0",
            "_view_count": null,
            "_view_module_version": "1.5.0",
            "box_style": "",
            "layout": "IPY_MODEL_9d78d78dab8c416c83a5ab8d33c2d74f",
            "_model_module": "@jupyter-widgets/controls",
            "children": [
              "IPY_MODEL_52ff00591b924f9fb6497185bad9cf58",
              "IPY_MODEL_bbfd8f0966f248a892e46148d0aa600c"
            ]
          }
        },
        "9d78d78dab8c416c83a5ab8d33c2d74f": {
          "model_module": "@jupyter-widgets/base",
          "model_name": "LayoutModel",
          "state": {
            "_view_name": "LayoutView",
            "grid_template_rows": null,
            "right": null,
            "justify_content": null,
            "_view_module": "@jupyter-widgets/base",
            "overflow": null,
            "_model_module_version": "1.2.0",
            "_view_count": null,
            "flex_flow": null,
            "width": null,
            "min_width": null,
            "border": null,
            "align_items": null,
            "bottom": null,
            "_model_module": "@jupyter-widgets/base",
            "top": null,
            "grid_column": null,
            "overflow_y": null,
            "overflow_x": null,
            "grid_auto_flow": null,
            "grid_area": null,
            "grid_template_columns": null,
            "flex": null,
            "_model_name": "LayoutModel",
            "justify_items": null,
            "grid_row": null,
            "max_height": null,
            "align_content": null,
            "visibility": null,
            "align_self": null,
            "height": null,
            "min_height": null,
            "padding": null,
            "grid_auto_rows": null,
            "grid_gap": null,
            "max_width": null,
            "order": null,
            "_view_module_version": "1.2.0",
            "grid_template_areas": null,
            "object_position": null,
            "object_fit": null,
            "grid_auto_columns": null,
            "margin": null,
            "display": null,
            "left": null
          }
        },
        "52ff00591b924f9fb6497185bad9cf58": {
          "model_module": "@jupyter-widgets/controls",
          "model_name": "FloatProgressModel",
          "state": {
            "_view_name": "ProgressView",
            "style": "IPY_MODEL_f40f6e69e267439e8c9ba1ebcffbc367",
            "_dom_classes": [],
            "description": "Downloading: 100%",
            "_model_name": "FloatProgressModel",
            "bar_style": "success",
            "max": 438869143,
            "_view_module": "@jupyter-widgets/controls",
            "_model_module_version": "1.5.0",
            "value": 438869143,
            "_view_count": null,
            "_view_module_version": "1.5.0",
            "orientation": "horizontal",
            "min": 0,
            "description_tooltip": null,
            "_model_module": "@jupyter-widgets/controls",
            "layout": "IPY_MODEL_9a3d36706508474db542e3100149f2dc"
          }
        },
        "bbfd8f0966f248a892e46148d0aa600c": {
          "model_module": "@jupyter-widgets/controls",
          "model_name": "HTMLModel",
          "state": {
            "_view_name": "HTMLView",
            "style": "IPY_MODEL_2d49d24698be436096e67c1a0aea99ee",
            "_dom_classes": [],
            "description": "",
            "_model_name": "HTMLModel",
            "placeholder": "​",
            "_view_module": "@jupyter-widgets/controls",
            "_model_module_version": "1.5.0",
            "value": " 439M/439M [00:07&lt;00:00, 56.8MB/s]",
            "_view_count": null,
            "_view_module_version": "1.5.0",
            "description_tooltip": null,
            "_model_module": "@jupyter-widgets/controls",
            "layout": "IPY_MODEL_8e1e3769031648308ee6cd8f1f01bbe4"
          }
        },
        "f40f6e69e267439e8c9ba1ebcffbc367": {
          "model_module": "@jupyter-widgets/controls",
          "model_name": "ProgressStyleModel",
          "state": {
            "_view_name": "StyleView",
            "_model_name": "ProgressStyleModel",
            "description_width": "initial",
            "_view_module": "@jupyter-widgets/base",
            "_model_module_version": "1.5.0",
            "_view_count": null,
            "_view_module_version": "1.2.0",
            "bar_color": null,
            "_model_module": "@jupyter-widgets/controls"
          }
        },
        "9a3d36706508474db542e3100149f2dc": {
          "model_module": "@jupyter-widgets/base",
          "model_name": "LayoutModel",
          "state": {
            "_view_name": "LayoutView",
            "grid_template_rows": null,
            "right": null,
            "justify_content": null,
            "_view_module": "@jupyter-widgets/base",
            "overflow": null,
            "_model_module_version": "1.2.0",
            "_view_count": null,
            "flex_flow": null,
            "width": null,
            "min_width": null,
            "border": null,
            "align_items": null,
            "bottom": null,
            "_model_module": "@jupyter-widgets/base",
            "top": null,
            "grid_column": null,
            "overflow_y": null,
            "overflow_x": null,
            "grid_auto_flow": null,
            "grid_area": null,
            "grid_template_columns": null,
            "flex": null,
            "_model_name": "LayoutModel",
            "justify_items": null,
            "grid_row": null,
            "max_height": null,
            "align_content": null,
            "visibility": null,
            "align_self": null,
            "height": null,
            "min_height": null,
            "padding": null,
            "grid_auto_rows": null,
            "grid_gap": null,
            "max_width": null,
            "order": null,
            "_view_module_version": "1.2.0",
            "grid_template_areas": null,
            "object_position": null,
            "object_fit": null,
            "grid_auto_columns": null,
            "margin": null,
            "display": null,
            "left": null
          }
        },
        "2d49d24698be436096e67c1a0aea99ee": {
          "model_module": "@jupyter-widgets/controls",
          "model_name": "DescriptionStyleModel",
          "state": {
            "_view_name": "StyleView",
            "_model_name": "DescriptionStyleModel",
            "description_width": "",
            "_view_module": "@jupyter-widgets/base",
            "_model_module_version": "1.5.0",
            "_view_count": null,
            "_view_module_version": "1.2.0",
            "_model_module": "@jupyter-widgets/controls"
          }
        },
        "8e1e3769031648308ee6cd8f1f01bbe4": {
          "model_module": "@jupyter-widgets/base",
          "model_name": "LayoutModel",
          "state": {
            "_view_name": "LayoutView",
            "grid_template_rows": null,
            "right": null,
            "justify_content": null,
            "_view_module": "@jupyter-widgets/base",
            "overflow": null,
            "_model_module_version": "1.2.0",
            "_view_count": null,
            "flex_flow": null,
            "width": null,
            "min_width": null,
            "border": null,
            "align_items": null,
            "bottom": null,
            "_model_module": "@jupyter-widgets/base",
            "top": null,
            "grid_column": null,
            "overflow_y": null,
            "overflow_x": null,
            "grid_auto_flow": null,
            "grid_area": null,
            "grid_template_columns": null,
            "flex": null,
            "_model_name": "LayoutModel",
            "justify_items": null,
            "grid_row": null,
            "max_height": null,
            "align_content": null,
            "visibility": null,
            "align_self": null,
            "height": null,
            "min_height": null,
            "padding": null,
            "grid_auto_rows": null,
            "grid_gap": null,
            "max_width": null,
            "order": null,
            "_view_module_version": "1.2.0",
            "grid_template_areas": null,
            "object_position": null,
            "object_fit": null,
            "grid_auto_columns": null,
            "margin": null,
            "display": null,
            "left": null
          }
        }
      }
    }
  },
  "cells": [
    {
      "cell_type": "code",
      "metadata": {
        "id": "buGForeqvABf"
      },
      "source": [
        "!pip install transformers\n",
        "!pip install seqeval"
      ],
      "execution_count": null,
      "outputs": []
    },
    {
      "cell_type": "code",
      "metadata": {
        "id": "g81Ua_Ywu3gV"
      },
      "source": [
        "import pandas as pd\n",
        "from collections import defaultdict, Counter\n",
        "import os\n",
        "from itertools import chain\n",
        "import sklearn.preprocessing as skp\n",
        "import time\n",
        "import matplotlib.pyplot as plt\n",
        "import numpy as np\n",
        "import seaborn as sns\n",
        "###importnat###\n",
        "import torch\n",
        "from torch.utils.data import TensorDataset, DataLoader, RandomSampler, SequentialSampler\n",
        "from transformers import BertTokenizer, BertConfig\n",
        "\n",
        "from keras.preprocessing.sequence import pad_sequences\n",
        "from sklearn.model_selection import train_test_split\n",
        "from tqdm import tqdm, trange\n",
        "\n",
        "import transformers\n",
        "from transformers import BertForTokenClassification, AdamW\n",
        "from transformers import get_linear_schedule_with_warmup\n",
        "\n",
        "from seqeval.metrics import f1_score, accuracy_score, classification_report"
      ],
      "execution_count": 2,
      "outputs": []
    },
    {
      "cell_type": "code",
      "metadata": {
        "colab": {
          "base_uri": "https://localhost:8080/"
        },
        "id": "zAsRToNqwGCR",
        "outputId": "19fe73fe-0b83-422e-b0ca-945a3e206336"
      },
      "source": [
        "%%time\n",
        "dataset = from_dir('data')"
      ],
      "execution_count": 4,
      "outputs": [
        {
          "output_type": "stream",
          "text": [
            "CPU times: user 5.47 s, sys: 115 ms, total: 5.59 s\n",
            "Wall time: 5.6 s\n"
          ],
          "name": "stdout"
        }
      ]
    },
    {
      "cell_type": "code",
      "metadata": {
        "colab": {
          "base_uri": "https://localhost:8080/",
          "height": 107
        },
        "id": "we93gqgiwOnM",
        "outputId": "a8afb2ce-5dab-4e85-e708-78fa96262d02"
      },
      "source": [
        "dataset.sample(2)"
      ],
      "execution_count": 5,
      "outputs": [
        {
          "output_type": "execute_result",
          "data": {
            "text/html": [
              "<div>\n",
              "<style scoped>\n",
              "    .dataframe tbody tr th:only-of-type {\n",
              "        vertical-align: middle;\n",
              "    }\n",
              "\n",
              "    .dataframe tbody tr th {\n",
              "        vertical-align: top;\n",
              "    }\n",
              "\n",
              "    .dataframe thead th {\n",
              "        text-align: right;\n",
              "    }\n",
              "</style>\n",
              "<table border=\"1\" class=\"dataframe\">\n",
              "  <thead>\n",
              "    <tr style=\"text-align: right;\">\n",
              "      <th></th>\n",
              "      <th>predictors</th>\n",
              "      <th>labels</th>\n",
              "      <th>file</th>\n",
              "    </tr>\n",
              "  </thead>\n",
              "  <tbody>\n",
              "    <tr>\n",
              "      <th>4201</th>\n",
              "      <td>[Nach, Darstellung, des, Klägers, habe, der, S...</td>\n",
              "      <td>[O, O, O, O, O, O, O, O, O, O, O, O, O, O, O, ...</td>\n",
              "      <td>bfh</td>\n",
              "    </tr>\n",
              "    <tr>\n",
              "      <th>1294</th>\n",
              "      <td>[b, ), Soweit, der, Kläger, ein, Feststellungs...</td>\n",
              "      <td>[O, O, O, O, O, O, O, O, O, O, O, O, O, O, O, ...</td>\n",
              "      <td>bag</td>\n",
              "    </tr>\n",
              "  </tbody>\n",
              "</table>\n",
              "</div>"
            ],
            "text/plain": [
              "                                             predictors  ... file\n",
              "4201  [Nach, Darstellung, des, Klägers, habe, der, S...  ...  bfh\n",
              "1294  [b, ), Soweit, der, Kläger, ein, Feststellungs...  ...  bag\n",
              "\n",
              "[2 rows x 3 columns]"
            ]
          },
          "metadata": {
            "tags": []
          },
          "execution_count": 5
        }
      ]
    },
    {
      "cell_type": "code",
      "metadata": {
        "colab": {
          "base_uri": "https://localhost:8080/"
        },
        "id": "wDPxGG6YwWxj",
        "outputId": "ac14d5f9-6a29-45ce-b603-202323a2626c"
      },
      "source": [
        "tag = []\n",
        "for i in dataset['labels']:\n",
        "  for j in i:\n",
        "    tag.append(j)\n",
        "# Create a dictionary containing the tags and the corresponding index\n",
        "tags2vals = list(set(tag))\n",
        "print(tags2vals)\n",
        "tag2idx = {t: i for i, t in enumerate(tags2vals)}\n",
        "print(tag2idx)"
      ],
      "execution_count": 6,
      "outputs": [
        {
          "output_type": "stream",
          "text": [
            "['I-VO', 'B-LIT', 'I-MRK', 'I-ST', 'I-PER', 'I-INN', 'I-RS', 'I-VS', 'I-GRT', 'I-LDS', 'B-ST', 'I-STR', 'B-UN', 'B-LDS', 'B-EUN', 'I-RR', 'B-VS', 'B-INN', 'B-GRT', 'I-VT', 'B-RS', 'B-STR', 'I-EUN', 'B-VT', 'B-AN', 'I-ORG', 'I-UN', 'I-AN', 'B-LD', 'B-RR', 'I-LD', 'B-MRK', 'B-GS', 'I-GS', 'I-LIT', 'B-VO', 'B-ORG', 'O', 'B-PER']\n",
            "{'I-VO': 0, 'B-LIT': 1, 'I-MRK': 2, 'I-ST': 3, 'I-PER': 4, 'I-INN': 5, 'I-RS': 6, 'I-VS': 7, 'I-GRT': 8, 'I-LDS': 9, 'B-ST': 10, 'I-STR': 11, 'B-UN': 12, 'B-LDS': 13, 'B-EUN': 14, 'I-RR': 15, 'B-VS': 16, 'B-INN': 17, 'B-GRT': 18, 'I-VT': 19, 'B-RS': 20, 'B-STR': 21, 'I-EUN': 22, 'B-VT': 23, 'B-AN': 24, 'I-ORG': 25, 'I-UN': 26, 'I-AN': 27, 'B-LD': 28, 'B-RR': 29, 'I-LD': 30, 'B-MRK': 31, 'B-GS': 32, 'I-GS': 33, 'I-LIT': 34, 'B-VO': 35, 'B-ORG': 36, 'O': 37, 'B-PER': 38}\n"
          ],
          "name": "stdout"
        }
      ]
    },
    {
      "cell_type": "code",
      "metadata": {
        "id": "o5BvwLClwbAd"
      },
      "source": [
        "# sequence length: 100 tokens\n",
        "MAX_LEN = 100\n",
        "# batch size: 32\n",
        "bs = 32"
      ],
      "execution_count": 7,
      "outputs": []
    },
    {
      "cell_type": "code",
      "metadata": {
        "id": "XyWKjgPZwfMP"
      },
      "source": [
        "device = torch.device(\"cuda\" if torch.cuda.is_available() else \"cpu\")\n",
        "n_gpu = torch.cuda.device_count()"
      ],
      "execution_count": 8,
      "outputs": []
    },
    {
      "cell_type": "code",
      "metadata": {
        "colab": {
          "base_uri": "https://localhost:8080/",
          "height": 35
        },
        "id": "gxQ_gd-pwkB-",
        "outputId": "27704248-bf73-4f48-f508-f41697fd6b77"
      },
      "source": [
        "torch.cuda.get_device_name(0)"
      ],
      "execution_count": 9,
      "outputs": [
        {
          "output_type": "execute_result",
          "data": {
            "application/vnd.google.colaboratory.intrinsic+json": {
              "type": "string"
            },
            "text/plain": [
              "'Tesla T4'"
            ]
          },
          "metadata": {
            "tags": []
          },
          "execution_count": 9
        }
      ]
    },
    {
      "cell_type": "code",
      "metadata": {
        "id": "WARi_LEZwnFp",
        "colab": {
          "base_uri": "https://localhost:8080/",
          "height": 66,
          "referenced_widgets": [
            "3cd78cda8a0c4f83a1599fe95e2e4b38",
            "b16f5183f4e5411ebf402056b4bdb163",
            "7b06d12ae4d94596974c4c3cf6fa86d0",
            "e173f315cac148ac9d074681c74975a6",
            "a1248b5728174849a2f382ef45d39601",
            "d60abb3492f04f028f347d5d8c6224de",
            "f098e323d569421883c80d6645e39b46",
            "e3270369a84741faaa1d61ff4c1e45d4"
          ]
        },
        "outputId": "a32783b1-d847-4757-f587-d358b7c4236b"
      },
      "source": [
        "#define a tokenizer with pretrained modell 'bert-base-cased' \n",
        "tokenizer = BertTokenizer.from_pretrained('bert-base-german-cased', do_lower_case=False)"
      ],
      "execution_count": 10,
      "outputs": [
        {
          "output_type": "display_data",
          "data": {
            "application/vnd.jupyter.widget-view+json": {
              "model_id": "3cd78cda8a0c4f83a1599fe95e2e4b38",
              "version_minor": 0,
              "version_major": 2
            },
            "text/plain": [
              "HBox(children=(FloatProgress(value=0.0, description='Downloading', max=254728.0, style=ProgressStyle(descripti…"
            ]
          },
          "metadata": {
            "tags": []
          }
        },
        {
          "output_type": "stream",
          "text": [
            "\n"
          ],
          "name": "stdout"
        }
      ]
    },
    {
      "cell_type": "code",
      "metadata": {
        "id": "gY_jbzO-xHGA"
      },
      "source": [
        "# Build a function, that tokenize all sentences in tokens and all tokens in subword tokens\n",
        "def bert_tokenizer(sentence, labels):\n",
        "  tokenizer_final = []\n",
        "  labels_final = []\n",
        "\n",
        "  for token, label in zip(sentence, labels):\n",
        "    # Use bert tokeniser\n",
        "    sub_token = tokenizer.tokenize(token)\n",
        "    subtoken_len = len(sub_token)\n",
        "    tokenizer_final.extend(sub_token)\n",
        "    labels_final.extend([label] * subtoken_len)\n",
        "\n",
        "  return tokenizer_final, labels_final"
      ],
      "execution_count": 11,
      "outputs": []
    },
    {
      "cell_type": "code",
      "metadata": {
        "id": "EGZfKbecxNSM"
      },
      "source": [
        "tokenizerbert = [bert_tokenizer(sent, label) for sent, label in zip(dataset['predictors'], dataset['labels'])]"
      ],
      "execution_count": 12,
      "outputs": []
    },
    {
      "cell_type": "code",
      "metadata": {
        "id": "LLaswV0NxQ6c"
      },
      "source": [
        "tokenized_texts = [token_label[0] for token_label in tokenizerbert]\n",
        "labels = [token_label[1] for token_label in tokenizerbert]"
      ],
      "execution_count": 13,
      "outputs": []
    },
    {
      "cell_type": "code",
      "metadata": {
        "colab": {
          "base_uri": "https://localhost:8080/"
        },
        "id": "yaHcauvAxsmO",
        "outputId": "af73e864-6d3c-402f-fe8d-e86f8ce11dd9"
      },
      "source": [
        "print(tokenized_texts[10])\n",
        "print(labels[10])"
      ],
      "execution_count": 14,
      "outputs": [
        {
          "output_type": "stream",
          "text": [
            "['Die', 'Marken', '##stelle', 'für', 'Klasse', '5', 'des', 'Deutschen', 'Patent', '-', 'und', 'Marken', '##amts', 'hat', 'mit', 'den', 'Beschlüsse', '##n', 'vom', '20', '.', 'Januar', '2015', 'und', 'vom', '2', '.', 'März', '2016', ',', 'von', 'denen', 'Letztere', '##r', 'im', 'Erinnerungs', '##verfahren', 'ergangen', 'ist', ',', 'die', 'Gefahr', 'der', 'Verw', '##echs', '##lung', 'im', 'Sinne', 'des', '§', '9', 'Abs', '.', '1', 'Nr', '.', '2', 'Marken', '##G', 'zwischen', 'den', 'sich', 'gegenüber', '##stehenden', 'Marken', 'bejaht', 'und', 'die', 'Lösch', '##ung', 'der', 'angegriffenen', 'Marke', 'angeordnet', '.']\n",
            "['O', 'B-INN', 'B-INN', 'I-INN', 'I-INN', 'I-INN', 'I-INN', 'I-INN', 'I-INN', 'I-INN', 'I-INN', 'I-INN', 'I-INN', 'O', 'O', 'O', 'O', 'O', 'O', 'O', 'O', 'O', 'O', 'O', 'O', 'O', 'O', 'O', 'O', 'O', 'O', 'O', 'O', 'O', 'O', 'O', 'O', 'O', 'O', 'O', 'O', 'O', 'O', 'O', 'O', 'O', 'O', 'O', 'O', 'B-GS', 'I-GS', 'I-GS', 'I-GS', 'I-GS', 'I-GS', 'I-GS', 'I-GS', 'I-GS', 'I-GS', 'O', 'O', 'O', 'O', 'O', 'O', 'O', 'O', 'O', 'O', 'O', 'O', 'O', 'O', 'O', 'O']\n"
          ],
          "name": "stdout"
        }
      ]
    },
    {
      "cell_type": "code",
      "metadata": {
        "id": "Z1FK7hgfxxHs"
      },
      "source": [
        "# Convert input text to indices\n",
        "predictors2idx = pad_sequences([tokenizer.convert_tokens_to_ids(txt) for txt in tokenized_texts], maxlen=MAX_LEN, dtype=\"long\", value=0.0,\n",
        "                          truncating=\"post\", padding=\"post\")"
      ],
      "execution_count": 15,
      "outputs": []
    },
    {
      "cell_type": "code",
      "metadata": {
        "colab": {
          "base_uri": "https://localhost:8080/"
        },
        "id": "aFyChStXx6TR",
        "outputId": "b1688ad4-9f60-4e1d-9334-8070ba191348"
      },
      "source": [
        "print(predictors2idx)"
      ],
      "execution_count": 16,
      "outputs": [
        {
          "output_type": "stream",
          "text": [
            "[[  173    21  2243 ...     0     0     0]\n",
            " [  125  2243    21 ...     0     0     0]\n",
            " [  103 26914   125 ...     0     0     0]\n",
            " ...\n",
            " [ 4240  1007  7264 ...     0     0     0]\n",
            " [  388  1377  5821 ...     0     0     0]\n",
            " [  400 26914   125 ...     0     0     0]]\n"
          ],
          "name": "stdout"
        }
      ]
    },
    {
      "cell_type": "code",
      "metadata": {
        "id": "VzZVQd5Mx9Mn"
      },
      "source": [
        "tags = pad_sequences([[tag2idx.get(l) for l in lab] for lab in labels], maxlen=MAX_LEN, value=tag2idx[\"O\"], padding=\"post\",\n",
        "                     dtype=\"long\", truncating=\"post\")"
      ],
      "execution_count": 17,
      "outputs": []
    },
    {
      "cell_type": "code",
      "metadata": {
        "colab": {
          "base_uri": "https://localhost:8080/"
        },
        "id": "MbYswETzx__q",
        "outputId": "9de09136-1c42-4106-defe-9bc3f7c7691e"
      },
      "source": [
        "print(tags[10])"
      ],
      "execution_count": 18,
      "outputs": [
        {
          "output_type": "stream",
          "text": [
            "[37 17 17  5  5  5  5  5  5  5  5  5  5 37 37 37 37 37 37 37 37 37 37 37\n",
            " 37 37 37 37 37 37 37 37 37 37 37 37 37 37 37 37 37 37 37 37 37 37 37 37\n",
            " 37 32 33 33 33 33 33 33 33 33 33 37 37 37 37 37 37 37 37 37 37 37 37 37\n",
            " 37 37 37 37 37 37 37 37 37 37 37 37 37 37 37 37 37 37 37 37 37 37 37 37\n",
            " 37 37 37 37]\n"
          ],
          "name": "stdout"
        }
      ]
    },
    {
      "cell_type": "code",
      "metadata": {
        "id": "gJYcijtIyDe2"
      },
      "source": [
        "# Create an attention mask to ignore the padded elements in the sequences\n",
        "attention_mask = [[float(i != 0.0) for i in ii] for ii in predictors2idx]"
      ],
      "execution_count": 19,
      "outputs": []
    },
    {
      "cell_type": "code",
      "metadata": {
        "colab": {
          "base_uri": "https://localhost:8080/"
        },
        "id": "pz365NfOyHJA",
        "outputId": "746aa5ec-34b9-4eea-a112-31e39d8c2f54"
      },
      "source": [
        "print(attention_mask[1])"
      ],
      "execution_count": 20,
      "outputs": [
        {
          "output_type": "stream",
          "text": [
            "[1.0, 1.0, 1.0, 1.0, 1.0, 1.0, 1.0, 1.0, 1.0, 0.0, 0.0, 0.0, 0.0, 0.0, 0.0, 0.0, 0.0, 0.0, 0.0, 0.0, 0.0, 0.0, 0.0, 0.0, 0.0, 0.0, 0.0, 0.0, 0.0, 0.0, 0.0, 0.0, 0.0, 0.0, 0.0, 0.0, 0.0, 0.0, 0.0, 0.0, 0.0, 0.0, 0.0, 0.0, 0.0, 0.0, 0.0, 0.0, 0.0, 0.0, 0.0, 0.0, 0.0, 0.0, 0.0, 0.0, 0.0, 0.0, 0.0, 0.0, 0.0, 0.0, 0.0, 0.0, 0.0, 0.0, 0.0, 0.0, 0.0, 0.0, 0.0, 0.0, 0.0, 0.0, 0.0, 0.0, 0.0, 0.0, 0.0, 0.0, 0.0, 0.0, 0.0, 0.0, 0.0, 0.0, 0.0, 0.0, 0.0, 0.0, 0.0, 0.0, 0.0, 0.0, 0.0, 0.0, 0.0, 0.0, 0.0, 0.0]\n"
          ],
          "name": "stdout"
        }
      ]
    },
    {
      "cell_type": "code",
      "metadata": {
        "id": "pludhjRMyKYb"
      },
      "source": [
        "# Split the dataset\n",
        "# 20% for validation\n",
        "X_train, X_test, Y_train, Y_test = train_test_split(predictors2idx, tags,random_state=1, test_size=0.2)\n",
        "M_train, M_test, _, _ = train_test_split(attention_mask, predictors2idx,random_state=1, test_size=0.2)"
      ],
      "execution_count": 21,
      "outputs": []
    },
    {
      "cell_type": "code",
      "metadata": {
        "id": "kiTwl6MKy8ac"
      },
      "source": [
        "# Convert the dataset to torch tensors\n",
        "train_feat = torch.tensor(X_train)\n",
        "test_feat = torch.tensor(X_test)\n",
        "train_labels = torch.tensor(Y_train)\n",
        "test_labels = torch.tensor(Y_test)\n",
        "train_mask = torch.tensor(M_train)\n",
        "test_mask = torch.tensor(M_test)"
      ],
      "execution_count": 22,
      "outputs": []
    },
    {
      "cell_type": "code",
      "metadata": {
        "colab": {
          "base_uri": "https://localhost:8080/"
        },
        "id": "rSXpz5KqzQR5",
        "outputId": "01e04525-7d18-40b0-a8cf-a40e144a3eb7"
      },
      "source": [
        "print(train_feat.shape)\n",
        "print(test_feat.shape)\n",
        "print(train_labels.shape)\n",
        "print(test_labels.shape)\n",
        "print(train_mask.shape)\n",
        "print(test_mask.shape)"
      ],
      "execution_count": 23,
      "outputs": [
        {
          "output_type": "stream",
          "text": [
            "torch.Size([53378, 100])\n",
            "torch.Size([13345, 100])\n",
            "torch.Size([53378, 100])\n",
            "torch.Size([13345, 100])\n",
            "torch.Size([53378, 100])\n",
            "torch.Size([13345, 100])\n"
          ],
          "name": "stdout"
        }
      ]
    },
    {
      "cell_type": "code",
      "metadata": {
        "id": "C-F2hVRh0CnJ"
      },
      "source": [
        "# Define the dataloaders\n",
        "# Shuffle the data at training time with the RandomSampler\n",
        "train_data = TensorDataset(train_feat, train_mask, train_labels)\n",
        "train_sampler = RandomSampler(train_data)\n",
        "train_dataloader = DataLoader(train_data, sampler=train_sampler, batch_size=bs)\n",
        "\n",
        "# Pass the data at the test time sequentially with the SequentialSampler\n",
        "test_data = TensorDataset(test_feat, test_mask, test_labels)\n",
        "test_sampler = SequentialSampler(test_data)\n",
        "test_dataloader = DataLoader(test_data, sampler=test_sampler, batch_size=bs)"
      ],
      "execution_count": 24,
      "outputs": []
    },
    {
      "cell_type": "code",
      "metadata": {
        "colab": {
          "base_uri": "https://localhost:8080/",
          "height": 225,
          "referenced_widgets": [
            "b58d0b76101746e195c61c3a1b0fb916",
            "ddb838f8bb3542f4bc94cc21f3f5a5f8",
            "b1c57270d7c34f80992d669bb116125b",
            "eadc42be9bf64a23be4db7afa16d0650",
            "c527bed2fd224f98bdc1e4e970b61520",
            "b67d21c2b4d44fd39a0dcca13f058b8e",
            "a3c58979f8a94ffead1760f5cbbc2084",
            "ac067afc216942e7a13aceeb89cacce5",
            "26c3785b8593496ba5122b6bf0d3964f",
            "9d78d78dab8c416c83a5ab8d33c2d74f",
            "52ff00591b924f9fb6497185bad9cf58",
            "bbfd8f0966f248a892e46148d0aa600c",
            "f40f6e69e267439e8c9ba1ebcffbc367",
            "9a3d36706508474db542e3100149f2dc",
            "2d49d24698be436096e67c1a0aea99ee",
            "8e1e3769031648308ee6cd8f1f01bbe4"
          ]
        },
        "id": "cJRMh9TE0tSr",
        "outputId": "35d5ec9a-0a34-4953-acb7-4b4e723140fc"
      },
      "source": [
        "# Build the model\n",
        "# Use the BertForTokenClassification that wraps BertModel and adds token-level classifier on top of the BertModel\n",
        "# Load the pretrained 'bert-base-cased' model and provide the number of possible labels\n",
        "model = BertForTokenClassification.from_pretrained(\n",
        "    \"bert-base-german-cased\",\n",
        "    num_labels=len(tag2idx),\n",
        "    output_attentions = False,\n",
        "    output_hidden_states = False\n",
        ")"
      ],
      "execution_count": 25,
      "outputs": [
        {
          "output_type": "display_data",
          "data": {
            "application/vnd.jupyter.widget-view+json": {
              "model_id": "b58d0b76101746e195c61c3a1b0fb916",
              "version_minor": 0,
              "version_major": 2
            },
            "text/plain": [
              "HBox(children=(FloatProgress(value=0.0, description='Downloading', max=433.0, style=ProgressStyle(description_…"
            ]
          },
          "metadata": {
            "tags": []
          }
        },
        {
          "output_type": "stream",
          "text": [
            "\n"
          ],
          "name": "stdout"
        },
        {
          "output_type": "display_data",
          "data": {
            "application/vnd.jupyter.widget-view+json": {
              "model_id": "26c3785b8593496ba5122b6bf0d3964f",
              "version_minor": 0,
              "version_major": 2
            },
            "text/plain": [
              "HBox(children=(FloatProgress(value=0.0, description='Downloading', max=438869143.0, style=ProgressStyle(descri…"
            ]
          },
          "metadata": {
            "tags": []
          }
        },
        {
          "output_type": "stream",
          "text": [
            "\n"
          ],
          "name": "stdout"
        },
        {
          "output_type": "stream",
          "text": [
            "Some weights of the model checkpoint at bert-base-german-cased were not used when initializing BertForTokenClassification: ['cls.predictions.bias', 'cls.predictions.transform.dense.weight', 'cls.predictions.transform.dense.bias', 'cls.predictions.transform.LayerNorm.weight', 'cls.predictions.transform.LayerNorm.bias', 'cls.predictions.decoder.weight', 'cls.seq_relationship.weight', 'cls.seq_relationship.bias']\n",
            "- This IS expected if you are initializing BertForTokenClassification from the checkpoint of a model trained on another task or with another architecture (e.g. initializing a BertForSequenceClassification model from a BertForPreTraining model).\n",
            "- This IS NOT expected if you are initializing BertForTokenClassification from the checkpoint of a model that you expect to be exactly identical (initializing a BertForSequenceClassification model from a BertForSequenceClassification model).\n",
            "Some weights of BertForTokenClassification were not initialized from the model checkpoint at bert-base-german-cased and are newly initialized: ['classifier.weight', 'classifier.bias']\n",
            "You should probably TRAIN this model on a down-stream task to be able to use it for predictions and inference.\n"
          ],
          "name": "stderr"
        }
      ]
    },
    {
      "cell_type": "code",
      "metadata": {
        "id": "sIX6l0JM6ddq"
      },
      "source": [
        "model.cuda();"
      ],
      "execution_count": 26,
      "outputs": []
    },
    {
      "cell_type": "code",
      "metadata": {
        "id": "vpKfNLqu0w0M"
      },
      "source": [
        "# Define a fine-tuning process with adding some weight_decay as regularization to the main weight matrices\n",
        "FULL_FINETUNING = True\n",
        "if FULL_FINETUNING:\n",
        "    param_optimizer = list(model.named_parameters())\n",
        "    no_decay = ['bias', 'gamma', 'beta']\n",
        "    optimizer_grouped_parameters = [\n",
        "        {'params': [p for n, p in param_optimizer if not any(nd in n for nd in no_decay)],\n",
        "         'weight_decay_rate': 0.01},\n",
        "        {'params': [p for n, p in param_optimizer if any(nd in n for nd in no_decay)],\n",
        "         'weight_decay_rate': 0.0}\n",
        "    ]\n",
        "else:\n",
        "    param_optimizer = list(model.classifier.named_parameters())\n",
        "    optimizer_grouped_parameters = [{\"params\": [p for n, p in param_optimizer]}]\n",
        "    \n",
        "# Define an AdamW optimizer\n",
        "optimizer = AdamW(\n",
        "    optimizer_grouped_parameters,\n",
        "    lr=3e-5,\n",
        "    eps=1e-8\n",
        ")"
      ],
      "execution_count": 27,
      "outputs": []
    },
    {
      "cell_type": "code",
      "metadata": {
        "id": "NzsGMamb06yF"
      },
      "source": [
        "epochs = 3\n",
        "max_grad_norm = 1.0\n",
        "\n",
        "# Total number of training steps\n",
        "total_steps = len(train_dataloader) * epochs\n",
        "# Define a scheduler to linearly reduce the learning rate throughout the epochs\n",
        "scheduler = get_linear_schedule_with_warmup(optimizer,num_warmup_steps=0,num_training_steps=total_steps)"
      ],
      "execution_count": 28,
      "outputs": []
    },
    {
      "cell_type": "code",
      "metadata": {
        "colab": {
          "base_uri": "https://localhost:8080/"
        },
        "id": "lUMkh8FN1Nm5",
        "outputId": "a745b68f-56f3-4b43-9d76-c23250dfb810"
      },
      "source": [
        "loss_values, validation_loss_values = [], []\n",
        "validation_accuracy = []\n",
        "classification_report_eval = []\n",
        "\n",
        "for _ in trange(epochs, desc=\"Epoch\"):\n",
        "  # ========================================\n",
        "  #               Training\n",
        "  # ========================================    \n",
        "  model.train()\n",
        "  total_loss = 0\n",
        "\n",
        "  for step, batch in enumerate(train_dataloader):\n",
        "    batch = tuple(t.to(device) for t in batch)\n",
        "    b_input_ids, b_input_mask, b_labels = batch\n",
        "    model.zero_grad()\n",
        "    outputs = model(b_input_ids, token_type_ids=None, attention_mask=b_input_mask, labels=b_labels)\n",
        "    loss = outputs[0]\n",
        "    loss.backward()\n",
        "    total_loss += loss.item()\n",
        "    torch.nn.utils.clip_grad_norm_(parameters=model.parameters(), max_norm=max_grad_norm)\n",
        "    optimizer.step()\n",
        "    scheduler.step()\n",
        "\n",
        "  avg_train_loss = total_loss / len(train_dataloader)\n",
        "  print(\"Average train loss: {}\".format(avg_train_loss))\n",
        "  loss_values.append(avg_train_loss)\n",
        "\n",
        "  # ========================================\n",
        "  #               Validation\n",
        "  # ========================================\n",
        "  model.eval()\n",
        "  predictions = []\n",
        "  true_labels = []\n",
        "  eval_loss, eval_accuracy = 0, 0\n",
        "  nb_eval_steps, nb_eval_examples = 0, 0\n",
        "  for batch in test_dataloader:\n",
        "    batch = tuple(t.to(device) for t in batch)\n",
        "    b_input_ids, b_input_mask, b_labels = batch\n",
        "\n",
        "    with torch.no_grad():\n",
        "      outputs = model(b_input_ids, token_type_ids=None, attention_mask=b_input_mask, labels=b_labels)\n",
        "      logits = model(b_input_ids, token_type_ids=None, attention_mask=b_input_mask)\n",
        "        \n",
        "    logits = outputs[1].detach().cpu().numpy()\n",
        "    predictions.extend([list(p) for p in np.argmax(logits, axis=2)])\n",
        "    label_ids = b_labels.to('cpu').numpy()\n",
        "    true_labels.append(label_ids)\n",
        "    eval_loss += outputs[0].mean().item()\n",
        "    nb_eval_steps += 1\n",
        "\n",
        "  pred_tags = [[tags2vals[p_i] for p_i in p] for p in predictions]\n",
        "  valid_tags = [[tags2vals[l_ii] for l_ii in l_i] for l in true_labels for l_i in l ]\n",
        "  eval_loss_final = eval_loss/nb_eval_steps\n",
        "  print(\"Validation loss: {}\".format(eval_loss_final))\n",
        "  validation_loss_values.append(eval_loss_final)\n",
        "  valid_accur = accuracy_score(valid_tags,pred_tags)\n",
        "  print(\"Validation Accuracy: {}\".format(valid_accur))\n",
        "  validation_accuracy.append(valid_accur)\n",
        "  class_report = classification_report(valid_tags,pred_tags)\n",
        "  print(\"\\nClassification-Report:\\n\", class_report)\n",
        "  classification_report_eval.append(class_report)\n",
        "  print()"
      ],
      "execution_count": 29,
      "outputs": [
        {
          "output_type": "stream",
          "text": [
            "\rEpoch:   0%|          | 0/3 [00:00<?, ?it/s]"
          ],
          "name": "stderr"
        },
        {
          "output_type": "stream",
          "text": [
            "Average train loss: 0.07070502638877867\n",
            "Validation loss: 0.024340269429188356\n",
            "Validation Accuracy: 0.9520037467216186\n"
          ],
          "name": "stdout"
        },
        {
          "output_type": "stream",
          "text": [
            "\rEpoch:  33%|███▎      | 1/3 [18:19<36:38, 1099.40s/it]"
          ],
          "name": "stderr"
        },
        {
          "output_type": "stream",
          "text": [
            "\n",
            "Classification-Report:\n",
            "               precision    recall  f1-score   support\n",
            "\n",
            "          AN       0.40      0.16      0.23        50\n",
            "         EUN       0.44      0.93      0.60       541\n",
            "         GRT       0.71      0.99      0.82      1041\n",
            "          GS       0.36      0.97      0.53      4582\n",
            "         INN       0.48      0.93      0.63       793\n",
            "          LD       0.79      0.93      0.85       379\n",
            "         LDS       0.40      0.35      0.37        46\n",
            "         LIT       0.52      0.87      0.65      1104\n",
            "         MRK       0.33      0.50      0.40       130\n",
            "         ORG       0.49      0.68      0.57       426\n",
            "         PER       0.37      0.90      0.53       545\n",
            "          RR       0.03      0.96      0.05       679\n",
            "          RS       0.43      0.94      0.59      2689\n",
            "          ST       0.48      0.79      0.60       220\n",
            "         STR       0.28      0.62      0.39        61\n",
            "          UN       0.45      0.88      0.59       400\n",
            "          VO       0.37      0.90      0.52       260\n",
            "          VS       0.31      0.83      0.46       231\n",
            "          VT       0.33      0.89      0.48      1012\n",
            "\n",
            "   micro avg       0.25      0.92      0.39     15189\n",
            "   macro avg       0.42      0.79      0.52     15189\n",
            "weighted avg       0.42      0.92      0.56     15189\n",
            "\n",
            "\n",
            "Average train loss: 0.015146998258403415\n",
            "Validation loss: 0.01995693078989509\n",
            "Validation Accuracy: 0.9503521918321469\n"
          ],
          "name": "stdout"
        },
        {
          "output_type": "stream",
          "text": [
            "\rEpoch:  67%|██████▋   | 2/3 [36:42<18:20, 1100.44s/it]"
          ],
          "name": "stderr"
        },
        {
          "output_type": "stream",
          "text": [
            "\n",
            "Classification-Report:\n",
            "               precision    recall  f1-score   support\n",
            "\n",
            "          AN       0.53      0.78      0.63        50\n",
            "         EUN       0.45      0.93      0.60       541\n",
            "         GRT       0.71      0.99      0.82      1041\n",
            "          GS       0.39      0.98      0.56      4582\n",
            "         INN       0.49      0.96      0.65       793\n",
            "          LD       0.74      0.98      0.84       379\n",
            "         LDS       0.34      0.67      0.46        46\n",
            "         LIT       0.52      0.93      0.66      1104\n",
            "         MRK       0.25      0.72      0.37       130\n",
            "         ORG       0.42      0.75      0.54       426\n",
            "         PER       0.42      0.93      0.58       545\n",
            "          RR       0.03      0.96      0.05       679\n",
            "          RS       0.41      0.96      0.57      2689\n",
            "          ST       0.49      0.87      0.63       220\n",
            "         STR       0.33      0.67      0.44        61\n",
            "          UN       0.40      0.93      0.56       400\n",
            "          VO       0.47      0.93      0.62       260\n",
            "          VS       0.36      0.88      0.51       231\n",
            "          VT       0.34      0.92      0.49      1012\n",
            "\n",
            "   micro avg       0.26      0.95      0.41     15189\n",
            "   macro avg       0.43      0.88      0.56     15189\n",
            "weighted avg       0.42      0.95      0.57     15189\n",
            "\n",
            "\n",
            "Average train loss: 0.006036130068414253\n",
            "Validation loss: 0.019344790150460704\n",
            "Validation Accuracy: 0.9543237167478457\n"
          ],
          "name": "stdout"
        },
        {
          "output_type": "stream",
          "text": [
            "Epoch: 100%|██████████| 3/3 [55:04<00:00, 1101.48s/it]"
          ],
          "name": "stderr"
        },
        {
          "output_type": "stream",
          "text": [
            "\n",
            "Classification-Report:\n",
            "               precision    recall  f1-score   support\n",
            "\n",
            "          AN       0.69      0.94      0.80        50\n",
            "         EUN       0.48      0.95      0.64       541\n",
            "         GRT       0.71      0.98      0.83      1041\n",
            "          GS       0.39      0.99      0.56      4582\n",
            "         INN       0.53      0.96      0.68       793\n",
            "          LD       0.76      0.98      0.85       379\n",
            "         LDS       0.42      0.70      0.52        46\n",
            "         LIT       0.55      0.96      0.70      1104\n",
            "         MRK       0.37      0.68      0.48       130\n",
            "         ORG       0.46      0.74      0.56       426\n",
            "         PER       0.43      0.94      0.59       545\n",
            "          RR       0.03      0.96      0.05       679\n",
            "          RS       0.41      0.96      0.58      2689\n",
            "          ST       0.54      0.89      0.67       220\n",
            "         STR       0.34      0.69      0.46        61\n",
            "          UN       0.43      0.92      0.58       400\n",
            "          VO       0.47      0.93      0.62       260\n",
            "          VS       0.36      0.89      0.52       231\n",
            "          VT       0.38      0.92      0.53      1012\n",
            "\n",
            "   micro avg       0.26      0.95      0.41     15189\n",
            "   macro avg       0.46      0.89      0.59     15189\n",
            "weighted avg       0.44      0.95      0.59     15189\n",
            "\n",
            "\n"
          ],
          "name": "stdout"
        },
        {
          "output_type": "stream",
          "text": [
            "\n"
          ],
          "name": "stderr"
        }
      ]
    },
    {
      "cell_type": "code",
      "metadata": {
        "colab": {
          "base_uri": "https://localhost:8080/",
          "height": 404
        },
        "id": "3z4hOt143k6N",
        "outputId": "cb013027-86af-4028-f5db-ce3197eb551b"
      },
      "source": [
        "plt.rcParams[\"figure.figsize\"] = (12,6)\n",
        "plt.plot(loss_values, 'b-o', label='training loss')\n",
        "plt.plot(validation_loss_values, 'r-o', label=\"validation loss\")\n",
        "\n",
        "plt.title(\"Training and validation loss\")\n",
        "plt.xlabel(\"Epoch\")\n",
        "plt.ylabel(\"Loss\")\n",
        "plt.legend()\n",
        "\n",
        "plt.show()"
      ],
      "execution_count": 30,
      "outputs": [
        {
          "output_type": "display_data",
          "data": {
            "image/png": "[encoded data removed]",
            "text/plain": [
              "<Figure size 864x432 with 1 Axes>"
            ]
          },
          "metadata": {
            "tags": [],
            "needs_background": "light"
          }
        }
      ]
    },
    {
      "cell_type": "code",
      "metadata": {
        "colab": {
          "base_uri": "https://localhost:8080/",
          "height": 404
        },
        "id": "P1hLeK0ARE0V",
        "outputId": "a3c12153-d92b-4a4f-dd89-78f40f7c905d"
      },
      "source": [
        "plt.rcParams[\"figure.figsize\"] = (12,6)\n",
        "plt.plot(validation_accuracy, 'g-o', label='validation accuracy')\n",
        "\n",
        "plt.title(\"Validation Accuracy\")\n",
        "plt.xlabel(\"Epoch\")\n",
        "plt.ylabel(\"Accuracy\")\n",
        "plt.legend()\n",
        "\n",
        "plt.show()"
      ],
      "execution_count": 31,
      "outputs": [
        {
          "output_type": "display_data",
          "data": {
            "image/png": "[encoded data removed]",
            "text/plain": [
              "<Figure size 864x432 with 1 Axes>"
            ]
          },
          "metadata": {
            "tags": [],
            "needs_background": "light"
          }
        }
      ]
    },
    {
      "cell_type": "code",
      "metadata": {
        "id": "ejmqKiCcRWHX"
      },
      "source": [
        "def plot_classification_report(cr, title='Classification report ', with_avg_total=True, cmap=plt.cm.RdPu):\n",
        "\n",
        "  lines = cr.split('\\n')\n",
        "  classes = []\n",
        "  plotMat = []\n",
        "  for line in lines[2 : (len(lines)-5)]:\n",
        "    t = line.split()\n",
        "    classes.append(t[0])\n",
        "    v = [float(x) for x in t[1: len(t)-1]]\n",
        "    plotMat.append(v)\n",
        "\n",
        "  if with_avg_total:\n",
        "    for line in lines[len(lines)-4 : len(lines)-1]:\n",
        "      aveTotal = line.split()\n",
        "      classes.append(' '.join(aveTotal[:2]))\n",
        "      vAveTotal = [float(x) for x in aveTotal[2:len(aveTotal) - 1]]\n",
        "      plotMat.append(vAveTotal)\n",
        "\n",
        "  plt.imshow(plotMat, interpolation='nearest', cmap=cmap)\n",
        "  plt.gcf().set_size_inches(8, 8)\n",
        "  plt.title(title)\n",
        "  plt.colorbar()\n",
        "  x_tick_marks = np.arange(3)\n",
        "  y_tick_marks = np.arange(len(classes))\n",
        "  plt.xticks(x_tick_marks, ['precision', 'recall', 'f1-score'], rotation=45)\n",
        "  plt.yticks(y_tick_marks, classes)\n",
        "  plt.tight_layout()\n",
        "  plt.ylabel('Classes')\n",
        "  plt.xlabel('Measures')"
      ],
      "execution_count": 32,
      "outputs": []
    },
    {
      "cell_type": "code",
      "metadata": {
        "colab": {
          "base_uri": "https://localhost:8080/",
          "height": 598
        },
        "id": "KxAvnPAH0ctj",
        "outputId": "4a8c50f6-76d4-451c-ab8b-6077cad88aae"
      },
      "source": [
        "plot_classification_report(classification_report_eval[2])"
      ],
      "execution_count": 33,
      "outputs": [
        {
          "output_type": "display_data",
          "data": {
            "image/png": "[encoded data removed]",
            "text/plain": [
              "<Figure size 576x576 with 2 Axes>"
            ]
          },
          "metadata": {
            "tags": [],
            "needs_background": "light"
          }
        }
      ]
    },
    {
      "cell_type": "code",
      "metadata": {
        "id": "1FsmDPSmMryT"
      },
      "source": [
        "model_save_name = 'bert.pt' \n",
        "torch.save(model, model_save_name)"
      ],
      "execution_count": 34,
      "outputs": []
    },
    {
      "cell_type": "code",
      "metadata": {
        "id": "RK5xFDNYsQyA"
      },
      "source": [
        ""
      ],
      "execution_count": null,
      "outputs": []
    }
  ]
}