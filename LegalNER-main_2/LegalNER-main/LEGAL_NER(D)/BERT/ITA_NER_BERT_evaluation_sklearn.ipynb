{
  "nbformat": 4,
  "nbformat_minor": 0,
  "metadata": {
    "colab": {
      "name": "ITA-Project",
      "provenance": []
    },
    "kernelspec": {
      "name": "python3",
      "display_name": "Python 3"
    },
    "accelerator": "GPU",
    "widgets": {
      "application/vnd.jupyter.widget-state+json": {
        "f9f869d9489d4d7d96653e1197aedb35": {
          "model_module": "@jupyter-widgets/controls",
          "model_name": "HBoxModel",
          "state": {
            "_view_name": "HBoxView",
            "_dom_classes": [],
            "_model_name": "HBoxModel",
            "_view_module": "@jupyter-widgets/controls",
            "_model_module_version": "1.5.0",
            "_view_count": null,
            "_view_module_version": "1.5.0",
            "box_style": "",
            "layout": "IPY_MODEL_91cdcebdb0504a4e9178fd25130ac72e",
            "_model_module": "@jupyter-widgets/controls",
            "children": [
              "IPY_MODEL_67eb6cde1067470b860a4b50fd8fa0dc",
              "IPY_MODEL_4ffaad7f1ed849deb128f1293d1b2c31"
            ]
          }
        },
        "91cdcebdb0504a4e9178fd25130ac72e": {
          "model_module": "@jupyter-widgets/base",
          "model_name": "LayoutModel",
          "state": {
            "_view_name": "LayoutView",
            "grid_template_rows": null,
            "right": null,
            "justify_content": null,
            "_view_module": "@jupyter-widgets/base",
            "overflow": null,
            "_model_module_version": "1.2.0",
            "_view_count": null,
            "flex_flow": null,
            "width": null,
            "min_width": null,
            "border": null,
            "align_items": null,
            "bottom": null,
            "_model_module": "@jupyter-widgets/base",
            "top": null,
            "grid_column": null,
            "overflow_y": null,
            "overflow_x": null,
            "grid_auto_flow": null,
            "grid_area": null,
            "grid_template_columns": null,
            "flex": null,
            "_model_name": "LayoutModel",
            "justify_items": null,
            "grid_row": null,
            "max_height": null,
            "align_content": null,
            "visibility": null,
            "align_self": null,
            "height": null,
            "min_height": null,
            "padding": null,
            "grid_auto_rows": null,
            "grid_gap": null,
            "max_width": null,
            "order": null,
            "_view_module_version": "1.2.0",
            "grid_template_areas": null,
            "object_position": null,
            "object_fit": null,
            "grid_auto_columns": null,
            "margin": null,
            "display": null,
            "left": null
          }
        },
        "67eb6cde1067470b860a4b50fd8fa0dc": {
          "model_module": "@jupyter-widgets/controls",
          "model_name": "FloatProgressModel",
          "state": {
            "_view_name": "ProgressView",
            "style": "IPY_MODEL_5b8603cb54d9409da302071088aca008",
            "_dom_classes": [],
            "description": "Downloading: 100%",
            "_model_name": "FloatProgressModel",
            "bar_style": "success",
            "max": 254728,
            "_view_module": "@jupyter-widgets/controls",
            "_model_module_version": "1.5.0",
            "value": 254728,
            "_view_count": null,
            "_view_module_version": "1.5.0",
            "orientation": "horizontal",
            "min": 0,
            "description_tooltip": null,
            "_model_module": "@jupyter-widgets/controls",
            "layout": "IPY_MODEL_264a4bec0ae14a64b8a7fbfffcd8815d"
          }
        },
        "4ffaad7f1ed849deb128f1293d1b2c31": {
          "model_module": "@jupyter-widgets/controls",
          "model_name": "HTMLModel",
          "state": {
            "_view_name": "HTMLView",
            "style": "IPY_MODEL_2537c3f8a48f4037a59075d9faf1bf1c",
            "_dom_classes": [],
            "description": "",
            "_model_name": "HTMLModel",
            "placeholder": "​",
            "_view_module": "@jupyter-widgets/controls",
            "_model_module_version": "1.5.0",
            "value": " 255k/255k [00:01&lt;00:00, 235kB/s]",
            "_view_count": null,
            "_view_module_version": "1.5.0",
            "description_tooltip": null,
            "_model_module": "@jupyter-widgets/controls",
            "layout": "IPY_MODEL_8496775859c9435788b1113f1ca60fdd"
          }
        },
        "5b8603cb54d9409da302071088aca008": {
          "model_module": "@jupyter-widgets/controls",
          "model_name": "ProgressStyleModel",
          "state": {
            "_view_name": "StyleView",
            "_model_name": "ProgressStyleModel",
            "description_width": "initial",
            "_view_module": "@jupyter-widgets/base",
            "_model_module_version": "1.5.0",
            "_view_count": null,
            "_view_module_version": "1.2.0",
            "bar_color": null,
            "_model_module": "@jupyter-widgets/controls"
          }
        },
        "264a4bec0ae14a64b8a7fbfffcd8815d": {
          "model_module": "@jupyter-widgets/base",
          "model_name": "LayoutModel",
          "state": {
            "_view_name": "LayoutView",
            "grid_template_rows": null,
            "right": null,
            "justify_content": null,
            "_view_module": "@jupyter-widgets/base",
            "overflow": null,
            "_model_module_version": "1.2.0",
            "_view_count": null,
            "flex_flow": null,
            "width": null,
            "min_width": null,
            "border": null,
            "align_items": null,
            "bottom": null,
            "_model_module": "@jupyter-widgets/base",
            "top": null,
            "grid_column": null,
            "overflow_y": null,
            "overflow_x": null,
            "grid_auto_flow": null,
            "grid_area": null,
            "grid_template_columns": null,
            "flex": null,
            "_model_name": "LayoutModel",
            "justify_items": null,
            "grid_row": null,
            "max_height": null,
            "align_content": null,
            "visibility": null,
            "align_self": null,
            "height": null,
            "min_height": null,
            "padding": null,
            "grid_auto_rows": null,
            "grid_gap": null,
            "max_width": null,
            "order": null,
            "_view_module_version": "1.2.0",
            "grid_template_areas": null,
            "object_position": null,
            "object_fit": null,
            "grid_auto_columns": null,
            "margin": null,
            "display": null,
            "left": null
          }
        },
        "2537c3f8a48f4037a59075d9faf1bf1c": {
          "model_module": "@jupyter-widgets/controls",
          "model_name": "DescriptionStyleModel",
          "state": {
            "_view_name": "StyleView",
            "_model_name": "DescriptionStyleModel",
            "description_width": "",
            "_view_module": "@jupyter-widgets/base",
            "_model_module_version": "1.5.0",
            "_view_count": null,
            "_view_module_version": "1.2.0",
            "_model_module": "@jupyter-widgets/controls"
          }
        },
        "8496775859c9435788b1113f1ca60fdd": {
          "model_module": "@jupyter-widgets/base",
          "model_name": "LayoutModel",
          "state": {
            "_view_name": "LayoutView",
            "grid_template_rows": null,
            "right": null,
            "justify_content": null,
            "_view_module": "@jupyter-widgets/base",
            "overflow": null,
            "_model_module_version": "1.2.0",
            "_view_count": null,
            "flex_flow": null,
            "width": null,
            "min_width": null,
            "border": null,
            "align_items": null,
            "bottom": null,
            "_model_module": "@jupyter-widgets/base",
            "top": null,
            "grid_column": null,
            "overflow_y": null,
            "overflow_x": null,
            "grid_auto_flow": null,
            "grid_area": null,
            "grid_template_columns": null,
            "flex": null,
            "_model_name": "LayoutModel",
            "justify_items": null,
            "grid_row": null,
            "max_height": null,
            "align_content": null,
            "visibility": null,
            "align_self": null,
            "height": null,
            "min_height": null,
            "padding": null,
            "grid_auto_rows": null,
            "grid_gap": null,
            "max_width": null,
            "order": null,
            "_view_module_version": "1.2.0",
            "grid_template_areas": null,
            "object_position": null,
            "object_fit": null,
            "grid_auto_columns": null,
            "margin": null,
            "display": null,
            "left": null
          }
        },
        "7ed1fc8444c945978a40cf4881554cc4": {
          "model_module": "@jupyter-widgets/controls",
          "model_name": "HBoxModel",
          "state": {
            "_view_name": "HBoxView",
            "_dom_classes": [],
            "_model_name": "HBoxModel",
            "_view_module": "@jupyter-widgets/controls",
            "_model_module_version": "1.5.0",
            "_view_count": null,
            "_view_module_version": "1.5.0",
            "box_style": "",
            "layout": "IPY_MODEL_80bb07ed69aa424bb23120b274767fd2",
            "_model_module": "@jupyter-widgets/controls",
            "children": [
              "IPY_MODEL_e784eafee6884ef3a52cde8d701d8774",
              "IPY_MODEL_6e6d7b8ebbc84284ac83af10194ac677"
            ]
          }
        },
        "80bb07ed69aa424bb23120b274767fd2": {
          "model_module": "@jupyter-widgets/base",
          "model_name": "LayoutModel",
          "state": {
            "_view_name": "LayoutView",
            "grid_template_rows": null,
            "right": null,
            "justify_content": null,
            "_view_module": "@jupyter-widgets/base",
            "overflow": null,
            "_model_module_version": "1.2.0",
            "_view_count": null,
            "flex_flow": null,
            "width": null,
            "min_width": null,
            "border": null,
            "align_items": null,
            "bottom": null,
            "_model_module": "@jupyter-widgets/base",
            "top": null,
            "grid_column": null,
            "overflow_y": null,
            "overflow_x": null,
            "grid_auto_flow": null,
            "grid_area": null,
            "grid_template_columns": null,
            "flex": null,
            "_model_name": "LayoutModel",
            "justify_items": null,
            "grid_row": null,
            "max_height": null,
            "align_content": null,
            "visibility": null,
            "align_self": null,
            "height": null,
            "min_height": null,
            "padding": null,
            "grid_auto_rows": null,
            "grid_gap": null,
            "max_width": null,
            "order": null,
            "_view_module_version": "1.2.0",
            "grid_template_areas": null,
            "object_position": null,
            "object_fit": null,
            "grid_auto_columns": null,
            "margin": null,
            "display": null,
            "left": null
          }
        },
        "e784eafee6884ef3a52cde8d701d8774": {
          "model_module": "@jupyter-widgets/controls",
          "model_name": "FloatProgressModel",
          "state": {
            "_view_name": "ProgressView",
            "style": "IPY_MODEL_068e3b639e2b4cb5bca275b180860273",
            "_dom_classes": [],
            "description": "Downloading: 100%",
            "_model_name": "FloatProgressModel",
            "bar_style": "success",
            "max": 433,
            "_view_module": "@jupyter-widgets/controls",
            "_model_module_version": "1.5.0",
            "value": 433,
            "_view_count": null,
            "_view_module_version": "1.5.0",
            "orientation": "horizontal",
            "min": 0,
            "description_tooltip": null,
            "_model_module": "@jupyter-widgets/controls",
            "layout": "IPY_MODEL_a80ada28e53a4073915e050973ad6fc0"
          }
        },
        "6e6d7b8ebbc84284ac83af10194ac677": {
          "model_module": "@jupyter-widgets/controls",
          "model_name": "HTMLModel",
          "state": {
            "_view_name": "HTMLView",
            "style": "IPY_MODEL_8bacc03abf6049adbf988f002438f161",
            "_dom_classes": [],
            "description": "",
            "_model_name": "HTMLModel",
            "placeholder": "​",
            "_view_module": "@jupyter-widgets/controls",
            "_model_module_version": "1.5.0",
            "value": " 433/433 [01:45&lt;00:00, 4.10B/s]",
            "_view_count": null,
            "_view_module_version": "1.5.0",
            "description_tooltip": null,
            "_model_module": "@jupyter-widgets/controls",
            "layout": "IPY_MODEL_29a695871cef4cc8b2498117db2d2be2"
          }
        },
        "068e3b639e2b4cb5bca275b180860273": {
          "model_module": "@jupyter-widgets/controls",
          "model_name": "ProgressStyleModel",
          "state": {
            "_view_name": "StyleView",
            "_model_name": "ProgressStyleModel",
            "description_width": "initial",
            "_view_module": "@jupyter-widgets/base",
            "_model_module_version": "1.5.0",
            "_view_count": null,
            "_view_module_version": "1.2.0",
            "bar_color": null,
            "_model_module": "@jupyter-widgets/controls"
          }
        },
        "a80ada28e53a4073915e050973ad6fc0": {
          "model_module": "@jupyter-widgets/base",
          "model_name": "LayoutModel",
          "state": {
            "_view_name": "LayoutView",
            "grid_template_rows": null,
            "right": null,
            "justify_content": null,
            "_view_module": "@jupyter-widgets/base",
            "overflow": null,
            "_model_module_version": "1.2.0",
            "_view_count": null,
            "flex_flow": null,
            "width": null,
            "min_width": null,
            "border": null,
            "align_items": null,
            "bottom": null,
            "_model_module": "@jupyter-widgets/base",
            "top": null,
            "grid_column": null,
            "overflow_y": null,
            "overflow_x": null,
            "grid_auto_flow": null,
            "grid_area": null,
            "grid_template_columns": null,
            "flex": null,
            "_model_name": "LayoutModel",
            "justify_items": null,
            "grid_row": null,
            "max_height": null,
            "align_content": null,
            "visibility": null,
            "align_self": null,
            "height": null,
            "min_height": null,
            "padding": null,
            "grid_auto_rows": null,
            "grid_gap": null,
            "max_width": null,
            "order": null,
            "_view_module_version": "1.2.0",
            "grid_template_areas": null,
            "object_position": null,
            "object_fit": null,
            "grid_auto_columns": null,
            "margin": null,
            "display": null,
            "left": null
          }
        },
        "8bacc03abf6049adbf988f002438f161": {
          "model_module": "@jupyter-widgets/controls",
          "model_name": "DescriptionStyleModel",
          "state": {
            "_view_name": "StyleView",
            "_model_name": "DescriptionStyleModel",
            "description_width": "",
            "_view_module": "@jupyter-widgets/base",
            "_model_module_version": "1.5.0",
            "_view_count": null,
            "_view_module_version": "1.2.0",
            "_model_module": "@jupyter-widgets/controls"
          }
        },
        "29a695871cef4cc8b2498117db2d2be2": {
          "model_module": "@jupyter-widgets/base",
          "model_name": "LayoutModel",
          "state": {
            "_view_name": "LayoutView",
            "grid_template_rows": null,
            "right": null,
            "justify_content": null,
            "_view_module": "@jupyter-widgets/base",
            "overflow": null,
            "_model_module_version": "1.2.0",
            "_view_count": null,
            "flex_flow": null,
            "width": null,
            "min_width": null,
            "border": null,
            "align_items": null,
            "bottom": null,
            "_model_module": "@jupyter-widgets/base",
            "top": null,
            "grid_column": null,
            "overflow_y": null,
            "overflow_x": null,
            "grid_auto_flow": null,
            "grid_area": null,
            "grid_template_columns": null,
            "flex": null,
            "_model_name": "LayoutModel",
            "justify_items": null,
            "grid_row": null,
            "max_height": null,
            "align_content": null,
            "visibility": null,
            "align_self": null,
            "height": null,
            "min_height": null,
            "padding": null,
            "grid_auto_rows": null,
            "grid_gap": null,
            "max_width": null,
            "order": null,
            "_view_module_version": "1.2.0",
            "grid_template_areas": null,
            "object_position": null,
            "object_fit": null,
            "grid_auto_columns": null,
            "margin": null,
            "display": null,
            "left": null
          }
        },
        "d9607629b54c4c3d89d9d9b3d8ec135b": {
          "model_module": "@jupyter-widgets/controls",
          "model_name": "HBoxModel",
          "state": {
            "_view_name": "HBoxView",
            "_dom_classes": [],
            "_model_name": "HBoxModel",
            "_view_module": "@jupyter-widgets/controls",
            "_model_module_version": "1.5.0",
            "_view_count": null,
            "_view_module_version": "1.5.0",
            "box_style": "",
            "layout": "IPY_MODEL_d16c04c61d9a49ea9961d8cb36fc0f1f",
            "_model_module": "@jupyter-widgets/controls",
            "children": [
              "IPY_MODEL_f56b920addba4efbace06ba252804497",
              "IPY_MODEL_2e7375bab8134386a392986f885e76cd"
            ]
          }
        },
        "d16c04c61d9a49ea9961d8cb36fc0f1f": {
          "model_module": "@jupyter-widgets/base",
          "model_name": "LayoutModel",
          "state": {
            "_view_name": "LayoutView",
            "grid_template_rows": null,
            "right": null,
            "justify_content": null,
            "_view_module": "@jupyter-widgets/base",
            "overflow": null,
            "_model_module_version": "1.2.0",
            "_view_count": null,
            "flex_flow": null,
            "width": null,
            "min_width": null,
            "border": null,
            "align_items": null,
            "bottom": null,
            "_model_module": "@jupyter-widgets/base",
            "top": null,
            "grid_column": null,
            "overflow_y": null,
            "overflow_x": null,
            "grid_auto_flow": null,
            "grid_area": null,
            "grid_template_columns": null,
            "flex": null,
            "_model_name": "LayoutModel",
            "justify_items": null,
            "grid_row": null,
            "max_height": null,
            "align_content": null,
            "visibility": null,
            "align_self": null,
            "height": null,
            "min_height": null,
            "padding": null,
            "grid_auto_rows": null,
            "grid_gap": null,
            "max_width": null,
            "order": null,
            "_view_module_version": "1.2.0",
            "grid_template_areas": null,
            "object_position": null,
            "object_fit": null,
            "grid_auto_columns": null,
            "margin": null,
            "display": null,
            "left": null
          }
        },
        "f56b920addba4efbace06ba252804497": {
          "model_module": "@jupyter-widgets/controls",
          "model_name": "FloatProgressModel",
          "state": {
            "_view_name": "ProgressView",
            "style": "IPY_MODEL_a325b4f78ab84a94905fa028647e765b",
            "_dom_classes": [],
            "description": "Downloading: 100%",
            "_model_name": "FloatProgressModel",
            "bar_style": "success",
            "max": 438869143,
            "_view_module": "@jupyter-widgets/controls",
            "_model_module_version": "1.5.0",
            "value": 438869143,
            "_view_count": null,
            "_view_module_version": "1.5.0",
            "orientation": "horizontal",
            "min": 0,
            "description_tooltip": null,
            "_model_module": "@jupyter-widgets/controls",
            "layout": "IPY_MODEL_a84072be8e2c41e1bbbb79dc0d961cad"
          }
        },
        "2e7375bab8134386a392986f885e76cd": {
          "model_module": "@jupyter-widgets/controls",
          "model_name": "HTMLModel",
          "state": {
            "_view_name": "HTMLView",
            "style": "IPY_MODEL_9a640576f17a40cb87638f8a64a3469d",
            "_dom_classes": [],
            "description": "",
            "_model_name": "HTMLModel",
            "placeholder": "​",
            "_view_module": "@jupyter-widgets/controls",
            "_model_module_version": "1.5.0",
            "value": " 439M/439M [00:40&lt;00:00, 10.7MB/s]",
            "_view_count": null,
            "_view_module_version": "1.5.0",
            "description_tooltip": null,
            "_model_module": "@jupyter-widgets/controls",
            "layout": "IPY_MODEL_b805049046b64e87b67ba3ffd3757a10"
          }
        },
        "a325b4f78ab84a94905fa028647e765b": {
          "model_module": "@jupyter-widgets/controls",
          "model_name": "ProgressStyleModel",
          "state": {
            "_view_name": "StyleView",
            "_model_name": "ProgressStyleModel",
            "description_width": "initial",
            "_view_module": "@jupyter-widgets/base",
            "_model_module_version": "1.5.0",
            "_view_count": null,
            "_view_module_version": "1.2.0",
            "bar_color": null,
            "_model_module": "@jupyter-widgets/controls"
          }
        },
        "a84072be8e2c41e1bbbb79dc0d961cad": {
          "model_module": "@jupyter-widgets/base",
          "model_name": "LayoutModel",
          "state": {
            "_view_name": "LayoutView",
            "grid_template_rows": null,
            "right": null,
            "justify_content": null,
            "_view_module": "@jupyter-widgets/base",
            "overflow": null,
            "_model_module_version": "1.2.0",
            "_view_count": null,
            "flex_flow": null,
            "width": null,
            "min_width": null,
            "border": null,
            "align_items": null,
            "bottom": null,
            "_model_module": "@jupyter-widgets/base",
            "top": null,
            "grid_column": null,
            "overflow_y": null,
            "overflow_x": null,
            "grid_auto_flow": null,
            "grid_area": null,
            "grid_template_columns": null,
            "flex": null,
            "_model_name": "LayoutModel",
            "justify_items": null,
            "grid_row": null,
            "max_height": null,
            "align_content": null,
            "visibility": null,
            "align_self": null,
            "height": null,
            "min_height": null,
            "padding": null,
            "grid_auto_rows": null,
            "grid_gap": null,
            "max_width": null,
            "order": null,
            "_view_module_version": "1.2.0",
            "grid_template_areas": null,
            "object_position": null,
            "object_fit": null,
            "grid_auto_columns": null,
            "margin": null,
            "display": null,
            "left": null
          }
        },
        "9a640576f17a40cb87638f8a64a3469d": {
          "model_module": "@jupyter-widgets/controls",
          "model_name": "DescriptionStyleModel",
          "state": {
            "_view_name": "StyleView",
            "_model_name": "DescriptionStyleModel",
            "description_width": "",
            "_view_module": "@jupyter-widgets/base",
            "_model_module_version": "1.5.0",
            "_view_count": null,
            "_view_module_version": "1.2.0",
            "_model_module": "@jupyter-widgets/controls"
          }
        },
        "b805049046b64e87b67ba3ffd3757a10": {
          "model_module": "@jupyter-widgets/base",
          "model_name": "LayoutModel",
          "state": {
            "_view_name": "LayoutView",
            "grid_template_rows": null,
            "right": null,
            "justify_content": null,
            "_view_module": "@jupyter-widgets/base",
            "overflow": null,
            "_model_module_version": "1.2.0",
            "_view_count": null,
            "flex_flow": null,
            "width": null,
            "min_width": null,
            "border": null,
            "align_items": null,
            "bottom": null,
            "_model_module": "@jupyter-widgets/base",
            "top": null,
            "grid_column": null,
            "overflow_y": null,
            "overflow_x": null,
            "grid_auto_flow": null,
            "grid_area": null,
            "grid_template_columns": null,
            "flex": null,
            "_model_name": "LayoutModel",
            "justify_items": null,
            "grid_row": null,
            "max_height": null,
            "align_content": null,
            "visibility": null,
            "align_self": null,
            "height": null,
            "min_height": null,
            "padding": null,
            "grid_auto_rows": null,
            "grid_gap": null,
            "max_width": null,
            "order": null,
            "_view_module_version": "1.2.0",
            "grid_template_areas": null,
            "object_position": null,
            "object_fit": null,
            "grid_auto_columns": null,
            "margin": null,
            "display": null,
            "left": null
          }
        }
      }
    }
  },
  "cells": [
    {
      "cell_type": "code",
      "metadata": {
        "id": "buGForeqvABf"
      },
      "source": [
        "!pip install transformers\n",
        "!pip install seqeval"
      ],
      "execution_count": null,
      "outputs": []
    },
    {
      "cell_type": "code",
      "metadata": {
        "id": "g81Ua_Ywu3gV"
      },
      "source": [
        "import pandas as pd\n",
        "from collections import defaultdict, Counter\n",
        "import os\n",
        "from itertools import chain\n",
        "import sklearn.preprocessing as skp\n",
        "import time\n",
        "import matplotlib.pyplot as plt\n",
        "import numpy as np\n",
        "import seaborn as sns\n",
        "###importnat###\n",
        "import torch\n",
        "from torch.utils.data import TensorDataset, DataLoader, RandomSampler, SequentialSampler\n",
        "from transformers import BertTokenizer, BertConfig\n",
        "\n",
        "from keras.preprocessing.sequence import pad_sequences\n",
        "from sklearn.model_selection import train_test_split\n",
        "from tqdm import tqdm, trange\n",
        "\n",
        "import transformers\n",
        "from transformers import BertForTokenClassification, AdamW\n",
        "from transformers import get_linear_schedule_with_warmup\n",
        "\n",
        "#from seqeval.metrics import f1_score, accuracy_score, classification_report\n",
        "from sklearn.metrics import classification_report"
      ],
      "execution_count": 2,
      "outputs": []
    },
    {
      "cell_type": "code",
      "metadata": {
        "id": "hF1V7ws_7F5h"
      },
      "source": [
        "def from_file(file_path: str):\n",
        "    \"\"\"\n",
        "    Read data from a conll encoded text file and represent it as pandas DF with two columns: (for the\n",
        "    input sequences and for the labels)\n",
        "    :param file_path: str: the path to the file\n",
        "    :return: pd.DataFrame\n",
        "    \"\"\"\n",
        "    dataset_predictors = defaultdict(list)\n",
        "    dataset_labels = defaultdict(list)\n",
        "    sentence_count = 0\n",
        "    with open(file_path,'r') as f:\n",
        "        for line in f:\n",
        "            if line=='\\n':\n",
        "                sentence_count+=1\n",
        "                continue\n",
        "            predictor, label = line.split(' ')\n",
        "            dataset_predictors[sentence_count].append(predictor.strip())\n",
        "            dataset_labels[sentence_count].append(label.strip())\n",
        "    df = pd.DataFrame([dataset_predictors, dataset_labels]).T\n",
        "    df.dropna(inplace=True)\n",
        "    df.columns = ['predictors', 'labels']\n",
        "    return df\n",
        "\n",
        "\n",
        "def from_dir(data_path):\n",
        "    \"\"\"\n",
        "    Wrapper around the from file function to process multiple conll files in a directory. Additional\n",
        "    column is added: the file column holding the name of the file. Could be used for stratified split.\n",
        "    :param data_path: str: path to the directory\n",
        "    :return: pd.DataFrame\n",
        "    \"\"\"\n",
        "    global_dataset = []\n",
        "    for file in os.listdir(data_path):\n",
        "        if not file.endswith('.conll'):\n",
        "            continue\n",
        "        file_path = os.path.join(data_path, file)\n",
        "        df = from_file(file_path)\n",
        "        df['file'] = file.split('.')[0]\n",
        "        global_dataset.append(df)\n",
        "\n",
        "    return pd.concat(global_dataset).dropna()"
      ],
      "execution_count": 3,
      "outputs": []
    },
    {
      "cell_type": "code",
      "metadata": {
        "colab": {
          "base_uri": "https://localhost:8080/"
        },
        "id": "zAsRToNqwGCR",
        "outputId": "39a60644-a07d-4dac-bb58-90680ca5597e"
      },
      "source": [
        "%%time\n",
        "dataset = from_dir('data')"
      ],
      "execution_count": 4,
      "outputs": [
        {
          "output_type": "stream",
          "text": [
            "CPU times: user 5.28 s, sys: 98.3 ms, total: 5.38 s\n",
            "Wall time: 5.4 s\n"
          ],
          "name": "stdout"
        }
      ]
    },
    {
      "cell_type": "code",
      "metadata": {
        "colab": {
          "base_uri": "https://localhost:8080/",
          "height": 107
        },
        "id": "we93gqgiwOnM",
        "outputId": "5173cac1-7d4a-4ead-8659-fed520c9e82a"
      },
      "source": [
        "dataset.sample(2)"
      ],
      "execution_count": 61,
      "outputs": [
        {
          "output_type": "execute_result",
          "data": {
            "text/html": [
              "<div>\n",
              "<style scoped>\n",
              "    .dataframe tbody tr th:only-of-type {\n",
              "        vertical-align: middle;\n",
              "    }\n",
              "\n",
              "    .dataframe tbody tr th {\n",
              "        vertical-align: top;\n",
              "    }\n",
              "\n",
              "    .dataframe thead th {\n",
              "        text-align: right;\n",
              "    }\n",
              "</style>\n",
              "<table border=\"1\" class=\"dataframe\">\n",
              "  <thead>\n",
              "    <tr style=\"text-align: right;\">\n",
              "      <th></th>\n",
              "      <th>predictors</th>\n",
              "      <th>labels</th>\n",
              "      <th>file</th>\n",
              "    </tr>\n",
              "  </thead>\n",
              "  <tbody>\n",
              "    <tr>\n",
              "      <th>6066</th>\n",
              "      <td>[Komplementärin, der, KG, ohne, Kapitalbeteili...</td>\n",
              "      <td>[O, O, O, O, O, O, O, O, O, O, O, O, B-UN, I-U...</td>\n",
              "      <td>bfh</td>\n",
              "    </tr>\n",
              "    <tr>\n",
              "      <th>4590</th>\n",
              "      <td>[Daher, stellt, nicht, jede, Verletzung, der, ...</td>\n",
              "      <td>[O, O, O, O, O, O, O, O, O, O, O, O, B-GS, I-G...</td>\n",
              "      <td>bverfg</td>\n",
              "    </tr>\n",
              "  </tbody>\n",
              "</table>\n",
              "</div>"
            ],
            "text/plain": [
              "                                             predictors  ...    file\n",
              "6066  [Komplementärin, der, KG, ohne, Kapitalbeteili...  ...     bfh\n",
              "4590  [Daher, stellt, nicht, jede, Verletzung, der, ...  ...  bverfg\n",
              "\n",
              "[2 rows x 3 columns]"
            ]
          },
          "metadata": {
            "tags": []
          },
          "execution_count": 61
        }
      ]
    },
    {
      "cell_type": "code",
      "metadata": {
        "colab": {
          "base_uri": "https://localhost:8080/"
        },
        "id": "wDPxGG6YwWxj",
        "outputId": "1e7767ee-36ba-4a69-f224-99d22d00e3b9"
      },
      "source": [
        "tag = []\n",
        "for i in dataset['labels']:\n",
        "  for j in i:\n",
        "    tag.append(j)\n",
        "# Create a dictionary containing the tags and the corresponding index\n",
        "tags2vals = list(set(tag))\n",
        "print(tags2vals)\n",
        "tag2idx = {t: i for i, t in enumerate(tags2vals)}\n",
        "print(tag2idx)"
      ],
      "execution_count": 49,
      "outputs": [
        {
          "output_type": "stream",
          "text": [
            "['B-ORG', 'B-LDS', 'I-RR', 'B-PER', 'I-LIT', 'I-AN', 'I-UN', 'I-EUN', 'I-INN', 'B-VT', 'I-LD', 'I-GRT', 'B-RR', 'I-VS', 'B-STR', 'B-INN', 'B-VO', 'I-GS', 'B-LIT', 'I-STR', 'B-LD', 'B-MRK', 'I-LDS', 'I-VT', 'I-PER', 'B-GRT', 'B-RS', 'B-GS', 'I-MRK', 'I-ST', 'O', 'B-AN', 'B-ST', 'B-UN', 'I-VO', 'I-RS', 'B-EUN', 'I-ORG', 'B-VS']\n",
            "{'B-ORG': 0, 'B-LDS': 1, 'I-RR': 2, 'B-PER': 3, 'I-LIT': 4, 'I-AN': 5, 'I-UN': 6, 'I-EUN': 7, 'I-INN': 8, 'B-VT': 9, 'I-LD': 10, 'I-GRT': 11, 'B-RR': 12, 'I-VS': 13, 'B-STR': 14, 'B-INN': 15, 'B-VO': 16, 'I-GS': 17, 'B-LIT': 18, 'I-STR': 19, 'B-LD': 20, 'B-MRK': 21, 'I-LDS': 22, 'I-VT': 23, 'I-PER': 24, 'B-GRT': 25, 'B-RS': 26, 'B-GS': 27, 'I-MRK': 28, 'I-ST': 29, 'O': 30, 'B-AN': 31, 'B-ST': 32, 'B-UN': 33, 'I-VO': 34, 'I-RS': 35, 'B-EUN': 36, 'I-ORG': 37, 'B-VS': 38}\n"
          ],
          "name": "stdout"
        }
      ]
    },
    {
      "cell_type": "code",
      "metadata": {
        "id": "o5BvwLClwbAd"
      },
      "source": [
        "# sequence length: 100 tokens\n",
        "MAX_LEN = 100\n",
        "# batch size: 32\n",
        "bs = 32"
      ],
      "execution_count": 6,
      "outputs": []
    },
    {
      "cell_type": "code",
      "metadata": {
        "id": "XyWKjgPZwfMP"
      },
      "source": [
        "device = torch.device(\"cuda\" if torch.cuda.is_available() else \"cpu\")\n",
        "n_gpu = torch.cuda.device_count()"
      ],
      "execution_count": 7,
      "outputs": []
    },
    {
      "cell_type": "code",
      "metadata": {
        "colab": {
          "base_uri": "https://localhost:8080/",
          "height": 35
        },
        "id": "gxQ_gd-pwkB-",
        "outputId": "cc6bb7f9-2304-4a13-d53a-cdbf4234a656"
      },
      "source": [
        "torch.cuda.get_device_name(0)"
      ],
      "execution_count": 8,
      "outputs": [
        {
          "output_type": "execute_result",
          "data": {
            "application/vnd.google.colaboratory.intrinsic+json": {
              "type": "string"
            },
            "text/plain": [
              "'Tesla P100-PCIE-16GB'"
            ]
          },
          "metadata": {
            "tags": []
          },
          "execution_count": 8
        }
      ]
    },
    {
      "cell_type": "code",
      "metadata": {
        "id": "WARi_LEZwnFp",
        "colab": {
          "base_uri": "https://localhost:8080/",
          "height": 66,
          "referenced_widgets": [
            "f9f869d9489d4d7d96653e1197aedb35",
            "91cdcebdb0504a4e9178fd25130ac72e",
            "67eb6cde1067470b860a4b50fd8fa0dc",
            "4ffaad7f1ed849deb128f1293d1b2c31",
            "5b8603cb54d9409da302071088aca008",
            "264a4bec0ae14a64b8a7fbfffcd8815d",
            "2537c3f8a48f4037a59075d9faf1bf1c",
            "8496775859c9435788b1113f1ca60fdd"
          ]
        },
        "outputId": "e1f2ea9b-c837-4d4e-eee2-57f8049a6980"
      },
      "source": [
        "#define a tokenizer with pretrained modell 'bert-base-cased' \n",
        "tokenizer = BertTokenizer.from_pretrained('bert-base-german-cased', do_lower_case=False)"
      ],
      "execution_count": 9,
      "outputs": [
        {
          "output_type": "display_data",
          "data": {
            "application/vnd.jupyter.widget-view+json": {
              "model_id": "f9f869d9489d4d7d96653e1197aedb35",
              "version_minor": 0,
              "version_major": 2
            },
            "text/plain": [
              "HBox(children=(FloatProgress(value=0.0, description='Downloading', max=254728.0, style=ProgressStyle(descripti…"
            ]
          },
          "metadata": {
            "tags": []
          }
        },
        {
          "output_type": "stream",
          "text": [
            "\n"
          ],
          "name": "stdout"
        }
      ]
    },
    {
      "cell_type": "code",
      "metadata": {
        "id": "gY_jbzO-xHGA"
      },
      "source": [
        "# Build a function, that tokenize all sentences in tokens and all tokens in subword tokens\n",
        "def bert_tokenizer(sentence, labels):\n",
        "  tokenizer_final = []\n",
        "  labels_final = []\n",
        "\n",
        "  for token, label in zip(sentence, labels):\n",
        "    # Use bert tokeniser\n",
        "    sub_token = tokenizer.tokenize(token)\n",
        "    subtoken_len = len(sub_token)\n",
        "    tokenizer_final.extend(sub_token)\n",
        "    labels_final.extend([label] * subtoken_len)\n",
        "\n",
        "  return tokenizer_final, labels_final"
      ],
      "execution_count": 10,
      "outputs": []
    },
    {
      "cell_type": "code",
      "metadata": {
        "id": "EGZfKbecxNSM"
      },
      "source": [
        "tokenizerbert = [bert_tokenizer(sent, label) for sent, label in zip(dataset['predictors'], dataset['labels'])]"
      ],
      "execution_count": 11,
      "outputs": []
    },
    {
      "cell_type": "code",
      "metadata": {
        "id": "LLaswV0NxQ6c"
      },
      "source": [
        "tokenized_texts = [token_label[0] for token_label in tokenizerbert]\n",
        "labels = [token_label[1] for token_label in tokenizerbert]"
      ],
      "execution_count": 12,
      "outputs": []
    },
    {
      "cell_type": "code",
      "metadata": {
        "colab": {
          "base_uri": "https://localhost:8080/"
        },
        "id": "yaHcauvAxsmO",
        "outputId": "0089acbd-a870-452f-9805-5f66b6b1b179"
      },
      "source": [
        "print(tokenized_texts[10])\n",
        "print(labels[10])"
      ],
      "execution_count": 14,
      "outputs": [
        {
          "output_type": "stream",
          "text": [
            "['Die', 'Marken', '##stelle', 'für', 'Klasse', '5', 'des', 'Deutschen', 'Patent', '-', 'und', 'Marken', '##amts', 'hat', 'mit', 'den', 'Beschlüsse', '##n', 'vom', '20', '.', 'Januar', '2015', 'und', 'vom', '2', '.', 'März', '2016', ',', 'von', 'denen', 'Letztere', '##r', 'im', 'Erinnerungs', '##verfahren', 'ergangen', 'ist', ',', 'die', 'Gefahr', 'der', 'Verw', '##echs', '##lung', 'im', 'Sinne', 'des', '§', '9', 'Abs', '.', '1', 'Nr', '.', '2', 'Marken', '##G', 'zwischen', 'den', 'sich', 'gegenüber', '##stehenden', 'Marken', 'bejaht', 'und', 'die', 'Lösch', '##ung', 'der', 'angegriffenen', 'Marke', 'angeordnet', '.']\n",
            "['O', 'B-INN', 'B-INN', 'I-INN', 'I-INN', 'I-INN', 'I-INN', 'I-INN', 'I-INN', 'I-INN', 'I-INN', 'I-INN', 'I-INN', 'O', 'O', 'O', 'O', 'O', 'O', 'O', 'O', 'O', 'O', 'O', 'O', 'O', 'O', 'O', 'O', 'O', 'O', 'O', 'O', 'O', 'O', 'O', 'O', 'O', 'O', 'O', 'O', 'O', 'O', 'O', 'O', 'O', 'O', 'O', 'O', 'B-GS', 'I-GS', 'I-GS', 'I-GS', 'I-GS', 'I-GS', 'I-GS', 'I-GS', 'I-GS', 'I-GS', 'O', 'O', 'O', 'O', 'O', 'O', 'O', 'O', 'O', 'O', 'O', 'O', 'O', 'O', 'O', 'O']\n"
          ],
          "name": "stdout"
        }
      ]
    },
    {
      "cell_type": "code",
      "metadata": {
        "id": "Z1FK7hgfxxHs"
      },
      "source": [
        "# Convert input text to indices\n",
        "predictors2idx = pad_sequences([tokenizer.convert_tokens_to_ids(txt) for txt in tokenized_texts], maxlen=MAX_LEN, dtype=\"long\", value=0.0,\n",
        "                          truncating=\"post\", padding=\"post\")"
      ],
      "execution_count": 13,
      "outputs": []
    },
    {
      "cell_type": "code",
      "metadata": {
        "colab": {
          "base_uri": "https://localhost:8080/"
        },
        "id": "aFyChStXx6TR",
        "outputId": "fa65bc45-9c1f-4e68-d765-9e2cbf4c52c7"
      },
      "source": [
        "print(predictors2idx[10])"
      ],
      "execution_count": 16,
      "outputs": [
        {
          "output_type": "stream",
          "text": [
            "[  125  8443  1947   142  5546   435    91  1700 10895 26935    42  8443\n",
            "  8517   193   114    86 10246 26898   275   148 26914  1201  1496    42\n",
            "   275    99 26914  1228  1712 26918    88  1304 20036 26900   106 24449\n",
            "  2668 16245   127 26918    30  4445    21 17646 15970   593   106  1987\n",
            "    91 26967   763   423 26914    62  1247 26914    99  8443 26930   597\n",
            "    86   144  1653  6094  8443 24299    42    30 25086    27    21 12029\n",
            "  7702  9451 26914     0     0     0     0     0     0     0     0     0\n",
            "     0     0     0     0     0     0     0     0     0     0     0     0\n",
            "     0     0     0     0]\n"
          ],
          "name": "stdout"
        }
      ]
    },
    {
      "cell_type": "code",
      "metadata": {
        "id": "VzZVQd5Mx9Mn"
      },
      "source": [
        "tags = pad_sequences([[tag2idx.get(l) for l in lab] for lab in labels], maxlen=MAX_LEN, value=tag2idx[\"O\"], padding=\"post\",\n",
        "                     dtype=\"long\", truncating=\"post\")"
      ],
      "execution_count": 14,
      "outputs": []
    },
    {
      "cell_type": "code",
      "metadata": {
        "colab": {
          "base_uri": "https://localhost:8080/"
        },
        "id": "MbYswETzx__q",
        "outputId": "9de09136-1c42-4106-defe-9bc3f7c7691e"
      },
      "source": [
        "print(tags[10])"
      ],
      "execution_count": 18,
      "outputs": [
        {
          "output_type": "stream",
          "text": [
            "[37 17 17  5  5  5  5  5  5  5  5  5  5 37 37 37 37 37 37 37 37 37 37 37\n",
            " 37 37 37 37 37 37 37 37 37 37 37 37 37 37 37 37 37 37 37 37 37 37 37 37\n",
            " 37 32 33 33 33 33 33 33 33 33 33 37 37 37 37 37 37 37 37 37 37 37 37 37\n",
            " 37 37 37 37 37 37 37 37 37 37 37 37 37 37 37 37 37 37 37 37 37 37 37 37\n",
            " 37 37 37 37]\n"
          ],
          "name": "stdout"
        }
      ]
    },
    {
      "cell_type": "code",
      "metadata": {
        "id": "gJYcijtIyDe2"
      },
      "source": [
        "# Create an attention mask to ignore the padded elements in the sequences\n",
        "attention_mask = [[float(i != 0.0) for i in ii] for ii in predictors2idx]"
      ],
      "execution_count": 15,
      "outputs": []
    },
    {
      "cell_type": "code",
      "metadata": {
        "colab": {
          "base_uri": "https://localhost:8080/"
        },
        "id": "pz365NfOyHJA",
        "outputId": "746aa5ec-34b9-4eea-a112-31e39d8c2f54"
      },
      "source": [
        "print(attention_mask[1])"
      ],
      "execution_count": 20,
      "outputs": [
        {
          "output_type": "stream",
          "text": [
            "[1.0, 1.0, 1.0, 1.0, 1.0, 1.0, 1.0, 1.0, 1.0, 0.0, 0.0, 0.0, 0.0, 0.0, 0.0, 0.0, 0.0, 0.0, 0.0, 0.0, 0.0, 0.0, 0.0, 0.0, 0.0, 0.0, 0.0, 0.0, 0.0, 0.0, 0.0, 0.0, 0.0, 0.0, 0.0, 0.0, 0.0, 0.0, 0.0, 0.0, 0.0, 0.0, 0.0, 0.0, 0.0, 0.0, 0.0, 0.0, 0.0, 0.0, 0.0, 0.0, 0.0, 0.0, 0.0, 0.0, 0.0, 0.0, 0.0, 0.0, 0.0, 0.0, 0.0, 0.0, 0.0, 0.0, 0.0, 0.0, 0.0, 0.0, 0.0, 0.0, 0.0, 0.0, 0.0, 0.0, 0.0, 0.0, 0.0, 0.0, 0.0, 0.0, 0.0, 0.0, 0.0, 0.0, 0.0, 0.0, 0.0, 0.0, 0.0, 0.0, 0.0, 0.0, 0.0, 0.0, 0.0, 0.0, 0.0, 0.0]\n"
          ],
          "name": "stdout"
        }
      ]
    },
    {
      "cell_type": "code",
      "metadata": {
        "id": "pludhjRMyKYb"
      },
      "source": [
        "# Split the dataset\n",
        "# 20% for validation\n",
        "X_train, X_test, Y_train, Y_test = train_test_split(predictors2idx, tags,random_state=1, test_size=0.2)\n",
        "M_train, M_test, _, _ = train_test_split(attention_mask, predictors2idx,random_state=1, test_size=0.2)"
      ],
      "execution_count": 16,
      "outputs": []
    },
    {
      "cell_type": "code",
      "metadata": {
        "id": "kiTwl6MKy8ac"
      },
      "source": [
        "# Convert the dataset to torch tensors\n",
        "train_feat = torch.tensor(X_train)\n",
        "test_feat = torch.tensor(X_test)\n",
        "train_labels = torch.tensor(Y_train)\n",
        "test_labels = torch.tensor(Y_test)\n",
        "train_mask = torch.tensor(M_train)\n",
        "test_mask = torch.tensor(M_test)"
      ],
      "execution_count": 17,
      "outputs": []
    },
    {
      "cell_type": "code",
      "metadata": {
        "colab": {
          "base_uri": "https://localhost:8080/"
        },
        "id": "rSXpz5KqzQR5",
        "outputId": "0386d5c4-ac58-42bd-f631-d325f98b50e1"
      },
      "source": [
        "print(train_feat.shape)\n",
        "print(test_feat.shape)\n",
        "print(train_labels.shape)\n",
        "print(test_labels.shape)\n",
        "print(train_mask.shape)\n",
        "print(test_mask.shape)"
      ],
      "execution_count": 21,
      "outputs": [
        {
          "output_type": "stream",
          "text": [
            "torch.Size([53378, 100])\n",
            "torch.Size([13345, 100])\n",
            "torch.Size([53378, 100])\n",
            "torch.Size([13345, 100])\n",
            "torch.Size([53378, 100])\n",
            "torch.Size([13345, 100])\n"
          ],
          "name": "stdout"
        }
      ]
    },
    {
      "cell_type": "code",
      "metadata": {
        "id": "C-F2hVRh0CnJ"
      },
      "source": [
        "# Define the dataloaders\n",
        "# Shuffle the data at training time with the RandomSampler\n",
        "train_data = TensorDataset(train_feat, train_mask, train_labels)\n",
        "train_sampler = RandomSampler(train_data)\n",
        "train_dataloader = DataLoader(train_data, sampler=train_sampler, batch_size=bs)\n",
        "\n",
        "# Pass the data at the test time sequentially with the SequentialSampler\n",
        "test_data = TensorDataset(test_feat, test_mask, test_labels)\n",
        "test_sampler = SequentialSampler(test_data)\n",
        "test_dataloader = DataLoader(test_data, sampler=test_sampler, batch_size=bs)"
      ],
      "execution_count": 18,
      "outputs": []
    },
    {
      "cell_type": "code",
      "metadata": {
        "colab": {
          "base_uri": "https://localhost:8080/",
          "height": 225,
          "referenced_widgets": [
            "7ed1fc8444c945978a40cf4881554cc4",
            "80bb07ed69aa424bb23120b274767fd2",
            "e784eafee6884ef3a52cde8d701d8774",
            "6e6d7b8ebbc84284ac83af10194ac677",
            "068e3b639e2b4cb5bca275b180860273",
            "a80ada28e53a4073915e050973ad6fc0",
            "8bacc03abf6049adbf988f002438f161",
            "29a695871cef4cc8b2498117db2d2be2",
            "d9607629b54c4c3d89d9d9b3d8ec135b",
            "d16c04c61d9a49ea9961d8cb36fc0f1f",
            "f56b920addba4efbace06ba252804497",
            "2e7375bab8134386a392986f885e76cd",
            "a325b4f78ab84a94905fa028647e765b",
            "a84072be8e2c41e1bbbb79dc0d961cad",
            "9a640576f17a40cb87638f8a64a3469d",
            "b805049046b64e87b67ba3ffd3757a10"
          ]
        },
        "id": "cJRMh9TE0tSr",
        "outputId": "fefc8597-452f-43e1-febc-2deaed344ab0"
      },
      "source": [
        "# Build the model\n",
        "# Use the BertForTokenClassification that wraps BertModel and adds token-level classifier on top of the BertModel\n",
        "# Load the pretrained 'bert-base-cased' model and provide the number of possible labels\n",
        "model = BertForTokenClassification.from_pretrained(\n",
        "    \"bert-base-german-cased\",\n",
        "    num_labels=len(tag2idx),\n",
        "    output_attentions = False,\n",
        "    output_hidden_states = False\n",
        ")"
      ],
      "execution_count": 19,
      "outputs": [
        {
          "output_type": "display_data",
          "data": {
            "application/vnd.jupyter.widget-view+json": {
              "model_id": "7ed1fc8444c945978a40cf4881554cc4",
              "version_minor": 0,
              "version_major": 2
            },
            "text/plain": [
              "HBox(children=(FloatProgress(value=0.0, description='Downloading', max=433.0, style=ProgressStyle(description_…"
            ]
          },
          "metadata": {
            "tags": []
          }
        },
        {
          "output_type": "stream",
          "text": [
            "\n"
          ],
          "name": "stdout"
        },
        {
          "output_type": "display_data",
          "data": {
            "application/vnd.jupyter.widget-view+json": {
              "model_id": "d9607629b54c4c3d89d9d9b3d8ec135b",
              "version_minor": 0,
              "version_major": 2
            },
            "text/plain": [
              "HBox(children=(FloatProgress(value=0.0, description='Downloading', max=438869143.0, style=ProgressStyle(descri…"
            ]
          },
          "metadata": {
            "tags": []
          }
        },
        {
          "output_type": "stream",
          "text": [
            "\n"
          ],
          "name": "stdout"
        },
        {
          "output_type": "stream",
          "text": [
            "Some weights of the model checkpoint at bert-base-german-cased were not used when initializing BertForTokenClassification: ['cls.predictions.bias', 'cls.predictions.transform.dense.weight', 'cls.predictions.transform.dense.bias', 'cls.predictions.transform.LayerNorm.weight', 'cls.predictions.transform.LayerNorm.bias', 'cls.predictions.decoder.weight', 'cls.seq_relationship.weight', 'cls.seq_relationship.bias']\n",
            "- This IS expected if you are initializing BertForTokenClassification from the checkpoint of a model trained on another task or with another architecture (e.g. initializing a BertForSequenceClassification model from a BertForPreTraining model).\n",
            "- This IS NOT expected if you are initializing BertForTokenClassification from the checkpoint of a model that you expect to be exactly identical (initializing a BertForSequenceClassification model from a BertForSequenceClassification model).\n",
            "Some weights of BertForTokenClassification were not initialized from the model checkpoint at bert-base-german-cased and are newly initialized: ['classifier.weight', 'classifier.bias']\n",
            "You should probably TRAIN this model on a down-stream task to be able to use it for predictions and inference.\n"
          ],
          "name": "stderr"
        }
      ]
    },
    {
      "cell_type": "code",
      "metadata": {
        "id": "sIX6l0JM6ddq"
      },
      "source": [
        "model.cuda();"
      ],
      "execution_count": 20,
      "outputs": []
    },
    {
      "cell_type": "code",
      "metadata": {
        "id": "vpKfNLqu0w0M"
      },
      "source": [
        "# Define a fine-tuning process with adding some weight_decay as regularization to the main weight matrices\n",
        "FULL_FINETUNING = True\n",
        "if FULL_FINETUNING:\n",
        "    param_optimizer = list(model.named_parameters())\n",
        "    no_decay = ['bias', 'gamma', 'beta']\n",
        "    optimizer_grouped_parameters = [\n",
        "        {'params': [p for n, p in param_optimizer if not any(nd in n for nd in no_decay)],\n",
        "         'weight_decay_rate': 0.01},\n",
        "        {'params': [p for n, p in param_optimizer if any(nd in n for nd in no_decay)],\n",
        "         'weight_decay_rate': 0.0}\n",
        "    ]\n",
        "else:\n",
        "    param_optimizer = list(model.classifier.named_parameters())\n",
        "    optimizer_grouped_parameters = [{\"params\": [p for n, p in param_optimizer]}]\n",
        "    \n",
        "# Define an AdamW optimizer\n",
        "optimizer = AdamW(\n",
        "    optimizer_grouped_parameters,\n",
        "    lr=3e-5,\n",
        "    eps=1e-8\n",
        ")"
      ],
      "execution_count": 21,
      "outputs": []
    },
    {
      "cell_type": "code",
      "metadata": {
        "id": "NzsGMamb06yF"
      },
      "source": [
        "epochs = 3\n",
        "max_grad_norm = 1.0\n",
        "\n",
        "# Total number of training steps\n",
        "total_steps = len(train_dataloader) * epochs\n",
        "# Define a scheduler to linearly reduce the learning rate throughout the epochs\n",
        "scheduler = get_linear_schedule_with_warmup(optimizer,num_warmup_steps=0,num_training_steps=total_steps)"
      ],
      "execution_count": 22,
      "outputs": []
    },
    {
      "cell_type": "code",
      "metadata": {
        "id": "d5YK4BlSmQaT"
      },
      "source": [
        "def list_shape(input):\n",
        "    \n",
        "    shape = []\n",
        "    a = len(input)\n",
        "    shape.append(a)\n",
        "    b = input[0]\n",
        "\n",
        "    while a > 0:\n",
        "        try:\n",
        "\n",
        "            a = len(b)\n",
        "            shape.append(a)\n",
        "            b = b[0]\n",
        "\n",
        "        except:\n",
        "            break\n",
        "        \n",
        "    return shape"
      ],
      "execution_count": 41,
      "outputs": []
    },
    {
      "cell_type": "code",
      "metadata": {
        "colab": {
          "base_uri": "https://localhost:8080/"
        },
        "id": "GIs8-ridAF8E",
        "outputId": "c24dcb89-7cf0-47fd-dfc4-97e8ca8b4c9e"
      },
      "source": [
        "loss_values, validation_loss_values = [], []\n",
        "validation_accuracy = []\n",
        "classification_report_eval = []\n",
        "\n",
        "for _ in trange(epochs, desc=\"Epoch\"):\n",
        "  # ========================================\n",
        "  #               Training\n",
        "  # ========================================   \n",
        "  \n",
        "  model.train()\n",
        "  total_loss = 0\n",
        "\n",
        "  for step, batch in enumerate(train_dataloader):\n",
        "    batch = tuple(t.to(device) for t in batch)\n",
        "    b_input_ids, b_input_mask, b_labels = batch\n",
        "    model.zero_grad()\n",
        "    outputs = model(b_input_ids, token_type_ids=None, attention_mask=b_input_mask, labels=b_labels)\n",
        "    loss = outputs[0]\n",
        "    loss.backward()\n",
        "    total_loss += loss.item()\n",
        "    torch.nn.utils.clip_grad_norm_(parameters=model.parameters(), max_norm=max_grad_norm)\n",
        "    optimizer.step()\n",
        "    scheduler.step()\n",
        "\n",
        "  avg_train_loss = total_loss / len(train_dataloader)\n",
        "  print(\"Average train loss: {}\".format(avg_train_loss))\n",
        "  loss_values.append(avg_train_loss)\n",
        "  \n",
        "  # ========================================\n",
        "  #               Validation\n",
        "  # ========================================\n",
        "  model.eval()\n",
        "  predictions = []\n",
        "  true_labels = []\n",
        "  eval_loss, eval_accuracy = 0, 0\n",
        "  nb_eval_steps, nb_eval_examples = 0, 0\n",
        "  for batch in test_dataloader:\n",
        "    batch = tuple(t.to(device) for t in batch)\n",
        "    b_input_ids, b_input_mask, b_labels = batch\n",
        "\n",
        "    with torch.no_grad():\n",
        "      outputs = model(b_input_ids, token_type_ids=None, attention_mask=b_input_mask, labels=b_labels)\n",
        "      logits = model(b_input_ids, token_type_ids=None, attention_mask=b_input_mask)\n",
        "        \n",
        "    logits = outputs[1].detach().cpu().numpy()\n",
        "    predictions.extend([list(p) for p in np.argmax(logits, axis=2)])\n",
        "    label_ids = b_labels.to('cpu').numpy()\n",
        "    true_labels.append(label_ids)\n",
        "    eval_loss += outputs[0].mean().item()\n",
        "    nb_eval_steps += 1  \n",
        "  \n",
        "  p = []\n",
        "  for p_i in predictions:\n",
        "    for p_ii in p_i:\n",
        "      p.append(p_ii) \n",
        "  k = [tr_i for t in true_labels for tr_i in t]\n",
        "  true = []\n",
        "  for i in k:\n",
        "    for ii in i:\n",
        "      true.append(ii) \n",
        "  eval_loss_final = eval_loss/nb_eval_steps\n",
        "  print(\"Validation loss: {}\".format(eval_loss_final))\n",
        "  validation_loss_values.append(eval_loss_final)\n",
        "  class_report = classification_report(true,p,target_names=tags2vals)\n",
        "  print(\"\\nClassification-Report:\\n\", class_report)\n",
        "  classification_report_eval.append(class_report)\n",
        "  print()"
      ],
      "execution_count": 62,
      "outputs": [
        {
          "output_type": "stream",
          "text": [
            "\n",
            "\n",
            "\n",
            "\n",
            "\n",
            "\n",
            "\n",
            "\n",
            "\n",
            "\n",
            "\n",
            "\n",
            "\n",
            "\n",
            "\n",
            "\n",
            "\n",
            "Epoch:   0%|          | 0/3 [00:00<?, ?it/s]\u001b[A\u001b[A\u001b[A\u001b[A\u001b[A\u001b[A\u001b[A\u001b[A\u001b[A\u001b[A\u001b[A\u001b[A\u001b[A\u001b[A\u001b[A\u001b[A\u001b[A"
          ],
          "name": "stderr"
        },
        {
          "output_type": "stream",
          "text": [
            "Average train loss: 0.032616286307018516\n",
            "Validation loss: 0.02564521881820263\n"
          ],
          "name": "stdout"
        },
        {
          "output_type": "stream",
          "text": [
            "/usr/local/lib/python3.7/dist-packages/sklearn/metrics/_classification.py:1272: UndefinedMetricWarning: Precision and F-score are ill-defined and being set to 0.0 in labels with no predicted samples. Use `zero_division` parameter to control this behavior.\n",
            "  _warn_prf(average, modifier, msg_start, len(result))\n",
            "\n",
            "\n",
            "\n",
            "\n",
            "\n",
            "\n",
            "\n",
            "\n",
            "\n",
            "\n",
            "\n",
            "\n",
            "\n",
            "\n",
            "\n",
            "\n",
            "\n",
            "Epoch:  33%|███▎      | 1/3 [10:10<20:20, 610.44s/it]\u001b[A\u001b[A\u001b[A\u001b[A\u001b[A\u001b[A\u001b[A\u001b[A\u001b[A\u001b[A\u001b[A\u001b[A\u001b[A\u001b[A\u001b[A\u001b[A\u001b[A"
          ],
          "name": "stderr"
        },
        {
          "output_type": "stream",
          "text": [
            "\n",
            "Classification-Report:\n",
            "               precision    recall  f1-score   support\n",
            "\n",
            "       B-ORG       0.54      0.75      0.63       472\n",
            "       B-LDS       0.45      0.32      0.37        60\n",
            "        I-RR       0.04      0.72      0.08        43\n",
            "       B-PER       0.35      0.91      0.50       512\n",
            "       I-LIT       0.67      0.97      0.79      6897\n",
            "        I-AN       0.00      0.00      0.00        15\n",
            "        I-UN       0.48      0.95      0.64       370\n",
            "       I-EUN       0.72      0.95      0.82      2829\n",
            "       I-INN       0.52      0.96      0.68      1384\n",
            "        B-VT       0.50      0.94      0.65       988\n",
            "        I-LD       0.86      0.84      0.85        92\n",
            "       I-GRT       0.63      0.92      0.75       738\n",
            "        B-RR       0.03      0.97      0.06       597\n",
            "        I-VS       0.51      0.95      0.67      1158\n",
            "       B-STR       0.49      0.80      0.61        49\n",
            "       B-INN       0.66      0.92      0.77       848\n",
            "        B-VO       0.49      0.93      0.64       282\n",
            "        I-GS       0.65      0.99      0.78     26018\n",
            "       B-LIT       0.73      0.94      0.82      1076\n",
            "       I-STR       0.38      0.83      0.52        35\n",
            "        B-LD       0.70      0.93      0.80       376\n",
            "       B-MRK       0.23      0.75      0.35       138\n",
            "       I-LDS       0.00      0.00      0.00        14\n",
            "        I-VT       0.59      0.94      0.73      3559\n",
            "       I-PER       0.35      0.88      0.50       144\n",
            "       B-GRT       0.70      0.99      0.82       992\n",
            "        B-RS       0.79      0.97      0.87      2702\n",
            "        B-GS       0.43      0.98      0.60      4533\n",
            "       I-MRK       0.43      0.69      0.53       182\n",
            "        I-ST       0.00      0.00      0.00        16\n",
            "           O       1.00      0.94      0.97   1233555\n",
            "        B-AN       0.51      0.53      0.52        55\n",
            "        B-ST       0.30      0.87      0.45       183\n",
            "        B-UN       0.52      0.91      0.66       416\n",
            "        I-VO       0.72      0.86      0.78      1563\n",
            "        I-RS       0.72      0.99      0.83     40205\n",
            "       B-EUN       0.48      0.94      0.64       544\n",
            "       I-ORG       0.54      0.92      0.68       592\n",
            "        B-VS       0.51      0.87      0.64       268\n",
            "\n",
            "    accuracy                           0.95   1334500\n",
            "   macro avg       0.49      0.81      0.59   1334500\n",
            "weighted avg       0.97      0.95      0.96   1334500\n",
            "\n",
            "\n",
            "Average train loss: 0.010839709252318344\n",
            "Validation loss: 0.02164330444530175\n"
          ],
          "name": "stdout"
        },
        {
          "output_type": "stream",
          "text": [
            "\n",
            "\n",
            "\n",
            "\n",
            "\n",
            "\n",
            "\n",
            "\n",
            "\n",
            "\n",
            "\n",
            "\n",
            "\n",
            "\n",
            "\n",
            "\n",
            "\n",
            "Epoch:  67%|██████▋   | 2/3 [20:18<10:09, 609.85s/it]\u001b[A\u001b[A\u001b[A\u001b[A\u001b[A\u001b[A\u001b[A\u001b[A\u001b[A\u001b[A\u001b[A\u001b[A\u001b[A\u001b[A\u001b[A\u001b[A\u001b[A"
          ],
          "name": "stderr"
        },
        {
          "output_type": "stream",
          "text": [
            "\n",
            "Classification-Report:\n",
            "               precision    recall  f1-score   support\n",
            "\n",
            "       B-ORG       0.55      0.78      0.64       472\n",
            "       B-LDS       0.55      0.57      0.56        60\n",
            "        I-RR       0.08      0.98      0.15        43\n",
            "       B-PER       0.41      0.92      0.57       512\n",
            "       I-LIT       0.70      0.96      0.81      6897\n",
            "        I-AN       1.00      0.20      0.33        15\n",
            "        I-UN       0.51      0.96      0.67       370\n",
            "       I-EUN       0.75      0.95      0.84      2829\n",
            "       I-INN       0.53      0.95      0.68      1384\n",
            "        B-VT       0.50      0.96      0.66       988\n",
            "        I-LD       0.89      0.85      0.87        92\n",
            "       I-GRT       0.62      0.96      0.75       738\n",
            "        B-RR       0.03      0.99      0.06       597\n",
            "        I-VS       0.62      0.91      0.74      1158\n",
            "       B-STR       0.58      0.76      0.65        49\n",
            "       B-INN       0.57      0.97      0.72       848\n",
            "        B-VO       0.46      0.96      0.62       282\n",
            "        I-GS       0.71      0.99      0.83     26018\n",
            "       B-LIT       0.73      0.97      0.83      1076\n",
            "       I-STR       0.39      0.83      0.53        35\n",
            "        B-LD       0.66      0.95      0.78       376\n",
            "       B-MRK       0.39      0.77      0.52       138\n",
            "       I-LDS       0.00      0.00      0.00        14\n",
            "        I-VT       0.64      0.95      0.77      3559\n",
            "       I-PER       0.38      0.95      0.54       144\n",
            "       B-GRT       0.71      0.99      0.83       992\n",
            "        B-RS       0.82      0.98      0.89      2702\n",
            "        B-GS       0.46      0.99      0.63      4533\n",
            "       I-MRK       0.53      0.55      0.54       182\n",
            "        I-ST       0.38      0.75      0.50        16\n",
            "           O       1.00      0.95      0.97   1233555\n",
            "        B-AN       0.52      0.51      0.51        55\n",
            "        B-ST       0.43      0.91      0.59       183\n",
            "        B-UN       0.52      0.96      0.67       416\n",
            "        I-VO       0.78      0.95      0.86      1563\n",
            "        I-RS       0.74      0.99      0.85     40205\n",
            "       B-EUN       0.54      0.94      0.69       544\n",
            "       I-ORG       0.59      0.92      0.72       592\n",
            "        B-VS       0.49      0.92      0.64       268\n",
            "\n",
            "    accuracy                           0.95   1334500\n",
            "   macro avg       0.56      0.85      0.64   1334500\n",
            "weighted avg       0.98      0.95      0.96   1334500\n",
            "\n",
            "\n",
            "Average train loss: 0.004632701317300108\n",
            "Validation loss: 0.02288873573514608\n"
          ],
          "name": "stdout"
        },
        {
          "output_type": "stream",
          "text": [
            "\n",
            "\n",
            "\n",
            "\n",
            "\n",
            "\n",
            "\n",
            "\n",
            "\n",
            "\n",
            "\n",
            "\n",
            "\n",
            "\n",
            "\n",
            "\n",
            "\n",
            "Epoch: 100%|██████████| 3/3 [30:26<00:00, 608.83s/it]"
          ],
          "name": "stderr"
        },
        {
          "output_type": "stream",
          "text": [
            "\n",
            "Classification-Report:\n",
            "               precision    recall  f1-score   support\n",
            "\n",
            "       B-ORG       0.55      0.80      0.65       472\n",
            "       B-LDS       0.54      0.70      0.61        60\n",
            "        I-RR       0.09      0.98      0.16        43\n",
            "       B-PER       0.41      0.92      0.57       512\n",
            "       I-LIT       0.70      0.97      0.81      6897\n",
            "        I-AN       0.93      0.87      0.90        15\n",
            "        I-UN       0.53      0.97      0.69       370\n",
            "       I-EUN       0.74      0.96      0.83      2829\n",
            "       I-INN       0.52      0.97      0.68      1384\n",
            "        B-VT       0.48      0.97      0.64       988\n",
            "        I-LD       0.87      0.86      0.86        92\n",
            "       I-GRT       0.62      0.97      0.76       738\n",
            "        B-RR       0.03      0.99      0.06       597\n",
            "        I-VS       0.59      0.93      0.73      1158\n",
            "       B-STR       0.56      0.76      0.64        49\n",
            "       B-INN       0.59      0.96      0.73       848\n",
            "        B-VO       0.47      0.96      0.63       282\n",
            "        I-GS       0.69      0.99      0.81     26018\n",
            "       B-LIT       0.73      0.97      0.83      1076\n",
            "       I-STR       0.43      1.00      0.60        35\n",
            "        B-LD       0.70      0.95      0.80       376\n",
            "       B-MRK       0.26      0.77      0.38       138\n",
            "       I-LDS       1.00      0.07      0.13        14\n",
            "        I-VT       0.63      0.94      0.75      3559\n",
            "       I-PER       0.44      0.94      0.59       144\n",
            "       B-GRT       0.72      0.99      0.83       992\n",
            "        B-RS       0.81      0.98      0.89      2702\n",
            "        B-GS       0.45      0.99      0.62      4533\n",
            "       I-MRK       0.52      0.57      0.54       182\n",
            "        I-ST       0.46      0.75      0.57        16\n",
            "           O       1.00      0.95      0.97   1233555\n",
            "        B-AN       0.65      0.58      0.62        55\n",
            "        B-ST       0.45      0.92      0.60       183\n",
            "        B-UN       0.53      0.96      0.69       416\n",
            "        I-VO       0.76      0.96      0.85      1563\n",
            "        I-RS       0.75      0.99      0.85     40205\n",
            "       B-EUN       0.54      0.96      0.69       544\n",
            "       I-ORG       0.59      0.93      0.72       592\n",
            "        B-VS       0.52      0.93      0.66       268\n",
            "\n",
            "    accuracy                           0.95   1334500\n",
            "   macro avg       0.59      0.89      0.67   1334500\n",
            "weighted avg       0.98      0.95      0.96   1334500\n",
            "\n",
            "\n"
          ],
          "name": "stdout"
        },
        {
          "output_type": "stream",
          "text": [
            "\n"
          ],
          "name": "stderr"
        }
      ]
    },
    {
      "cell_type": "code",
      "metadata": {
        "id": "ejmqKiCcRWHX"
      },
      "source": [
        "def plot_classification_report(cr, title='Classification report ', with_avg_total=True, cmap=plt.cm.RdPu):\n",
        "\n",
        "  lines = cr.split('\\n')\n",
        "  classes = []\n",
        "  plotMat = []\n",
        "  for line in lines[2 : (len(lines)-5)]:\n",
        "    t = line.split()\n",
        "    classes.append(t[0])\n",
        "    v = [float(x) for x in t[1: len(t)-1]]\n",
        "    plotMat.append(v)\n",
        "\n",
        "  if with_avg_total:\n",
        "    for line in lines[len(lines)-3 : len(lines)-1]:\n",
        "      aveTotal = line.split()\n",
        "      classes.append(' '.join(aveTotal[:2]))\n",
        "      vAveTotal = [float(x) for x in aveTotal[2:len(aveTotal) - 1]]\n",
        "      plotMat.append(vAveTotal)\n",
        "\n",
        "  plt.imshow(plotMat, interpolation='nearest', cmap=cmap)\n",
        "  plt.gcf().set_size_inches(10, 10)\n",
        "  plt.title(title)\n",
        "  plt.colorbar()\n",
        "  x_tick_marks = np.arange(3)\n",
        "  y_tick_marks = np.arange(len(classes))\n",
        "  plt.xticks(x_tick_marks, ['precision', 'recall', 'f1-score'], rotation=45)\n",
        "  plt.yticks(y_tick_marks, classes)\n",
        "  plt.tight_layout()\n",
        "  plt.ylabel('Classes')\n",
        "  plt.xlabel('Measures')"
      ],
      "execution_count": 69,
      "outputs": []
    },
    {
      "cell_type": "code",
      "metadata": {
        "colab": {
          "base_uri": "https://localhost:8080/",
          "height": 743
        },
        "id": "KxAvnPAH0ctj",
        "outputId": "6732b599-1f8d-438c-dcd6-67f00436f95d"
      },
      "source": [
        "plot_classification_report(classification_report_eval[2])"
      ],
      "execution_count": 70,
      "outputs": [
        {
          "output_type": "display_data",
          "data": {
            "image/png": "[encoded data removed]",
            "text/plain": [
              "<Figure size 720x720 with 2 Axes>"
            ]
          },
          "metadata": {
            "tags": [],
            "needs_background": "light"
          }
        }
      ]
    },
    {
      "cell_type": "code",
      "metadata": {
        "id": "RK5xFDNYsQyA"
      },
      "source": [
        ""
      ],
      "execution_count": null,
      "outputs": []
    }
  ]
}