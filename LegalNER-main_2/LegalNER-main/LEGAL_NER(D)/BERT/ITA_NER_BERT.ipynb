{
  "nbformat": 4,
  "nbformat_minor": 0,
  "metadata": {
    "colab": {
      "name": "ITA-Project",
      "provenance": []
    },
    "kernelspec": {
      "name": "python3",
      "display_name": "Python 3"
    },
    "accelerator": "GPU"
  },
  "cells": [
    {
      "cell_type": "code",
      "metadata": {
        "id": "buGForeqvABf"
      },
      "source": [
        "!pip install transformers\n",
        "!pip install seqeval"
      ],
      "execution_count": null,
      "outputs": []
    },
    {
      "cell_type": "code",
      "metadata": {
        "id": "g81Ua_Ywu3gV"
      },
      "source": [
        "import pandas as pd\n",
        "from collections import defaultdict, Counter\n",
        "import os\n",
        "from itertools import chain\n",
        "import sklearn.preprocessing as skp\n",
        "import time\n",
        "import matplotlib.pyplot as plt\n",
        "import numpy as np\n",
        "import seaborn as sns\n",
        "###importnat###\n",
        "import torch\n",
        "from torch.utils.data import TensorDataset, DataLoader, RandomSampler, SequentialSampler\n",
        "from transformers import BertTokenizer, BertConfig\n",
        "\n",
        "from keras.preprocessing.sequence import pad_sequences\n",
        "from sklearn.model_selection import train_test_split\n",
        "from tqdm import tqdm, trange\n",
        "\n",
        "import transformers\n",
        "from transformers import BertForTokenClassification, AdamW\n",
        "from transformers import get_linear_schedule_with_warmup\n",
        "\n",
        "from seqeval.metrics import f1_score, accuracy_score, classification_report"
      ],
      "execution_count": 63,
      "outputs": []
    },
    {
      "cell_type": "code",
      "metadata": {
        "colab": {
          "base_uri": "https://localhost:8080/"
        },
        "id": "zAsRToNqwGCR",
        "outputId": "ea6fcfb0-783a-4206-b566-96aeb15e0ab6"
      },
      "source": [
        "%%time\n",
        "dataset = from_dir('data')"
      ],
      "execution_count": 65,
      "outputs": [
        {
          "output_type": "stream",
          "text": [
            "CPU times: user 6.12 s, sys: 116 ms, total: 6.24 s\n",
            "Wall time: 6.24 s\n"
          ],
          "name": "stdout"
        }
      ]
    },
    {
      "cell_type": "code",
      "metadata": {
        "colab": {
          "base_uri": "https://localhost:8080/",
          "height": 107
        },
        "id": "we93gqgiwOnM",
        "outputId": "c6c5efad-a260-4a68-a93c-482a4bcf1d66"
      },
      "source": [
        "dataset.sample(2)"
      ],
      "execution_count": 66,
      "outputs": [
        {
          "output_type": "execute_result",
          "data": {
            "text/html": [
              "<div>\n",
              "<style scoped>\n",
              "    .dataframe tbody tr th:only-of-type {\n",
              "        vertical-align: middle;\n",
              "    }\n",
              "\n",
              "    .dataframe tbody tr th {\n",
              "        vertical-align: top;\n",
              "    }\n",
              "\n",
              "    .dataframe thead th {\n",
              "        text-align: right;\n",
              "    }\n",
              "</style>\n",
              "<table border=\"1\" class=\"dataframe\">\n",
              "  <thead>\n",
              "    <tr style=\"text-align: right;\">\n",
              "      <th></th>\n",
              "      <th>predictors</th>\n",
              "      <th>labels</th>\n",
              "      <th>file</th>\n",
              "    </tr>\n",
              "  </thead>\n",
              "  <tbody>\n",
              "    <tr>\n",
              "      <th>7028</th>\n",
              "      <td>[Fischermeier]</td>\n",
              "      <td>[B-RR]</td>\n",
              "      <td>bag</td>\n",
              "    </tr>\n",
              "    <tr>\n",
              "      <th>5414</th>\n",
              "      <td>[bb, ), Die, gleichheitsrechtlichen, Anforderu...</td>\n",
              "      <td>[O, O, O, O, O, O, O, O, O, O, O, O, O, O, O, ...</td>\n",
              "      <td>bverwg</td>\n",
              "    </tr>\n",
              "  </tbody>\n",
              "</table>\n",
              "</div>"
            ],
            "text/plain": [
              "                                             predictors  ...    file\n",
              "7028                                     [Fischermeier]  ...     bag\n",
              "5414  [bb, ), Die, gleichheitsrechtlichen, Anforderu...  ...  bverwg\n",
              "\n",
              "[2 rows x 3 columns]"
            ]
          },
          "metadata": {
            "tags": []
          },
          "execution_count": 66
        }
      ]
    },
    {
      "cell_type": "code",
      "metadata": {
        "colab": {
          "base_uri": "https://localhost:8080/"
        },
        "id": "wDPxGG6YwWxj",
        "outputId": "3d7499da-f19d-4561-953b-f09eb3cfac23"
      },
      "source": [
        "tag = []\n",
        "for i in dataset['labels']:\n",
        "  for j in i:\n",
        "    tag.append(j)\n",
        "# Create a dictionary containing the tags and the corresponding index\n",
        "tags2vals = list(set(tag))\n",
        "print(tags2vals)\n",
        "tag2idx = {t: i for i, t in enumerate(tags2vals)}\n",
        "print(tag2idx)"
      ],
      "execution_count": 67,
      "outputs": [
        {
          "output_type": "stream",
          "text": [
            "['I-ST', 'B-UN', 'I-UN', 'I-LIT', 'I-VS', 'B-RS', 'B-RR', 'I-EUN', 'B-GS', 'B-GRT', 'I-MRK', 'O', 'B-VT', 'B-ORG', 'I-PER', 'I-LDS', 'I-AN', 'B-VS', 'I-VO', 'B-INN', 'B-AN', 'B-ST', 'B-LD', 'I-LD', 'B-EUN', 'I-ORG', 'B-LDS', 'I-RR', 'I-INN', 'I-GS', 'I-VT', 'B-MRK', 'I-STR', 'B-STR', 'B-VO', 'I-GRT', 'B-LIT', 'I-RS', 'B-PER']\n",
            "{'I-ST': 0, 'B-UN': 1, 'I-UN': 2, 'I-LIT': 3, 'I-VS': 4, 'B-RS': 5, 'B-RR': 6, 'I-EUN': 7, 'B-GS': 8, 'B-GRT': 9, 'I-MRK': 10, 'O': 11, 'B-VT': 12, 'B-ORG': 13, 'I-PER': 14, 'I-LDS': 15, 'I-AN': 16, 'B-VS': 17, 'I-VO': 18, 'B-INN': 19, 'B-AN': 20, 'B-ST': 21, 'B-LD': 22, 'I-LD': 23, 'B-EUN': 24, 'I-ORG': 25, 'B-LDS': 26, 'I-RR': 27, 'I-INN': 28, 'I-GS': 29, 'I-VT': 30, 'B-MRK': 31, 'I-STR': 32, 'B-STR': 33, 'B-VO': 34, 'I-GRT': 35, 'B-LIT': 36, 'I-RS': 37, 'B-PER': 38}\n"
          ],
          "name": "stdout"
        }
      ]
    },
    {
      "cell_type": "code",
      "metadata": {
        "id": "o5BvwLClwbAd"
      },
      "source": [
        "# sequence length: 100 tokens\n",
        "MAX_LEN = 100\n",
        "# batch size: 32\n",
        "bs = 32"
      ],
      "execution_count": 68,
      "outputs": []
    },
    {
      "cell_type": "code",
      "metadata": {
        "id": "XyWKjgPZwfMP"
      },
      "source": [
        "device = torch.device(\"cuda\" if torch.cuda.is_available() else \"cpu\")\n",
        "n_gpu = torch.cuda.device_count()"
      ],
      "execution_count": 69,
      "outputs": []
    },
    {
      "cell_type": "code",
      "metadata": {
        "colab": {
          "base_uri": "https://localhost:8080/",
          "height": 35
        },
        "id": "gxQ_gd-pwkB-",
        "outputId": "183d4162-8ae9-431f-d92a-d5c216b4d1b9"
      },
      "source": [
        "torch.cuda.get_device_name(0)"
      ],
      "execution_count": 70,
      "outputs": [
        {
          "output_type": "execute_result",
          "data": {
            "application/vnd.google.colaboratory.intrinsic+json": {
              "type": "string"
            },
            "text/plain": [
              "'Tesla T4'"
            ]
          },
          "metadata": {
            "tags": []
          },
          "execution_count": 70
        }
      ]
    },
    {
      "cell_type": "code",
      "metadata": {
        "id": "WARi_LEZwnFp"
      },
      "source": [
        "#define a tokenizer with pretrained modell 'bert-base-cased' \n",
        "tokenizer = BertTokenizer.from_pretrained('bert-base-cased', do_lower_case=False)"
      ],
      "execution_count": 71,
      "outputs": []
    },
    {
      "cell_type": "code",
      "metadata": {
        "id": "gY_jbzO-xHGA"
      },
      "source": [
        "# Build a function, that tokenize all sentences in tokens and all tokens in subword tokens\n",
        "def bert_tokenizer(sentence, labels):\n",
        "  tokenizer_final = []\n",
        "  labels_final = []\n",
        "\n",
        "  for token, label in zip(sentence, labels):\n",
        "    # Use bert tokeniser\n",
        "    sub_token = tokenizer.tokenize(token)\n",
        "    subtoken_len = len(sub_token)\n",
        "    tokenizer_final.extend(sub_token)\n",
        "    labels_final.extend([label] * subtoken_len)\n",
        "\n",
        "  return tokenizer_final, labels_final"
      ],
      "execution_count": 72,
      "outputs": []
    },
    {
      "cell_type": "code",
      "metadata": {
        "id": "EGZfKbecxNSM"
      },
      "source": [
        "tokenizerbert = [bert_tokenizer(sent, label) for sent, label in zip(dataset['predictors'], dataset['labels'])]"
      ],
      "execution_count": 73,
      "outputs": []
    },
    {
      "cell_type": "code",
      "metadata": {
        "id": "LLaswV0NxQ6c"
      },
      "source": [
        "tokenized_texts = [token_label[0] for token_label in tokenizerbert]\n",
        "labels = [token_label[1] for token_label in tokenizerbert]"
      ],
      "execution_count": 74,
      "outputs": []
    },
    {
      "cell_type": "code",
      "metadata": {
        "colab": {
          "base_uri": "https://localhost:8080/"
        },
        "id": "yaHcauvAxsmO",
        "outputId": "f389f3e5-d5f0-499e-b702-0956ef358bc5"
      },
      "source": [
        "print(tokenized_texts[10])\n",
        "print(labels[10])"
      ],
      "execution_count": 75,
      "outputs": [
        {
          "output_type": "stream",
          "text": [
            "['2', '.', 'Die', 'En', '##ts', '##che', '##id', '##ung', 'des', 'Land', '##ger', '##ich', '##ts', ',', 'von', 'der', 'Un', '##ter', '##bri', '##ng', '##ung', 'des', 'Ang', '##ek', '##lag', '##ten', 'in', 'e', '##iner', 'En', '##tz', '##ie', '##hun', '##gs', '##ans', '##tal', '##t', 'g', '##em', '##ä', '##ß', '§', '64', 'St', '##GB', 'a', '##b', '##zu', '##se', '##hen', ',', 'beg', '##eg', '##net', 'hi', '##nge', '##gen', 'du', '##rch', '##g', '##re', '##ife', '##nden', 're', '##cht', '##liche', '##n', 'Bed', '##en', '##ken', '.']\n",
            "['O', 'O', 'O', 'O', 'O', 'O', 'O', 'O', 'O', 'O', 'O', 'O', 'O', 'O', 'O', 'O', 'O', 'O', 'O', 'O', 'O', 'O', 'O', 'O', 'O', 'O', 'O', 'O', 'O', 'O', 'O', 'O', 'O', 'O', 'O', 'O', 'O', 'O', 'O', 'O', 'O', 'B-GS', 'I-GS', 'I-GS', 'I-GS', 'O', 'O', 'O', 'O', 'O', 'O', 'O', 'O', 'O', 'O', 'O', 'O', 'O', 'O', 'O', 'O', 'O', 'O', 'O', 'O', 'O', 'O', 'O', 'O', 'O', 'O']\n"
          ],
          "name": "stdout"
        }
      ]
    },
    {
      "cell_type": "code",
      "metadata": {
        "id": "Z1FK7hgfxxHs"
      },
      "source": [
        "# Convert input text to indices\n",
        "predictors2idx = pad_sequences([tokenizer.convert_tokens_to_ids(txt) for txt in tokenized_texts], maxlen=MAX_LEN, dtype=\"long\", value=0.0,\n",
        "                          truncating=\"post\", padding=\"post\")"
      ],
      "execution_count": 76,
      "outputs": []
    },
    {
      "cell_type": "code",
      "metadata": {
        "colab": {
          "base_uri": "https://localhost:8080/"
        },
        "id": "aFyChStXx6TR",
        "outputId": "adedf059-a865-48d9-8c2c-632da49310dd"
      },
      "source": [
        "print(predictors2idx)"
      ],
      "execution_count": 77,
      "outputs": [
        {
          "output_type": "stream",
          "text": [
            "[[  122   119 27758 ...     0     0     0]\n",
            " [  170   114 26410 ...     0     0     0]\n",
            " [  171   114 13280 ... 18075 16205  8336]\n",
            " ...\n",
            " [  142  1116  1110 ...     0     0     0]\n",
            " [  123   119 23922 ...     0     0     0]\n",
            " [27758  1116  1874 ...     0     0     0]]\n"
          ],
          "name": "stdout"
        }
      ]
    },
    {
      "cell_type": "code",
      "metadata": {
        "id": "VzZVQd5Mx9Mn"
      },
      "source": [
        "tags = pad_sequences([[tag2idx.get(l) for l in lab] for lab in labels], maxlen=MAX_LEN, value=tag2idx[\"O\"], padding=\"post\",\n",
        "                     dtype=\"long\", truncating=\"post\")"
      ],
      "execution_count": 78,
      "outputs": []
    },
    {
      "cell_type": "code",
      "metadata": {
        "colab": {
          "base_uri": "https://localhost:8080/"
        },
        "id": "MbYswETzx__q",
        "outputId": "5f679f15-185a-4f9b-9db8-9925e09925c5"
      },
      "source": [
        "print(tags[10])"
      ],
      "execution_count": 79,
      "outputs": [
        {
          "output_type": "stream",
          "text": [
            "[11 11 11 11 11 11 11 11 11 11 11 11 11 11 11 11 11 11 11 11 11 11 11 11\n",
            " 11 11 11 11 11 11 11 11 11 11 11 11 11 11 11 11 11  8 29 29 29 11 11 11\n",
            " 11 11 11 11 11 11 11 11 11 11 11 11 11 11 11 11 11 11 11 11 11 11 11 11\n",
            " 11 11 11 11 11 11 11 11 11 11 11 11 11 11 11 11 11 11 11 11 11 11 11 11\n",
            " 11 11 11 11]\n"
          ],
          "name": "stdout"
        }
      ]
    },
    {
      "cell_type": "code",
      "metadata": {
        "id": "gJYcijtIyDe2"
      },
      "source": [
        "# Create an attention mask to ignore the padded elements in the sequences\n",
        "attention_mask = [[float(i != 0.0) for i in ii] for ii in predictors2idx]"
      ],
      "execution_count": 80,
      "outputs": []
    },
    {
      "cell_type": "code",
      "metadata": {
        "colab": {
          "base_uri": "https://localhost:8080/"
        },
        "id": "pz365NfOyHJA",
        "outputId": "f272d057-488d-4911-e5a7-4b7c6e7475f4"
      },
      "source": [
        "print(attention_mask[1])"
      ],
      "execution_count": 81,
      "outputs": [
        {
          "output_type": "stream",
          "text": [
            "[1.0, 1.0, 1.0, 1.0, 1.0, 1.0, 1.0, 1.0, 1.0, 1.0, 1.0, 1.0, 1.0, 1.0, 1.0, 1.0, 1.0, 1.0, 1.0, 1.0, 1.0, 1.0, 1.0, 1.0, 1.0, 1.0, 1.0, 1.0, 1.0, 1.0, 1.0, 1.0, 1.0, 1.0, 1.0, 1.0, 1.0, 1.0, 1.0, 1.0, 1.0, 1.0, 1.0, 1.0, 1.0, 1.0, 1.0, 1.0, 1.0, 1.0, 1.0, 1.0, 0.0, 0.0, 0.0, 0.0, 0.0, 0.0, 0.0, 0.0, 0.0, 0.0, 0.0, 0.0, 0.0, 0.0, 0.0, 0.0, 0.0, 0.0, 0.0, 0.0, 0.0, 0.0, 0.0, 0.0, 0.0, 0.0, 0.0, 0.0, 0.0, 0.0, 0.0, 0.0, 0.0, 0.0, 0.0, 0.0, 0.0, 0.0, 0.0, 0.0, 0.0, 0.0, 0.0, 0.0, 0.0, 0.0, 0.0, 0.0]\n"
          ],
          "name": "stdout"
        }
      ]
    },
    {
      "cell_type": "code",
      "metadata": {
        "id": "pludhjRMyKYb"
      },
      "source": [
        "# Split the dataset\n",
        "# 20% for validation\n",
        "X_train, X_test, Y_train, Y_test = train_test_split(predictors2idx, tags,random_state=1, test_size=0.2)\n",
        "M_train, M_test, _, _ = train_test_split(attention_mask, predictors2idx,random_state=1, test_size=0.2)"
      ],
      "execution_count": 82,
      "outputs": []
    },
    {
      "cell_type": "code",
      "metadata": {
        "id": "kiTwl6MKy8ac"
      },
      "source": [
        "# Convert the dataset to torch tensors\n",
        "train_feat = torch.tensor(X_train)\n",
        "test_feat = torch.tensor(X_test)\n",
        "train_labels = torch.tensor(Y_train)\n",
        "test_labels = torch.tensor(Y_test)\n",
        "train_mask = torch.tensor(M_train)\n",
        "test_mask = torch.tensor(M_test)"
      ],
      "execution_count": 83,
      "outputs": []
    },
    {
      "cell_type": "code",
      "metadata": {
        "colab": {
          "base_uri": "https://localhost:8080/"
        },
        "id": "rSXpz5KqzQR5",
        "outputId": "dff89c37-f9e8-4693-fcf6-ba6d812c5e0a"
      },
      "source": [
        "print(train_feat.shape)\n",
        "print(test_feat.shape)\n",
        "print(train_labels.shape)\n",
        "print(test_labels.shape)\n",
        "print(train_mask.shape)\n",
        "print(test_mask.shape)"
      ],
      "execution_count": 84,
      "outputs": [
        {
          "output_type": "stream",
          "text": [
            "torch.Size([53378, 100])\n",
            "torch.Size([13345, 100])\n",
            "torch.Size([53378, 100])\n",
            "torch.Size([13345, 100])\n",
            "torch.Size([53378, 100])\n",
            "torch.Size([13345, 100])\n"
          ],
          "name": "stdout"
        }
      ]
    },
    {
      "cell_type": "code",
      "metadata": {
        "id": "C-F2hVRh0CnJ"
      },
      "source": [
        "# Define the dataloaders\n",
        "# Shuffle the data at training time with the RandomSampler\n",
        "train_data = TensorDataset(train_feat, train_mask, train_labels)\n",
        "train_sampler = RandomSampler(train_data)\n",
        "train_dataloader = DataLoader(train_data, sampler=train_sampler, batch_size=bs)\n",
        "\n",
        "# Pass the data at the test time sequentially with the SequentialSampler\n",
        "test_data = TensorDataset(test_feat, test_mask, test_labels)\n",
        "test_sampler = SequentialSampler(test_data)\n",
        "test_dataloader = DataLoader(test_data, sampler=test_sampler, batch_size=bs)"
      ],
      "execution_count": 85,
      "outputs": []
    },
    {
      "cell_type": "code",
      "metadata": {
        "colab": {
          "base_uri": "https://localhost:8080/"
        },
        "id": "cJRMh9TE0tSr",
        "outputId": "6cdbf556-0da5-4449-e93f-f82dfc5e8f1e"
      },
      "source": [
        "# Build the model\n",
        "# Use the BertForTokenClassification that wraps BertModel and adds token-level classifier on top of the BertModel\n",
        "# Load the pretrained 'bert-base-cased' model and provide the number of possible labels\n",
        "model = BertForTokenClassification.from_pretrained(\n",
        "    \"bert-base-cased\",\n",
        "    num_labels=len(tag2idx),\n",
        "    output_attentions = False,\n",
        "    output_hidden_states = False\n",
        ")"
      ],
      "execution_count": 86,
      "outputs": [
        {
          "output_type": "stream",
          "text": [
            "Some weights of the model checkpoint at bert-base-cased were not used when initializing BertForTokenClassification: ['cls.predictions.bias', 'cls.predictions.transform.dense.weight', 'cls.predictions.transform.dense.bias', 'cls.predictions.decoder.weight', 'cls.seq_relationship.weight', 'cls.seq_relationship.bias', 'cls.predictions.transform.LayerNorm.weight', 'cls.predictions.transform.LayerNorm.bias']\n",
            "- This IS expected if you are initializing BertForTokenClassification from the checkpoint of a model trained on another task or with another architecture (e.g. initializing a BertForSequenceClassification model from a BertForPreTraining model).\n",
            "- This IS NOT expected if you are initializing BertForTokenClassification from the checkpoint of a model that you expect to be exactly identical (initializing a BertForSequenceClassification model from a BertForSequenceClassification model).\n",
            "Some weights of BertForTokenClassification were not initialized from the model checkpoint at bert-base-cased and are newly initialized: ['classifier.weight', 'classifier.bias']\n",
            "You should probably TRAIN this model on a down-stream task to be able to use it for predictions and inference.\n"
          ],
          "name": "stderr"
        }
      ]
    },
    {
      "cell_type": "code",
      "metadata": {
        "id": "sIX6l0JM6ddq"
      },
      "source": [
        "model.cuda();"
      ],
      "execution_count": 87,
      "outputs": []
    },
    {
      "cell_type": "code",
      "metadata": {
        "id": "vpKfNLqu0w0M"
      },
      "source": [
        "# Define a fine-tuning process with adding some weight_decay as regularization to the main weight matrices\n",
        "FULL_FINETUNING = True\n",
        "if FULL_FINETUNING:\n",
        "    param_optimizer = list(model.named_parameters())\n",
        "    no_decay = ['bias', 'gamma', 'beta']\n",
        "    optimizer_grouped_parameters = [\n",
        "        {'params': [p for n, p in param_optimizer if not any(nd in n for nd in no_decay)],\n",
        "         'weight_decay_rate': 0.01},\n",
        "        {'params': [p for n, p in param_optimizer if any(nd in n for nd in no_decay)],\n",
        "         'weight_decay_rate': 0.0}\n",
        "    ]\n",
        "else:\n",
        "    param_optimizer = list(model.classifier.named_parameters())\n",
        "    optimizer_grouped_parameters = [{\"params\": [p for n, p in param_optimizer]}]\n",
        "    \n",
        "# Define an AdamW optimizer\n",
        "optimizer = AdamW(\n",
        "    optimizer_grouped_parameters,\n",
        "    lr=3e-5,\n",
        "    eps=1e-8\n",
        ")"
      ],
      "execution_count": 88,
      "outputs": []
    },
    {
      "cell_type": "code",
      "metadata": {
        "id": "NzsGMamb06yF"
      },
      "source": [
        "epochs = 3\n",
        "max_grad_norm = 1.0\n",
        "\n",
        "# Total number of training steps\n",
        "total_steps = len(train_dataloader) * epochs\n",
        "# Define a scheduler to linearly reduce the learning rate throughout the epochs\n",
        "scheduler = get_linear_schedule_with_warmup(optimizer,num_warmup_steps=0,num_training_steps=total_steps)"
      ],
      "execution_count": 89,
      "outputs": []
    },
    {
      "cell_type": "code",
      "metadata": {
        "id": "JHCHmv66-mIJ"
      },
      "source": [
        "def flat_accuracy(preds, labels):\n",
        "    pred_flat = np.argmax(preds, axis=2).flatten()\n",
        "    labels_flat = labels.flatten()\n",
        "    return np.sum(pred_flat == labels_flat) / len(labels_flat)"
      ],
      "execution_count": null,
      "outputs": []
    },
    {
      "cell_type": "code",
      "metadata": {
        "colab": {
          "base_uri": "https://localhost:8080/"
        },
        "id": "lUMkh8FN1Nm5",
        "outputId": "310f6370-660f-4856-ae3f-e7fc1c8821e6"
      },
      "source": [
        "loss_values, validation_loss_values = [], []\n",
        "validation_accuracy = []\n",
        "classification_report_eval = []\n",
        "\n",
        "for _ in trange(epochs, desc=\"Epoch\"):\n",
        "  # ========================================\n",
        "  #               Training\n",
        "  # ========================================    \n",
        "  model.train()\n",
        "  total_loss = 0\n",
        "\n",
        "  for step, batch in enumerate(train_dataloader):\n",
        "    batch = tuple(t.to(device) for t in batch)\n",
        "    b_input_ids, b_input_mask, b_labels = batch\n",
        "    model.zero_grad()\n",
        "    outputs = model(b_input_ids, token_type_ids=None, attention_mask=b_input_mask, labels=b_labels)\n",
        "    loss = outputs[0]\n",
        "    loss.backward()\n",
        "    total_loss += loss.item()\n",
        "    torch.nn.utils.clip_grad_norm_(parameters=model.parameters(), max_norm=max_grad_norm)\n",
        "    optimizer.step()\n",
        "    scheduler.step()\n",
        "\n",
        "  avg_train_loss = total_loss / len(train_dataloader)\n",
        "  print(\"Average train loss: {}\".format(avg_train_loss))\n",
        "  loss_values.append(avg_train_loss)\n",
        "\n",
        "  # ========================================\n",
        "  #               Validation\n",
        "  # ========================================\n",
        "  model.eval()\n",
        "  predictions = []\n",
        "  true_labels = []\n",
        "  eval_loss, eval_accuracy = 0, 0\n",
        "  nb_eval_steps, nb_eval_examples = 0, 0\n",
        "  for batch in test_dataloader:\n",
        "    batch = tuple(t.to(device) for t in batch)\n",
        "    b_input_ids, b_input_mask, b_labels = batch\n",
        "\n",
        "    with torch.no_grad():\n",
        "      outputs = model(b_input_ids, token_type_ids=None, attention_mask=b_input_mask, labels=b_labels)\n",
        "      logits = model(b_input_ids, token_type_ids=None, attention_mask=b_input_mask)\n",
        "        \n",
        "    logits = outputs[1].detach().cpu().numpy()\n",
        "    predictions.extend([list(p) for p in np.argmax(logits, axis=2)])\n",
        "    label_ids = b_labels.to('cpu').numpy()\n",
        "    true_labels.append(label_ids)\n",
        "    eval_loss += outputs[0].mean().item()\n",
        "    nb_eval_steps += 1\n",
        "\n",
        "  pred_tags = [[tags2vals[p_i] for p_i in p] for p in predictions]\n",
        "  valid_tags = [[tags2vals[l_ii] for l_ii in l_i] for l in true_labels for l_i in l ]\n",
        "  eval_loss_final = eval_loss/nb_eval_steps\n",
        "  print(\"Validation loss: {}\".format(eval_loss_final))\n",
        "  validation_loss_values.append(eval_loss_final)\n",
        "  valid_accur = accuracy_score(valid_tags,pred_tags)\n",
        "  print(\"Validation Accuracy: {}\".format(valid_accur))\n",
        "  validation_accuracy.append(valid_accur)\n",
        "  class_report = classification_report(valid_tags,pred_tags)\n",
        "  print(\"\\nClassification-Report:\\n\", class_report)\n",
        "  classification_report_eval.append(class_report)\n",
        "  print()"
      ],
      "execution_count": 90,
      "outputs": [
        {
          "output_type": "stream",
          "text": [
            "\n",
            "Epoch:   0%|          | 0/3 [00:00<?, ?it/s]\u001b[A"
          ],
          "name": "stderr"
        },
        {
          "output_type": "stream",
          "text": [
            "Average train loss: 0.10097842163650374\n",
            "Validation loss: 0.03807995592048458\n",
            "Validation Accuracy: 0.9650843012364181\n"
          ],
          "name": "stdout"
        },
        {
          "output_type": "stream",
          "text": [
            "/usr/local/lib/python3.6/dist-packages/seqeval/metrics/v1.py:57: UndefinedMetricWarning: Precision and F-score are ill-defined and being set to 0.0 in labels with no predicted samples. Use `zero_division` parameter to control this behavior.\n",
            "  _warn_prf(average, modifier, msg_start, len(result))\n",
            "\n",
            "Epoch:  33%|███▎      | 1/3 [18:09<36:19, 1089.75s/it]\u001b[A"
          ],
          "name": "stderr"
        },
        {
          "output_type": "stream",
          "text": [
            "\n",
            "Classification-Report:\n",
            "               precision    recall  f1-score   support\n",
            "\n",
            "          AN       0.00      0.00      0.00        41\n",
            "         EUN       0.59      0.71      0.65       705\n",
            "         GRT       0.73      0.97      0.83      3477\n",
            "          GS       0.56      0.95      0.71      4967\n",
            "         INN       0.46      0.88      0.60      1897\n",
            "          LD       0.68      0.81      0.74      1022\n",
            "         LDS       0.00      0.00      0.00        65\n",
            "         LIT       0.70      0.84      0.77       873\n",
            "         MRK       0.47      0.16      0.24       119\n",
            "         ORG       0.37      0.52      0.43       678\n",
            "         PER       0.33      0.73      0.46       539\n",
            "          RR       0.03      0.93      0.07       789\n",
            "          RS       0.77      0.94      0.84      4524\n",
            "          ST       0.54      0.33      0.41       228\n",
            "         STR       0.23      0.05      0.08        58\n",
            "          UN       0.35      0.68      0.46       450\n",
            "          VO       0.44      0.71      0.54       294\n",
            "          VS       0.40      0.51      0.45       366\n",
            "          VT       0.47      0.77      0.59      1189\n",
            "\n",
            "   micro avg       0.36      0.87      0.51     22281\n",
            "   macro avg       0.43      0.61      0.47     22281\n",
            "weighted avg       0.58      0.87      0.68     22281\n",
            "\n",
            "\n",
            "Average train loss: 0.02649812762222491\n",
            "Validation loss: 0.02775077679330699\n",
            "Validation Accuracy: 0.9673315848632447\n"
          ],
          "name": "stdout"
        },
        {
          "output_type": "stream",
          "text": [
            "\n",
            "Epoch:  67%|██████▋   | 2/3 [36:22<18:10, 1090.78s/it]\u001b[A"
          ],
          "name": "stderr"
        },
        {
          "output_type": "stream",
          "text": [
            "\n",
            "Classification-Report:\n",
            "               precision    recall  f1-score   support\n",
            "\n",
            "          AN       0.75      0.07      0.13        41\n",
            "         EUN       0.62      0.79      0.70       705\n",
            "         GRT       0.71      0.98      0.83      3477\n",
            "          GS       0.57      0.95      0.71      4967\n",
            "         INN       0.56      0.92      0.70      1897\n",
            "          LD       0.66      0.95      0.78      1022\n",
            "         LDS       0.00      0.00      0.00        65\n",
            "         LIT       0.59      0.90      0.71       873\n",
            "         MRK       0.41      0.34      0.37       119\n",
            "         ORG       0.51      0.71      0.60       678\n",
            "         PER       0.51      0.80      0.63       539\n",
            "          RR       0.04      0.91      0.07       789\n",
            "          RS       0.78      0.95      0.85      4524\n",
            "          ST       0.49      0.62      0.55       228\n",
            "         STR       0.42      0.47      0.44        58\n",
            "          UN       0.53      0.83      0.65       450\n",
            "          VO       0.60      0.80      0.69       294\n",
            "          VS       0.39      0.62      0.48       366\n",
            "          VT       0.52      0.80      0.63      1189\n",
            "\n",
            "   micro avg       0.39      0.90      0.55     22281\n",
            "   macro avg       0.51      0.71      0.55     22281\n",
            "weighted avg       0.61      0.90      0.71     22281\n",
            "\n",
            "\n",
            "Average train loss: 0.011972020447892827\n",
            "Validation loss: 0.023506077143031396\n",
            "Validation Accuracy: 0.9680479580367178\n"
          ],
          "name": "stdout"
        },
        {
          "output_type": "stream",
          "text": [
            "\n",
            "Epoch: 100%|██████████| 3/3 [54:55<00:00, 1098.50s/it]"
          ],
          "name": "stderr"
        },
        {
          "output_type": "stream",
          "text": [
            "\n",
            "Classification-Report:\n",
            "               precision    recall  f1-score   support\n",
            "\n",
            "          AN       0.73      0.27      0.39        41\n",
            "         EUN       0.66      0.86      0.74       705\n",
            "         GRT       0.72      0.99      0.83      3477\n",
            "          GS       0.59      0.97      0.73      4967\n",
            "         INN       0.60      0.92      0.73      1897\n",
            "          LD       0.68      0.96      0.80      1022\n",
            "         LDS       0.20      0.06      0.09        65\n",
            "         LIT       0.74      0.91      0.81       873\n",
            "         MRK       0.31      0.39      0.35       119\n",
            "         ORG       0.49      0.83      0.62       678\n",
            "         PER       0.51      0.85      0.64       539\n",
            "          RR       0.04      0.92      0.07       789\n",
            "          RS       0.79      0.95      0.86      4524\n",
            "          ST       0.47      0.67      0.55       228\n",
            "         STR       0.49      0.60      0.54        58\n",
            "          UN       0.51      0.86      0.64       450\n",
            "          VO       0.62      0.86      0.72       294\n",
            "          VS       0.47      0.72      0.57       366\n",
            "          VT       0.52      0.87      0.65      1189\n",
            "\n",
            "   micro avg       0.40      0.92      0.56     22281\n",
            "   macro avg       0.53      0.76      0.60     22281\n",
            "weighted avg       0.63      0.92      0.73     22281\n",
            "\n",
            "\n"
          ],
          "name": "stdout"
        },
        {
          "output_type": "stream",
          "text": [
            "\n"
          ],
          "name": "stderr"
        }
      ]
    },
    {
      "cell_type": "code",
      "metadata": {
        "colab": {
          "base_uri": "https://localhost:8080/",
          "height": 404
        },
        "id": "3z4hOt143k6N",
        "outputId": "7a37edc7-3bc9-407e-83ef-d7ad0a64be79"
      },
      "source": [
        "plt.rcParams[\"figure.figsize\"] = (12,6)\n",
        "plt.plot(loss_values, 'b-o', label='training loss')\n",
        "plt.plot(validation_loss_values, 'r-o', label=\"validation loss\")\n",
        "\n",
        "plt.title(\"Training and validation loss\")\n",
        "plt.xlabel(\"Epoch\")\n",
        "plt.ylabel(\"Loss\")\n",
        "plt.legend()\n",
        "\n",
        "plt.show()"
      ],
      "execution_count": 91,
      "outputs": [
        {
          "output_type": "display_data",
          "data": {
            "image/png": "[encoded data removed]",
            "text/plain": [
              "<Figure size 864x432 with 1 Axes>"
            ]
          },
          "metadata": {
            "tags": [],
            "needs_background": "light"
          }
        }
      ]
    },
    {
      "cell_type": "code",
      "metadata": {
        "colab": {
          "base_uri": "https://localhost:8080/",
          "height": 404
        },
        "id": "P1hLeK0ARE0V",
        "outputId": "3cb95c6f-1ff2-487a-e538-22ca2bdcd535"
      },
      "source": [
        "plt.rcParams[\"figure.figsize\"] = (12,6)\n",
        "plt.plot(validation_accuracy, 'g-o', label='validation accuracy')\n",
        "\n",
        "plt.title(\"Validation Accuracy\")\n",
        "plt.xlabel(\"Epoch\")\n",
        "plt.ylabel(\"Accuracy\")\n",
        "plt.legend()\n",
        "\n",
        "plt.show()"
      ],
      "execution_count": 92,
      "outputs": [
        {
          "output_type": "display_data",
          "data": {
            "image/png": "[encoded data removed]",
            "text/plain": [
              "<Figure size 864x432 with 1 Axes>"
            ]
          },
          "metadata": {
            "tags": [],
            "needs_background": "light"
          }
        }
      ]
    },
    {
      "cell_type": "code",
      "metadata": {
        "id": "ejmqKiCcRWHX"
      },
      "source": [
        "def plot_classification_report(cr, title='Classification report ', with_avg_total=True, cmap=plt.cm.RdPu):\n",
        "\n",
        "  lines = cr.split('\\n')\n",
        "  classes = []\n",
        "  plotMat = []\n",
        "  for line in lines[2 : (len(lines)-5)]:\n",
        "    t = line.split()\n",
        "    classes.append(t[0])\n",
        "    v = [float(x) for x in t[1: len(t)-1]]\n",
        "    plotMat.append(v)\n",
        "\n",
        "  if with_avg_total:\n",
        "    for line in lines[len(lines)-4 : len(lines)-1]:\n",
        "      aveTotal = line.split()\n",
        "      classes.append(' '.join(aveTotal[:2]))\n",
        "      vAveTotal = [float(x) for x in aveTotal[2:len(aveTotal) - 1]]\n",
        "      plotMat.append(vAveTotal)\n",
        "\n",
        "  plt.imshow(plotMat, interpolation='nearest', cmap=cmap)\n",
        "  plt.gcf().set_size_inches(8, 8)\n",
        "  plt.title(title)\n",
        "  plt.colorbar()\n",
        "  x_tick_marks = np.arange(3)\n",
        "  y_tick_marks = np.arange(len(classes))\n",
        "  plt.xticks(x_tick_marks, ['precision', 'recall', 'f1-score'], rotation=45)\n",
        "  plt.yticks(y_tick_marks, classes)\n",
        "  plt.tight_layout()\n",
        "  plt.ylabel('Classes')\n",
        "  plt.xlabel('Measures')"
      ],
      "execution_count": 224,
      "outputs": []
    },
    {
      "cell_type": "code",
      "metadata": {
        "colab": {
          "base_uri": "https://localhost:8080/",
          "height": 598
        },
        "id": "KxAvnPAH0ctj",
        "outputId": "a89a731d-468f-48e4-cb33-c51d51c70e52"
      },
      "source": [
        "plot_classification_report(classification_report_eval[2])"
      ],
      "execution_count": 229,
      "outputs": [
        {
          "output_type": "display_data",
          "data": {
            "image/png": "[encoded data removed]",
            "text/plain": [
              "<Figure size 576x576 with 2 Axes>"
            ]
          },
          "metadata": {
            "tags": [],
            "needs_background": "light"
          }
        }
      ]
    },
    {
      "cell_type": "code",
      "metadata": {
        "id": "1FsmDPSmMryT"
      },
      "source": [
        "model_save_name = 'bert.pt' \n",
        "torch.save(model, model_save_name)"
      ],
      "execution_count": 46,
      "outputs": []
    },
    {
      "cell_type": "code",
      "metadata": {
        "id": "RK5xFDNYsQyA"
      },
      "source": [
        ""
      ],
      "execution_count": null,
      "outputs": []
    }
  ]
}