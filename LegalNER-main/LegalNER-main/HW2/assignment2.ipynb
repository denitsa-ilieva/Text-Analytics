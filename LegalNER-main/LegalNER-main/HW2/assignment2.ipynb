{
  "nbformat": 4,
  "nbformat_minor": 0,
  "metadata": {
    "kernelspec": {
      "display_name": "Python 3",
      "language": "python",
      "name": "python3"
    },
    "language_info": {
      "codemirror_mode": {
        "name": "ipython",
        "version": 3
      },
      "file_extension": ".py",
      "mimetype": "text/x-python",
      "name": "python",
      "nbconvert_exporter": "python",
      "pygments_lexer": "ipython3",
      "version": "3.7.4"
    },
    "colab": {
      "name": "assignment2.ipynb",
      "provenance": [],
      "toc_visible": true
    },
    "accelerator": "TPU"
  },
  "cells": [
    {
      "cell_type": "markdown",
      "metadata": {
        "id": "ULNklf-vfUDZ"
      },
      "source": [
        "Team: Erik Koynov, Samer Sheich Essa, Denitsa Ilieva"
      ]
    },
    {
      "cell_type": "markdown",
      "metadata": {
        "id": "YYpSIwHEljGt"
      },
      "source": [
        "# Assignment 2: “Text Mining with Simpsons ”\n",
        "Due: Monday 2pm, December 14, 2020, via Moodle"
      ]
    },
    {
      "cell_type": "markdown",
      "metadata": {
        "id": "Iz5V9XdmljGw"
      },
      "source": [
        "### Submission guidelines\n",
        "\n",
        "- Solutions need to be uploaded as a single Jupyter notebook. You will find many provided codes in the notebook, your task is to fill in the missing cells.\n",
        "- For the written solution use LaTeX in markdown inside the same notebook. Do *not* hand in a seperate file for it.\n",
        "- Download the .zip file containing the dataset but do *not* upload it with your solution.\n",
        "- It is sufficient if one person per group uploads the solution to Moodle, but make sure that the names of\n",
        "all team members are given on the PDF and in the source code."
      ]
    },
    {
      "cell_type": "markdown",
      "metadata": {
        "id": "oHTJhpBiljGy"
      },
      "source": [
        "--------"
      ]
    },
    {
      "cell_type": "markdown",
      "metadata": {
        "id": "aiDQjLzyljGz"
      },
      "source": [
        "The Simpson show is the world’s longest-running animated sitcom. The show revolves around the lives of the Simpson family, which consists of Homer, Marge, Bart, Lisa, and the little Maggi.\n",
        "For this notebook, you should download the dataset that contains the characters, locations, episode details, and script lines for approximately 600 Simpsons episodes, dating back to 1989.\n",
        "In the following exercises, we will explore the data and use visualizations to gain some insight into the show. The Zip file alongside this notebook should contain the following files:\n",
        "\n",
        "` simpsons_characters.csv, simpsons_locations.csv, simpsons_script_lines.csv, simpsons_episodes.csv`\n"
      ]
    },
    {
      "cell_type": "markdown",
      "metadata": {
        "id": "gKwaaUqZljGz"
      },
      "source": [
        "Take some time and familiarize yourself with the data. `simpsons_characters.csv` contains the character-names and their gender.\n",
        "`simpsons_locations.csv` contains information about locations in the shows,\n",
        "and `simpsons_episodes.csv` has information about each episode including their title, rating, and views.\n",
        "Finally, `simpsons_script_lines.csv` lists all the lines in the show, who said the line and where it was said. Be aware that this data set is not cleaned and, hence, includes faulty data as well as inconsistent data types."
      ]
    },
    {
      "cell_type": "markdown",
      "metadata": {
        "id": "Nb4FIo8LljG0"
      },
      "source": [
        "Import the needed packages:"
      ]
    },
    {
      "cell_type": "code",
      "metadata": {
        "id": "-NA_9PL5ljG0"
      },
      "source": [
        "import pandas as pd\n",
        "import numpy as np\n",
        "import matplotlib\n",
        "from matplotlib import pyplot as plt\n",
        "from os import path\n",
        "%matplotlib inline\n",
        "import time\n",
        "import nltk\n",
        "from sklearn.feature_extraction.text import CountVectorizer\n",
        "from sklearn.feature_extraction.text import TfidfTransformer"
      ],
      "execution_count": 16,
      "outputs": []
    },
    {
      "cell_type": "markdown",
      "metadata": {
        "id": "Kx9lD3D6ljG1"
      },
      "source": [
        "Let's read the data and get started!"
      ]
    },
    {
      "cell_type": "markdown",
      "metadata": {
        "id": "sOApfiHTljG1"
      },
      "source": [
        "### Task 1:  Important Characters (3 + 2 + 2 + 4 = 11 point)\n",
        "### Sub-Task 1: \n",
        "Load the four datasets in the respective variables using pandas (pd),\n",
        "make sure to set the type of the `character_id` to integer and drop the line that has the non-numeric character ID `142024`."
      ]
    },
    {
      "cell_type": "code",
      "metadata": {
        "colab": {
          "base_uri": "https://localhost:8080/"
        },
        "id": "Eh7B8iziljG1",
        "outputId": "5e6909bc-2b9f-478e-92b7-2e8dfac6384e"
      },
      "source": [
        "df_characters = pd.read_csv('./simpsons_characters.csv') ### Your code ####\n",
        "df_locations = pd.read_csv('simpsons_locations.csv') ### Your code ####\n",
        "df_script = pd.read_csv('simpsons_script_lines.csv') ### Your code ####\n",
        "df_episodes = pd.read_csv('simpsons_episodes.csv') ### Your code ####"
      ],
      "execution_count": 68,
      "outputs": [
        {
          "output_type": "stream",
          "text": [
            "/usr/local/lib/python3.6/dist-packages/IPython/core/interactiveshell.py:2718: DtypeWarning: Columns (4,5,6) have mixed types.Specify dtype option on import or set low_memory=False.\n",
            "  interactivity=interactivity, compiler=compiler, result=result)\n"
          ],
          "name": "stderr"
        }
      ]
    },
    {
      "cell_type": "code",
      "metadata": {
        "colab": {
          "base_uri": "https://localhost:8080/"
        },
        "id": "K2PDy_8PofYD",
        "outputId": "053fd34a-3c77-4730-ac36-92eebbd49beb"
      },
      "source": [
        "#check the results\n",
        "df_characters.info()\n",
        "df_locations.info()\n",
        "df_script.info()\n",
        "df_episodes.info()"
      ],
      "execution_count": 159,
      "outputs": [
        {
          "output_type": "stream",
          "text": [
            "<class 'pandas.core.frame.DataFrame'>\n",
            "RangeIndex: 6722 entries, 0 to 6721\n",
            "Data columns (total 4 columns):\n",
            " #   Column           Non-Null Count  Dtype \n",
            "---  ------           --------------  ----- \n",
            " 0   id               6722 non-null   int64 \n",
            " 1   name             6722 non-null   object\n",
            " 2   normalized_name  6722 non-null   object\n",
            " 3   gender           323 non-null    object\n",
            "dtypes: int64(1), object(3)\n",
            "memory usage: 210.2+ KB\n",
            "<class 'pandas.core.frame.DataFrame'>\n",
            "RangeIndex: 4459 entries, 0 to 4458\n",
            "Data columns (total 3 columns):\n",
            " #   Column           Non-Null Count  Dtype \n",
            "---  ------           --------------  ----- \n",
            " 0   id               4459 non-null   int64 \n",
            " 1   name             4459 non-null   object\n",
            " 2   normalized_name  4459 non-null   object\n",
            "dtypes: int64(1), object(2)\n",
            "memory usage: 104.6+ KB\n",
            "<class 'pandas.core.frame.DataFrame'>\n",
            "RangeIndex: 158271 entries, 0 to 158270\n",
            "Data columns (total 13 columns):\n",
            " #   Column              Non-Null Count   Dtype  \n",
            "---  ------              --------------   -----  \n",
            " 0   id                  158271 non-null  int64  \n",
            " 1   episode_id          158271 non-null  int64  \n",
            " 2   number              158271 non-null  int64  \n",
            " 3   raw_text            158271 non-null  object \n",
            " 4   timestamp_in_ms     158271 non-null  object \n",
            " 5   speaking_line       158271 non-null  object \n",
            " 6   character_id        140750 non-null  object \n",
            " 7   location_id         157864 non-null  float64\n",
            " 8   raw_character_text  140749 non-null  object \n",
            " 9   raw_location_text   157863 non-null  object \n",
            " 10  spoken_words        132112 non-null  object \n",
            " 11  normalized_text     132087 non-null  object \n",
            " 12  word_count          132112 non-null  object \n",
            "dtypes: float64(1), int64(3), object(9)\n",
            "memory usage: 15.7+ MB\n",
            "<class 'pandas.core.frame.DataFrame'>\n",
            "RangeIndex: 600 entries, 0 to 599\n",
            "Data columns (total 14 columns):\n",
            " #   Column                  Non-Null Count  Dtype  \n",
            "---  ------                  --------------  -----  \n",
            " 0   id                      600 non-null    int64  \n",
            " 1   image_url               596 non-null    object \n",
            " 2   imdb_rating             597 non-null    float64\n",
            " 3   imdb_votes              597 non-null    float64\n",
            " 4   number_in_season        600 non-null    int64  \n",
            " 5   number_in_series        600 non-null    int64  \n",
            " 6   original_air_date       600 non-null    object \n",
            " 7   original_air_year       600 non-null    int64  \n",
            " 8   production_code         600 non-null    object \n",
            " 9   season                  600 non-null    int64  \n",
            " 10  title                   600 non-null    object \n",
            " 11  us_viewers_in_millions  594 non-null    float64\n",
            " 12  video_url               596 non-null    object \n",
            " 13  views                   596 non-null    float64\n",
            "dtypes: float64(4), int64(5), object(5)\n",
            "memory usage: 65.8+ KB\n"
          ],
          "name": "stdout"
        }
      ]
    },
    {
      "cell_type": "markdown",
      "metadata": {
        "id": "jmxo837tljG2"
      },
      "source": [
        "Using panda's `.head()` function look at the top rows of each dataset."
      ]
    },
    {
      "cell_type": "code",
      "metadata": {
        "id": "rIKHppPzpUnq"
      },
      "source": [
        "df = [df_characters, df_locations, df_script, df_episodes]"
      ],
      "execution_count": 160,
      "outputs": []
    },
    {
      "cell_type": "code",
      "metadata": {
        "colab": {
          "base_uri": "https://localhost:8080/"
        },
        "id": "oN_jQ0ngljG2",
        "outputId": "194e14d7-cd2b-473a-e06c-5099d124071f"
      },
      "source": [
        "####Your Code####\n",
        "for i in df:\n",
        "  print(i.head(10))\n"
      ],
      "execution_count": 161,
      "outputs": [
        {
          "output_type": "stream",
          "text": [
            "   id              name   normalized_name gender\n",
            "0   7          Children          children    NaN\n",
            "1  12  Mechanical Santa  mechanical santa    NaN\n",
            "2  13        Tattoo Man        tattoo man    NaN\n",
            "3  16  DOCTOR ZITSOFSKY  doctor zitsofsky    NaN\n",
            "4  20          Students          students    NaN\n",
            "5  24        Little Boy        little boy    NaN\n",
            "6  26       Lewis Clark       lewis clark    NaN\n",
            "7  27       Little Girl       little girl    NaN\n",
            "8  29           Bubbles           bubbles    NaN\n",
            "9  30             Moldy             moldy    NaN\n",
            "   id                             name                  normalized_name\n",
            "0   1                           Street                           street\n",
            "1   2                              Car                              car\n",
            "2   3    Springfield Elementary School    springfield elementary school\n",
            "3   4                       Auditorium                       auditorium\n",
            "4   5                     Simpson Home                     simpson home\n",
            "5   6                          KITCHEN                          kitchen\n",
            "6   7        SHOPPING MALL PARKING LOT        shopping mall parking lot\n",
            "7   8                 Springfield Mall                 springfield mall\n",
            "8   9   The Happy Sailor Tattoo Parlor   the happy sailor tattoo parlor\n",
            "9  10  Springfield Nuclear Power Plant  springfield nuclear power plant\n",
            "     id  ...  word_count\n",
            "0  9549  ...          31\n",
            "1  9550  ...           3\n",
            "2  9551  ...          22\n",
            "3  9552  ...           5\n",
            "4  9553  ...          33\n",
            "5  9554  ...           8\n",
            "6  9555  ...           1\n",
            "7  9556  ...           5\n",
            "8  9557  ...         NaN\n",
            "9  9558  ...           4\n",
            "\n",
            "[10 rows x 13 columns]\n",
            "   id  ...    views\n",
            "0  10  ...  50816.0\n",
            "1  12  ...  62561.0\n",
            "2  14  ...  59575.0\n",
            "3  17  ...  64959.0\n",
            "4  19  ...  50691.0\n",
            "5  21  ...  57605.0\n",
            "6  23  ...  56486.0\n",
            "7  26  ...  58277.0\n",
            "8  28  ...  47426.0\n",
            "9  30  ...  44331.0\n",
            "\n",
            "[10 rows x 14 columns]\n"
          ],
          "name": "stdout"
        }
      ]
    },
    {
      "cell_type": "markdown",
      "metadata": {
        "id": "B0FEOZbYljG3"
      },
      "source": [
        "Let's take a look at the important characters of the show. To start we detect the main characters by the number of spoken words/lines throughout the show. \n",
        "Extract top 10 characters based on the number of spoken words (word count) as well as the 10 most prominent characters regarding the number of lines they head during the show.\n",
        "Compare both results by drawing two bar plots: For the first plot, the x-axis should show the name of the top 10 characters with regard to the word count and the y-axis should display the number of spoken words.\n",
        "In the second plot, you should do the same but this time considering the number of lines for each character (,i.e., the characters displayed on the x-axis can be different for the first and second bar plot). You might notice that there is a column with `word_count` in the `scripts` data frame, but cleaning it up might be tricky. To find the sum of all values, first remove the `nan` and any other string characters in that colum, you can use the `conv` function provided."
      ]
    },
    {
      "cell_type": "code",
      "metadata": {
        "scrolled": true,
        "id": "65FX_UblljG3"
      },
      "source": [
        "def conv(row):\n",
        "  try:\n",
        "    return int(row)\n",
        "  except:\n",
        "    return np.nan\n"
      ],
      "execution_count": 168,
      "outputs": []
    },
    {
      "cell_type": "code",
      "metadata": {
        "id": "DhR_S1z9ilsZ"
      },
      "source": [
        "# start = time.time()\n",
        "# df_script['word_count'] = df_script['word_count'].apply(conv)\n",
        "# stop = time.time()\n",
        "# print(stop-start) #: 0.08487224578857422"
      ],
      "execution_count": 162,
      "outputs": []
    },
    {
      "cell_type": "code",
      "metadata": {
        "colab": {
          "base_uri": "https://localhost:8080/"
        },
        "id": "Hib00gTLips3",
        "outputId": "462207e0-694b-4cbf-be9e-da475989fa4e"
      },
      "source": [
        "start = time.time()\n",
        "df_script[\"word_count\"] = pd.to_numeric(df_script['word_count'], errors='coerce')\n",
        "stop = time.time()\n",
        "print(stop-start)"
      ],
      "execution_count": 70,
      "outputs": [
        {
          "output_type": "stream",
          "text": [
            "0.08026909828186035\n"
          ],
          "name": "stdout"
        }
      ]
    },
    {
      "cell_type": "code",
      "metadata": {
        "colab": {
          "base_uri": "https://localhost:8080/"
        },
        "id": "UesDdmKzipRD",
        "outputId": "4c3d379b-a9de-4406-dfc5-3fe0348e42e9"
      },
      "source": [
        "# there are extreme outliers\n",
        "df_script.loc[df_script['raw_character_text']=='Robert Pinsky','word_count']"
      ],
      "execution_count": 71,
      "outputs": [
        {
          "output_type": "execute_result",
          "data": {
            "text/plain": [
              "73531        17.0\n",
              "73535        18.0\n",
              "73536        33.0\n",
              "73537    672000.0\n",
              "73546        51.0\n",
              "73548         7.0\n",
              "Name: word_count, dtype: float64"
            ]
          },
          "metadata": {
            "tags": []
          },
          "execution_count": 71
        }
      ]
    },
    {
      "cell_type": "code",
      "metadata": {
        "colab": {
          "base_uri": "https://localhost:8080/"
        },
        "id": "5IGzWT8wjGjH",
        "outputId": "1fd789d3-bdc9-47f9-de46-a7c6277b85d3"
      },
      "source": [
        "top_characters_words = df_script[['raw_character_text','word_count']]\n",
        "top_characters_words = top_characters_words.dropna()\n",
        "merge_data_words_sub = top_characters_words.groupby('raw_character_text')['word_count']\\\n",
        "                            .sum()\\\n",
        "                            .sort_values(ascending=False)\\\n",
        "                            .iloc[:10].astype(int)\n",
        "merge_data_words_sub.head(5)"
      ],
      "execution_count": 72,
      "outputs": [
        {
          "output_type": "execute_result",
          "data": {
            "text/plain": [
              "raw_character_text\n",
              "Marge Simpson    1269710\n",
              "Entire Town      1154000\n",
              "Homer Simpson     680208\n",
              "Robert Pinsky     672126\n",
              "ABBA              571000\n",
              "Name: word_count, dtype: int64"
            ]
          },
          "metadata": {
            "tags": []
          },
          "execution_count": 72
        }
      ]
    },
    {
      "cell_type": "code",
      "metadata": {
        "colab": {
          "base_uri": "https://localhost:8080/"
        },
        "id": "JS8I2KyxljG4",
        "outputId": "a449eb18-e13d-4b88-bdac-499de0b8ce90"
      },
      "source": [
        "top_characters_sentences = df_script[['raw_character_text','spoken_words']]\n",
        "# dropping na/('' which by default is read as na) to assure that nans in the spoken words are not counted \n",
        "top_characters_sentences = top_characters_sentences.dropna()\n",
        "merge_data_sentences_sub = top_characters_sentences.groupby('raw_character_text')['spoken_words']\\\n",
        "                            .count()\\\n",
        "                            .sort_values(ascending=False)\\\n",
        "                            .iloc[:10]\n",
        "merge_data_sentences_sub.head(10)"
      ],
      "execution_count": 73,
      "outputs": [
        {
          "output_type": "execute_result",
          "data": {
            "text/plain": [
              "raw_character_text\n",
              "Homer Simpson          27912\n",
              "Marge Simpson          13193\n",
              "Bart Simpson           13013\n",
              "Lisa Simpson           10769\n",
              "C. Montgomery Burns     3087\n",
              "Moe Szyslak             2810\n",
              "Seymour Skinner         2390\n",
              "Ned Flanders            2057\n",
              "Grampa Simpson          1807\n",
              "Chief Wiggum            1796\n",
              "Name: spoken_words, dtype: int64"
            ]
          },
          "metadata": {
            "tags": []
          },
          "execution_count": 73
        }
      ]
    },
    {
      "cell_type": "code",
      "metadata": {
        "colab": {
          "base_uri": "https://localhost:8080/",
          "height": 406
        },
        "id": "t9-SajgUljG4",
        "outputId": "fb171144-26d3-4865-d140-62a94e7f4ac0"
      },
      "source": [
        "#### Draw the word count plot ####\n",
        "#### Hint: look at the plot function from dataframe #### \n",
        "merge_data_words_sub.plot(kind = 'bar')"
      ],
      "execution_count": 170,
      "outputs": [
        {
          "output_type": "execute_result",
          "data": {
            "text/plain": [
              "<matplotlib.axes._subplots.AxesSubplot at 0x7f9777c2e208>"
            ]
          },
          "metadata": {
            "tags": []
          },
          "execution_count": 170
        },
        {
          "output_type": "display_data",
          "data": {
            "image/png": "[encoded data removed]",
            "text/plain": [
              "<Figure size 432x288 with 1 Axes>"
            ]
          },
          "metadata": {
            "tags": [],
            "needs_background": "light"
          }
        }
      ]
    },
    {
      "cell_type": "code",
      "metadata": {
        "colab": {
          "base_uri": "https://localhost:8080/",
          "height": 395
        },
        "id": "dfaIGgZSljG4",
        "outputId": "f5d219b1-8459-4045-a547-b959dc31de43"
      },
      "source": [
        "#### Draw the sentence count plot ####\n",
        "#### Hint: look at the plot function from dataframe #### \n",
        "merge_data_sentences_sub.plot(kind = 'bar')"
      ],
      "execution_count": 171,
      "outputs": [
        {
          "output_type": "execute_result",
          "data": {
            "text/plain": [
              "<matplotlib.axes._subplots.AxesSubplot at 0x7f97801ac2e8>"
            ]
          },
          "metadata": {
            "tags": []
          },
          "execution_count": 171
        },
        {
          "output_type": "display_data",
          "data": {
            "image/png": "[encoded data removed]",
            "text/plain": [
              "<Figure size 432x288 with 1 Axes>"
            ]
          },
          "metadata": {
            "tags": [],
            "needs_background": "light"
          }
        }
      ]
    },
    {
      "cell_type": "markdown",
      "metadata": {
        "id": "ElmNnsp6ljG4"
      },
      "source": [
        "If you have done the exercise correctly you should see that the top-4 characters of the show (Homer, Marge, Bart, and Lisa Simpson) have the most dialogs (lines) in the show but their distribution differs when we look at the word count.\n",
        "Seems like some characters speak in long sentences."
      ]
    },
    {
      "cell_type": "markdown",
      "metadata": {
        "id": "LkzL0ORHljG5"
      },
      "source": [
        "### Sub-Task 2: Common Words and Word Cloud \n",
        "Let's examine the dialogues and look at the top 20 common words, draw a bar plot in the same way as above to show the frequencies.\n",
        "To generate a meaningful output use the preprocessing pipelines explained in the lecture: \n",
        "- use regex to remove non-alphabetic characters and also remove `'` since the tokenizer will treat it as a new token (anything that is not a number or alphabet including punctuations)\n",
        "- lowercase all words\n",
        "- remove stopwords based on spaCy's stopword list\n",
        "- tokenize the `spoken_words` (remove single characters produced by the tokenizer)\n",
        "- perform stemming \n",
        " \n",
        "In this exercise, we require you to use SpaCy for all language processing steps except for stemming.\n",
        "This is due to the lack of a stemmer in SpaCy's library that only provides a tool for lemmatization.\n",
        "Hence, for Stemming we are going to use one of the stemmers provided by NLTK.\n"
      ]
    },
    {
      "cell_type": "code",
      "metadata": {
        "id": "J0IZCYbxljG5"
      },
      "source": [
        "import spacy \n",
        "import re \n",
        "from collections import Counter\n",
        "from matplotlib import pyplot as plt\n",
        "from nltk.stem import PorterStemmer"
      ],
      "execution_count": 25,
      "outputs": []
    },
    {
      "cell_type": "code",
      "metadata": {
        "id": "YZIjCzICljG6"
      },
      "source": [
        "nlp = spacy.load(\"en_core_web_sm\", disable=['tagger','parser','ner'])### load en_core_web_sm and disable the tagger, parser and ner.\n",
        "stopwords = nlp.Defaults.stop_words ### load the list of stopwords from spacy for the English language\n",
        "stemmer = PorterStemmer()### initialize the stemmer from NLTK\n",
        "\n",
        "df_script[\"spoken_words\"] = df_script[\"spoken_words\"].str.lower().str.replace(r'[^\\w\\s]+',\"\").str.split()\n"
      ],
      "execution_count": 77,
      "outputs": []
    },
    {
      "cell_type": "code",
      "metadata": {
        "colab": {
          "base_uri": "https://localhost:8080/"
        },
        "id": "Br4eu1It7nWM",
        "outputId": "5b449657-15bd-46e2-830a-0ce339f87b5a"
      },
      "source": [
        "df_script[\"spoken_words\"].dropna() \n",
        "df_script[\"spoken_words\"][:10]"
      ],
      "execution_count": 78,
      "outputs": [
        {
          "output_type": "execute_result",
          "data": {
            "text/plain": [
              "0    [no, actually, it, was, a, little, of, both, s...\n",
              "1                              [wheres, mr, bergstrom]\n",
              "2    [i, dont, know, although, id, sure, like, to, ...\n",
              "3                      [that, life, is, worth, living]\n",
              "4    [the, polls, will, be, open, from, now, until,...\n",
              "5    [i, dont, think, theres, anything, left, to, say]\n",
              "6                                               [bart]\n",
              "7                  [victory, party, under, the, slide]\n",
              "8                                                  NaN\n",
              "9                       [mr, bergstrom, mr, bergstrom]\n",
              "Name: spoken_words, dtype: object"
            ]
          },
          "metadata": {
            "tags": []
          },
          "execution_count": 78
        }
      ]
    },
    {
      "cell_type": "code",
      "metadata": {
        "colab": {
          "base_uri": "https://localhost:8080/",
          "height": 383
        },
        "id": "gBe-ZRQvYIPC",
        "outputId": "a0d55113-24a8-4290-810f-2c0cc6ea839b"
      },
      "source": [
        "spoken_words_lists = df_script[\"spoken_words\"] # lists of all spoken_words\n",
        "tokens = []\n",
        "for token in spoken_words_lists:\n",
        "  #print(token)\n",
        "  tokens += token \n",
        "  print(tokens)"
      ],
      "execution_count": 79,
      "outputs": [
        {
          "output_type": "stream",
          "text": [
            "['no', 'actually', 'it', 'was', 'a', 'little', 'of', 'both', 'sometimes', 'when', 'a', 'disease', 'is', 'in', 'all', 'the', 'magazines', 'and', 'all', 'the', 'news', 'shows', 'its', 'only', 'natural', 'that', 'you', 'think', 'you', 'have', 'it']\n",
            "['no', 'actually', 'it', 'was', 'a', 'little', 'of', 'both', 'sometimes', 'when', 'a', 'disease', 'is', 'in', 'all', 'the', 'magazines', 'and', 'all', 'the', 'news', 'shows', 'its', 'only', 'natural', 'that', 'you', 'think', 'you', 'have', 'it', 'wheres', 'mr', 'bergstrom']\n",
            "['no', 'actually', 'it', 'was', 'a', 'little', 'of', 'both', 'sometimes', 'when', 'a', 'disease', 'is', 'in', 'all', 'the', 'magazines', 'and', 'all', 'the', 'news', 'shows', 'its', 'only', 'natural', 'that', 'you', 'think', 'you', 'have', 'it', 'wheres', 'mr', 'bergstrom', 'i', 'dont', 'know', 'although', 'id', 'sure', 'like', 'to', 'talk', 'to', 'him', 'he', 'didnt', 'touch', 'my', 'lesson', 'plan', 'what', 'did', 'he', 'teach', 'you']\n",
            "['no', 'actually', 'it', 'was', 'a', 'little', 'of', 'both', 'sometimes', 'when', 'a', 'disease', 'is', 'in', 'all', 'the', 'magazines', 'and', 'all', 'the', 'news', 'shows', 'its', 'only', 'natural', 'that', 'you', 'think', 'you', 'have', 'it', 'wheres', 'mr', 'bergstrom', 'i', 'dont', 'know', 'although', 'id', 'sure', 'like', 'to', 'talk', 'to', 'him', 'he', 'didnt', 'touch', 'my', 'lesson', 'plan', 'what', 'did', 'he', 'teach', 'you', 'that', 'life', 'is', 'worth', 'living']\n",
            "['no', 'actually', 'it', 'was', 'a', 'little', 'of', 'both', 'sometimes', 'when', 'a', 'disease', 'is', 'in', 'all', 'the', 'magazines', 'and', 'all', 'the', 'news', 'shows', 'its', 'only', 'natural', 'that', 'you', 'think', 'you', 'have', 'it', 'wheres', 'mr', 'bergstrom', 'i', 'dont', 'know', 'although', 'id', 'sure', 'like', 'to', 'talk', 'to', 'him', 'he', 'didnt', 'touch', 'my', 'lesson', 'plan', 'what', 'did', 'he', 'teach', 'you', 'that', 'life', 'is', 'worth', 'living', 'the', 'polls', 'will', 'be', 'open', 'from', 'now', 'until', 'the', 'end', 'of', 'recess', 'now', 'just', 'in', 'case', 'any', 'of', 'you', 'have', 'decided', 'to', 'put', 'any', 'thought', 'into', 'this', 'well', 'have', 'our', 'final', 'statements', 'martin']\n",
            "['no', 'actually', 'it', 'was', 'a', 'little', 'of', 'both', 'sometimes', 'when', 'a', 'disease', 'is', 'in', 'all', 'the', 'magazines', 'and', 'all', 'the', 'news', 'shows', 'its', 'only', 'natural', 'that', 'you', 'think', 'you', 'have', 'it', 'wheres', 'mr', 'bergstrom', 'i', 'dont', 'know', 'although', 'id', 'sure', 'like', 'to', 'talk', 'to', 'him', 'he', 'didnt', 'touch', 'my', 'lesson', 'plan', 'what', 'did', 'he', 'teach', 'you', 'that', 'life', 'is', 'worth', 'living', 'the', 'polls', 'will', 'be', 'open', 'from', 'now', 'until', 'the', 'end', 'of', 'recess', 'now', 'just', 'in', 'case', 'any', 'of', 'you', 'have', 'decided', 'to', 'put', 'any', 'thought', 'into', 'this', 'well', 'have', 'our', 'final', 'statements', 'martin', 'i', 'dont', 'think', 'theres', 'anything', 'left', 'to', 'say']\n",
            "['no', 'actually', 'it', 'was', 'a', 'little', 'of', 'both', 'sometimes', 'when', 'a', 'disease', 'is', 'in', 'all', 'the', 'magazines', 'and', 'all', 'the', 'news', 'shows', 'its', 'only', 'natural', 'that', 'you', 'think', 'you', 'have', 'it', 'wheres', 'mr', 'bergstrom', 'i', 'dont', 'know', 'although', 'id', 'sure', 'like', 'to', 'talk', 'to', 'him', 'he', 'didnt', 'touch', 'my', 'lesson', 'plan', 'what', 'did', 'he', 'teach', 'you', 'that', 'life', 'is', 'worth', 'living', 'the', 'polls', 'will', 'be', 'open', 'from', 'now', 'until', 'the', 'end', 'of', 'recess', 'now', 'just', 'in', 'case', 'any', 'of', 'you', 'have', 'decided', 'to', 'put', 'any', 'thought', 'into', 'this', 'well', 'have', 'our', 'final', 'statements', 'martin', 'i', 'dont', 'think', 'theres', 'anything', 'left', 'to', 'say', 'bart']\n",
            "['no', 'actually', 'it', 'was', 'a', 'little', 'of', 'both', 'sometimes', 'when', 'a', 'disease', 'is', 'in', 'all', 'the', 'magazines', 'and', 'all', 'the', 'news', 'shows', 'its', 'only', 'natural', 'that', 'you', 'think', 'you', 'have', 'it', 'wheres', 'mr', 'bergstrom', 'i', 'dont', 'know', 'although', 'id', 'sure', 'like', 'to', 'talk', 'to', 'him', 'he', 'didnt', 'touch', 'my', 'lesson', 'plan', 'what', 'did', 'he', 'teach', 'you', 'that', 'life', 'is', 'worth', 'living', 'the', 'polls', 'will', 'be', 'open', 'from', 'now', 'until', 'the', 'end', 'of', 'recess', 'now', 'just', 'in', 'case', 'any', 'of', 'you', 'have', 'decided', 'to', 'put', 'any', 'thought', 'into', 'this', 'well', 'have', 'our', 'final', 'statements', 'martin', 'i', 'dont', 'think', 'theres', 'anything', 'left', 'to', 'say', 'bart', 'victory', 'party', 'under', 'the', 'slide']\n"
          ],
          "name": "stdout"
        },
        {
          "output_type": "error",
          "ename": "TypeError",
          "evalue": "ignored",
          "traceback": [
            "\u001b[0;31m---------------------------------------------------------------------------\u001b[0m",
            "\u001b[0;31mTypeError\u001b[0m                                 Traceback (most recent call last)",
            "\u001b[0;32m<ipython-input-79-71a4f39c4f98>\u001b[0m in \u001b[0;36m<module>\u001b[0;34m()\u001b[0m\n\u001b[1;32m      3\u001b[0m \u001b[0;32mfor\u001b[0m \u001b[0mtoken\u001b[0m \u001b[0;32min\u001b[0m \u001b[0mspoken_words_lists\u001b[0m\u001b[0;34m:\u001b[0m\u001b[0;34m\u001b[0m\u001b[0;34m\u001b[0m\u001b[0m\n\u001b[1;32m      4\u001b[0m   \u001b[0;31m#print(token)\u001b[0m\u001b[0;34m\u001b[0m\u001b[0;34m\u001b[0m\u001b[0;34m\u001b[0m\u001b[0m\n\u001b[0;32m----> 5\u001b[0;31m   \u001b[0mtokens\u001b[0m \u001b[0;34m+=\u001b[0m \u001b[0mtoken\u001b[0m\u001b[0;34m\u001b[0m\u001b[0;34m\u001b[0m\u001b[0m\n\u001b[0m\u001b[1;32m      6\u001b[0m   \u001b[0mprint\u001b[0m\u001b[0;34m(\u001b[0m\u001b[0mtokens\u001b[0m\u001b[0;34m)\u001b[0m\u001b[0;34m\u001b[0m\u001b[0;34m\u001b[0m\u001b[0m\n",
            "\u001b[0;31mTypeError\u001b[0m: 'float' object is not iterable"
          ]
        }
      ]
    },
    {
      "cell_type": "code",
      "metadata": {
        "id": "3CrEDTIYRSl7"
      },
      "source": [
        "counter = Counter(tokens)\n",
        "most_frequent = counter.most_common(20)\n",
        "print(most_frequent)"
      ],
      "execution_count": null,
      "outputs": []
    },
    {
      "cell_type": "code",
      "metadata": {
        "id": "J_2_DmpPljG7"
      },
      "source": [
        "#### draw a bar plot with the x axis as the words and the y axis as the frequencys\n",
        "x = []\n",
        "y = []\n",
        "for i in range(len(most_frequent)):\n",
        "    x.append(most_frequent[i][0])\n",
        "    y.append(most_frequent[i][1])\n",
        "\n",
        "plt.bar(x, y)\n",
        "plt.xticks(rotation=90)"
      ],
      "execution_count": null,
      "outputs": []
    },
    {
      "cell_type": "markdown",
      "metadata": {
        "id": "yTTfx3h7ljG7"
      },
      "source": [
        "Generate a word cloud to visualize the frequencies:\n",
        "A word cloud is a graphical representation of frequently used words in the normalized text.\n",
        "The height of each word in this picture is an indication of the frequency of occurrence of the word in the entire text.\n",
        "You will need to install the package `wordcloud`.\n",
        "To achieve a homogeneous output, set the `max_words` to 100 and `max_font_size` to 60.\n",
        "Make sure the same word does not appear more than once."
      ]
    },
    {
      "cell_type": "code",
      "metadata": {
        "id": "dVwn2sPuljG8"
      },
      "source": [
        "from wordcloud import WordCloud"
      ],
      "execution_count": 37,
      "outputs": []
    },
    {
      "cell_type": "code",
      "metadata": {
        "id": "J-d6X0ZmljG8"
      },
      "source": [
        "wordcloud = WordCloud( max_font_size= 60, max_words=100 , background_color='orange'\n",
        "    #### your code ####\n",
        ").generate(common_words)\n",
        "\n",
        "fig = plt.figure(1, figsize=(12, 12)) \n",
        "plt.imshow(wordcloud, interpolation=\"bilinear\")"
      ],
      "execution_count": null,
      "outputs": []
    },
    {
      "cell_type": "markdown",
      "metadata": {
        "id": "ctuZcTuhljG8"
      },
      "source": [
        "### Sub-Task 3: Common Named Entities \n",
        "Apply named entity recognition using SpaCy and generate a word cloud of the top 50\n",
        "named entities that have the type `PERSON`, using the same approach\n",
        "for visualization as above. Take into account that you cannot simply use the\n",
        "output of the previous step and need to undo the stemming. Since the named entity\n",
        "recognition takes quite some time, use only the first `10000` scripts."
      ]
    },
    {
      "cell_type": "code",
      "metadata": {
        "id": "nK0LZ3Cc-Fww"
      },
      "source": [
        "spoken_words = df_script.spoken_words.dropna().iloc[:10000]"
      ],
      "execution_count": 212,
      "outputs": []
    },
    {
      "cell_type": "code",
      "metadata": {
        "id": "ML1RawYr-HYU"
      },
      "source": [
        "nlp = spacy.load(\"en_core_web_sm\")"
      ],
      "execution_count": 6,
      "outputs": []
    },
    {
      "cell_type": "code",
      "metadata": {
        "id": "ECSxSCP3-Q_J"
      },
      "source": [
        "from collections import defaultdict"
      ],
      "execution_count": 214,
      "outputs": []
    },
    {
      "cell_type": "code",
      "metadata": {
        "id": "mIn4CpM--YQa"
      },
      "source": [
        "pos_tags_list = defaultdict(list)"
      ],
      "execution_count": 215,
      "outputs": []
    },
    {
      "cell_type": "code",
      "metadata": {
        "id": "nJzlqKZs-b61"
      },
      "source": [
        "for spoken_word in spoken_words.values:\n",
        "    for word in nlp(spoken_word):\n",
        "        pos_tag = word.ent_type_\n",
        "        word_text = word.text\n",
        "        pos_tags_list[pos_tag].append(word_text)"
      ],
      "execution_count": 216,
      "outputs": []
    },
    {
      "cell_type": "code",
      "metadata": {
        "id": "ha1AH70n_Vir"
      },
      "source": [
        "pos_tags_counts = Counter(pos_tags_list['PERSON'])"
      ],
      "execution_count": 217,
      "outputs": []
    },
    {
      "cell_type": "code",
      "metadata": {
        "colab": {
          "base_uri": "https://localhost:8080/",
          "height": 383
        },
        "id": "EoD2hVQMljG9",
        "outputId": "99fa2d7e-3394-4a80-e318-5706d000f6da"
      },
      "source": [
        "fig = plt.figure(1, figsize=(12, 12))\n",
        "plt.axis(\"off\")\n",
        "plt.imshow(WordCloud(max_words=50, ).generate_from_frequencies(pos_tags_counts), interpolation=\"bilinear\")"
      ],
      "execution_count": 223,
      "outputs": [
        {
          "output_type": "execute_result",
          "data": {
            "text/plain": [
              "<matplotlib.image.AxesImage at 0x7f975cf186a0>"
            ]
          },
          "metadata": {
            "tags": []
          },
          "execution_count": 223
        },
        {
          "output_type": "display_data",
          "data": {
            "image/png": "[encoded data removed]",
            "text/plain": [
              "<Figure size 864x864 with 1 Axes>"
            ]
          },
          "metadata": {
            "tags": [],
            "needs_background": "light"
          }
        }
      ]
    },
    {
      "cell_type": "markdown",
      "metadata": {
        "id": "sEe7d0T3ljG9"
      },
      "source": [
        "How well does the named entity recognition work? Do you notice some strange \"people\" in there?"
      ]
    },
    {
      "cell_type": "markdown",
      "metadata": {
        "id": "2sOAS-0VljG9"
      },
      "source": [
        "### Sub Task 4 : Sophistication of Speech\n",
        " "
      ]
    },
    {
      "cell_type": "markdown",
      "metadata": {
        "id": "tOgty6lTljG-"
      },
      "source": [
        "Take into account the top 10 characters from the first subtask (based on line count), it is interesting to see whether there are big differences in the sophistication of speech or vocabulary size between the characters.\n",
        "To measure this, we turn to the Flesch Reading Ease. Although designed for written text we use it here on spoken words.\n",
        "This measures indicates how difficult a passage in English is to understand and is based on a ranking scale of 0-100, where higher scores indicate material that is easier to read; lower numbers mark passages that are more difficult to read.\n",
        "For more information look at the [wiki page](https://en.wikipedia.org/wiki/Flesch%E2%80%93Kincaid_readability_tests).\n",
        "\n",
        "$206.835 - 1.015 \\times \\frac{total words}{total sentences} - 84.6 \\times \\frac{total syllables}{total words}$\n",
        "\n",
        "For syllable counts, download `cmudict` from the NLTK library and count the vowel sounds from the Carnegie Mellon Pronouncing Dictionary (cmudict).\n",
        "Then count vowel sounds in each word, if a word is not in the dictionary do not count it in.\n",
        "CMUdict marks each vowel with a stress tag, 0 (unstressed), 1 (stressed), or 2 (secondary stress)."
      ]
    },
    {
      "cell_type": "code",
      "metadata": {
        "colab": {
          "base_uri": "https://localhost:8080/",
          "height": 441
        },
        "id": "HH0brOB9ljG-",
        "outputId": "30d44756-5687-43a9-a38d-7712d0af05ea"
      },
      "source": [
        "import nltk\n",
        "nltk.download('cmudict')\n",
        "from nltk.corpus import cmudict\n",
        "phoneme_dict = dict(cmudict.entries())\n",
        "nlp = spacy.load(\"en_core_web_sm\", disable=[\"trager\", \"parser\", \"ner\"])# load the same spacy model again, with tagger, parser and ner disabled.\n",
        "nlp.add_pipe(nlp.create_pipe('sentencizer'))\n",
        "\n",
        "def syllable_counter(word):\n",
        "    ### functionn that counts a syllable in a word### \n",
        "    count = 0\n",
        "    entiries = [ent[1] for ent in cmudict.entries() if ent[0] == word]\n",
        "    if (entiries):\n",
        "        s = len([y for y in entiries[0] if y[-1].isdigit()])\n",
        "        return count\n",
        "    else:\n",
        "        return 0\n",
        "def total_sylls(x):\n",
        "    ### function to use with apply method, to count the total number of syllable in line of a script###    \n",
        "    if(type(x) == float): \n",
        "        return 0\n",
        "    else:\n",
        "        count=0\n",
        "        for word in str(x).split():\n",
        "            count += syllable_counter(word)\n",
        "        return count\n",
        "    \n",
        "def sentence_count(x):\n",
        "    ### function to use with apply method, to count the total number of sentences in line of a script \n",
        "    if(type(x) == float): ### to avoid nan\n",
        "        return 0\n",
        "    else:\n",
        "        doc = nlp(x)\n",
        "        count = 0\n",
        "        for sent in doc.sents:\n",
        "            count +=1\n",
        "    return count\n",
        "\n",
        "df_script['syllable_count'] = df_script['spoken_words'].apply(total_sylls)   \n",
        "df_script['sentence_count'] = df_script['spoken_words'].apply(sentence_count)\n",
        "\n",
        "top_characters_counts = df_script[2:3].groupby('character_id').aggregate({'sentence_count': 'sum','word_count': 'sum'})#,'syllable_count':'sum'})\n",
        "top_characters_counts = top_characters_counts.head(10) ## get top 10\n",
        "\n",
        "merge_data_words_sub = (pd.merge(top_characters_counts, df_characters[['id','name']], left_on='character_id', right_on='id', how='left').drop('id', axis=1)) ### merge with df_characters to find the character nanmes \n",
        "\n",
        "### draw plot \n",
        "merge_data_words_sub.plot.bar(x='name', y=['sentence_count','word_count','syllable_count']) # 'syllable_count'"
      ],
      "execution_count": 6,
      "outputs": [
        {
          "output_type": "stream",
          "text": [
            "[nltk_data] Downloading package cmudict to /root/nltk_data...\n",
            "[nltk_data]   Package cmudict is already up-to-date!\n"
          ],
          "name": "stdout"
        },
        {
          "output_type": "error",
          "ename": "KeyboardInterrupt",
          "evalue": "ignored",
          "traceback": [
            "\u001b[0;31m---------------------------------------------------------------------------\u001b[0m",
            "\u001b[0;31mKeyboardInterrupt\u001b[0m                         Traceback (most recent call last)",
            "\u001b[0;32m<ipython-input-6-7a6f04c1a434>\u001b[0m in \u001b[0;36m<module>\u001b[0;34m()\u001b[0m\n\u001b[1;32m     36\u001b[0m     \u001b[0;32mreturn\u001b[0m \u001b[0mcount\u001b[0m\u001b[0;34m\u001b[0m\u001b[0;34m\u001b[0m\u001b[0m\n\u001b[1;32m     37\u001b[0m \u001b[0;34m\u001b[0m\u001b[0m\n\u001b[0;32m---> 38\u001b[0;31m \u001b[0mdf_script\u001b[0m\u001b[0;34m[\u001b[0m\u001b[0;34m'syllable_count'\u001b[0m\u001b[0;34m]\u001b[0m \u001b[0;34m=\u001b[0m \u001b[0mdf_script\u001b[0m\u001b[0;34m[\u001b[0m\u001b[0;34m'spoken_words'\u001b[0m\u001b[0;34m]\u001b[0m\u001b[0;34m.\u001b[0m\u001b[0mapply\u001b[0m\u001b[0;34m(\u001b[0m\u001b[0mtotal_sylls\u001b[0m\u001b[0;34m)\u001b[0m\u001b[0;34m\u001b[0m\u001b[0;34m\u001b[0m\u001b[0m\n\u001b[0m\u001b[1;32m     39\u001b[0m \u001b[0mdf_script\u001b[0m\u001b[0;34m[\u001b[0m\u001b[0;34m'sentence_count'\u001b[0m\u001b[0;34m]\u001b[0m \u001b[0;34m=\u001b[0m \u001b[0mdf_script\u001b[0m\u001b[0;34m[\u001b[0m\u001b[0;34m'spoken_words'\u001b[0m\u001b[0;34m]\u001b[0m\u001b[0;34m.\u001b[0m\u001b[0mapply\u001b[0m\u001b[0;34m(\u001b[0m\u001b[0msentence_count\u001b[0m\u001b[0;34m)\u001b[0m\u001b[0;34m\u001b[0m\u001b[0;34m\u001b[0m\u001b[0m\n\u001b[1;32m     40\u001b[0m \u001b[0;34m\u001b[0m\u001b[0m\n",
            "\u001b[0;32m/usr/local/lib/python3.6/dist-packages/pandas/core/series.py\u001b[0m in \u001b[0;36mapply\u001b[0;34m(self, func, convert_dtype, args, **kwds)\u001b[0m\n\u001b[1;32m   4211\u001b[0m             \u001b[0;32melse\u001b[0m\u001b[0;34m:\u001b[0m\u001b[0;34m\u001b[0m\u001b[0;34m\u001b[0m\u001b[0m\n\u001b[1;32m   4212\u001b[0m                 \u001b[0mvalues\u001b[0m \u001b[0;34m=\u001b[0m \u001b[0mself\u001b[0m\u001b[0;34m.\u001b[0m\u001b[0mastype\u001b[0m\u001b[0;34m(\u001b[0m\u001b[0mobject\u001b[0m\u001b[0;34m)\u001b[0m\u001b[0;34m.\u001b[0m\u001b[0m_values\u001b[0m\u001b[0;34m\u001b[0m\u001b[0;34m\u001b[0m\u001b[0m\n\u001b[0;32m-> 4213\u001b[0;31m                 \u001b[0mmapped\u001b[0m \u001b[0;34m=\u001b[0m \u001b[0mlib\u001b[0m\u001b[0;34m.\u001b[0m\u001b[0mmap_infer\u001b[0m\u001b[0;34m(\u001b[0m\u001b[0mvalues\u001b[0m\u001b[0;34m,\u001b[0m \u001b[0mf\u001b[0m\u001b[0;34m,\u001b[0m \u001b[0mconvert\u001b[0m\u001b[0;34m=\u001b[0m\u001b[0mconvert_dtype\u001b[0m\u001b[0;34m)\u001b[0m\u001b[0;34m\u001b[0m\u001b[0;34m\u001b[0m\u001b[0m\n\u001b[0m\u001b[1;32m   4214\u001b[0m \u001b[0;34m\u001b[0m\u001b[0m\n\u001b[1;32m   4215\u001b[0m         \u001b[0;32mif\u001b[0m \u001b[0mlen\u001b[0m\u001b[0;34m(\u001b[0m\u001b[0mmapped\u001b[0m\u001b[0;34m)\u001b[0m \u001b[0;32mand\u001b[0m \u001b[0misinstance\u001b[0m\u001b[0;34m(\u001b[0m\u001b[0mmapped\u001b[0m\u001b[0;34m[\u001b[0m\u001b[0;36m0\u001b[0m\u001b[0;34m]\u001b[0m\u001b[0;34m,\u001b[0m \u001b[0mSeries\u001b[0m\u001b[0;34m)\u001b[0m\u001b[0;34m:\u001b[0m\u001b[0;34m\u001b[0m\u001b[0;34m\u001b[0m\u001b[0m\n",
            "\u001b[0;32mpandas/_libs/lib.pyx\u001b[0m in \u001b[0;36mpandas._libs.lib.map_infer\u001b[0;34m()\u001b[0m\n",
            "\u001b[0;32m<ipython-input-6-7a6f04c1a434>\u001b[0m in \u001b[0;36mtotal_sylls\u001b[0;34m(x)\u001b[0m\n\u001b[1;32m     22\u001b[0m         \u001b[0mcount\u001b[0m\u001b[0;34m=\u001b[0m\u001b[0;36m0\u001b[0m\u001b[0;34m\u001b[0m\u001b[0;34m\u001b[0m\u001b[0m\n\u001b[1;32m     23\u001b[0m         \u001b[0;32mfor\u001b[0m \u001b[0mword\u001b[0m \u001b[0;32min\u001b[0m \u001b[0mstr\u001b[0m\u001b[0;34m(\u001b[0m\u001b[0mx\u001b[0m\u001b[0;34m)\u001b[0m\u001b[0;34m.\u001b[0m\u001b[0msplit\u001b[0m\u001b[0;34m(\u001b[0m\u001b[0;34m)\u001b[0m\u001b[0;34m:\u001b[0m\u001b[0;34m\u001b[0m\u001b[0;34m\u001b[0m\u001b[0m\n\u001b[0;32m---> 24\u001b[0;31m             \u001b[0mcount\u001b[0m \u001b[0;34m+=\u001b[0m \u001b[0msyllable_counter\u001b[0m\u001b[0;34m(\u001b[0m\u001b[0mword\u001b[0m\u001b[0;34m)\u001b[0m\u001b[0;34m\u001b[0m\u001b[0;34m\u001b[0m\u001b[0m\n\u001b[0m\u001b[1;32m     25\u001b[0m         \u001b[0;32mreturn\u001b[0m \u001b[0mcount\u001b[0m\u001b[0;34m\u001b[0m\u001b[0;34m\u001b[0m\u001b[0m\n\u001b[1;32m     26\u001b[0m \u001b[0;34m\u001b[0m\u001b[0m\n",
            "\u001b[0;32m<ipython-input-6-7a6f04c1a434>\u001b[0m in \u001b[0;36msyllable_counter\u001b[0;34m(word)\u001b[0m\n\u001b[1;32m      9\u001b[0m     \u001b[0;31m### functionn that counts a syllable in a word###\u001b[0m\u001b[0;34m\u001b[0m\u001b[0;34m\u001b[0m\u001b[0;34m\u001b[0m\u001b[0m\n\u001b[1;32m     10\u001b[0m     \u001b[0mcount\u001b[0m \u001b[0;34m=\u001b[0m \u001b[0;36m0\u001b[0m\u001b[0;34m\u001b[0m\u001b[0;34m\u001b[0m\u001b[0m\n\u001b[0;32m---> 11\u001b[0;31m     \u001b[0mentiries\u001b[0m \u001b[0;34m=\u001b[0m \u001b[0;34m[\u001b[0m\u001b[0ment\u001b[0m\u001b[0;34m[\u001b[0m\u001b[0;36m1\u001b[0m\u001b[0;34m]\u001b[0m \u001b[0;32mfor\u001b[0m \u001b[0ment\u001b[0m \u001b[0;32min\u001b[0m \u001b[0mcmudict\u001b[0m\u001b[0;34m.\u001b[0m\u001b[0mentries\u001b[0m\u001b[0;34m(\u001b[0m\u001b[0;34m)\u001b[0m \u001b[0;32mif\u001b[0m \u001b[0ment\u001b[0m\u001b[0;34m[\u001b[0m\u001b[0;36m0\u001b[0m\u001b[0;34m]\u001b[0m \u001b[0;34m==\u001b[0m \u001b[0mword\u001b[0m\u001b[0;34m]\u001b[0m\u001b[0;34m\u001b[0m\u001b[0;34m\u001b[0m\u001b[0m\n\u001b[0m\u001b[1;32m     12\u001b[0m     \u001b[0;32mif\u001b[0m \u001b[0;34m(\u001b[0m\u001b[0mentiries\u001b[0m\u001b[0;34m)\u001b[0m\u001b[0;34m:\u001b[0m\u001b[0;34m\u001b[0m\u001b[0;34m\u001b[0m\u001b[0m\n\u001b[1;32m     13\u001b[0m         \u001b[0ms\u001b[0m \u001b[0;34m=\u001b[0m \u001b[0mlen\u001b[0m\u001b[0;34m(\u001b[0m\u001b[0;34m[\u001b[0m\u001b[0my\u001b[0m \u001b[0;32mfor\u001b[0m \u001b[0my\u001b[0m \u001b[0;32min\u001b[0m \u001b[0mentiries\u001b[0m\u001b[0;34m[\u001b[0m\u001b[0;36m0\u001b[0m\u001b[0;34m]\u001b[0m \u001b[0;32mif\u001b[0m \u001b[0my\u001b[0m\u001b[0;34m[\u001b[0m\u001b[0;34m-\u001b[0m\u001b[0;36m1\u001b[0m\u001b[0;34m]\u001b[0m\u001b[0;34m.\u001b[0m\u001b[0misdigit\u001b[0m\u001b[0;34m(\u001b[0m\u001b[0;34m)\u001b[0m\u001b[0;34m]\u001b[0m\u001b[0;34m)\u001b[0m\u001b[0;34m\u001b[0m\u001b[0;34m\u001b[0m\u001b[0m\n",
            "\u001b[0;32m<ipython-input-6-7a6f04c1a434>\u001b[0m in \u001b[0;36m<listcomp>\u001b[0;34m(.0)\u001b[0m\n\u001b[1;32m      9\u001b[0m     \u001b[0;31m### functionn that counts a syllable in a word###\u001b[0m\u001b[0;34m\u001b[0m\u001b[0;34m\u001b[0m\u001b[0;34m\u001b[0m\u001b[0m\n\u001b[1;32m     10\u001b[0m     \u001b[0mcount\u001b[0m \u001b[0;34m=\u001b[0m \u001b[0;36m0\u001b[0m\u001b[0;34m\u001b[0m\u001b[0;34m\u001b[0m\u001b[0m\n\u001b[0;32m---> 11\u001b[0;31m     \u001b[0mentiries\u001b[0m \u001b[0;34m=\u001b[0m \u001b[0;34m[\u001b[0m\u001b[0ment\u001b[0m\u001b[0;34m[\u001b[0m\u001b[0;36m1\u001b[0m\u001b[0;34m]\u001b[0m \u001b[0;32mfor\u001b[0m \u001b[0ment\u001b[0m \u001b[0;32min\u001b[0m \u001b[0mcmudict\u001b[0m\u001b[0;34m.\u001b[0m\u001b[0mentries\u001b[0m\u001b[0;34m(\u001b[0m\u001b[0;34m)\u001b[0m \u001b[0;32mif\u001b[0m \u001b[0ment\u001b[0m\u001b[0;34m[\u001b[0m\u001b[0;36m0\u001b[0m\u001b[0;34m]\u001b[0m \u001b[0;34m==\u001b[0m \u001b[0mword\u001b[0m\u001b[0;34m]\u001b[0m\u001b[0;34m\u001b[0m\u001b[0;34m\u001b[0m\u001b[0m\n\u001b[0m\u001b[1;32m     12\u001b[0m     \u001b[0;32mif\u001b[0m \u001b[0;34m(\u001b[0m\u001b[0mentiries\u001b[0m\u001b[0;34m)\u001b[0m\u001b[0;34m:\u001b[0m\u001b[0;34m\u001b[0m\u001b[0;34m\u001b[0m\u001b[0m\n\u001b[1;32m     13\u001b[0m         \u001b[0ms\u001b[0m \u001b[0;34m=\u001b[0m \u001b[0mlen\u001b[0m\u001b[0;34m(\u001b[0m\u001b[0;34m[\u001b[0m\u001b[0my\u001b[0m \u001b[0;32mfor\u001b[0m \u001b[0my\u001b[0m \u001b[0;32min\u001b[0m \u001b[0mentiries\u001b[0m\u001b[0;34m[\u001b[0m\u001b[0;36m0\u001b[0m\u001b[0;34m]\u001b[0m \u001b[0;32mif\u001b[0m \u001b[0my\u001b[0m\u001b[0;34m[\u001b[0m\u001b[0;34m-\u001b[0m\u001b[0;36m1\u001b[0m\u001b[0;34m]\u001b[0m\u001b[0;34m.\u001b[0m\u001b[0misdigit\u001b[0m\u001b[0;34m(\u001b[0m\u001b[0;34m)\u001b[0m\u001b[0;34m]\u001b[0m\u001b[0;34m)\u001b[0m\u001b[0;34m\u001b[0m\u001b[0;34m\u001b[0m\u001b[0m\n",
            "\u001b[0;32m/usr/local/lib/python3.6/dist-packages/nltk/corpus/reader/util.py\u001b[0m in \u001b[0;36miterate_from\u001b[0;34m(self, start_tok)\u001b[0m\n\u001b[1;32m    294\u001b[0m             \u001b[0mself\u001b[0m\u001b[0;34m.\u001b[0m\u001b[0m_current_toknum\u001b[0m \u001b[0;34m=\u001b[0m \u001b[0mtoknum\u001b[0m\u001b[0;34m\u001b[0m\u001b[0;34m\u001b[0m\u001b[0m\n\u001b[1;32m    295\u001b[0m             \u001b[0mself\u001b[0m\u001b[0;34m.\u001b[0m\u001b[0m_current_blocknum\u001b[0m \u001b[0;34m=\u001b[0m \u001b[0mblock_index\u001b[0m\u001b[0;34m\u001b[0m\u001b[0;34m\u001b[0m\u001b[0m\n\u001b[0;32m--> 296\u001b[0;31m             \u001b[0mtokens\u001b[0m \u001b[0;34m=\u001b[0m \u001b[0mself\u001b[0m\u001b[0;34m.\u001b[0m\u001b[0mread_block\u001b[0m\u001b[0;34m(\u001b[0m\u001b[0mself\u001b[0m\u001b[0;34m.\u001b[0m\u001b[0m_stream\u001b[0m\u001b[0;34m)\u001b[0m\u001b[0;34m\u001b[0m\u001b[0;34m\u001b[0m\u001b[0m\n\u001b[0m\u001b[1;32m    297\u001b[0m             assert isinstance(tokens, (tuple, list, AbstractLazySequence)), (\n\u001b[1;32m    298\u001b[0m                 \u001b[0;34m'block reader %s() should return list or tuple.'\u001b[0m \u001b[0;34m%\u001b[0m\u001b[0;34m\u001b[0m\u001b[0;34m\u001b[0m\u001b[0m\n",
            "\u001b[0;32m/usr/local/lib/python3.6/dist-packages/nltk/corpus/reader/cmudict.py\u001b[0m in \u001b[0;36mread_cmudict_block\u001b[0;34m(stream)\u001b[0m\n\u001b[1;32m     94\u001b[0m         \u001b[0;32mif\u001b[0m \u001b[0mline\u001b[0m \u001b[0;34m==\u001b[0m \u001b[0;34m''\u001b[0m\u001b[0;34m:\u001b[0m \u001b[0;32mreturn\u001b[0m \u001b[0mentries\u001b[0m \u001b[0;31m# end of file.\u001b[0m\u001b[0;34m\u001b[0m\u001b[0;34m\u001b[0m\u001b[0m\n\u001b[1;32m     95\u001b[0m         \u001b[0mpieces\u001b[0m \u001b[0;34m=\u001b[0m \u001b[0mline\u001b[0m\u001b[0;34m.\u001b[0m\u001b[0msplit\u001b[0m\u001b[0;34m(\u001b[0m\u001b[0;34m)\u001b[0m\u001b[0;34m\u001b[0m\u001b[0;34m\u001b[0m\u001b[0m\n\u001b[0;32m---> 96\u001b[0;31m         \u001b[0mentries\u001b[0m\u001b[0;34m.\u001b[0m\u001b[0mappend\u001b[0m\u001b[0;34m(\u001b[0m \u001b[0;34m(\u001b[0m\u001b[0mpieces\u001b[0m\u001b[0;34m[\u001b[0m\u001b[0;36m0\u001b[0m\u001b[0;34m]\u001b[0m\u001b[0;34m.\u001b[0m\u001b[0mlower\u001b[0m\u001b[0;34m(\u001b[0m\u001b[0;34m)\u001b[0m\u001b[0;34m,\u001b[0m \u001b[0mpieces\u001b[0m\u001b[0;34m[\u001b[0m\u001b[0;36m2\u001b[0m\u001b[0;34m:\u001b[0m\u001b[0;34m]\u001b[0m\u001b[0;34m)\u001b[0m \u001b[0;34m)\u001b[0m\u001b[0;34m\u001b[0m\u001b[0;34m\u001b[0m\u001b[0m\n\u001b[0m\u001b[1;32m     97\u001b[0m     \u001b[0;32mreturn\u001b[0m \u001b[0mentries\u001b[0m\u001b[0;34m\u001b[0m\u001b[0;34m\u001b[0m\u001b[0m\n",
            "\u001b[0;31mKeyboardInterrupt\u001b[0m: "
          ]
        }
      ]
    },
    {
      "cell_type": "markdown",
      "metadata": {
        "id": "8tUVo5S-ljG_"
      },
      "source": [
        "## Task 2: TF-IDF ( 3 + 4 = 7 points)\n"
      ]
    },
    {
      "cell_type": "markdown",
      "metadata": {
        "id": "YFO2tKF5ljG_"
      },
      "source": [
        "## Sub Task 1: \n",
        "Despite all the preprocessing, so far the top words we looked at are not so informative.\n",
        "We wish to find out the important words that are spoken by the top characters.\n",
        "For example, the youngest of the family should have \"mom\" as an important word.\n",
        "We looked at the Term Frequency - Inverse Document Frequency (TF-IDF) weighting in the lecture, so let's use that here to detect the most important words per character.\n",
        "In this case, each script line is a document for a certain character who spoke the words.\n",
        "Use `CountVectorizer` and `TfidfTransformers` from scikit-learn, and use the scikit-learn stop word list to remove stop words and remove the words with a frequency less than 5 from the analysis.\n",
        "Then plot the TF-IDF values for the top 10 words for Homer, Marge, Bart, and Lisa Simpson as a bar plot."
      ]
    },
    {
      "cell_type": "code",
      "metadata": {
        "id": "VwpXN4mMljHA"
      },
      "source": [
        "from sklearn.feature_extraction.text import CountVectorizer\n",
        "from sklearn.feature_extraction.text import TfidfTransformer\n",
        "del df_script['id']\n",
        "df_script = df_script.rename(columns = {'character_id':'id'})  # to merge easily"
      ],
      "execution_count": 28,
      "outputs": []
    },
    {
      "cell_type": "code",
      "metadata": {
        "colab": {
          "base_uri": "https://localhost:8080/",
          "height": 1000
        },
        "id": "Hpv6iIgeljHA",
        "outputId": "d2181780-5aab-42c2-88ce-5254ed8de22a"
      },
      "source": [
        "merged_data = df_script.take([5,7,9],axis=1).rename(columns= {'raw_character_text': 'name'}).dropna()#merge the dataframes to the characters to get the names and drop nan values\n",
        "\n",
        "for name in ['Homer Simpson', 'Marge Simpson', 'Bart Simpson', 'Lisa Simpson']:\n",
        "    ##### Your code ######\n",
        "    count_vectorized = CountVectorizer()\n",
        "    transformer = TfidfTransformer()\n",
        "    df_ = merged_data[merged_data['name'] == name]\n",
        "    text_list = df_.loc[:,'spoken_words'].str.lower().str.replace(r'[^\\w\\s]+',\"\")\n",
        "    text_ = []\n",
        "    for sent in text_list:\n",
        "        text_.append(sent)\n",
        "    vectorizer = CountVectorizer(stop_words='english',min_df=5)\n",
        "    term_frequencies = vectorizer.fit_transform(text_)\n",
        "    vocab = vectorizer.get_feature_names()\n",
        "    term_frequencies = term_frequencies.toarray()\n",
        "    \n",
        "    tfidf_transformer =transformer.fit(term_frequencies)\n",
        "    df_idf = pd.DataFrame(tfidf_transformer.idf_, index=vectorizer.get_feature_names(),columns=[\"most_frequent\"]) \n",
        "    most_freq = df_idf.sort_values(by=[\"most_frequent\"]).head(10)    \n",
        "    most_freq.plot( kind='bar', title = name)\n",
        "    ### Don't forget that you need the tfidf values for a single word averaged across documents ####"
      ],
      "execution_count": 29,
      "outputs": [
        {
          "output_type": "display_data",
          "data": {
            "image/png": "[encoded data removed]",
            "text/plain": [
              "<Figure size 432x288 with 1 Axes>"
            ]
          },
          "metadata": {
            "tags": [],
            "needs_background": "light"
          }
        },
        {
          "output_type": "display_data",
          "data": {
            "image/png": "[encoded data removed]",
            "text/plain": [
              "<Figure size 432x288 with 1 Axes>"
            ]
          },
          "metadata": {
            "tags": [],
            "needs_background": "light"
          }
        },
        {
          "output_type": "display_data",
          "data": {
            "image/png": "[encoded data removed]",
            "text/plain": [
              "<Figure size 432x288 with 1 Axes>"
            ]
          },
          "metadata": {
            "tags": [],
            "needs_background": "light"
          }
        },
        {
          "output_type": "display_data",
          "data": {
            "image/png": "[encoded data removed]",
            "text/plain": [
              "<Figure size 432x288 with 1 Axes>"
            ]
          },
          "metadata": {
            "tags": [],
            "needs_background": "light"
          }
        }
      ]
    },
    {
      "cell_type": "markdown",
      "metadata": {
        "id": "KD6dZZqzljHA"
      },
      "source": [
        "If you did the exercise correctly, \"mom\" and \"dad\" should be among the top words for the childern and \"homer\" should be the top word for Marge, since this is what she calls her husband."
      ]
    },
    {
      "cell_type": "markdown",
      "metadata": {
        "id": "mb9XGGFuljHA"
      },
      "source": [
        "## Sub Task 2: \n",
        "If we consider the spoken words from each character a document of its own, we can generate 4 documents (by concatenation of all dialogs) for Homer, Marge, Bart, and Lisa Simpson, and create document vectors from those.\n",
        "Let's take a look at how the values in these vectors are distributed. Use  `sns.heatmap` from the seaborn package to show the vectors of the 4 documents for the top-20 words (set the `max_features` parameter of the `CountVectorizer` to 20).\n",
        "Compare it with the heatmap of only term frequencies of the documents. Use `fmt='g'` to print out the correct format."
      ]
    },
    {
      "cell_type": "code",
      "metadata": {
        "id": "hI99UnpzljHB"
      },
      "source": [
        "import seaborn as sns"
      ],
      "execution_count": 30,
      "outputs": []
    },
    {
      "cell_type": "code",
      "metadata": {
        "id": "lwouG8ipuX4m"
      },
      "source": [
        "text_com = []\n",
        "for name in ['Homer Simpson', 'Marge Simpson', 'Bart Simpson', 'Lisa Simpson']:\n",
        "     ##### Your code ######\n",
        "    df_ = merged_data[merged_data['name'] == name]\n",
        "    text_list = df_.loc[:,'spoken_words'][:10].str.lower().str.replace(r'[^\\w\\s]+',\"\")\n",
        "    text_ = ''\n",
        "    for sent in text_list:\n",
        "        text_+= ' '+ sent\n",
        "    text_com.append(text_)"
      ],
      "execution_count": 31,
      "outputs": []
    },
    {
      "cell_type": "code",
      "metadata": {
        "id": "u6DYZX4zuZuY"
      },
      "source": [
        "vectorizer = CountVectorizer(stop_words='english',max_features=20)\n",
        "term_frequencies = vectorizer.fit_transform(text_com)\n",
        "vocab = vectorizer.get_feature_names()\n",
        "transformer = TfidfTransformer(smooth_idf=True,use_idf=True)\n",
        "transformer.fit(term_frequencies)\n",
        "count_vectorized = vectorizer.transform(text_com)\n",
        "tfidf_vector = transformer.transform(count_vectorized)"
      ],
      "execution_count": 32,
      "outputs": []
    },
    {
      "cell_type": "code",
      "metadata": {
        "colab": {
          "base_uri": "https://localhost:8080/",
          "height": 392
        },
        "id": "tMRuOfyOljHB",
        "outputId": "6ae410a0-be7b-455a-c739-a7bc2c96f71f"
      },
      "source": [
        "vec = np.empty(shape=[0, 20])  \n",
        "for i in range(len(text_com)):\n",
        "    i_doc_vector = tfidf_vector[i]\n",
        "    a = i_doc_vector.toarray()\n",
        "    a =a[0]\n",
        "    vec = np.append(vec , np.array([a]), axis=0)\n",
        "fig, ax = plt.subplots(figsize=(17,6))         \n",
        "sns.heatmap(### Your tfidf weights ###\n",
        "    vec, annot=True, cbar=False, ax=ax, xticklabels=vocab,fmt='g')# top 20 words"
      ],
      "execution_count": 33,
      "outputs": [
        {
          "output_type": "execute_result",
          "data": {
            "text/plain": [
              "<matplotlib.axes._subplots.AxesSubplot at 0x7f86af1bccc0>"
            ]
          },
          "metadata": {
            "tags": []
          },
          "execution_count": 33
        },
        {
          "output_type": "display_data",
          "data": {
            "image/png": "[encoded data removed]",
            "text/plain": [
              "<Figure size 1224x432 with 1 Axes>"
            ]
          },
          "metadata": {
            "tags": [],
            "needs_background": "light"
          }
        }
      ]
    },
    {
      "cell_type": "code",
      "metadata": {
        "colab": {
          "base_uri": "https://localhost:8080/",
          "height": 392
        },
        "id": "4r4okpmVljHB",
        "outputId": "7584c2ff-29f4-4c91-eda8-b63f222be02c"
      },
      "source": [
        "fig, ax = plt.subplots(figsize=(17,6))         \n",
        "sns.heatmap(### Your count vectorizer weights ###\n",
        "    term_frequencies.toarray() , annot=True, cbar=False, ax=ax, xticklabels=vocab,fmt='g'#top 20 words\n",
        ")"
      ],
      "execution_count": 35,
      "outputs": [
        {
          "output_type": "execute_result",
          "data": {
            "text/plain": [
              "<matplotlib.axes._subplots.AxesSubplot at 0x7f86ae7ed5f8>"
            ]
          },
          "metadata": {
            "tags": []
          },
          "execution_count": 35
        },
        {
          "output_type": "display_data",
          "data": {
            "image/png": "[encoded data removed]",
            "text/plain": [
              "<Figure size 1224x432 with 1 Axes>"
            ]
          },
          "metadata": {
            "tags": [],
            "needs_background": "light"
          }
        }
      ]
    },
    {
      "cell_type": "markdown",
      "metadata": {
        "id": "vi5Yj5EzljHB"
      },
      "source": [
        "Based on the TF_IDF vectors of the top-20 words, which characters are similar?"
      ]
    },
    {
      "cell_type": "code",
      "metadata": {
        "colab": {
          "base_uri": "https://localhost:8080/"
        },
        "id": "yQqI7IaeljHB",
        "outputId": "261a82bb-6c01-40ed-d1e5-e599ec9d84a7"
      },
      "source": [
        "from sklearn.metrics import pairwise\n",
        "names = ['Homer Simpson', 'Marge Simpson', 'Bart Simpson', 'Lisa Simpson']\n",
        "cosine = pairwise.cosine_similarity ### Your code ### \n",
        "for i,name in zip(range(4),names):\n",
        "    for j,name2 in zip(range(i+1,4),names[i+1:]):\n",
        "        print('{} to {}: {}'.format(name, name2,  cosine([vec[i]],[vec[j]])))### Your code to compute cosine similarity ###))\n"
      ],
      "execution_count": 37,
      "outputs": [
        {
          "output_type": "stream",
          "text": [
            "Homer Simpson to Marge Simpson: [[0.07825176]]\n",
            "Homer Simpson to Bart Simpson: [[0.21597035]]\n",
            "Homer Simpson to Lisa Simpson: [[0.04154455]]\n",
            "Marge Simpson to Bart Simpson: [[0.1042901]]\n",
            "Marge Simpson to Lisa Simpson: [[0.01543564]]\n",
            "Bart Simpson to Lisa Simpson: [[0.02800491]]\n"
          ],
          "name": "stdout"
        }
      ]
    },
    {
      "cell_type": "markdown",
      "metadata": {
        "id": "7Bnofv1fljHC"
      },
      "source": [
        "# Task 3: Topics ( 4 + 3 = 7 points)"
      ]
    },
    {
      "cell_type": "markdown",
      "metadata": {
        "id": "oQgdLPcMljHC"
      },
      "source": [
        "It is interesting to inspect the topics often discussed in the show. We look at SVD (LSA) and NMF for topic detection."
      ]
    },
    {
      "cell_type": "markdown",
      "metadata": {
        "id": "VxDO9GQwljHC"
      },
      "source": [
        "## Sub Task1:\n",
        "Use `NMF` from scikit-learn to detect the topics in the scripts, and use the text cleaning steps from the first task:\n",
        "- use regex to remove non-alphabetic characters and also remove `'` since the tokenizer will treat it as a new token (anything that is not a number or alphabet including punctuations)\n",
        "- lowercase all words\n",
        "- remove stopwords based on spaCy's stopword list for English\n",
        "- tokenize the spoken_words (remove single characters produced by the tokenizer) \n",
        "- perform stemming \n",
        "\n",
        "set the `max_features` of  `CountVectorizer` to 10,000 and `random_state` of the `NMF` to 42, `n_components=10`."
      ]
    },
    {
      "cell_type": "code",
      "metadata": {
        "id": "pA7ddq9jljHC"
      },
      "source": [
        "from sklearn.decomposition import NMF \n",
        "stopwords = nlp.Defaults.stop_words# load spacy's stop word list"
      ],
      "execution_count": 7,
      "outputs": []
    },
    {
      "cell_type": "code",
      "metadata": {
        "id": "V-jMKLHmiRRa"
      },
      "source": [
        "corpus = []\n",
        "tokenizer = nltk.tokenize.TreebankWordTokenizer()\n",
        "stemmer = PorterStemmer()\n",
        "def preprocess(line):\n",
        "    \n",
        "    try:    \n",
        "        preprocessed = [stemmer.stem(word) for word in tokenizer.tokenize(re.sub(\"[^a-zA-Z\\s]\",'',line).lower()) \\\n",
        "                        if (word not in stopwords) and len(word)!=1  ]\n",
        "        if len(preprocessed)!=0:\n",
        "\n",
        "            return ' '.join(preprocessed)\n",
        "        else:\n",
        "            return np.nan\n",
        "    except:\n",
        "        return np.nan"
      ],
      "execution_count": 10,
      "outputs": []
    },
    {
      "cell_type": "code",
      "metadata": {
        "id": "Q9-o7W5ZljHC"
      },
      "source": [
        "def show_topics(components, num_top_words, vocab):\n",
        "    #for each component or topic sorts the row values from large to small and returns the top words and the representation of the topic.\n",
        "    top_words = lambda t: [vocab[i] for i in np.argsort(t)[:-num_top_words-1:-1]]\n",
        "    topic_words = ([top_words(t) for t in components])\n",
        "    return [' '.join(t) for t in topic_words]"
      ],
      "execution_count": 11,
      "outputs": []
    },
    {
      "cell_type": "code",
      "metadata": {
        "id": "zIH79Qt2ljHD"
      },
      "source": [
        "df_script.dropna(inplace=True)\n",
        "df_script.spoken_words = df_script.spoken_words.apply(preprocess)#### Your Code ####"
      ],
      "execution_count": 12,
      "outputs": []
    },
    {
      "cell_type": "code",
      "metadata": {
        "id": "8_w3sN5JjEFs"
      },
      "source": [
        "vectorizer = CountVectorizer(max_features = 10000)"
      ],
      "execution_count": 15,
      "outputs": []
    },
    {
      "cell_type": "code",
      "metadata": {
        "id": "f9nnDCwmjFtk"
      },
      "source": [
        "vectorized = vectorizer.fit_transform(df_script.spoken_words.dropna())"
      ],
      "execution_count": 16,
      "outputs": []
    },
    {
      "cell_type": "code",
      "metadata": {
        "id": "e36aw6xqljHD"
      },
      "source": [
        "nmf = NMF(n_components=10, random_state=42)"
      ],
      "execution_count": 17,
      "outputs": []
    },
    {
      "cell_type": "code",
      "metadata": {
        "id": "iKTLjMzrjcvP"
      },
      "source": [
        "documents_topics = nmf.fit_transform(vectorized)"
      ],
      "execution_count": 18,
      "outputs": []
    },
    {
      "cell_type": "code",
      "metadata": {
        "id": "qzDPZgSnjg_0"
      },
      "source": [
        "terms_topics = nmf.components_"
      ],
      "execution_count": 19,
      "outputs": []
    },
    {
      "cell_type": "markdown",
      "metadata": {
        "id": "d2S7Xt02ljHD"
      },
      "source": [
        "Use the `show_topics()` method to show the top-20 words for the top 2 topics."
      ]
    },
    {
      "cell_type": "code",
      "metadata": {
        "colab": {
          "base_uri": "https://localhost:8080/"
        },
        "id": "7fkuq2ZzljHD",
        "outputId": "e43cf724-0785-4d8f-b3a1-5b6a293b3be2"
      },
      "source": [
        "#### Your Code ####\n",
        "show_topics(terms_topics[:2],20, vectorizer.get_feature_names())"
      ],
      "execution_count": 20,
      "outputs": [
        {
          "output_type": "execute_result",
          "data": {
            "text/plain": [
              "['im sorri go sure afraid think cant man look marg tri tell glad kid gon time love way good ive',\n",
              " 'oh yeah god man thank boy good cant love ye uh marg come look wait littl great sorri dear day']"
            ]
          },
          "metadata": {
            "tags": []
          },
          "execution_count": 20
        }
      ]
    },
    {
      "cell_type": "markdown",
      "metadata": {
        "id": "VJqgpHjQljHD"
      },
      "source": [
        "## Sub Task 2:\n",
        "The SVD algorithm factorizes a matrix into one matrix with orthogonal columns and one with orthogonal rows (along with a diagonal matrix, which contains the relative importance of each factor).\n",
        "Latent Semantic Analysis (LSA) uses SVD. Here we use the 'TruncatedSVD' method from 'sklearn' to look at the topics.\n",
        "This is faster than SVD since we focus only on the largest singluar values.\n",
        "Use the cleaned documents form the substask before. Where `random_state=42`, `n_components=10`, and `n_iter=7`."
      ]
    },
    {
      "cell_type": "code",
      "metadata": {
        "id": "-x_lQjrVljHE"
      },
      "source": [
        "from sklearn.decomposition import TruncatedSVD"
      ],
      "execution_count": 21,
      "outputs": []
    },
    {
      "cell_type": "code",
      "metadata": {
        "id": "xbQ3XNyCljHE"
      },
      "source": [
        "svd = TruncatedSVD(n_components=10, n_iter=7, random_state=42)#### Your Code ####)"
      ],
      "execution_count": 22,
      "outputs": []
    },
    {
      "cell_type": "markdown",
      "metadata": {
        "id": "TIOQveF8ljHE"
      },
      "source": [
        "Use the `show_topics` method to show the top-20 words for the top-2 topics. "
      ]
    },
    {
      "cell_type": "code",
      "metadata": {
        "colab": {
          "base_uri": "https://localhost:8080/"
        },
        "id": "oLuh2kM_ljHE",
        "outputId": "78f07b58-24e8-4771-bd8a-1f99e3d7c29c"
      },
      "source": [
        "show_topics(terms_topics[:2],20, vectorizer.get_feature_names())"
      ],
      "execution_count": 27,
      "outputs": [
        {
          "output_type": "execute_result",
          "data": {
            "text/plain": [
              "['im sorri go sure afraid think cant man look marg tri tell glad kid gon time love way good ive',\n",
              " 'oh yeah god man thank boy good cant love ye uh marg come look wait littl great sorri dear day']"
            ]
          },
          "metadata": {
            "tags": []
          },
          "execution_count": 27
        }
      ]
    },
    {
      "cell_type": "markdown",
      "metadata": {
        "id": "CDcOf5mtljHE"
      },
      "source": [
        "As you can see there is not much to make out of these topics. But topic models also give us document representations, so let's compare Homer, Marge, Bart, and Lisa Simpson based on their SVD vectors.\n",
        "Use the same approach as the TF_IDF Task, but apply the pre-processing steps mentioned in the previous subtask.\n",
        "Notice that if you use the default parameters for the SVD you might encounter a strange shape in the transformed data.\n",
        "This happens because the underlying algorithm is set to 'randomized_svd'.\n",
        "Investigate how to solve this problem and run the algorithm with `n_components=2, n_iter=7, random_state=40`.\n",
        "Hint: You need one extra parameter to overcome this problem.\n",
        "Transform the TF_IDF vectors for the 4 subsets to the SVD and compute the cosine similarity."
      ]
    },
    {
      "cell_type": "code",
      "metadata": {
        "id": "B7-SXtXDljHF"
      },
      "source": [
        "subsets = {}\n",
        "for name in ['Homer Simpson', 'Marge Simpson', 'Bart Simpson', 'Lisa Simpson']:\n",
        "    subsets[name] = merged_data[merged_data['name']==name]['normalized_text'].### Your code ###"
      ],
      "execution_count": null,
      "outputs": []
    },
    {
      "cell_type": "code",
      "metadata": {
        "id": "Cpwf2lKPljHF"
      },
      "source": [
        "count_vectorized = CountVectorizer(analyzer='word', max_features=10000)\n",
        "### Your Code ### \n",
        "svd = ### Your Code ###\n",
        "svd.fit(### Your Code ### \n",
        "new_weights = ### Your Code ###"
      ],
      "execution_count": null,
      "outputs": []
    },
    {
      "cell_type": "code",
      "metadata": {
        "id": "bIL-6LDCljHF"
      },
      "source": [
        "names = ['Homer Simpson', 'Marge Simpson', 'Bart Simpson', 'Lisa Simpson']\n",
        "cosine = ###Compute the cosine similirity###\n",
        "for i, name in zip(range(4),names):\n",
        "    for j, name2 in zip(range(i+1,4),names[i+1:]):\n",
        "        print('{} to {}: {}'.\n",
        "                  format(name,name2,###Cosine Similiarity### ))"
      ],
      "execution_count": null,
      "outputs": []
    },
    {
      "cell_type": "markdown",
      "metadata": {
        "id": "O12w9N5PljHF"
      },
      "source": [
        "## Task 4: Mathematical Concepts ( 1 + 2 + 2 = 5 points)\n",
        "Answer the following questions in the notebook, use markdown or latex to fill in the cells for the answers:"
      ]
    },
    {
      "cell_type": "markdown",
      "metadata": {
        "id": "Pui_IiasljHF"
      },
      "source": [
        "## Sub Task 1: \n",
        "What is the relationship between PCA and SVD? "
      ]
    },
    {
      "cell_type": "markdown",
      "metadata": {
        "id": "y2CbotPQ3jSJ"
      },
      "source": [
        "\n",
        "\n",
        "*   they can be both applied to decompose any rectangular matrices\n",
        "*   most implementations of PCA actually use performs SVD under the hood rather than doing eigen decomposition on the covariance matrix because SVD can be much more efficient and is able to handle sparse matrices\n",
        "\n"
      ]
    },
    {
      "cell_type": "code",
      "metadata": {
        "id": "wCLR1cdpljHF"
      },
      "source": [
        ""
      ],
      "execution_count": null,
      "outputs": []
    },
    {
      "cell_type": "markdown",
      "metadata": {
        "id": "xz4-mypwljHG"
      },
      "source": [
        "## Sub Task 2: "
      ]
    },
    {
      "cell_type": "markdown",
      "metadata": {
        "id": "PupC6i0JljHG"
      },
      "source": [
        "Find the Singular value decomposition of  $A = \\left[ \\begin{matrix}1&-1\\\\ -2&2\\\\ 2&-2\\end{matrix} \\right]$.\n"
      ]
    },
    {
      "cell_type": "markdown",
      "metadata": {
        "id": "xNGNy3EbljHG"
      },
      "source": [
        ""
      ]
    },
    {
      "cell_type": "markdown",
      "metadata": {
        "id": "CYH_yLyi7hn7"
      },
      "source": [
        "$A*A^{T} = \\left[ \\begin{matrix}1&-1\\\\ -2&2\\\\ 2&-2\\end{matrix} \\right] * \\left[ \\begin{matrix}1&-2&2\\\\ -1&2&-2\\\\\\end{matrix} \\right] = \\left[ \\begin{matrix}9&-9\\\\ -9&9\\\\\\end{matrix} \\right]$\n",
        "\n",
        "eigenvalues: $det(A*A^{T} - \\lambda I)$ \\\\\n",
        "$\\lambda_{1}=18$, $\\lambda_{2}=0$ \\\\\n",
        "\n",
        "singular values: $\\sigma_{1}=3 \\sqrt{2}$, $\\sigma_{2}=0$ \\\\\n",
        "\n",
        "eigenvectors: $v_{1}^{t} = \\left[ \\begin{matrix}-\\frac{1}{\\sqrt{2}}&\\frac{1}{\\sqrt{2}}\\end{matrix} \\right]$,  $v_{2}^{t} = \\left[ \\begin{matrix}\\frac{1}{\\sqrt{2}}&\\frac{1}{\\sqrt{2}}\\end{matrix} \\right]$\n",
        "\n",
        "$A^{T}*A = \\left[ \\begin{matrix}1&-2&2\\\\ -1&2&-2\\\\\\end{matrix} \\right]*\\left[ \\begin{matrix}1&-1\\\\ -2&2\\\\ 2&-2\\end{matrix} \\right] = \\left[ \\begin{matrix}2&-4&4\\\\ -4&8&-8\\\\ 4&-8&8\\end{matrix} \\right]$\n",
        "\n",
        "eigenvalues: $det(A^{T}*A - \\lambda I)$ \\\\\n",
        "$\\lambda_{1}=18$, $\\lambda_{2}=0$ \\\\\n",
        "\n",
        "singular values: $\\sigma_{1}=3 \\sqrt{2}$, $\\sigma_{2}=0$ \\\\\n",
        "\n",
        "eigenvectors: $u_{1}^{t} = \\left[ \\begin{matrix}-\\frac{1}{3}&\\frac{2}{3}&-\\frac{2}{3}\\end{matrix} \\right]$,  $u_{2}^{t} = \\left[ \\begin{matrix}-\\frac{2}{\\sqrt{5}}&0&\\frac{1}{\\sqrt{5}}\\end{matrix} \\right]$, $u_{3}^{t} = \\left[ \\begin{matrix}\\frac{2}{3\\sqrt{5}}&\\frac{\\sqrt{5}}{3}&\\frac{4}{3\\sqrt{5}}\\end{matrix} \\right]$\n",
        "\n",
        "$\\Sigma = \\left[ \\begin{matrix}3\\sqrt{2}&0\\\\ 0&0\\\\ 0&0\\end{matrix} \\right]$\n",
        "\n",
        "$U\\Sigma V^{T}= \\left[ \\begin{matrix}-\\frac{1}{3}&-\\frac{2}{\\sqrt{5}}&\\frac{2}{3\\sqrt{5}}\\\\\\frac{2}{3}&0&\\frac{\\sqrt{5}}{3}\\\\ -\\frac{2}{3}&\\frac{1}{\\sqrt{5}}&\\frac{4}{3\\sqrt{5}}\\end{matrix} \\right] * \\left[ \\begin{matrix}3\\sqrt{2}&0\\\\ 0&0\\\\ 0&0\\end{matrix} \\right] * \\left[ \\begin{matrix}-\\frac{1}{\\sqrt{2}}&\\frac{1}{\\sqrt{2}}\\\\ \\frac{1}{\\sqrt{2}}&\\frac{1}{\\sqrt{2}}\\end{matrix} \\right]$"
      ]
    },
    {
      "cell_type": "markdown",
      "metadata": {
        "id": "2HDkpHTAljHG"
      },
      "source": [
        "## Sub Task 3:\n",
        "\n",
        "Consider the term-document matrix \n",
        "\n",
        "|        | d1 | d2 | d3 | d4 | d5 | d6 |\n",
        "|--------|----|----|----|----|----|----|\n",
        "| bank   | 1  | 2  | 1  | 2  | 1  | 1  |\n",
        "| money  | 0  | 0  | 0  | 2  | 1  | 2  |\n",
        "| river  | 2  | 0  | 2  | 0  | 0  | 0  |\n",
        "| ship   | 2  | 1  | 1  | 0  | 0  | 0  |\n",
        "| water  | 1  | 2  | 2  | 0  | 0  | 0  |\n",
        "| invest | 0  | 0  | 0  | 1  | 2  | 0  |\n",
        "| loan   | 0  | 0  | 0  | 1  | 1  | 1  |\n",
        "\n",
        "Use NumPy to compute the SVD for the matrix and write down the term matrix (U) and document matrix ($V^T$) and the singular values ($\\Sigma$). Compute the following: \n",
        "\n",
        "- zero out everything but the 2 largest singular values of $\\Sigma$ and compute the new term-document matrix.\n",
        "- detect the two topics given the new $\\Sigma$ and show the top-3 words for each. What are these topics? \n",
        "- what is the most similar document to each document, using the cosine similarity and reduced representation? \n",
        "\n"
      ]
    },
    {
      "cell_type": "code",
      "metadata": {
        "id": "prvtKsRdljHG"
      },
      "source": [
        "import numpy as np \n",
        "A = np.array(np.mat('1 2 1 2 1 1; 0 0 0 2 1 2; 2 0 2 0 0 0; 2 1 1 0 0 0; 1 2 2 0 0 0; 0 0 0 1 2 0; 0 0 0 1 1 1'))### Your Code ####"
      ],
      "execution_count": 7,
      "outputs": []
    },
    {
      "cell_type": "code",
      "metadata": {
        "colab": {
          "base_uri": "https://localhost:8080/"
        },
        "id": "1uRWo9oijFEL",
        "outputId": "91ef46c6-b771-4235-a780-5114d4390b56"
      },
      "source": [
        "print(A)"
      ],
      "execution_count": 8,
      "outputs": [
        {
          "output_type": "stream",
          "text": [
            "[[1 2 1 2 1 1]\n",
            " [0 0 0 2 1 2]\n",
            " [2 0 2 0 0 0]\n",
            " [2 1 1 0 0 0]\n",
            " [1 2 2 0 0 0]\n",
            " [0 0 0 1 2 0]\n",
            " [0 0 0 1 1 1]]\n"
          ],
          "name": "stdout"
        }
      ]
    },
    {
      "cell_type": "code",
      "metadata": {
        "id": "ekExNJAsljHH"
      },
      "source": [
        "u, s, vh = np.linalg.svd(A, full_matrices=False)### Your Code ####"
      ],
      "execution_count": 9,
      "outputs": []
    },
    {
      "cell_type": "code",
      "metadata": {
        "colab": {
          "base_uri": "https://localhost:8080/"
        },
        "id": "SW6fKT4GljHH",
        "outputId": "4a0b6d77-870a-47c3-8113-725438ef89fd"
      },
      "source": [
        "print('u:',u)\n",
        "print('s:',s)\n",
        "print('vh:',vh)"
      ],
      "execution_count": 10,
      "outputs": [
        {
          "output_type": "stream",
          "text": [
            "u: [[-6.15848467e-01 -1.98423927e-01  3.91962468e-01  7.95057701e-05\n",
            "  -2.71637550e-01 -5.40347050e-01]\n",
            " [-3.09367404e-01 -5.72528858e-01 -1.81105570e-01 -5.08223842e-01\n",
            "   1.44103507e-01  1.29605003e-01]\n",
            " [-3.60911286e-01  3.87138295e-01 -7.03919513e-01 -8.80289057e-02\n",
            "   2.98874240e-01 -3.34363381e-01]\n",
            " [-3.57155854e-01  3.29308895e-01 -1.75788850e-01 -1.83986884e-02\n",
            "  -7.14453747e-01  4.41330073e-01]\n",
            " [-4.48482809e-01  3.72078174e-01  4.53228667e-01  9.86044206e-02\n",
            "   5.39783049e-01  3.55496103e-01]\n",
            " [-1.82744795e-01 -3.47168454e-01 -2.41567362e-01  8.50515324e-01\n",
            "   4.20408033e-02  2.48542413e-02]\n",
            " [-1.80755979e-01 -3.39926671e-01 -1.52940445e-01 -2.28423082e-02\n",
            "   1.12000372e-01  5.07603479e-01]]\n",
            "s: [5.31214559 4.10124041 1.84604215 1.59047488 0.92625659 0.40682079]\n",
            "vh: [[-0.47070727 -0.46794998 -0.48789937 -0.41676804 -0.27699946 -0.26643458]\n",
            " [ 0.39172262  0.16497872  0.40215099 -0.54349428 -0.44016351 -0.41046321]\n",
            " [-0.49523549  0.82045441 -0.15449705  0.01473747 -0.2303405  -0.06673148]\n",
            " [-0.07178439  0.11252562  0.0017805  -0.11859078  0.73565702 -0.65339635]\n",
            " [-0.60783753 -0.19234708  0.74625465 -0.10907011  0.07400534  0.13880585]\n",
            " [ 0.0714871   0.17606814 -0.13950008 -0.71045134  0.36028128  0.55667371]]\n"
          ],
          "name": "stdout"
        }
      ]
    },
    {
      "cell_type": "code",
      "metadata": {
        "colab": {
          "base_uri": "https://localhost:8080/"
        },
        "id": "xRtuhec-mePx",
        "outputId": "c9d1676d-1aeb-4093-8c0b-a7494badb0a8"
      },
      "source": [
        "s1 = np.where(s<4,0,s)\n",
        "print(s1)"
      ],
      "execution_count": 11,
      "outputs": [
        {
          "output_type": "stream",
          "text": [
            "[5.31214559 4.10124041 0.         0.         0.         0.        ]\n"
          ],
          "name": "stdout"
        }
      ]
    },
    {
      "cell_type": "code",
      "metadata": {
        "colab": {
          "base_uri": "https://localhost:8080/"
        },
        "id": "WNAaTKkUljHH",
        "outputId": "a98577f3-9014-4c79-ea5c-a710868e9b34"
      },
      "source": [
        "new_reconstruction=np.dot(u, np.dot(np.diag(s1), vh))  ### Your Code ####\n",
        "print(new_reconstruction.round(1))"
      ],
      "execution_count": 12,
      "outputs": [
        {
          "output_type": "stream",
          "text": [
            "[[ 1.2  1.4  1.3  1.8  1.3  1.2]\n",
            " [-0.1  0.4 -0.1  2.   1.5  1.4]\n",
            " [ 1.5  1.2  1.6 -0.1 -0.2 -0.1]\n",
            " [ 1.4  1.1  1.5  0.1 -0.1 -0. ]\n",
            " [ 1.7  1.4  1.8  0.2 -0.   0. ]\n",
            " [-0.1  0.2 -0.1  1.2  0.9  0.8]\n",
            " [-0.1  0.2 -0.1  1.2  0.9  0.8]]\n"
          ],
          "name": "stdout"
        }
      ]
    },
    {
      "cell_type": "code",
      "metadata": {
        "id": "4E1mOPn1LfIL"
      },
      "source": [
        "from collections import Counter "
      ],
      "execution_count": 22,
      "outputs": []
    },
    {
      "cell_type": "code",
      "metadata": {
        "colab": {
          "base_uri": "https://localhost:8080/"
        },
        "id": "yM8vEENXljHH",
        "outputId": "b9f554b2-3935-4785-d7f7-13eb84249500"
      },
      "source": [
        "#I am not sure if I understood the task correctly\n",
        "vocab=['bank', 'money', 'river', 'ship', 'water', 'invest', 'loan']\n",
        "important_d = np.delete(new_reconstruction, np.s_[2:6], 1)\n",
        "print(important_d.round(1))\n",
        "x, y = important_d.T\n",
        "\n",
        "dict1 = {}\n",
        "for A, B in zip(vocab, x.round(1)):\n",
        "    dict1[A] = B\n",
        "print(dict1)\n",
        "k = Counter(dict1)  \n",
        "# Finding 3 highest values \n",
        "high = k.most_common(3)  \n",
        "for i in high: \n",
        "    print(i[0],\" :\",i[1],\" \") \n",
        "\n",
        "dict2 = {}\n",
        "for A, B in zip(vocab, y.round(1)):\n",
        "    dict2[A] = B\n",
        "print(dict2)\n",
        "k2 = Counter(dict2)  \n",
        "# Finding 3 highest values \n",
        "high2 = k2.most_common(3)  \n",
        "for i in high2: \n",
        "    print(i[0],\" :\",i[1],\" \") \n"
      ],
      "execution_count": 27,
      "outputs": [
        {
          "output_type": "stream",
          "text": [
            "[[ 1.2  1.4]\n",
            " [-0.1  0.4]\n",
            " [ 1.5  1.2]\n",
            " [ 1.4  1.1]\n",
            " [ 1.7  1.4]\n",
            " [-0.1  0.2]\n",
            " [-0.1  0.2]]\n",
            "{'bank': 1.2, 'money': -0.1, 'river': 1.5, 'ship': 1.4, 'water': 1.7, 'invest': -0.1, 'loan': -0.1}\n",
            "water  : 1.7  \n",
            "river  : 1.5  \n",
            "ship  : 1.4  \n",
            "{'bank': 1.4, 'money': 0.4, 'river': 1.2, 'ship': 1.1, 'water': 1.4, 'invest': 0.2, 'loan': 0.2}\n",
            "bank  : 1.4  \n",
            "water  : 1.4  \n",
            "river  : 1.2  \n"
          ],
          "name": "stdout"
        }
      ]
    },
    {
      "cell_type": "code",
      "metadata": {
        "colab": {
          "base_uri": "https://localhost:8080/"
        },
        "id": "Z8-T2gQ5ljHH",
        "outputId": "f4733066-1076-4d9f-db99-16bddbd494ad"
      },
      "source": [
        "from sklearn.metrics import pairwise\n",
        "from scipy import sparse\n",
        "\n",
        "A_sparse = sparse.csr_matrix(new_reconstruction)\n",
        "cosine = pairwise.cosine_similarity(A_sparse)\n",
        "print('pairwise dense output:\\n {}\\n'.format(cosine))### Your Code ###"
      ],
      "execution_count": 50,
      "outputs": [
        {
          "output_type": "stream",
          "text": [
            "pairwise dense output:\n",
            " [[ 1.          0.75421484  0.59343478  0.65058596  0.6869693   0.74611791\n",
            "   0.74925693]\n",
            " [ 0.75421484  1.         -0.08093059 -0.00798294  0.04095997  0.99992503\n",
            "   0.99997174]\n",
            " [ 0.59343478 -0.08093059  1.          0.99733404  0.99256837 -0.09312931\n",
            "  -0.08842174]\n",
            " [ 0.65058596 -0.00798294  0.99733404  1.          0.99880197 -0.02022692\n",
            "  -0.01550058]\n",
            " [ 0.6869693   0.04095997  0.99256837  0.99880197  1.          0.02872221\n",
            "   0.03344702]\n",
            " [ 0.74611791  0.99992503 -0.09312931 -0.02022692  0.02872221  1.\n",
            "   0.99998883]\n",
            " [ 0.74925693  0.99997174 -0.08842174 -0.01550058  0.03344702  0.99998883\n",
            "   1.        ]]\n",
            "\n"
          ],
          "name": "stdout"
        }
      ]
    }
  ]
}