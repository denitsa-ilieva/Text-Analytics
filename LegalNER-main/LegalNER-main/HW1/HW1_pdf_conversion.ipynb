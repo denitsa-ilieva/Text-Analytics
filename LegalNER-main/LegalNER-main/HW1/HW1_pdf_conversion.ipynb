{
 "cells": [
  {
   "cell_type": "markdown",
   "metadata": {},
   "source": [
    "### Convert pdf to text"
   ]
  },
  {
   "cell_type": "markdown",
   "metadata": {},
   "source": [
    "https://filingdb.com/b/pdf-text-extraction\n",
    "At its core, the PDF format consists of a stream of instructions describing how to draw on a page. In particular, text data isn’t stored as paragraphs - or even words - but as characters which are painted at certain locations on the page. As a result, most of the content semantics are lost when a text or word document is converted to PDF - all the implied text structure is converted into an almost amorphous soup of characters floating on pages."
   ]
  },
  {
   "cell_type": "code",
   "execution_count": 6,
   "metadata": {},
   "outputs": [],
   "source": [
    "import pdftotext"
   ]
  },
  {
   "cell_type": "markdown",
   "metadata": {},
   "source": [
    ".PDF method returns an iterable with each element being a pdf page. Joining the contents and removing the zero-width characters : ~0.03 s"
   ]
  },
  {
   "cell_type": "code",
   "execution_count": 71,
   "metadata": {},
   "outputs": [
    {
     "name": "stdout",
     "output_type": "stream",
     "text": [
      "0.02790975570678711\n"
     ]
    }
   ],
   "source": [
    "start = time.time()\n",
    "with open('phone_numbers/Infoblatt_154.pdf','rb') as pdf_file:\n",
    "    pdf = pdftotext.PDF(pdf_file) # returns an iterable \n",
    "text = '\\n\\n'.join(pdf).replace('\\u200b','')\n",
    "stop = time.time()\n",
    "print(stop-start)"
   ]
  },
  {
   "cell_type": "markdown",
   "metadata": {},
   "source": [
    "Loading the text as a single string with pdfminer : ~ 0.3 s "
   ]
  },
  {
   "cell_type": "code",
   "execution_count": 44,
   "metadata": {},
   "outputs": [],
   "source": [
    "from pdfminer.high_level import extract_text\n",
    "from io import StringIO\n",
    "import time"
   ]
  },
  {
   "cell_type": "code",
   "execution_count": 72,
   "metadata": {},
   "outputs": [
    {
     "name": "stdout",
     "output_type": "stream",
     "text": [
      "0.26982736587524414\n"
     ]
    }
   ],
   "source": [
    "start = time.time()\n",
    "text_miner = extract_text('phone_numbers/Infoblatt_154.pdf').replace('\\u200b','')\n",
    "stop = time.time()\n",
    "print(stop-start)"
   ]
  },
  {
   "cell_type": "markdown",
   "metadata": {},
   "source": [
    "Apache Tika works on .pdf, the most recent OOXML Microsoft Office file types and older binary file formats such as .doc, .ppt and .xls. Returns retrieved text in ~ 0.16 s"
   ]
  },
  {
   "cell_type": "code",
   "execution_count": 49,
   "metadata": {},
   "outputs": [],
   "source": [
    "from tika import parser"
   ]
  },
  {
   "cell_type": "code",
   "execution_count": 73,
   "metadata": {},
   "outputs": [
    {
     "name": "stdout",
     "output_type": "stream",
     "text": [
      "0.16096258163452148\n"
     ]
    }
   ],
   "source": [
    "start = time.time()\n",
    "text_tika = parser.from_file('phone_numbers/Infoblatt_154.pdf')['content'].replace('\\u200b','')\n",
    "stop = time.time()\n",
    "print(stop-start)"
   ]
  },
  {
   "cell_type": "markdown",
   "metadata": {},
   "source": [
    "### Compare  resulting texts"
   ]
  },
  {
   "cell_type": "code",
   "execution_count": 65,
   "metadata": {},
   "outputs": [],
   "source": [
    "import difflib"
   ]
  },
  {
   "cell_type": "code",
   "execution_count": 117,
   "metadata": {},
   "outputs": [],
   "source": [
    "sequence_matcher = difflib.SequenceMatcher(isjunk = lambda x: x==\"\\n\", a= text_miner, b=text_tika)"
   ]
  },
  {
   "cell_type": "code",
   "execution_count": 118,
   "metadata": {},
   "outputs": [
    {
     "data": {
      "text/plain": [
       "0.8634219554030875"
      ]
     },
     "execution_count": 118,
     "metadata": {},
     "output_type": "execute_result"
    }
   ],
   "source": [
    "sequence_matcher.ratio()"
   ]
  },
  {
   "cell_type": "code",
   "execution_count": 115,
   "metadata": {},
   "outputs": [],
   "source": [
    "sequence_matcher = difflib.SequenceMatcher(isjunk = lambda x: x==\"\\n\", a= text, b=text_tika)"
   ]
  },
  {
   "cell_type": "code",
   "execution_count": 116,
   "metadata": {},
   "outputs": [
    {
     "data": {
      "text/plain": [
       "0.39246276972951066"
      ]
     },
     "execution_count": 116,
     "metadata": {},
     "output_type": "execute_result"
    }
   ],
   "source": [
    "sequence_matcher.ratio()"
   ]
  },
  {
   "cell_type": "code",
   "execution_count": 113,
   "metadata": {},
   "outputs": [],
   "source": [
    "sequence_matcher = difflib.SequenceMatcher(isjunk = lambda x: x==\"\\n\", a= text, b=text_miner)"
   ]
  },
  {
   "cell_type": "code",
   "execution_count": 114,
   "metadata": {},
   "outputs": [
    {
     "data": {
      "text/plain": [
       "0.36456764085567944"
      ]
     },
     "execution_count": 114,
     "metadata": {},
     "output_type": "execute_result"
    }
   ],
   "source": [
    "sequence_matcher.ratio()"
   ]
  },
  {
   "cell_type": "code",
   "execution_count": 277,
   "metadata": {},
   "outputs": [],
   "source": [
    "text_tika = text_tika.encode().replace(b'\\xe2\\x80\\x93',b'-').replace(b'\\xef\\xbf\\xbd',b'Tel.').decode()"
   ]
  },
  {
   "cell_type": "markdown",
   "metadata": {},
   "source": [
    "Choosing : pdftotext\n",
    "\n",
    "Reason : although semantic of the results produced by pdftotext is sometimes lost : such as in the case : von 7.00 bis 8.00 Uhr sowie von[                   Wohnungsübergabe.\\n: this shouldn't be here] 14.30 bis 15.00. Which is not the case with tika - i.e. tika deals better with texts that are divided into multiple columns. There are many saddening examples in file :  070219_KV_BR_Telefonverzei.pdf with tika, wich doesn't encode the numbers correctly"
   ]
  },
  {
   "cell_type": "markdown",
   "metadata": {},
   "source": [
    "### Extracting phone numbers"
   ]
  },
  {
   "cell_type": "code",
   "execution_count": 148,
   "metadata": {},
   "outputs": [],
   "source": [
    "import re"
   ]
  },
  {
   "cell_type": "code",
   "execution_count": 631,
   "metadata": {},
   "outputs": [],
   "source": [
    "numbers_string = \"(\\d+ ?(-|/)? ?)\" #({0})+(\\s+(und|oder)\\s+({0}))\n",
    "telefon_string = \"telefonnummer|tel|telephone|telefon\""
   ]
  },
  {
   "cell_type": "code",
   "execution_count": 632,
   "metadata": {},
   "outputs": [],
   "source": [
    "classical_telephone_number=  \"\\+[(]{0,1}[0-9]{1,4}[)]{0,1}[-\\s\\./0-9]*\""
   ]
  },
  {
   "cell_type": "code",
   "execution_count": 633,
   "metadata": {},
   "outputs": [],
   "source": [
    "other_telephone_numbers = \"(({0}) ({0})+)\".format(numbers_string)"
   ]
  },
  {
   "cell_type": "code",
   "execution_count": 636,
   "metadata": {},
   "outputs": [],
   "source": [
    "TEL_NUMBERS_REGES = re.compile('((({1})\\.?:? ?(({0})+)((und|oder) +({0})+)?)|({2})|({3}))'.format(numbers_string, telefon_string,classical_telephone_number, other_telephone_numbers),re.IGNORECASE)"
   ]
  },
  {
   "cell_type": "code",
   "execution_count": 637,
   "metadata": {},
   "outputs": [
    {
     "data": {
      "text/plain": [
       "['Tel. 19292',\n",
       " 'Tel. 110',\n",
       " 'Tel. 112',\n",
       " 'Tel. 56-7272',\n",
       " 'Tel. 56-7161',\n",
       " 'Tel. 181122',\n",
       " 'Tel. 37433',\n",
       " 'Tel. 56 - 38629',\n",
       " 'Tel. 56 - 37591',\n",
       " '56 - 1987']"
      ]
     },
     "execution_count": 637,
     "metadata": {},
     "output_type": "execute_result"
    }
   ],
   "source": [
    "[i[0].strip() for i in TEL_NUMBERS_REGES.findall(text_tika)]"
   ]
  },
  {
   "cell_type": "code",
   "execution_count": 639,
   "metadata": {},
   "outputs": [],
   "source": [
    "import os"
   ]
  },
  {
   "cell_type": "code",
   "execution_count": 818,
   "metadata": {},
   "outputs": [],
   "source": [
    "def find_telephone_numbers(file_path):\n",
    "    with open(file_path,'rb') as f:\n",
    "        text = pdftotext.PDF(f)\n",
    "        text = '\\n\\n'.join(text)\n",
    "    text =    text\\\n",
    "                           .replace('\\u200b','')\\\n",
    "                           .encode()\\\n",
    "                           .replace(b'\\xe2\\x80\\x93',b'-')\\\n",
    "                           .replace(b'\\xef\\xbf\\xbd',b' ')\\\n",
    "                           .decode()\n",
    "    print(file)\n",
    "    return [i[0].strip() for i in TEL_NUMBERS_REGES.findall(text)]"
   ]
  },
  {
   "cell_type": "code",
   "execution_count": 820,
   "metadata": {},
   "outputs": [
    {
     "name": "stdout",
     "output_type": "stream",
     "text": [
      "Infoblatt_154.pdf\n",
      "52_pdf_wegweiser_schlaganfall.pdf\n",
      "FL_SYB_BetriebsaerztlicherDienst_ID8414.pdf\n",
      "070219_KV_BR_Telefonverzei.pdf\n"
     ]
    }
   ],
   "source": [
    "numbers = []\n",
    "with open(\"tel_nums.txt\",'w') as wf:\n",
    "    for file in os.listdir('phone_numbers/'):\n",
    "        #parser.from_file(os.path.join('phone_numbers',file))['content']\\\n",
    "        telephone_numbers = find_telephone_numbers(os.path.join('phone_numbers',file))\n",
    "        numbers.append( telephone_numbers)\n",
    "        wf.write(file+'\\n\\n')\n",
    "        wf.writelines('\\n'.join(telephone_numbers)+'\\n')"
   ]
  },
  {
   "cell_type": "code",
   "execution_count": 641,
   "metadata": {},
   "outputs": [],
   "source": [
    "text = parser.from_file(os.path.join('phone_numbers','070219_KV_BR_Telefonverzei.pdf'))['content']\\\n",
    "                       .replace('\\u200b','')\\\n",
    "                       .encode()\\\n",
    "                       .replace(b'\\xe2\\x80\\x93',b'-')\\\n",
    "                       .replace(b'\\xef\\xbf\\xbd',b' ')\\\n",
    "                       .decode()"
   ]
  },
  {
   "cell_type": "markdown",
   "metadata": {},
   "source": [
    "### Unit conversion"
   ]
  },
  {
   "cell_type": "markdown",
   "metadata": {},
   "source": [
    "Convert all values\n",
    "given in milliliters to liters using only functions of the Python regex module."
   ]
  },
  {
   "cell_type": "code",
   "execution_count": 651,
   "metadata": {},
   "outputs": [],
   "source": [
    "with open('unit_conversion/si.txt','r') as f:\n",
    "    data = f.readlines()"
   ]
  },
  {
   "cell_type": "code",
   "execution_count": 810,
   "metadata": {},
   "outputs": [],
   "source": [
    "# test with a bit harder data (added more numbers after the floating point and having single digit numbers to test the padding)\n",
    "data = ['1337 ml\\n',\n",
    " '2,500 ml\\n',\n",
    " '1 milliliters\\n',\n",
    " '12 milliliters\\n',\n",
    " '26 l\\n',\n",
    " '18,421.902 ml\\n',\n",
    " '8321ml\\n',\n",
    " '32 m\\n']"
   ]
  },
  {
   "cell_type": "markdown",
   "metadata": {},
   "source": [
    "Find groups with milliliters : first group : numbers (with floating points and commas), second group : unit"
   ]
  },
  {
   "cell_type": "code",
   "execution_count": 811,
   "metadata": {},
   "outputs": [],
   "source": [
    "ML_REGEX = re.compile(\"(\\d+,?[\\d]*\\.?[\\d]*)[\\s]*(ml|milliliters)\")"
   ]
  },
  {
   "cell_type": "markdown",
   "metadata": {},
   "source": [
    "Find endings : the first group (3 digits): last digits before the floating point, second group (0->n digits) all digits after that"
   ]
  },
  {
   "cell_type": "code",
   "execution_count": 812,
   "metadata": {},
   "outputs": [],
   "source": [
    "LAST_LETTERS = re.compile(\"((,?[\\d]{1,3})(\\.[\\d]*)?$)\") # match last 3 numbers before the floating point + everything after the floating point"
   ]
  },
  {
   "cell_type": "markdown",
   "metadata": {},
   "source": [
    "Convert the data : pad zeros if first group (digits before the floating point has insufficient length for correct conversion)"
   ]
  },
  {
   "cell_type": "code",
   "execution_count": 813,
   "metadata": {},
   "outputs": [],
   "source": [
    "TRUNCATE_DIGITS = re.compile(\"([\\d]{1,3})([\\d]*)$\")"
   ]
  },
  {
   "cell_type": "code",
   "execution_count": 814,
   "metadata": {},
   "outputs": [
    {
     "name": "stdout",
     "output_type": "stream",
     "text": [
      "Coverting:  1337\n",
      "last:  \n",
      "1.337\n",
      "Coverting:  2,500\n",
      "last:  \n",
      "2.500\n",
      "Coverting:  1\n",
      "last:  \n",
      ".001\n",
      "Coverting:  12\n",
      "last:  \n",
      ".012\n",
      "No mililiters:  26 l\n",
      "\n",
      "Coverting:  18,421.902\n",
      "last:  902\n",
      "Before truncation:  18.421902\n",
      "18.421\n",
      "Coverting:  8321\n",
      "last:  \n",
      "8.321\n",
      "No mililiters:  32 m\n",
      "\n"
     ]
    }
   ],
   "source": [
    "for i in data:\n",
    "    \n",
    "    number = ML_REGEX.findall(i)\n",
    "    if len(number)==0:\n",
    "        print(\"No mililiters: \", i)\n",
    "        continue\n",
    "    print('Coverting: ',number[0][0])\n",
    "    found = LAST_LETTERS.search(number[0][0])\n",
    "    new_floating_point = '.'+'0'*(3-len(found.groups()[0]))+re.sub('[,\\.]','',found[0])\n",
    "    converted = re.sub(found[0]+'$',new_floating_point,number[0][0])\n",
    "    truncate = TRUNCATE_DIGITS.search(converted).groups()[1]\n",
    "    print('last: ',truncate)\n",
    "    if truncate != '':\n",
    "        print('Before truncation: ', converted)\n",
    "        converted = re.sub(truncate+'$','',converted)\n",
    "\n",
    "    print(converted)"
   ]
  },
  {
   "cell_type": "markdown",
   "metadata": {},
   "source": [
    "### Testing algorithm on scans\n",
    "Surprisingly pdftotext actually finds some of the numbers. In the double_ocr.pdf file there are even some decently looking numbers. This is because pdf stores the data (unlike the openxml format) not as text or images but by \"describing\" how the elements should be rendered - so the difference between converting a text written in docx and a scan shouldn't excremely big."
   ]
  },
  {
   "cell_type": "code",
   "execution_count": 821,
   "metadata": {},
   "outputs": [
    {
     "name": "stdout",
     "output_type": "stream",
     "text": [
      "070219_KV_BR_Telefonverzei.pdf\n"
     ]
    },
    {
     "data": {
      "text/plain": [
       "['364 1733',\n",
       " '13 31',\n",
       " '322 60',\n",
       " '0178895 72 64',\n",
       " '38 69',\n",
       " '3 26 20',\n",
       " '30 74',\n",
       " '1 2',\n",
       " '30 76',\n",
       " '30 80 00',\n",
       " '2 56 81',\n",
       " '3 75 74',\n",
       " '3 20 73',\n",
       " '39 70',\n",
       " '3 36',\n",
       " '30 7545',\n",
       " '0171281 97 36',\n",
       " '30 88 66',\n",
       " '333 76',\n",
       " '19 31814',\n",
       " '5 16',\n",
       " '39 47-0',\n",
       " '3 34',\n",
       " '39 75 66',\n",
       " '3 2',\n",
       " '30 97-0',\n",
       " '015158 778269',\n",
       " '333 15',\n",
       " '332 14',\n",
       " '30 2',\n",
       " '0181 22008708',\n",
       " '39 26',\n",
       " '3 6',\n",
       " '3 35 70',\n",
       " '3 1',\n",
       " '325 43',\n",
       " '39 43',\n",
       " '372 34',\n",
       " '39 7497',\n",
       " '323 20',\n",
       " '5 33923',\n",
       " '372 94',\n",
       " '34 81',\n",
       " '8 2',\n",
       " '380 84',\n",
       " '345 61',\n",
       " '348 73',\n",
       " '2 0',\n",
       " '0157 73565090',\n",
       " '3075 38',\n",
       " '0177598 7162',\n",
       " '33 19',\n",
       " '28 70 81',\n",
       " '331 46',\n",
       " '2 2',\n",
       " '22 20 5',\n",
       " '28 95 65',\n",
       " '255 31 19',\n",
       " '232 80 74',\n",
       " '0176 232327 74',\n",
       " '86 72 35',\n",
       " '30 83 13',\n",
       " '340 85',\n",
       " '44 86',\n",
       " '255 3048',\n",
       " '318 97',\n",
       " '3 36 43',\n",
       " '3 7 46',\n",
       " '30 76 98',\n",
       " '30 80 39']"
      ]
     },
     "execution_count": 821,
     "metadata": {},
     "output_type": "execute_result"
    }
   ],
   "source": [
    "find_telephone_numbers('scans/single_ocr.pdf')"
   ]
  },
  {
   "cell_type": "code",
   "execution_count": 822,
   "metadata": {},
   "outputs": [
    {
     "name": "stdout",
     "output_type": "stream",
     "text": [
      "070219_KV_BR_Telefonverzei.pdf\n"
     ]
    },
    {
     "data": {
      "text/plain": [
       "['0 62 21',\n",
       " '36 4 33 45-0',\n",
       " '19 33836 70',\n",
       " '0 62 21 / 585 09 30',\n",
       " '585 09 40',\n",
       " '16 2828',\n",
       " '97 99-0',\n",
       " '2 72 26',\n",
       " '33 85',\n",
       " '5 69123',\n",
       " '62 21',\n",
       " '98 05-0',\n",
       " '60 72-0',\n",
       " '60 72 17',\n",
       " '16 30 61',\n",
       " '97 82-0',\n",
       " '1 38 36 16',\n",
       " '6 57 70-0',\n",
       " '41 49-0',\n",
       " '138 36-20',\n",
       " '8 93 61 60',\n",
       " '062 21',\n",
       " '60 43-0',\n",
       " '0 62 21',\n",
       " '60 43 60',\n",
       " '0 62 21',\n",
       " '14 07 14',\n",
       " '062 21',\n",
       " '97 37-0',\n",
       " '98 13-0',\n",
       " '062 02',\n",
       " '859 43-0',\n",
       " '53 70-0',\n",
       " '91 29-0',\n",
       " '0 62 21',\n",
       " '4 18 55 58',\n",
       " '91 4050',\n",
       " 'Tel. 0 62 21 /50 25 95-95',\n",
       " '40 90 26',\n",
       " '98 12-0',\n",
       " '2 32 54/2',\n",
       " '47 82',\n",
       " '1922   834014',\n",
       " '14 14-0',\n",
       " '36 37 30',\n",
       " '36 37 333',\n",
       " '2 23 33',\n",
       " '2 9108']"
      ]
     },
     "execution_count": 822,
     "metadata": {},
     "output_type": "execute_result"
    }
   ],
   "source": [
    "find_telephone_numbers('scans/double_ocr.pdf')"
   ]
  },
  {
   "cell_type": "code",
   "execution_count": null,
   "metadata": {},
   "outputs": [],
   "source": []
  }
 ],
 "metadata": {
  "kernelspec": {
   "display_name": "Python 3",
   "language": "python",
   "name": "python3"
  },
  "language_info": {
   "codemirror_mode": {
    "name": "ipython",
    "version": 3
   },
   "file_extension": ".py",
   "mimetype": "text/x-python",
   "name": "python",
   "nbconvert_exporter": "python",
   "pygments_lexer": "ipython3",
   "version": "3.7.6"
  }
 },
 "nbformat": 4,
 "nbformat_minor": 4
}
